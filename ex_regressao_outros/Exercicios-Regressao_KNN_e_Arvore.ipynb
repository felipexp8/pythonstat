{
  "cells": [
    {
      "cell_type": "markdown",
      "source": [
        "## KNN e Árvore de Regressão\n",
        "\n",
        "O objetivo deste exercício é se aprofundar nos conceitos de regressão e implementar os algoritmos de K-vizinhos mais próximos (KNN) e Árvore de Regressão.\n",
        "\n",
        "Utilizaremos as mesmas bases de dados do exercício anterior:"
      ],
      "metadata": {}
    },
    {
      "cell_type": "code",
      "source": [
        "import pandas as pd\n",
        "\n",
        "dados_adv = pd.read_csv('Advertising.csv', index_col=0)\n",
        "\n",
        "dados_por = pd.read_csv('Portland_housePrices.csv', index_col=None)\n",
        "\n",
        "X = dados_por.loc[:,['tamanho']]\n",
        "y = dados_por.loc[:,['preco']]"
      ],
      "outputs": [],
      "execution_count": 1,
      "metadata": {}
    },
    {
      "cell_type": "markdown",
      "source": [
        "O algoritmo KNN é implementado pela classe <a href=\"https://scikit-learn.org/stable/modules/generated/sklearn.neighbors.KNeighborsRegressor.html\">KNeighborsRegressor</a>:"
      ],
      "metadata": {}
    },
    {
      "cell_type": "code",
      "source": [
        "from sklearn.neighbors import KNeighborsRegressor\n",
        "neigh = KNeighborsRegressor(n_neighbors=2,weights='uniform')\n",
        "neigh.fit(X,y)"
      ],
      "outputs": [
        {
          "output_type": "execute_result",
          "execution_count": 5,
          "data": {
            "text/plain": [
              "KNeighborsRegressor(algorithm='auto', leaf_size=30, metric='minkowski',\n",
              "                    metric_params=None, n_jobs=None, n_neighbors=2, p=2,\n",
              "                    weights='uniform')"
            ]
          },
          "metadata": {}
        }
      ],
      "execution_count": 5,
      "metadata": {}
    },
    {
      "cell_type": "markdown",
      "source": [
        "Aqui, o algoritmo é configurado com K = 2 e o peso de cada instância é definido uniformemente.\n",
        "\n",
        "O \"formato\" do modelo aprendido pelo KNN é bem diferente do aprendido pela regressão linear:"
      ],
      "metadata": {}
    },
    {
      "cell_type": "code",
      "source": [
        "from sklearn.linear_model import LinearRegression\n",
        "from matplotlib import pyplot as plt\n",
        "import numpy as np\n",
        "\n",
        "\n",
        "linear = LinearRegression().fit(X,y)\n",
        "\n",
        "T = np.linspace(min(X.values.ravel()),max(X.values.ravel()), 500 )[:, np.newaxis]\n",
        "\n",
        "y_ = neigh.predict(T)\n",
        "\n",
        "\n",
        "plt.scatter(X, y,color='g')\n",
        "plt.plot(T, y_,color='b')\n",
        "plt.plot(X, linear.predict(X),color='r')\n",
        "\n",
        "plt.xlabel('Tamanho (pe2)')\n",
        "plt.ylabel('Preço')"
      ],
      "outputs": [
        {
          "output_type": "execute_result",
          "execution_count": 19,
          "data": {
            "text/plain": [
              "Text(0, 0.5, 'Preço')"
            ]
          },
          "metadata": {}
        },
        {
          "output_type": "display_data",
          "data": {
            "image/png": "[encoded data removed]",
            "text/plain": [
              "<Figure size 432x288 with 1 Axes>"
            ]
          },
          "metadata": {
            "needs_background": "light"
          }
        }
      ],
      "execution_count": 19,
      "metadata": {}
    },
    {
      "cell_type": "markdown",
      "source": [
        "A parametrização K e o peso das instâncias podem ser alteradas no momento da instanciação do objeto, por exemplo:\n",
        "    \n",
        "```python\n",
        "    neigh = KNeighborsRegressor(n_neighbors=3,weights='uniform') # K = 3, peso uniforme\n",
        "    neigh = KNeighborsRegressor(n_neighbors=2,weights='distance') # K = 2, peso baseado na distância\n",
        "```    \n",
        "\n",
        "## Exercício 1\n",
        "\n",
        "Para as duas bases de treinamento de regressão (<i>Advertising</i> e <i>Portland_housePrices</i>), avalie quais são as melhores parametrizações (use inspeção visual e RSS/R^2).\n",
        "    \n",
        "    "
      ],
      "metadata": {}
    },
    {
      "cell_type": "code",
      "source": [],
      "outputs": [],
      "execution_count": null,
      "metadata": {}
    },
    {
      "cell_type": "markdown",
      "source": [
        "## Árvore de Regressão\n",
        "\n",
        "A árvore de decisão é implementada através da classe <a href=\"https://scikit-learn.org/stable/modules/generated/sklearn.tree.DecisionTreeRegressor.html\">DecisionTreeRegressor</a>.\n"
      ],
      "metadata": {}
    },
    {
      "cell_type": "code",
      "source": [
        "from sklearn.tree import DecisionTreeRegressor  \n",
        "#Regression tree\n",
        "# create a regressor object \n",
        "tree = DecisionTreeRegressor()  \n",
        "  \n",
        "    \n",
        "\n",
        "# fit the regressor with X and Y data \n",
        "tree.fit(X, y) "
      ],
      "outputs": [
        {
          "output_type": "execute_result",
          "execution_count": 21,
          "data": {
            "text/plain": [
              "DecisionTreeRegressor(ccp_alpha=0.0, criterion='mse', max_depth=None,\n",
              "                      max_features=None, max_leaf_nodes=None,\n",
              "                      min_impurity_decrease=0.0, min_impurity_split=None,\n",
              "                      min_samples_leaf=1, min_samples_split=2,\n",
              "                      min_weight_fraction_leaf=0.0, presort='deprecated',\n",
              "                      random_state=None, splitter='best')"
            ]
          },
          "metadata": {}
        }
      ],
      "execution_count": 21,
      "metadata": {}
    },
    {
      "cell_type": "code",
      "source": [
        "plt.scatter(X, y,color='g')\n",
        "y_t = tree.predict(T)\n",
        "plt.plot(T, y_t,color='b')\n",
        "\n",
        "plt.xlabel('Tamanho (pe2)')\n",
        "plt.ylabel('Preço')"
      ],
      "outputs": [
        {
          "output_type": "execute_result",
          "execution_count": 23,
          "data": {
            "text/plain": [
              "Text(0, 0.5, 'Preço')"
            ]
          },
          "metadata": {}
        },
        {
          "output_type": "display_data",
          "data": {
            "image/png": "[encoded data removed]",
            "text/plain": [
              "<Figure size 432x288 with 1 Axes>"
            ]
          },
          "metadata": {
            "needs_background": "light"
          }
        }
      ],
      "execution_count": 23,
      "metadata": {}
    },
    {
      "cell_type": "markdown",
      "source": [
        "É possível também gerar a árvore resultante para visualização:"
      ],
      "metadata": {}
    },
    {
      "cell_type": "code",
      "source": [
        "from sklearn.tree import export_graphviz  \n",
        " \n",
        "\n",
        "export_graphviz(regressor, out_file ='tree.dot', \n",
        "               feature_names =['Tamanho'])"
      ],
      "outputs": [],
      "execution_count": 24,
      "metadata": {}
    },
    {
      "cell_type": "markdown",
      "source": [
        "Este código irá gerar um arquivo <b>tree.dot</b>.\n",
        "\n",
        "Esse arquivo pode ser visualizado no site <a href='http://www.webgraphviz.com/'>http://www.webgraphviz.com</a>"
      ],
      "metadata": {}
    },
    {
      "cell_type": "markdown",
      "source": [
        "## Exercício 2\n",
        "\n",
        "Qual seria o melhor método para montar um modelo em cada uma das bases com Árvore de Decisão?\n",
        "\n",
        "Utilizar apenas um atributo? multiplos? quais seriam?"
      ],
      "metadata": {}
    },
    {
      "cell_type": "code",
      "source": [],
      "outputs": [],
      "execution_count": null,
      "metadata": {}
    },
    {
      "cell_type": "markdown",
      "source": [
        "## Comparação entre modelos\n",
        "\n",
        "Agora já sabemos como implementar um modelo linear multivariado:\n",
        "\n",
        "```python\n",
        "from sklearn.linear_model import LinearRegression\n",
        "linear = LinearRegression().fit(X,y)\n",
        "```\n",
        "\n",
        "como implementar o regressor KNN:\n",
        "\n",
        "```python\n",
        "from sklearn.neighbors import KNeighborsRegressor\n",
        "neigh = KNeighborsRegressor().fit(X,y)\n",
        "```\n",
        "\n",
        "e como implementar uma árvore de regressão:\n",
        "\n",
        "```python\n",
        "from sklearn.tree import DecisionTreeRegressor  \n",
        "tree = DecisionTreeRegressor().fit(X,y)\n",
        "```\n",
        "\n",
        "Conhecemos todos os algoritmos e seus parâmetros, agora como decidir <b>qual</b> deles usar efetivamente? Olhar o <i>fitting</i> em sua base de dados e tomar isso como verdade absoluta pode ser completamente enganoso.\n",
        "\n",
        "Podemos tentar <i>aliviar</i> esse problema fazendo uma comparação mais inteligente\n",
        "\n",
        "## Exercício 3\n",
        "\n",
        "1) Separe as bases <i>Portland_housePrices</i> e <i>Advertising</i> em conjuntos de <i>treinamento</i> e <i>teste</i> (30% das instâncias para teste e 70% para treinamento).\n",
        "\n",
        "2) Utilize as bases de treinamento para treinar os modelos a serem avaliados, e as bases de teste para avaliar o desempenho regressor dos modelos.\n",
        "\n",
        "3) Qual é o melhor modelo para cada problema? Por que você fez essa recomendação? (mostre métricas, gráficos, ou as evidências que julgar necessárias)."
      ],
      "metadata": {}
    },
    {
      "cell_type": "code",
      "source": [],
      "outputs": [],
      "execution_count": null,
      "metadata": {}
    }
  ],
  "metadata": {
    "kernelspec": {
      "name": "python3",
      "language": "python",
      "display_name": "Python 3"
    },
    "language_info": {
      "name": "python",
      "version": "3.7.6",
      "mimetype": "text/x-python",
      "codemirror_mode": {
        "name": "ipython",
        "version": 3
      },
      "pygments_lexer": "ipython3",
      "nbconvert_exporter": "python",
      "file_extension": ".py"
    },
    "kernel_info": {
      "name": "python3"
    },
    "nteract": {
      "version": "0.15.0"
    }
  },
  "nbformat": 4,
  "nbformat_minor": 2
}