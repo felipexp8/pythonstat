{
  "cells": [
    {
      "cell_type": "code",
      "source": [
        "import pandas as pd\n",
        "import numpy as np\n",
        "import pylab as plt\n",
        "import datetime \n",
        "\n",
        "from sklearn.tree import DecisionTreeRegressor\n",
        "from sklearn.neighbors import KNeighborsRegressor\n",
        "from sklearn.metrics import r2_score\n",
        "\n",
        "from sklearn.linear_model import LinearRegression\n",
        "from sklearn.metrics import mean_squared_error\n",
        "from sklearn.metrics import mean_absolute_error\n",
        "from sklearn.tree import DecisionTreeRegressor  \n",
        "from sklearn.metrics import r2_score\n",
        "\n",
        "from sklearn.preprocessing import scale \n",
        "from sklearn.model_selection import train_test_split\n",
        "from sklearn.linear_model import Ridge, RidgeCV, Lasso, LassoCV\n",
        "from sklearn.metrics import mean_squared_error"
      ],
      "outputs": [],
      "execution_count": 1,
      "metadata": {
        "collapsed": false,
        "jupyter": {
          "source_hidden": false,
          "outputs_hidden": false
        },
        "nteract": {
          "transient": {
            "deleting": false
          }
        }
      }
    },
    {
      "cell_type": "code",
      "source": [
        "#funções utilitárias: \n",
        "\n",
        "def get(data, coluna): return data.loc[:,[coluna]] #separa as colunas  \n",
        "\n",
        "def rss(y,predicted):\n",
        "    return float(((predicted - y) ** 2.0).sum())\n",
        "\n",
        "def norm(vetor): return vetor/(vetor.max())\n",
        "\n",
        "def calc_rss(y, predicted): return rss( norm (y), norm (predicted))\n",
        "\n",
        "def doMatPlotText(texto, x=0.5, y=0.5, cor='red'): plt.text(x,y, texto, horizontalalignment='center', verticalalignment='center', bbox=dict(facecolor=cor, alpha=0.5)) #imprime na tela um texto na forma gráfica\n",
        "    \n",
        "def ordemZero(x, s=500):\n",
        "    return np.linspace(\n",
        "        min(x.values.ravel()),\n",
        "        max(x.values.ravel()), s )[:, np.newaxis]"
      ],
      "outputs": [],
      "execution_count": 2,
      "metadata": {
        "collapsed": false,
        "jupyter": {
          "source_hidden": false,
          "outputs_hidden": false
        },
        "nteract": {
          "transient": {
            "deleting": false
          }
        }
      }
    },
    {
      "cell_type": "code",
      "source": [
        "def knn_plotter(xx,yy,dataset,k=3,tipo='distance', kernel='knn', titulo=\" \", sub=False,  dataset_sub=0):\n",
        "    varXnome = xx\n",
        "    varYnome = yy\n",
        "    dataset = dataset\n",
        "    K=k\n",
        "\n",
        "    X_knn, Y_knn = ( get(dataset,varXnome), get(dataset,varYnome) )\n",
        "\n",
        "    KnnModel = KNeighborsRegressor(n_neighbors=K,weights=tipo)\n",
        "    \n",
        "    if(kernel!='knn'): KnnModel = kernel\n",
        "\n",
        "    KnnModel.fit(X_knn, Y_knn )\n",
        "    \n",
        "    if(sub): #para subamostras:\n",
        "         X_knn, Y_knn = ( get(dataset_sub,xx), get(dataset_sub,yy) )\n",
        "    \n",
        "  \n",
        "    Yp_knn = KnnModel.predict( X_knn )\n",
        "    Yp_knn_interpol = KnnModel.predict( ordemZero( X_knn ) ).flatten()\n",
        "\n",
        "    knn_rss = 0.0\n",
        "    r2 = 0.0\n",
        "    \n",
        "    try:\n",
        "        knn_rss = calc_rss(Y_knn, Yp_knn)\n",
        "        r2 = r2_score(y_pred=Yp_knn, y_true=Y_knn)\n",
        "    except err:\n",
        "        knn_rss = calc_rss(Y_knn[yy], Yp_knn)\n",
        "        r2 = r2_score(y_pred=Yp_knn, y_true=Y_knn)\n",
        "        \n",
        "    mlabel = \"\"\n",
        "    \n",
        "    if(kernel=='knn'):\n",
        "        mlabel =  u\"knn rss={0:.3f} r²={1:.3f}\".format(knn_rss, r2) \n",
        "    else:\n",
        "        mlabel =  u\"rss={0:.3f} r²={1:.3f}\".format(knn_rss, r2)     \n",
        "\n",
        "   \n",
        "\n",
        "    plt.plot( X_knn, Y_knn, \"db\", label=\"origem\"); \n",
        "    plt.title(titulo)\n",
        "    plt.plot(ordemZero( X_knn ), \n",
        "             Yp_knn_interpol, \"--r\", label=mlabel); \n",
        "    plt.xlabel(varXnome); plt.ylabel(varYnome);\n",
        "    plt.legend(); plt.grid();\n",
        "    "
      ],
      "outputs": [],
      "execution_count": 34,
      "metadata": {
        "collapsed": false,
        "jupyter": {
          "source_hidden": false,
          "outputs_hidden": false
        },
        "nteract": {
          "transient": {
            "deleting": false
          }
        }
      }
    },
    {
      "cell_type": "code",
      "source": [
        "base = pd.read_csv('circulacao.csv', sep=\";\")"
      ],
      "outputs": [],
      "execution_count": 30,
      "metadata": {
        "collapsed": false,
        "jupyter": {
          "source_hidden": false,
          "outputs_hidden": false
        },
        "nteract": {
          "transient": {
            "deleting": false
          }
        }
      }
    },
    {
      "cell_type": "code",
      "source": [
        "base.head(4)"
      ],
      "outputs": [
        {
          "output_type": "execute_result",
          "execution_count": 7,
          "data": {
            "text/html": [
              "<div>\n",
              "<style scoped>\n",
              "    .dataframe tbody tr th:only-of-type {\n",
              "        vertical-align: middle;\n",
              "    }\n",
              "\n",
              "    .dataframe tbody tr th {\n",
              "        vertical-align: top;\n",
              "    }\n",
              "\n",
              "    .dataframe thead th {\n",
              "        text-align: right;\n",
              "    }\n",
              "</style>\n",
              "<table border=\"1\" class=\"dataframe\">\n",
              "  <thead>\n",
              "    <tr style=\"text-align: right;\">\n",
              "      <th></th>\n",
              "      <th>Unnamed: 0</th>\n",
              "      <th>SECAO_BLOQUEIO</th>\n",
              "      <th>LOCAL</th>\n",
              "      <th>SUB_TRECHO</th>\n",
              "      <th>TRECHO</th>\n",
              "      <th>CORREDOR</th>\n",
              "      <th>PREFIXO</th>\n",
              "      <th>IDANALISE</th>\n",
              "      <th>IDTREM</th>\n",
              "      <th>IDSUBTRECHO</th>\n",
              "      <th>...</th>\n",
              "      <th>CONDUCAO</th>\n",
              "      <th>PERMANECIA</th>\n",
              "      <th>CRUZAMENTO</th>\n",
              "      <th>ANOMALIA</th>\n",
              "      <th>PROPAGACAO</th>\n",
              "      <th>ATIVO</th>\n",
              "      <th>DTVERSION</th>\n",
              "      <th>PUBLICAR</th>\n",
              "      <th>IDANALISEPARTICIONADA</th>\n",
              "      <th>PKID</th>\n",
              "    </tr>\n",
              "  </thead>\n",
              "  <tbody>\n",
              "    <tr>\n",
              "      <th>0</th>\n",
              "      <td>0</td>\n",
              "      <td>ZQBZBV</td>\n",
              "      <td>ZQBZBV</td>\n",
              "      <td>T1 - ZQBZBV/ZDR</td>\n",
              "      <td>TRECHO 1 - ZBV/ZPT</td>\n",
              "      <td>NORTE - LARGA</td>\n",
              "      <td>R67</td>\n",
              "      <td>4258247.0</td>\n",
              "      <td>2745064.0</td>\n",
              "      <td>154.0</td>\n",
              "      <td>...</td>\n",
              "      <td>203.0</td>\n",
              "      <td>0.0</td>\n",
              "      <td>0.0</td>\n",
              "      <td>0.0</td>\n",
              "      <td>0.0</td>\n",
              "      <td>1.0</td>\n",
              "      <td>2019-09-10 12:19:06.000000000</td>\n",
              "      <td>0.0</td>\n",
              "      <td>NaN</td>\n",
              "      <td>253.0</td>\n",
              "    </tr>\n",
              "    <tr>\n",
              "      <th>1</th>\n",
              "      <td>1</td>\n",
              "      <td>ZQBZBV</td>\n",
              "      <td>ZQBZBV</td>\n",
              "      <td>T1 - ZQBZBV/ZDR</td>\n",
              "      <td>TRECHO 1 - ZBV/ZPT</td>\n",
              "      <td>NORTE - LARGA</td>\n",
              "      <td>X37</td>\n",
              "      <td>4258313.0</td>\n",
              "      <td>2745154.0</td>\n",
              "      <td>154.0</td>\n",
              "      <td>...</td>\n",
              "      <td>213.0</td>\n",
              "      <td>0.0</td>\n",
              "      <td>0.0</td>\n",
              "      <td>0.0</td>\n",
              "      <td>0.0</td>\n",
              "      <td>1.0</td>\n",
              "      <td>2019-09-10 12:19:06.000000000</td>\n",
              "      <td>0.0</td>\n",
              "      <td>NaN</td>\n",
              "      <td>319.0</td>\n",
              "    </tr>\n",
              "    <tr>\n",
              "      <th>2</th>\n",
              "      <td>2</td>\n",
              "      <td>ZQBZBV</td>\n",
              "      <td>ZQBZBV</td>\n",
              "      <td>T1 - ZQBZBV/ZDR</td>\n",
              "      <td>TRECHO 1 - ZBV/ZPT</td>\n",
              "      <td>NORTE - LARGA</td>\n",
              "      <td>L31</td>\n",
              "      <td>4258378.0</td>\n",
              "      <td>2745102.0</td>\n",
              "      <td>154.0</td>\n",
              "      <td>...</td>\n",
              "      <td>237.0</td>\n",
              "      <td>0.0</td>\n",
              "      <td>0.0</td>\n",
              "      <td>0.0</td>\n",
              "      <td>0.0</td>\n",
              "      <td>1.0</td>\n",
              "      <td>2019-09-10 12:19:06.000000000</td>\n",
              "      <td>0.0</td>\n",
              "      <td>NaN</td>\n",
              "      <td>384.0</td>\n",
              "    </tr>\n",
              "    <tr>\n",
              "      <th>3</th>\n",
              "      <td>3</td>\n",
              "      <td>ZDR1</td>\n",
              "      <td>ZDR</td>\n",
              "      <td>T0 - ZDR/PCZ</td>\n",
              "      <td>TRECHO 0 - ZPT/PSN-PCZ</td>\n",
              "      <td>NORTE - LARGA</td>\n",
              "      <td>C81</td>\n",
              "      <td>4257853.0</td>\n",
              "      <td>2745334.0</td>\n",
              "      <td>156.0</td>\n",
              "      <td>...</td>\n",
              "      <td>0.0</td>\n",
              "      <td>3789.0</td>\n",
              "      <td>0.0</td>\n",
              "      <td>0.0</td>\n",
              "      <td>0.0</td>\n",
              "      <td>1.0</td>\n",
              "      <td>2019-09-10 12:14:25.000000000</td>\n",
              "      <td>0.0</td>\n",
              "      <td>NaN</td>\n",
              "      <td>128251.0</td>\n",
              "    </tr>\n",
              "  </tbody>\n",
              "</table>\n",
              "<p>4 rows × 26 columns</p>\n",
              "</div>"
            ],
            "text/plain": [
              "   Unnamed: 0 SECAO_BLOQUEIO   LOCAL       SUB_TRECHO                  TRECHO  \\\n",
              "0           0         ZQBZBV  ZQBZBV  T1 - ZQBZBV/ZDR      TRECHO 1 - ZBV/ZPT   \n",
              "1           1         ZQBZBV  ZQBZBV  T1 - ZQBZBV/ZDR      TRECHO 1 - ZBV/ZPT   \n",
              "2           2         ZQBZBV  ZQBZBV  T1 - ZQBZBV/ZDR      TRECHO 1 - ZBV/ZPT   \n",
              "3           3           ZDR1     ZDR     T0 - ZDR/PCZ  TRECHO 0 - ZPT/PSN-PCZ   \n",
              "\n",
              "        CORREDOR PREFIXO  IDANALISE     IDTREM  IDSUBTRECHO  ...  CONDUCAO  \\\n",
              "0  NORTE - LARGA     R67  4258247.0  2745064.0        154.0  ...     203.0   \n",
              "1  NORTE - LARGA     X37  4258313.0  2745154.0        154.0  ...     213.0   \n",
              "2  NORTE - LARGA     L31  4258378.0  2745102.0        154.0  ...     237.0   \n",
              "3  NORTE - LARGA     C81  4257853.0  2745334.0        156.0  ...       0.0   \n",
              "\n",
              "   PERMANECIA  CRUZAMENTO  ANOMALIA  PROPAGACAO  ATIVO  \\\n",
              "0         0.0         0.0       0.0         0.0    1.0   \n",
              "1         0.0         0.0       0.0         0.0    1.0   \n",
              "2         0.0         0.0       0.0         0.0    1.0   \n",
              "3      3789.0         0.0       0.0         0.0    1.0   \n",
              "\n",
              "                       DTVERSION  PUBLICAR  IDANALISEPARTICIONADA      PKID  \n",
              "0  2019-09-10 12:19:06.000000000       0.0                    NaN     253.0  \n",
              "1  2019-09-10 12:19:06.000000000       0.0                    NaN     319.0  \n",
              "2  2019-09-10 12:19:06.000000000       0.0                    NaN     384.0  \n",
              "3  2019-09-10 12:14:25.000000000       0.0                    NaN  128251.0  \n",
              "\n",
              "[4 rows x 26 columns]"
            ]
          },
          "metadata": {}
        }
      ],
      "execution_count": 7,
      "metadata": {
        "collapsed": false,
        "jupyter": {
          "source_hidden": false,
          "outputs_hidden": false
        },
        "nteract": {
          "transient": {
            "deleting": false
          }
        }
      }
    },
    {
      "cell_type": "code",
      "source": [
        "base.SECAO_BLOQUEIO.value_counts().head(5)"
      ],
      "outputs": [
        {
          "output_type": "execute_result",
          "execution_count": 8,
          "data": {
            "text/plain": [
              "ZXPZFY    812\n",
              "154ZPS    810\n",
              "ZYUZST    810\n",
              "ZPSZCX    809\n",
              "ZER169    809\n",
              "Name: SECAO_BLOQUEIO, dtype: int64"
            ]
          },
          "metadata": {}
        }
      ],
      "execution_count": 8,
      "metadata": {
        "collapsed": false,
        "jupyter": {
          "source_hidden": false,
          "outputs_hidden": false
        },
        "nteract": {
          "transient": {
            "deleting": false
          }
        }
      }
    },
    {
      "cell_type": "markdown",
      "source": [
        "Regressão por Trecho: *SECAO_BLOQUEIO*"
      ],
      "metadata": {
        "nteract": {
          "transient": {
            "deleting": false
          }
        }
      }
    },
    {
      "cell_type": "markdown",
      "source": [
        "escolha de uma seção bem típica:"
      ],
      "metadata": {
        "nteract": {
          "transient": {
            "deleting": false
          }
        }
      }
    },
    {
      "cell_type": "code",
      "source": [
        "sbZQ = base[base.SECAO_BLOQUEIO=='154ZPS']"
      ],
      "outputs": [],
      "execution_count": 9,
      "metadata": {
        "collapsed": false,
        "jupyter": {
          "source_hidden": false,
          "outputs_hidden": false
        },
        "nteract": {
          "transient": {
            "deleting": false
          }
        }
      }
    },
    {
      "cell_type": "code",
      "source": [
        "sbZQ.SECAO_BLOQUEIO.count()"
      ],
      "outputs": [
        {
          "output_type": "execute_result",
          "execution_count": 10,
          "data": {
            "text/plain": [
              "810"
            ]
          },
          "metadata": {}
        }
      ],
      "execution_count": 10,
      "metadata": {
        "collapsed": false,
        "jupyter": {
          "source_hidden": false,
          "outputs_hidden": false
        },
        "nteract": {
          "transient": {
            "deleting": false
          }
        }
      }
    },
    {
      "cell_type": "markdown",
      "source": [
        "Prever o tempo de permanencia de uma operação (composição de locomotivas) para cada atributo da composição"
      ],
      "metadata": {
        "nteract": {
          "transient": {
            "deleting": false
          }
        }
      }
    },
    {
      "cell_type": "code",
      "source": [
        "sbZQ['TempoP'] = sbZQ.DTFIM -  sbZQ.DTINICIO;"
      ],
      "outputs": [
        {
          "output_type": "stream",
          "name": "stderr",
          "text": [
            "C:\\Users\\Felipe\\Miniconda2\\envs\\spyder\\lib\\site-packages\\ipykernel_launcher.py:1: SettingWithCopyWarning: \n",
            "A value is trying to be set on a copy of a slice from a DataFrame.\n",
            "Try using .loc[row_indexer,col_indexer] = value instead\n",
            "\n",
            "See the caveats in the documentation: http://pandas.pydata.org/pandas-docs/stable/indexing.html#indexing-view-versus-copy\n",
            "  \"\"\"Entry point for launching an IPython kernel.\n"
          ]
        }
      ],
      "execution_count": 12,
      "metadata": {
        "collapsed": false,
        "jupyter": {
          "source_hidden": false,
          "outputs_hidden": false
        },
        "nteract": {
          "transient": {
            "deleting": false
          }
        }
      }
    },
    {
      "cell_type": "markdown",
      "source": [
        "Variáveis independentes:"
      ],
      "metadata": {
        "nteract": {
          "transient": {
            "deleting": false
          }
        }
      }
    },
    {
      "cell_type": "code",
      "source": [
        " X_att = 'CONDUCAO PERMANECIA CRUZAMENTO ANOMALIA PROPAGACAO'.split( ' ') "
      ],
      "outputs": [],
      "execution_count": 13,
      "metadata": {
        "collapsed": false,
        "jupyter": {
          "source_hidden": false,
          "outputs_hidden": false
        },
        "nteract": {
          "transient": {
            "deleting": false
          }
        }
      }
    },
    {
      "cell_type": "markdown",
      "source": [
        "Variável dependente ( Y - *predição* ): `TempoP`"
      ],
      "metadata": {
        "nteract": {
          "transient": {
            "deleting": false
          }
        }
      }
    },
    {
      "cell_type": "code",
      "source": [
        "sbZQ.CONDUCAO.describe()"
      ],
      "outputs": [
        {
          "output_type": "execute_result",
          "execution_count": 14,
          "data": {
            "text/plain": [
              "count     810.000000\n",
              "mean      443.043210\n",
              "std       125.449163\n",
              "min         0.000000\n",
              "25%       406.000000\n",
              "50%       431.000000\n",
              "75%       464.000000\n",
              "max      3077.000000\n",
              "Name: CONDUCAO, dtype: float64"
            ]
          },
          "metadata": {}
        }
      ],
      "execution_count": 14,
      "metadata": {
        "collapsed": false,
        "jupyter": {
          "source_hidden": false,
          "outputs_hidden": false
        },
        "nteract": {
          "transient": {
            "deleting": false
          }
        }
      }
    },
    {
      "cell_type": "code",
      "source": [
        "tree = DecisionTreeRegressor()"
      ],
      "outputs": [],
      "execution_count": 15,
      "metadata": {
        "collapsed": false,
        "jupyter": {
          "source_hidden": false,
          "outputs_hidden": false
        },
        "nteract": {
          "transient": {
            "deleting": false
          }
        }
      }
    },
    {
      "cell_type": "markdown",
      "source": [
        "Condução é o tempo de percurso , porém neste *dataset* há casos que não foi registrado ou já foi somado com anomalias ou demais intervalos."
      ],
      "metadata": {
        "nteract": {
          "transient": {
            "deleting": false
          }
        }
      }
    },
    {
      "cell_type": "code",
      "source": [
        "knn_plotter(X_att[0], 'TempoP', dataset=sbZQ, kernel=tree)"
      ],
      "outputs": [
        {
          "output_type": "display_data",
          "data": {
            "image/png": "[encoded data removed]",
            "text/plain": [
              "<Figure size 432x288 with 1 Axes>"
            ]
          },
          "metadata": {
            "needs_background": "light"
          }
        }
      ],
      "execution_count": 16,
      "metadata": {
        "collapsed": false,
        "jupyter": {
          "source_hidden": false,
          "outputs_hidden": false
        },
        "nteract": {
          "transient": {
            "deleting": false
          }
        }
      }
    },
    {
      "cell_type": "code",
      "source": [
        "knn_plotter(X_att[1], 'TempoP', dataset=sbZQ, kernel=tree)"
      ],
      "outputs": [
        {
          "output_type": "display_data",
          "data": {
            "image/png": "[encoded data removed]",
            "text/plain": [
              "<Figure size 432x288 with 1 Axes>"
            ]
          },
          "metadata": {
            "needs_background": "light"
          }
        }
      ],
      "execution_count": 17,
      "metadata": {
        "collapsed": false,
        "jupyter": {
          "source_hidden": false,
          "outputs_hidden": false
        },
        "nteract": {
          "transient": {
            "deleting": false
          }
        }
      }
    },
    {
      "cell_type": "code",
      "source": [
        "knn_plotter(X_att[2], 'TempoP', dataset=sbZQ[sbZQ.CRUZAMENTO >= 0], kernel=tree)"
      ],
      "outputs": [
        {
          "output_type": "display_data",
          "data": {
            "image/png": "[encoded data removed]",
            "text/plain": [
              "<Figure size 432x288 with 1 Axes>"
            ]
          },
          "metadata": {
            "needs_background": "light"
          }
        }
      ],
      "execution_count": 18,
      "metadata": {
        "collapsed": false,
        "jupyter": {
          "source_hidden": false,
          "outputs_hidden": false
        },
        "nteract": {
          "transient": {
            "deleting": false
          }
        }
      }
    },
    {
      "cell_type": "code",
      "source": [
        "plt.subplot(2,1,1)\n",
        "knn_plotter(X_att[3], 'TempoP', dataset=sbZQ[sbZQ.ANOMALIA >= 1], kernel=tree)\n",
        "\n",
        "plt.subplot(2,1,2)\n",
        "knn_plotter(X_att[3], 'TempoP', dataset=sbZQ[sbZQ.ANOMALIA >= 1].iloc[:100], kernel=tree, sub=True,dataset_sub=sbZQ[sbZQ.ANOMALIA >= 1].iloc[::4] )\n",
        "doMatPlotText(\"sub Conjunto:\",-400,0.013)\n",
        "doMatPlotText(\"todo Conjunto:\",-400,0.037)\n"
      ],
      "outputs": [
        {
          "output_type": "display_data",
          "data": {
            "image/png": "[encoded data removed]",
            "text/plain": [
              "<Figure size 432x288 with 2 Axes>"
            ]
          },
          "metadata": {
            "needs_background": "light"
          }
        }
      ],
      "execution_count": 19,
      "metadata": {
        "collapsed": false,
        "jupyter": {
          "source_hidden": false,
          "outputs_hidden": false
        },
        "nteract": {
          "transient": {
            "deleting": false
          }
        }
      }
    },
    {
      "cell_type": "code",
      "source": [
        "knn_plotter(X_att[4], 'TempoP', dataset=sbZQ[sbZQ.ANOMALIA >= 0], kernel=tree)"
      ],
      "outputs": [
        {
          "output_type": "display_data",
          "data": {
            "image/png": "[encoded data removed]",
            "text/plain": [
              "<Figure size 432x288 with 1 Axes>"
            ]
          },
          "metadata": {
            "needs_background": "light"
          }
        }
      ],
      "execution_count": 20,
      "metadata": {
        "collapsed": false,
        "jupyter": {
          "source_hidden": false,
          "outputs_hidden": false
        },
        "nteract": {
          "transient": {
            "deleting": false
          }
        }
      }
    },
    {
      "cell_type": "code",
      "source": [
        "plt.hist(sbZQ[sbZQ.ANOMALIA == 0].TempoP.values, density=True, label=\"sem anomalias\"); plt.grid(); plt.xlabel('tempoP');\n",
        "plt.hist(sbZQ[sbZQ.ANOMALIA != 0].TempoP.values,bins=10, density=True, label=\"anomalias\"); plt.grid(); plt.xlabel('tempoP');\n",
        "plt.legend(); plt.grid(); plt.ylabel('freq');\n",
        "#plt.axis([0,0.6,0,150]);"
      ],
      "outputs": [
        {
          "output_type": "display_data",
          "data": {
            "image/png": "[encoded data removed]",
            "text/plain": [
              "<Figure size 432x288 with 1 Axes>"
            ]
          },
          "metadata": {
            "needs_background": "light"
          }
        }
      ],
      "execution_count": 21,
      "metadata": {
        "collapsed": false,
        "jupyter": {
          "source_hidden": false,
          "outputs_hidden": false
        },
        "nteract": {
          "transient": {
            "deleting": false
          }
        }
      }
    },
    {
      "cell_type": "code",
      "source": [
        "##\n",
        "sbZQ2 =dataset=sbZQ#[sbZQ.ANOMALIA >= 1]\n",
        "\n",
        "ridge = Ridge(alpha = 0, normalize=True)\n",
        "\n",
        "X_train=get(sbZQ2.iloc[1::2], 'ANOMALIA')\n",
        "Y_train=get(sbZQ2.iloc[1::2], 'TempoP')\n",
        "\n",
        "X_test=get(sbZQ2.iloc[0::2], 'ANOMALIA')\n",
        "Y_test=get(sbZQ2.iloc[0::2], 'TempoP')\n",
        "\n",
        "ridge.fit(X_train, Y_train);\n",
        "\n",
        "print ridge.coef_\n",
        "\n",
        "knn_plotter(X_att[3], 'TempoP', dataset=sbZQ2, kernel=ridge)"
      ],
      "outputs": [
        {
          "output_type": "stream",
          "name": "stdout",
          "text": [
            "[[1.25834268e-05]]\n"
          ]
        },
        {
          "output_type": "display_data",
          "data": {
            "image/png": "[encoded data removed]",
            "text/plain": [
              "<Figure size 432x288 with 1 Axes>"
            ]
          },
          "metadata": {
            "needs_background": "light"
          }
        }
      ],
      "execution_count": 121,
      "metadata": {
        "collapsed": false,
        "jupyter": {
          "source_hidden": false,
          "outputs_hidden": false
        },
        "nteract": {
          "transient": {
            "deleting": false
          }
        }
      }
    },
    {
      "cell_type": "code",
      "source": [
        "alphas=np.arange(0.0,20,0.5) \n",
        "\n",
        "MSEs=[]\n",
        "for a in alphas:\n",
        "    ridge.set_params(alpha = a, normalize=True)\n",
        "    ridge.fit(X_train, Y_train) \n",
        "    MSEs.append(mean_squared_error(Y_test,ridge.predict(X_test)))\n",
        "    \n",
        "\n",
        "plt.plot(alphas,MSEs); plt.grid()\n",
        "plt.ylabel('MSEs'); plt.yscale('log') ; plt.xlabel(u'α' ) ;plt.grid(True)\n",
        "\n",
        "plt.figure()\n",
        "\n",
        "plt.plot(ridge.predict(X_test), Y_test   , 'sr', label=u\"α=20\") ; plt.yscale('linear'); plt.grid(True)\n",
        "ridge.set_params(alpha = 0.1, normalize=True)\n",
        "plt.plot(ridge.predict(X_test), Y_test   , 'oc', label=u\"α=0.1\") ; plt.yscale('linear'); plt.legend(); plt.ylabel('tempoP'); plt.grid(True)"
      ],
      "outputs": [
        {
          "output_type": "display_data",
          "data": {
            "image/png": "[encoded data removed]",
            "text/plain": [
              "<Figure size 432x288 with 1 Axes>"
            ]
          },
          "metadata": {
            "needs_background": "light"
          }
        },
        {
          "output_type": "display_data",
          "data": {
            "image/png": "[encoded data removed]",
            "text/plain": [
              "<Figure size 432x288 with 1 Axes>"
            ]
          },
          "metadata": {
            "needs_background": "light"
          }
        }
      ],
      "execution_count": 125,
      "metadata": {
        "collapsed": false,
        "jupyter": {
          "source_hidden": false,
          "outputs_hidden": false
        },
        "nteract": {
          "transient": {
            "deleting": false
          }
        }
      }
    },
    {
      "cell_type": "code",
      "source": [
        "alphas=np.arange(1,20,1) \n",
        "\n",
        "tree = DecisionTreeRegressor()\n",
        "\n",
        "MSEs=[]\n",
        "for a in alphas:\n",
        "    tree.set_params(min_samples_leaf = a)\n",
        "    tree.fit(X_train, Y_train) \n",
        "    MSEs.append(mean_squared_error(Y_test,tree.predict(X_test)))\n",
        "    \n",
        "\n",
        "plt.stem(alphas,MSEs); plt.grid()\n",
        "plt.ylabel('MSEs'); plt.yscale('log') ; plt.xlabel(u'min_samples_leaf' )  \n",
        "\n",
        "plt.show()"
      ],
      "outputs": [
        {
          "output_type": "display_data",
          "data": {
            "image/png": "[encoded data removed]",
            "text/plain": [
              "<Figure size 432x288 with 1 Axes>"
            ]
          },
          "metadata": {
            "needs_background": "light"
          }
        }
      ],
      "execution_count": 81,
      "metadata": {
        "collapsed": false,
        "jupyter": {
          "source_hidden": false,
          "outputs_hidden": false
        },
        "nteract": {
          "transient": {
            "deleting": false
          }
        }
      }
    },
    {
      "cell_type": "markdown",
      "source": [
        "### Outra SB"
      ],
      "metadata": {
        "nteract": {
          "transient": {
            "deleting": false
          }
        }
      }
    },
    {
      "cell_type": "code",
      "source": [
        "sbZQB = base[base.SECAO_BLOQUEIO=='ZER169']\n",
        "sbZQB['TempoP'] = sbZQB.DTFIM -  sbZQB.DTINICIO;"
      ],
      "outputs": [
        {
          "output_type": "stream",
          "name": "stderr",
          "text": [
            "C:\\Users\\Felipe\\Miniconda2\\envs\\spyder\\lib\\site-packages\\ipykernel_launcher.py:2: SettingWithCopyWarning: \n",
            "A value is trying to be set on a copy of a slice from a DataFrame.\n",
            "Try using .loc[row_indexer,col_indexer] = value instead\n",
            "\n",
            "See the caveats in the documentation: http://pandas.pydata.org/pandas-docs/stable/indexing.html#indexing-view-versus-copy\n",
            "  \n"
          ]
        }
      ],
      "execution_count": 62,
      "metadata": {
        "collapsed": false,
        "jupyter": {
          "source_hidden": false,
          "outputs_hidden": false
        },
        "nteract": {
          "transient": {
            "deleting": false
          }
        }
      }
    },
    {
      "cell_type": "code",
      "source": [
        "plt.subplot(2,1,1)\n",
        "plt.subplots_adjust(hspace=1)\n",
        "knn_plotter(X_att[3], 'TempoP', dataset=sbZQB[sbZQB.ANOMALIA >= 0], kernel=tree, titulo=\"conjunto\"  )\n",
        "\n",
        "plt.subplot(2,1,2)\n",
        "knn_plotter(X_att[3], 'TempoP', dataset=sbZQB[sbZQB.ANOMALIA >= 0].iloc[0:50], kernel=tree, sub=True,dataset_sub=sbZQB[sbZQB.ANOMALIA >= 1].loc[51:] , titulo=\"sub\")\n",
        "#doMatPlotText(\"todo Conjunto:\",-400,0.9)\n",
        "#doMatPlotText(\"sub Conjunto:\",-400,0.2)"
      ],
      "outputs": [
        {
          "output_type": "display_data",
          "data": {
            "image/png": "[encoded data removed]",
            "text/plain": [
              "<Figure size 432x288 with 2 Axes>"
            ]
          },
          "metadata": {
            "needs_background": "light"
          }
        }
      ],
      "execution_count": 70,
      "metadata": {
        "collapsed": false,
        "jupyter": {
          "source_hidden": false,
          "outputs_hidden": false
        },
        "nteract": {
          "transient": {
            "deleting": false
          }
        }
      }
    },
    {
      "cell_type": "code",
      "source": [
        "plt.hist(sbZQB[sbZQB.ANOMALIA == 0].TempoP.values, density=True, label=\"sem anomalias\"); plt.grid(); plt.xlabel('tempoP');\n",
        "plt.hist(sbZQB[sbZQB.ANOMALIA != 0].TempoP.values,bins=10, density=True, label=\"anomalias\"); plt.grid(); plt.xlabel('tempoP');\n",
        "plt.legend(); plt.grid(); plt.ylabel('freq');\n",
        "#plt.axis([0,0.6,0,150])"
      ],
      "outputs": [
        {
          "output_type": "display_data",
          "data": {
            "image/png": "[encoded data removed]",
            "text/plain": [
              "<Figure size 432x288 with 1 Axes>"
            ]
          },
          "metadata": {
            "needs_background": "light"
          }
        }
      ],
      "execution_count": 74,
      "metadata": {
        "collapsed": false,
        "jupyter": {
          "source_hidden": false,
          "outputs_hidden": false
        },
        "nteract": {
          "transient": {
            "deleting": false
          }
        }
      }
    },
    {
      "cell_type": "markdown",
      "source": [],
      "metadata": {
        "nteract": {
          "transient": {
            "deleting": false
          }
        }
      }
    }
  ],
  "metadata": {
    "kernel_info": {
      "name": "python3"
    },
    "language_info": {
      "mimetype": "text/x-python",
      "nbconvert_exporter": "python",
      "name": "python",
      "pygments_lexer": "ipython2",
      "version": "2.7.13",
      "file_extension": ".py",
      "codemirror_mode": {
        "version": 2,
        "name": "ipython"
      }
    },
    "kernelspec": {
      "argv": [
        "C:\\Users\\Felipe\\Miniconda2\\envs\\py37\\python.exe",
        "-m",
        "ipykernel_launcher",
        "-f",
        "{connection_file}"
      ],
      "display_name": "Python 3",
      "language": "python",
      "name": "python3"
    },
    "nteract": {
      "version": "0.21.0"
    }
  },
  "nbformat": 4,
  "nbformat_minor": 0
}