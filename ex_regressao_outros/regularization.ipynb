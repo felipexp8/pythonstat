{
  "cells": [
    {
      "cell_type": "code",
      "source": [
        "import pandas as pd \n",
        "import numpy as np \n",
        "import matplotlib.pyplot as plt \n",
        "from sklearn.linear_model import LinearRegression, Ridge, Lasso \n",
        "from sklearn.model_selection import train_test_split, cross_val_score \n",
        "from statistics import mean \n",
        "\n",
        "import matplotlib.pyplot as plt\n",
        "\n",
        "import pandas as pd\n",
        "import numpy as np\n",
        "import seaborn as sns; sns.set()\n",
        "\n",
        "import math\n",
        "\n",
        "from matplotlib import pyplot as plt\n",
        "from datetime import datetime, timedelta\n",
        "from scipy.interpolate import interp1d\n",
        "from numpy import median\n",
        "\n",
        "from sklearn.model_selection import train_test_split\n",
        "import numpy as np\n",
        "from sklearn.linear_model import LinearRegression\n",
        "from sklearn.metrics import mean_squared_error\n",
        "from sklearn.metrics import mean_absolute_error\n",
        "from sklearn.tree import DecisionTreeRegressor  \n",
        "from sklearn.metrics import r2_score\n",
        "\n",
        "from sklearn.preprocessing import scale \n",
        "from sklearn.model_selection import train_test_split\n",
        "from sklearn.linear_model import Ridge, RidgeCV, Lasso, LassoCV\n",
        "from sklearn.metrics import mean_squared_error"
      ],
      "outputs": [],
      "execution_count": 68,
      "metadata": {}
    },
    {
      "cell_type": "code",
      "source": [
        "dados_adv = pd.read_csv('Advertising.csv', index_col=0)\n",
        "X = dados_adv.loc[:,['TV','radio','newspaper']]\n",
        "y = dados_adv.loc[:,['sales']]"
      ],
      "outputs": [],
      "execution_count": 69,
      "metadata": {}
    },
    {
      "cell_type": "code",
      "source": [],
      "outputs": [],
      "execution_count": null,
      "metadata": {}
    },
    {
      "cell_type": "code",
      "source": [
        "# Split data into training and test sets\n",
        "X_train, X_test , y_train, y_test = train_test_split(X, y, test_size=0.5, random_state=1)"
      ],
      "outputs": [],
      "execution_count": 70,
      "metadata": {}
    },
    {
      "cell_type": "markdown",
      "source": [
        "## Regressão Linear"
      ],
      "metadata": {}
    },
    {
      "cell_type": "code",
      "source": [
        "linear = LinearRegression().fit(X_train,y_train)\n",
        "r2_linear = r2_score(y_test,linear.predict(X_test))\n",
        "r2_linear_treino = r2_score(y_train,linear.predict(X_train))\n",
        "\n",
        "print(linear.coef_)\n",
        "print(\"Scores R^2 Treino:\")\n",
        "print(\"linear: \"+str(r2_linear_treino))\n",
        "\n",
        "\n",
        "print(\"Scores R^2 Teste:\")\n",
        "print(\"linear: \"+str(r2_linear))\n",
        "\n",
        "print(mean_squared_error(y_test,linear.predict(X_test))) "
      ],
      "outputs": [
        {
          "output_type": "stream",
          "name": "stdout",
          "text": [
            "[[0.04471367 0.18303312 0.00443013]]\n",
            "Scores R^2 Treino:\n",
            "linear: 0.8792926617864103\n",
            "Scores R^2 Teste:\n",
            "linear: 0.9133071815302057\n",
            "2.324964069935425\n"
          ]
        }
      ],
      "execution_count": 71,
      "metadata": {}
    },
    {
      "cell_type": "markdown",
      "source": [
        "### Método Ridge\n",
        "#### Alpha=0 regressão linear comum"
      ],
      "metadata": {}
    },
    {
      "cell_type": "code",
      "source": [
        "ridge2 = Ridge(alpha = 0)\n",
        "ridge2.fit(X_train, y_train) \n",
        "\n",
        "r2_linear = r2_score(y_test,linear.predict(X_test))\n",
        "r2_linear_treino = r2_score(y_train,linear.predict(X_train))\n",
        "print(linear.coef_)\n",
        "print(\"Scores R^2 Treino:\")\n",
        "print(\"linear: \"+str(r2_linear_treino))\n",
        "\n",
        "\n",
        "print(\"Scores R^2 Teste:\")\n",
        "print(\"linear: \"+str(r2_linear))\n",
        "print(mean_squared_error(y_test,linear.predict(X_test))) "
      ],
      "outputs": [
        {
          "output_type": "stream",
          "name": "stdout",
          "text": [
            "[[0.04471367 0.18303312 0.00443013]]\n",
            "Scores R^2 Treino:\n",
            "linear: 0.8792926617864103\n",
            "Scores R^2 Teste:\n",
            "linear: 0.9133071815302057\n",
            "2.324964069935425\n"
          ]
        }
      ],
      "execution_count": 72,
      "metadata": {}
    },
    {
      "cell_type": "code",
      "source": [
        "ridge2 = Ridge(alpha = 0, normalize = True)\n",
        "ridge2.fit(X_train, y_train)             # Fit a ridge regression on the training data\n",
        "pred = ridge2.predict(X_test)            # Use this model to predict the test data\n",
        "print(pd.Series(ridge2.coef_, index = X.columns)) # Print coefficients\n",
        "print(mean_squared_error(y_test, pred))           # Calculate the test MSE\n"
      ],
      "outputs": [],
      "execution_count": null,
      "metadata": {}
    },
    {
      "cell_type": "markdown",
      "source": [
        "### Método Ridge\n",
        "#### Utilizando diferentes valores de Alpha\n",
        "#### A cada novo valor de Alpha, os valores dos parâmetros da função de regressão se aproxima de zero"
      ],
      "metadata": {}
    },
    {
      "cell_type": "code",
      "source": [
        "alphas = 10**np.linspace(10,-2,100)*0.5\n",
        "alphas\n",
        "print(alphas.shape)\n",
        "print(alphas[1])\n",
        "print(alphas[99])\n"
      ],
      "outputs": [
        {
          "output_type": "stream",
          "name": "stdout",
          "text": [
            "(100,)\n",
            "3782316637.773145\n",
            "0.005\n"
          ]
        }
      ],
      "execution_count": 137,
      "metadata": {}
    },
    {
      "cell_type": "code",
      "source": [
        "ridge = Ridge(normalize = True)\n",
        "MSEs = []\n",
        "\n",
        "for a in alphas:\n",
        "    ridge.set_params(alpha = a)\n",
        "    ridge.fit(X_train, y_train) \n",
        "    MSEs.append(mean_squared_error(y_test,ridge.predict(X_test)))\n",
        "    \n",
        "np.shape(coefs)\n",
        "\n",
        "ax = plt.gca()\n",
        "ax.plot(alphas*2, coefs)\n",
        "ax.set_xscale('log')\n",
        "plt.axis('tight')\n",
        "plt.xlabel('alpha')\n",
        "plt.ylabel('Parameters')\n",
        "\n",
        "plt.show()"
      ],
      "outputs": [
        {
          "output_type": "display_data",
          "data": {
            "image/png": "[encoded data removed]",
            "text/plain": [
              "<Figure size 432x288 with 1 Axes>"
            ]
          },
          "metadata": {}
        }
      ],
      "execution_count": 168,
      "metadata": {}
    },
    {
      "cell_type": "markdown",
      "source": [
        "#### Comparando MSE com diferentes valores de Alpha"
      ],
      "metadata": {}
    },
    {
      "cell_type": "code",
      "source": [
        "#plt.plot(alphas,MSEs)\n",
        "plt.plot(MSEs)\n",
        "plt.ylabel('MSEs')\n",
        "\n",
        "plt.show()"
      ],
      "outputs": [
        {
          "output_type": "display_data",
          "data": {
            "image/png": "[encoded data removed]",
            "text/plain": [
              "<Figure size 432x288 with 1 Axes>"
            ]
          },
          "metadata": {}
        }
      ],
      "execution_count": 169,
      "metadata": {}
    },
    {
      "cell_type": "markdown",
      "source": [
        "### Modelo com um alpha específico que apresentou valor baixo de MSE"
      ],
      "metadata": {}
    },
    {
      "cell_type": "code",
      "source": [
        "ridge = Ridge(alpha = alphas[90], normalize = True)\n",
        "coefs = []\n",
        "\n",
        "ridge.fit(X_train, y_train) \n",
        "coefs.append(ridge.coef_)\n",
        "print(mean_squared_error(y_test,ridge.predict(X_test))) \n",
        "    \n",
        "print(coefs)"
      ],
      "outputs": [
        {
          "output_type": "stream",
          "name": "stdout",
          "text": [
            "2.5292980784303998\n",
            "[array([[0.04216384, 0.17152332, 0.0074898 ]])]\n"
          ]
        }
      ],
      "execution_count": 174,
      "metadata": {}
    },
    {
      "cell_type": "markdown",
      "source": [
        "#### Modelo com um alpha específico que apresentou valor baixo de MSE\n",
        "#### Coeficientes são diferentes dos coeficientes da regressão linear"
      ],
      "metadata": {}
    },
    {
      "cell_type": "code",
      "source": [
        "ridge2 = Ridge(alpha = 4, normalize = True)\n",
        "ridge2.fit(X_train, y_train)             # Fit a ridge regression on the training data\n",
        "pred2 = ridge2.predict(X_test)           # Use this model to predict the test data\n",
        "print(ridge2.coef_) # Print coefficients\n",
        "print(mean_squared_error(y_test, pred2))          # Calculate the test MSE"
      ],
      "outputs": [
        {
          "output_type": "stream",
          "name": "stdout",
          "text": [
            "[[0.0091489  0.03774553 0.00991201]]\n",
            "17.969828893654377\n"
          ]
        }
      ],
      "execution_count": 173,
      "metadata": {}
    },
    {
      "cell_type": "markdown",
      "source": [
        "### RidgeCV\n",
        "#### Implementa busca por um alpha por meio de um critério de avaliação (score)\n",
        "#### Documentação dos critérios de avaliação: https://scikit-learn.org/stable/modules/model_evaluation.html"
      ],
      "metadata": {}
    },
    {
      "cell_type": "code",
      "source": [
        "ridgecv = RidgeCV(alphas = alphas )\n",
        "\n",
        "#ridgecv = RidgeCV(alphas = alphas, scoring = 'neg_mean_squared_error', normalize = True)\n",
        "ridgecv = RidgeCV(alphas = alphas, scoring = 'neg_mean_absolute_error', normalize = True)\n",
        "\n",
        "ridgecv.fit(X_train, y_train)\n",
        "ridgecv.alpha_\n",
        "print(ridgecv.coef_) # Print coefficients\n",
        "print(mean_squared_error(y_test, ridgecv.predict(X_test)))          # Calculate the test MSE"
      ],
      "outputs": [
        {
          "output_type": "stream",
          "name": "stdout",
          "text": [
            "[[0.04442543 0.18171339 0.00480133]]\n",
            "2.340863883576664\n"
          ]
        }
      ],
      "execution_count": 175,
      "metadata": {}
    },
    {
      "cell_type": "markdown",
      "source": [
        "#### Método Lasso\n",
        "#### Max_iter - número máximo de iterações"
      ],
      "metadata": {}
    },
    {
      "cell_type": "code",
      "source": [
        "#lasso = Lasso(max_iter = 10000, normalize = True)\n",
        "lasso = Lasso()\n",
        "coefs = []\n",
        "\n",
        "for a in alphas:\n",
        "    lasso.set_params(alpha=a)\n",
        "    lasso.fit(scale(X_train), y_train)\n",
        "    coefs.append(lasso.coef_)\n",
        "    \n",
        "ax = plt.gca()\n",
        "ax.plot(alphas*2, coefs)\n",
        "ax.set_xscale('log')\n",
        "plt.axis('tight')\n",
        "plt.xlabel('alpha')\n",
        "plt.ylabel('weights')"
      ],
      "outputs": [
        {
          "output_type": "execute_result",
          "execution_count": 176,
          "data": {
            "text/plain": [
              "Text(0, 0.5, 'weights')"
            ]
          },
          "metadata": {}
        },
        {
          "output_type": "display_data",
          "data": {
            "image/png": "[encoded data removed]",
            "text/plain": [
              "<Figure size 432x288 with 1 Axes>"
            ]
          },
          "metadata": {}
        }
      ],
      "execution_count": 176,
      "metadata": {}
    },
    {
      "cell_type": "code",
      "source": [
        "#lassocv = LassoCV(alphas = None, cv = 10, max_iter = 100000, normalize = True)\n",
        "lassocv = LassoCV(alphas = alphas)#, cv = 10, max_iter = 100000, normalize = True)\n",
        "lassocv.fit(X_train, y_train)\n",
        "\n",
        "lasso.set_params(alpha=lassocv.alpha_)\n",
        "lasso.fit(X_train, y_train)\n",
        "print(mean_squared_error(y_test, lasso.predict(X_test)))\n",
        "print(lasso.coef_)"
      ],
      "outputs": [
        {
          "output_type": "stream",
          "name": "stdout",
          "text": [
            "2.332570460030333\n",
            "[0.04462111 0.17943197 0.0031874 ]\n"
          ]
        },
        {
          "output_type": "stream",
          "name": "stderr",
          "text": [
            "/home/silvio/.conda/envs/trackml6/lib/python3.7/site-packages/sklearn/linear_model/coordinate_descent.py:1100: DataConversionWarning: A column-vector y was passed when a 1d array was expected. Please change the shape of y to (n_samples, ), for example using ravel().\n",
            "  y = column_or_1d(y, warn=True)\n",
            "/home/silvio/.conda/envs/trackml6/lib/python3.7/site-packages/sklearn/model_selection/_split.py:1978: FutureWarning: The default value of cv will change from 3 to 5 in version 0.22. Specify it explicitly to silence this warning.\n",
            "  warnings.warn(CV_WARNING, FutureWarning)\n"
          ]
        }
      ],
      "execution_count": 180,
      "metadata": {}
    },
    {
      "cell_type": "markdown",
      "source": [
        "### Regularização para Árvore"
      ],
      "metadata": {}
    },
    {
      "cell_type": "code",
      "source": [
        "tree = DecisionTreeRegressor().fit(X_train,y_train)\n",
        "r2_tree = r2_score(y_test,tree.predict(X_test))\n",
        "r2_tree_treino = r2_score(y_train,tree.predict(X_train))\n",
        "\n",
        "print(\"Scores R^2 Treino:\")\n",
        "print(\"tree: \"+str(r2_tree_treino))\n",
        "\n",
        "\n",
        "print(\"Scores R^2 Teste:\")\n",
        "print(\"tree: \"+str(r2_tree))\n",
        "\n",
        "print(mean_squared_error(y_test,tree.predict(X_test))) "
      ],
      "outputs": [
        {
          "output_type": "stream",
          "name": "stdout",
          "text": [
            "Scores R^2 Treino:\n",
            "tree: 1.0\n",
            "Scores R^2 Teste:\n",
            "tree: 0.9306372158594303\n",
            "1.8602\n"
          ]
        }
      ],
      "execution_count": 183,
      "metadata": {}
    },
    {
      "cell_type": "code",
      "source": [
        "depth_test =  np.linspace(1., 50., num=100)\n",
        "\n",
        "erros_train = []\n",
        "erros_test = []\n",
        "for depth in depth_test:\n",
        "    #modelo_regularizado =  DecisionTreeRegressor(max_depth=depth).fit(X_train, y_train.values.ravel())\n",
        "    modelo_regularizado =  DecisionTreeRegressor(max_depth=depth).fit(X_train, y_train)\n",
        "    y_pred = modelo_regularizado.predict(X_test)\n",
        "    erros_train.append(mean_squared_error(y_train, modelo_regularizado.predict(X_train)))\n",
        "    erros_test.append(mean_squared_error(y_test, y_pred))\n",
        "    lastMSE=mean_squared_error(y_test, y_pred)\n",
        "\n",
        "print(lastMSE)\n",
        "X_new = np.array(erros_test)\n",
        "\n",
        "print(np.amin(X_new))\n",
        "plt.plot(depth_test, erros_train,color='y',label='regularizado_train')\n",
        "plt.plot(depth_test, erros_test,color='r',label='regularizado_test')    \n",
        "\n",
        "\n",
        "plt.xlabel('max depth')\n",
        "plt.ylabel('mse')\n",
        "plt.legend()\n"
      ],
      "outputs": [
        {
          "output_type": "stream",
          "name": "stdout",
          "text": [
            "1.9857000000000002\n",
            "1.5778\n"
          ]
        },
        {
          "output_type": "execute_result",
          "execution_count": 194,
          "data": {
            "text/plain": [
              "<matplotlib.legend.Legend at 0x7ff1fbe9e4d0>"
            ]
          },
          "metadata": {}
        },
        {
          "output_type": "display_data",
          "data": {
            "image/png": "[encoded data removed]",
            "text/plain": [
              "<Figure size 432x288 with 1 Axes>"
            ]
          },
          "metadata": {}
        }
      ],
      "execution_count": 194,
      "metadata": {}
    },
    {
      "cell_type": "code",
      "source": [],
      "outputs": [],
      "execution_count": null,
      "metadata": {}
    }
  ],
  "metadata": {
    "kernelspec": {
      "display_name": "Python [conda env:.conda-trackml6]",
      "language": "python",
      "name": "conda-env-.conda-trackml6-py"
    },
    "language_info": {
      "codemirror_mode": {
        "name": "ipython",
        "version": 3
      },
      "file_extension": ".py",
      "mimetype": "text/x-python",
      "name": "python",
      "nbconvert_exporter": "python",
      "pygments_lexer": "ipython3",
      "version": "3.7.4"
    },
    "nteract": {
      "version": "0.21.0"
    }
  },
  "nbformat": 4,
  "nbformat_minor": 4
}