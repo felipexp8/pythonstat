{
  "cells": [
    {
      "cell_type": "code",
      "source": [
        "import pandas as pd\n",
        "\n",
        "from sklearn import *\n",
        "\n",
        "from __future__ import division\n",
        "\n",
        "from tabulate import tabulate\n",
        "from IPython.display import HTML\n",
        "\n",
        "import plotly.express as px # precisa rodar no jupyter/IPython para exibir corretamente\n",
        "import pylab as plt #as vezes plotar manualmente dá menos trabalho\n",
        "\n",
        "import numpy as np"
      ],
      "outputs": [],
      "execution_count": 298,
      "metadata": {
        "collapsed": false,
        "jupyter": {
          "source_hidden": false,
          "outputs_hidden": false
        },
        "nteract": {
          "transient": {
            "deleting": false
          }
        }
      }
    },
    {
      "cell_type": "code",
      "source": [
        "dados = pd.read_csv(\"c:/Users/Felipe/Documents/GitHub/pythonstat/ex_classificador/SAheart.data.csv\", sep=\",\")"
      ],
      "outputs": [],
      "execution_count": 275,
      "metadata": {
        "collapsed": false,
        "jupyter": {
          "source_hidden": false,
          "outputs_hidden": false
        },
        "nteract": {
          "transient": {
            "deleting": false
          }
        }
      }
    },
    {
      "cell_type": "code",
      "source": [
        "dados.head()"
      ],
      "outputs": [
        {
          "output_type": "execute_result",
          "execution_count": 276,
          "data": {
            "text/html": [
              "<div>\n",
              "<style scoped>\n",
              "    .dataframe tbody tr th:only-of-type {\n",
              "        vertical-align: middle;\n",
              "    }\n",
              "\n",
              "    .dataframe tbody tr th {\n",
              "        vertical-align: top;\n",
              "    }\n",
              "\n",
              "    .dataframe thead th {\n",
              "        text-align: right;\n",
              "    }\n",
              "</style>\n",
              "<table border=\"1\" class=\"dataframe\">\n",
              "  <thead>\n",
              "    <tr style=\"text-align: right;\">\n",
              "      <th></th>\n",
              "      <th>sbp</th>\n",
              "      <th>tobacco</th>\n",
              "      <th>ldl</th>\n",
              "      <th>adiposity</th>\n",
              "      <th>famhist</th>\n",
              "      <th>typea</th>\n",
              "      <th>obesity</th>\n",
              "      <th>alcohol</th>\n",
              "      <th>age</th>\n",
              "      <th>chd</th>\n",
              "    </tr>\n",
              "  </thead>\n",
              "  <tbody>\n",
              "    <tr>\n",
              "      <th>1</th>\n",
              "      <td>160</td>\n",
              "      <td>12.00</td>\n",
              "      <td>5.73</td>\n",
              "      <td>23.11</td>\n",
              "      <td>Present</td>\n",
              "      <td>49</td>\n",
              "      <td>25.30</td>\n",
              "      <td>97.20</td>\n",
              "      <td>52</td>\n",
              "      <td>1</td>\n",
              "    </tr>\n",
              "    <tr>\n",
              "      <th>2</th>\n",
              "      <td>144</td>\n",
              "      <td>0.01</td>\n",
              "      <td>4.41</td>\n",
              "      <td>28.61</td>\n",
              "      <td>Absent</td>\n",
              "      <td>55</td>\n",
              "      <td>28.87</td>\n",
              "      <td>2.06</td>\n",
              "      <td>63</td>\n",
              "      <td>1</td>\n",
              "    </tr>\n",
              "    <tr>\n",
              "      <th>3</th>\n",
              "      <td>118</td>\n",
              "      <td>0.08</td>\n",
              "      <td>3.48</td>\n",
              "      <td>32.28</td>\n",
              "      <td>Present</td>\n",
              "      <td>52</td>\n",
              "      <td>29.14</td>\n",
              "      <td>3.81</td>\n",
              "      <td>46</td>\n",
              "      <td>0</td>\n",
              "    </tr>\n",
              "    <tr>\n",
              "      <th>4</th>\n",
              "      <td>170</td>\n",
              "      <td>7.50</td>\n",
              "      <td>6.41</td>\n",
              "      <td>38.03</td>\n",
              "      <td>Present</td>\n",
              "      <td>51</td>\n",
              "      <td>31.99</td>\n",
              "      <td>24.26</td>\n",
              "      <td>58</td>\n",
              "      <td>1</td>\n",
              "    </tr>\n",
              "    <tr>\n",
              "      <th>5</th>\n",
              "      <td>134</td>\n",
              "      <td>13.60</td>\n",
              "      <td>3.50</td>\n",
              "      <td>27.78</td>\n",
              "      <td>Present</td>\n",
              "      <td>60</td>\n",
              "      <td>25.99</td>\n",
              "      <td>57.34</td>\n",
              "      <td>49</td>\n",
              "      <td>1</td>\n",
              "    </tr>\n",
              "  </tbody>\n",
              "</table>\n",
              "</div>"
            ],
            "text/plain": [
              "   sbp  tobacco   ldl  adiposity  famhist  typea  obesity  alcohol  age  chd\n",
              "1  160    12.00  5.73      23.11  Present     49    25.30    97.20   52    1\n",
              "2  144     0.01  4.41      28.61   Absent     55    28.87     2.06   63    1\n",
              "3  118     0.08  3.48      32.28  Present     52    29.14     3.81   46    0\n",
              "4  170     7.50  6.41      38.03  Present     51    31.99    24.26   58    1\n",
              "5  134    13.60  3.50      27.78  Present     60    25.99    57.34   49    1"
            ]
          },
          "metadata": {}
        }
      ],
      "execution_count": 276,
      "metadata": {
        "collapsed": false,
        "jupyter": {
          "source_hidden": false,
          "outputs_hidden": false
        },
        "nteract": {
          "transient": {
            "deleting": false
          }
        }
      }
    },
    {
      "cell_type": "code",
      "source": [
        "dados.famhist = dados.famhist == 'Present'  ;"
      ],
      "outputs": [],
      "execution_count": 277,
      "metadata": {
        "collapsed": false,
        "jupyter": {
          "source_hidden": false,
          "outputs_hidden": false
        },
        "nteract": {
          "transient": {
            "deleting": false
          }
        }
      }
    },
    {
      "cell_type": "markdown",
      "source": [
        "Implementar o modelo de regressao SGD, naive bayes e regressao logistica para identificar casos de doenca do coracao (CHD) com os dados da base\n",
        "\n",
        "https://github.com/advinstai/Aprendizagem-estatistica-classificacao/blob/master/SAheart.data\n",
        "\n",
        "faca a preparacao dos dados para utilizar os algoritmos e compare a qualidade dos 3 métodos, usando as metricas apresentadas."
      ],
      "metadata": {
        "nteract": {
          "transient": {
            "deleting": false
          }
        }
      }
    },
    {
      "cell_type": "code",
      "source": [],
      "outputs": [],
      "execution_count": 277,
      "metadata": {
        "collapsed": false,
        "jupyter": {
          "source_hidden": false,
          "outputs_hidden": false
        },
        "nteract": {
          "transient": {
            "deleting": false
          }
        }
      }
    },
    {
      "cell_type": "code",
      "source": [
        "kernelSGD = linear_model.SGDClassifier()\n",
        "kernelLog = linear_model.LogisticRegressionCV()\n",
        "kernelGauss = naive_bayes.GaussianNB()"
      ],
      "outputs": [],
      "execution_count": 278,
      "metadata": {
        "collapsed": false,
        "jupyter": {
          "source_hidden": false,
          "outputs_hidden": false
        },
        "nteract": {
          "transient": {
            "deleting": false
          }
        }
      }
    },
    {
      "cell_type": "code",
      "source": [
        "tamanhoTeste = 0.3"
      ],
      "outputs": [],
      "execution_count": 279,
      "metadata": {
        "collapsed": false,
        "jupyter": {
          "source_hidden": false,
          "outputs_hidden": false
        },
        "nteract": {
          "transient": {
            "deleting": false
          }
        }
      }
    },
    {
      "cell_type": "code",
      "source": [
        "X = dados.drop(columns='chd');\n",
        "y = dados.loc[:, ['chd']] \n",
        "\n",
        "X_train, X_test, y_train, y_test = model_selection.train_test_split(X,y, test_size=tamanhoTeste)"
      ],
      "outputs": [],
      "execution_count": 280,
      "metadata": {
        "collapsed": false,
        "jupyter": {
          "source_hidden": false,
          "outputs_hidden": false
        },
        "nteract": {
          "transient": {
            "deleting": false
          }
        }
      }
    },
    {
      "cell_type": "code",
      "source": [
        "kernelLog.fit(X_train, y_train);\n",
        "y_p = kernelLog.predict(X_test)"
      ],
      "outputs": [],
      "execution_count": 315,
      "metadata": {
        "collapsed": false,
        "jupyter": {
          "source_hidden": false,
          "outputs_hidden": false
        },
        "nteract": {
          "transient": {
            "deleting": false
          }
        }
      }
    },
    {
      "cell_type": "code",
      "source": [
        "print metrics.classification_report(y_test,y_p)\n",
        "\n",
        "LogScore = {\n",
        "    'precision': metrics.precision_score(y_test,y_p),\n",
        "    'recall': metrics.recall_score(y_test,y_p),\n",
        "    'f1': metrics.f1_score(y_test,y_p)}\n",
        "    \n",
        "            "
      ],
      "outputs": [
        {
          "output_type": "stream",
          "name": "stdout",
          "text": [
            "              precision    recall  f1-score   support\n",
            "\n",
            "           0       0.83      0.81      0.82        99\n",
            "           1       0.56      0.60      0.58        40\n",
            "\n",
            "   micro avg       0.75      0.75      0.75       139\n",
            "   macro avg       0.70      0.70      0.70       139\n",
            "weighted avg       0.75      0.75      0.75       139\n",
            "\n"
          ]
        }
      ],
      "execution_count": 316,
      "metadata": {
        "collapsed": false,
        "jupyter": {
          "source_hidden": false,
          "outputs_hidden": false
        },
        "nteract": {
          "transient": {
            "deleting": false
          }
        }
      }
    },
    {
      "cell_type": "code",
      "source": [
        "print metrics.confusion_matrix(y_test,y_p)"
      ],
      "outputs": [
        {
          "output_type": "stream",
          "name": "stdout",
          "text": [
            "[[80 19]\n",
            " [16 24]]\n"
          ]
        }
      ],
      "execution_count": 318,
      "metadata": {
        "collapsed": false,
        "jupyter": {
          "source_hidden": false,
          "outputs_hidden": false
        },
        "nteract": {
          "transient": {
            "deleting": false
          }
        }
      }
    },
    {
      "cell_type": "code",
      "source": [
        "kernelGauss.fit(X_train, y_train);\n",
        "\n",
        "y_pdf = kernelGauss.predict_proba(X_test)\n",
        "y_p = kernelGauss.predict(X_test)"
      ],
      "outputs": [],
      "execution_count": 320,
      "metadata": {
        "collapsed": false,
        "jupyter": {
          "source_hidden": false,
          "outputs_hidden": false
        },
        "nteract": {
          "transient": {
            "deleting": false
          }
        }
      }
    },
    {
      "cell_type": "code",
      "source": [
        "prob = pd.DataFrame();\n",
        "\n",
        "prob['pred'] = kernelGauss.predict(X_test)\n",
        "prob['probA'] = kernelGauss.predict_proba(X_test)[:,0]\n",
        "prob['probB'] = kernelGauss.predict_proba(X_test)[:,1]\n",
        "prob['age'] = X_test.age.values"
      ],
      "outputs": [],
      "execution_count": 327,
      "metadata": {
        "collapsed": false,
        "jupyter": {
          "source_hidden": false,
          "outputs_hidden": false
        },
        "nteract": {
          "transient": {
            "deleting": false
          }
        }
      }
    },
    {
      "cell_type": "markdown",
      "source": [
        "## Analise da probabilidade \n",
        "\n",
        "GaussianNB"
      ],
      "metadata": {
        "nteract": {
          "transient": {
            "deleting": false
          }
        }
      }
    },
    {
      "cell_type": "code",
      "source": [
        "px.scatter(data_frame=prob, y='probB',x='age', facet_col='pred')"
      ],
      "outputs": [
        {
          "output_type": "display_data",
          "data": {
            "text/html": [
              "<div>\n",
              "        \n",
              "        \n",
              "            <div id=\"9dfc17c5-b0ef-40d7-ac24-dbafcc9eff59\" class=\"plotly-graph-div\" style=\"height:525px; width:100%;\"></div>\n",
              "            <script type=\"text/javascript\">\n",
              "                require([\"plotly\"], function(Plotly) {\n",
              "                    window.PLOTLYENV=window.PLOTLYENV || {};\n",
              "                    \n",
              "                if (document.getElementById(\"9dfc17c5-b0ef-40d7-ac24-dbafcc9eff59\")) {\n",
              "                    Plotly.newPlot(\n",
              "                        '9dfc17c5-b0ef-40d7-ac24-dbafcc9eff59',\n",
              "                        [{\"hoverlabel\": {\"namelength\": 0}, \"hovertemplate\": \"pred=1<br>age=%{x}<br>probB=%{y}\", \"legendgroup\": \"\", \"marker\": {\"color\": \"#636efa\", \"symbol\": \"circle\"}, \"mode\": \"markers\", \"name\": \"\", \"showlegend\": false, \"type\": \"scatter\", \"x\": [53, 52, 61, 58, 64, 58, 60, 64, 43, 57, 50, 56, 52, 43, 49, 38, 56, 64, 57, 40, 53, 53, 61, 51, 57, 60, 55, 50, 52, 56, 59, 62, 55, 50, 60, 40, 63, 63, 55, 60, 40, 59, 58, 61, 48, 60, 52, 52, 45, 54, 48, 62, 60], \"xaxis\": \"x\", \"y\": [0.9968194187779325, 0.9902709262464964, 0.6356257039933048, 0.9970571663947706, 0.5532267021614382, 0.6306749561298973, 0.763553218211008, 0.7790753745987145, 0.5899892456533941, 0.8965773812047324, 0.9780953108592053, 0.9630435299636154, 0.6094976518692107, 0.8589366856726388, 0.9999870723640029, 0.9944703964961532, 0.6940845706441339, 0.5934187094551755, 0.8238778127809391, 0.5147480231539778, 0.65309815429975, 0.9681762678793563, 0.9999999043588349, 0.9607364755023995, 0.9984867537692668, 0.9999976848275635, 0.6085416448847725, 0.9814048067092459, 0.7921148876205438, 0.7114931577024194, 0.645830725611791, 0.6024926040014166, 0.8394968753433907, 0.9946194014578649, 0.8466213365298911, 0.9099978775341211, 0.9897508266329906, 0.7370124520242538, 0.9474087811467585, 0.7832988005844271, 0.9903383618824748, 0.9917593273946911, 0.7622631898951435, 0.662562291916487, 0.9516384001556497, 0.5249933038541417, 0.9105731863298455, 0.9694433941977979, 0.9821527604154742, 0.5943681477638874, 0.9012792755574311, 0.9660799750172678, 0.7885095717047116], \"yaxis\": \"y\"}, {\"hoverlabel\": {\"namelength\": 0}, \"hovertemplate\": \"pred=0<br>age=%{x}<br>probB=%{y}\", \"legendgroup\": \"\", \"marker\": {\"color\": \"#636efa\", \"symbol\": \"circle\"}, \"mode\": \"markers\", \"name\": \"\", \"showlegend\": false, \"type\": \"scatter\", \"x\": [29, 24, 29, 24, 30, 16, 34, 31, 17, 17, 43, 38, 38, 58, 38, 58, 57, 25, 19, 16, 56, 43, 52, 36, 32, 32, 30, 27, 15, 64, 17, 59, 16, 40, 42, 31, 28, 18, 27, 43, 62, 25, 17, 61, 42, 28, 17, 30, 16, 55, 38, 42, 16, 24, 17, 64, 23, 32, 32, 46, 38, 29, 42, 39, 44, 53, 49, 32, 47, 46, 16, 31, 42, 42, 27, 31, 16, 16, 45, 47, 56, 16, 20, 27, 21, 61], \"xaxis\": \"x2\", \"y\": [0.031427023933140966, 0.11002686685392238, 0.019048342521295298, 0.006380874141295732, 0.04507081176305057, 0.00031526648907540027, 0.024408809229695468, 0.009991552006522778, 0.0005361256731189989, 0.0004147331741945928, 0.23054732870893557, 0.02246309534874689, 0.061067587564791664, 0.40239459126948063, 0.26436608079097834, 0.24271148585996302, 0.06781690184779196, 0.006021491100855048, 0.0007224358668478854, 0.0009739693180832792, 0.075632390132501, 0.22452361872907511, 0.0980196944554676, 0.08109563611636718, 0.022974845971334833, 0.14319519931437658, 0.019390635536941703, 0.025920810714806113, 0.0002503855234042572, 0.1061326319868622, 0.00033868609338592284, 0.08839569047131624, 0.015584101071824409, 0.13878361139059334, 0.0386110522312698, 0.01916430337111127, 0.011511942742448027, 0.000798184132934702, 0.01491399989966398, 0.20944692871741455, 0.2944971440201655, 0.0010131529484653096, 0.0010257669394953082, 0.4475827631785645, 0.34129060426909186, 0.010473796730519694, 0.0007238919852089121, 0.08701876656023405, 0.0005922685490647855, 0.15198955540322456, 0.07331894181875233, 0.28288220169352263, 0.0013935586298674417, 0.025680393925391898, 0.00033046342972469026, 0.41488811913495177, 0.018799513018496722, 0.013068629550096758, 0.16525285066341425, 0.3602914424306677, 0.02620584481698658, 0.0217570641650113, 0.12534791221742675, 0.441247993889542, 0.3237956751389897, 0.33979652506108743, 0.2609717544940823, 0.44918697764382615, 0.10144219636176603, 0.43826531111227557, 0.0004783697382431702, 0.04675452501947032, 0.09690490048654414, 0.07437016896315625, 0.01216674853076985, 0.007832316240386335, 0.000768255190234357, 0.00037201648889952836, 0.17515184924236693, 0.1641383335610098, 0.21421671807400458, 0.0011808365214927982, 0.0026460076681028787, 0.010590174978096006, 0.0005386306250335968, 0.38406107078351126], \"yaxis\": \"y2\"}],\n",
              "                        {\"annotations\": [{\"font\": {}, \"showarrow\": false, \"text\": \"pred=1\", \"x\": 0.245, \"xanchor\": \"center\", \"xref\": \"paper\", \"y\": 1.0, \"yanchor\": \"bottom\", \"yref\": \"paper\"}, {\"font\": {}, \"showarrow\": false, \"text\": \"pred=0\", \"x\": 0.755, \"xanchor\": \"center\", \"xref\": \"paper\", \"y\": 1.0, \"yanchor\": \"bottom\", \"yref\": \"paper\"}], \"legend\": {\"tracegroupgap\": 0}, \"margin\": {\"t\": 60}, \"template\": {\"data\": {\"bar\": [{\"error_x\": {\"color\": \"#2a3f5f\"}, \"error_y\": {\"color\": \"#2a3f5f\"}, \"marker\": {\"line\": {\"color\": \"#E5ECF6\", \"width\": 0.5}}, \"type\": \"bar\"}], \"barpolar\": [{\"marker\": {\"line\": {\"color\": \"#E5ECF6\", \"width\": 0.5}}, \"type\": \"barpolar\"}], \"carpet\": [{\"aaxis\": {\"endlinecolor\": \"#2a3f5f\", \"gridcolor\": \"white\", \"linecolor\": \"white\", \"minorgridcolor\": \"white\", \"startlinecolor\": \"#2a3f5f\"}, \"baxis\": {\"endlinecolor\": \"#2a3f5f\", \"gridcolor\": \"white\", \"linecolor\": \"white\", \"minorgridcolor\": \"white\", \"startlinecolor\": \"#2a3f5f\"}, \"type\": \"carpet\"}], \"choropleth\": [{\"colorbar\": {\"outlinewidth\": 0, \"ticks\": \"\"}, \"type\": \"choropleth\"}], \"contour\": [{\"colorbar\": {\"outlinewidth\": 0, \"ticks\": \"\"}, \"colorscale\": [[0.0, \"#0d0887\"], [0.1111111111111111, \"#46039f\"], [0.2222222222222222, \"#7201a8\"], [0.3333333333333333, \"#9c179e\"], [0.4444444444444444, \"#bd3786\"], [0.5555555555555556, \"#d8576b\"], [0.6666666666666666, \"#ed7953\"], [0.7777777777777778, \"#fb9f3a\"], [0.8888888888888888, \"#fdca26\"], [1.0, \"#f0f921\"]], \"type\": \"contour\"}], \"contourcarpet\": [{\"colorbar\": {\"outlinewidth\": 0, \"ticks\": \"\"}, \"type\": \"contourcarpet\"}], \"heatmap\": [{\"colorbar\": {\"outlinewidth\": 0, \"ticks\": \"\"}, \"colorscale\": [[0.0, \"#0d0887\"], [0.1111111111111111, \"#46039f\"], [0.2222222222222222, \"#7201a8\"], [0.3333333333333333, \"#9c179e\"], [0.4444444444444444, \"#bd3786\"], [0.5555555555555556, \"#d8576b\"], [0.6666666666666666, \"#ed7953\"], [0.7777777777777778, \"#fb9f3a\"], [0.8888888888888888, \"#fdca26\"], [1.0, \"#f0f921\"]], \"type\": \"heatmap\"}], \"heatmapgl\": [{\"colorbar\": {\"outlinewidth\": 0, \"ticks\": \"\"}, \"colorscale\": [[0.0, \"#0d0887\"], [0.1111111111111111, \"#46039f\"], [0.2222222222222222, \"#7201a8\"], [0.3333333333333333, \"#9c179e\"], [0.4444444444444444, \"#bd3786\"], [0.5555555555555556, \"#d8576b\"], [0.6666666666666666, \"#ed7953\"], [0.7777777777777778, \"#fb9f3a\"], [0.8888888888888888, \"#fdca26\"], [1.0, \"#f0f921\"]], \"type\": \"heatmapgl\"}], \"histogram\": [{\"marker\": {\"colorbar\": {\"outlinewidth\": 0, \"ticks\": \"\"}}, \"type\": \"histogram\"}], \"histogram2d\": [{\"colorbar\": {\"outlinewidth\": 0, \"ticks\": \"\"}, \"colorscale\": [[0.0, \"#0d0887\"], [0.1111111111111111, \"#46039f\"], [0.2222222222222222, \"#7201a8\"], [0.3333333333333333, \"#9c179e\"], [0.4444444444444444, \"#bd3786\"], [0.5555555555555556, \"#d8576b\"], [0.6666666666666666, \"#ed7953\"], [0.7777777777777778, \"#fb9f3a\"], [0.8888888888888888, \"#fdca26\"], [1.0, \"#f0f921\"]], \"type\": \"histogram2d\"}], \"histogram2dcontour\": [{\"colorbar\": {\"outlinewidth\": 0, \"ticks\": \"\"}, \"colorscale\": [[0.0, \"#0d0887\"], [0.1111111111111111, \"#46039f\"], [0.2222222222222222, \"#7201a8\"], [0.3333333333333333, \"#9c179e\"], [0.4444444444444444, \"#bd3786\"], [0.5555555555555556, \"#d8576b\"], [0.6666666666666666, \"#ed7953\"], [0.7777777777777778, \"#fb9f3a\"], [0.8888888888888888, \"#fdca26\"], [1.0, \"#f0f921\"]], \"type\": \"histogram2dcontour\"}], \"mesh3d\": [{\"colorbar\": {\"outlinewidth\": 0, \"ticks\": \"\"}, \"type\": \"mesh3d\"}], \"parcoords\": [{\"line\": {\"colorbar\": {\"outlinewidth\": 0, \"ticks\": \"\"}}, \"type\": \"parcoords\"}], \"pie\": [{\"automargin\": true, \"type\": \"pie\"}], \"scatter\": [{\"marker\": {\"colorbar\": {\"outlinewidth\": 0, \"ticks\": \"\"}}, \"type\": \"scatter\"}], \"scatter3d\": [{\"line\": {\"colorbar\": {\"outlinewidth\": 0, \"ticks\": \"\"}}, \"marker\": {\"colorbar\": {\"outlinewidth\": 0, \"ticks\": \"\"}}, \"type\": \"scatter3d\"}], \"scattercarpet\": [{\"marker\": {\"colorbar\": {\"outlinewidth\": 0, \"ticks\": \"\"}}, \"type\": \"scattercarpet\"}], \"scattergeo\": [{\"marker\": {\"colorbar\": {\"outlinewidth\": 0, \"ticks\": \"\"}}, \"type\": \"scattergeo\"}], \"scattergl\": [{\"marker\": {\"colorbar\": {\"outlinewidth\": 0, \"ticks\": \"\"}}, \"type\": \"scattergl\"}], \"scattermapbox\": [{\"marker\": {\"colorbar\": {\"outlinewidth\": 0, \"ticks\": \"\"}}, \"type\": \"scattermapbox\"}], \"scatterpolar\": [{\"marker\": {\"colorbar\": {\"outlinewidth\": 0, \"ticks\": \"\"}}, \"type\": \"scatterpolar\"}], \"scatterpolargl\": [{\"marker\": {\"colorbar\": {\"outlinewidth\": 0, \"ticks\": \"\"}}, \"type\": \"scatterpolargl\"}], \"scatterternary\": [{\"marker\": {\"colorbar\": {\"outlinewidth\": 0, \"ticks\": \"\"}}, \"type\": \"scatterternary\"}], \"surface\": [{\"colorbar\": {\"outlinewidth\": 0, \"ticks\": \"\"}, \"colorscale\": [[0.0, \"#0d0887\"], [0.1111111111111111, \"#46039f\"], [0.2222222222222222, \"#7201a8\"], [0.3333333333333333, \"#9c179e\"], [0.4444444444444444, \"#bd3786\"], [0.5555555555555556, \"#d8576b\"], [0.6666666666666666, \"#ed7953\"], [0.7777777777777778, \"#fb9f3a\"], [0.8888888888888888, \"#fdca26\"], [1.0, \"#f0f921\"]], \"type\": \"surface\"}], \"table\": [{\"cells\": {\"fill\": {\"color\": \"#EBF0F8\"}, \"line\": {\"color\": \"white\"}}, \"header\": {\"fill\": {\"color\": \"#C8D4E3\"}, \"line\": {\"color\": \"white\"}}, \"type\": \"table\"}]}, \"layout\": {\"annotationdefaults\": {\"arrowcolor\": \"#2a3f5f\", \"arrowhead\": 0, \"arrowwidth\": 1}, \"coloraxis\": {\"colorbar\": {\"outlinewidth\": 0, \"ticks\": \"\"}}, \"colorscale\": {\"diverging\": [[0, \"#8e0152\"], [0.1, \"#c51b7d\"], [0.2, \"#de77ae\"], [0.3, \"#f1b6da\"], [0.4, \"#fde0ef\"], [0.5, \"#f7f7f7\"], [0.6, \"#e6f5d0\"], [0.7, \"#b8e186\"], [0.8, \"#7fbc41\"], [0.9, \"#4d9221\"], [1, \"#276419\"]], \"sequential\": [[0.0, \"#0d0887\"], [0.1111111111111111, \"#46039f\"], [0.2222222222222222, \"#7201a8\"], [0.3333333333333333, \"#9c179e\"], [0.4444444444444444, \"#bd3786\"], [0.5555555555555556, \"#d8576b\"], [0.6666666666666666, \"#ed7953\"], [0.7777777777777778, \"#fb9f3a\"], [0.8888888888888888, \"#fdca26\"], [1.0, \"#f0f921\"]], \"sequentialminus\": [[0.0, \"#0d0887\"], [0.1111111111111111, \"#46039f\"], [0.2222222222222222, \"#7201a8\"], [0.3333333333333333, \"#9c179e\"], [0.4444444444444444, \"#bd3786\"], [0.5555555555555556, \"#d8576b\"], [0.6666666666666666, \"#ed7953\"], [0.7777777777777778, \"#fb9f3a\"], [0.8888888888888888, \"#fdca26\"], [1.0, \"#f0f921\"]]}, \"colorway\": [\"#636efa\", \"#EF553B\", \"#00cc96\", \"#ab63fa\", \"#FFA15A\", \"#19d3f3\", \"#FF6692\", \"#B6E880\", \"#FF97FF\", \"#FECB52\"], \"font\": {\"color\": \"#2a3f5f\"}, \"geo\": {\"bgcolor\": \"white\", \"lakecolor\": \"white\", \"landcolor\": \"#E5ECF6\", \"showlakes\": true, \"showland\": true, \"subunitcolor\": \"white\"}, \"hoverlabel\": {\"align\": \"left\"}, \"hovermode\": \"closest\", \"mapbox\": {\"style\": \"light\"}, \"paper_bgcolor\": \"white\", \"plot_bgcolor\": \"#E5ECF6\", \"polar\": {\"angularaxis\": {\"gridcolor\": \"white\", \"linecolor\": \"white\", \"ticks\": \"\"}, \"bgcolor\": \"#E5ECF6\", \"radialaxis\": {\"gridcolor\": \"white\", \"linecolor\": \"white\", \"ticks\": \"\"}}, \"scene\": {\"xaxis\": {\"backgroundcolor\": \"#E5ECF6\", \"gridcolor\": \"white\", \"gridwidth\": 2, \"linecolor\": \"white\", \"showbackground\": true, \"ticks\": \"\", \"zerolinecolor\": \"white\"}, \"yaxis\": {\"backgroundcolor\": \"#E5ECF6\", \"gridcolor\": \"white\", \"gridwidth\": 2, \"linecolor\": \"white\", \"showbackground\": true, \"ticks\": \"\", \"zerolinecolor\": \"white\"}, \"zaxis\": {\"backgroundcolor\": \"#E5ECF6\", \"gridcolor\": \"white\", \"gridwidth\": 2, \"linecolor\": \"white\", \"showbackground\": true, \"ticks\": \"\", \"zerolinecolor\": \"white\"}}, \"shapedefaults\": {\"line\": {\"color\": \"#2a3f5f\"}}, \"ternary\": {\"aaxis\": {\"gridcolor\": \"white\", \"linecolor\": \"white\", \"ticks\": \"\"}, \"baxis\": {\"gridcolor\": \"white\", \"linecolor\": \"white\", \"ticks\": \"\"}, \"bgcolor\": \"#E5ECF6\", \"caxis\": {\"gridcolor\": \"white\", \"linecolor\": \"white\", \"ticks\": \"\"}}, \"title\": {\"x\": 0.05}, \"xaxis\": {\"automargin\": true, \"gridcolor\": \"white\", \"linecolor\": \"white\", \"ticks\": \"\", \"title\": {\"standoff\": 15}, \"zerolinecolor\": \"white\", \"zerolinewidth\": 2}, \"yaxis\": {\"automargin\": true, \"gridcolor\": \"white\", \"linecolor\": \"white\", \"ticks\": \"\", \"title\": {\"standoff\": 15}, \"zerolinecolor\": \"white\", \"zerolinewidth\": 2}}}, \"xaxis\": {\"anchor\": \"y\", \"domain\": [0.0, 0.49], \"title\": {\"text\": \"age\"}}, \"xaxis2\": {\"anchor\": \"y2\", \"domain\": [0.51, 1.0], \"matches\": \"x\", \"title\": {\"text\": \"age\"}}, \"yaxis\": {\"anchor\": \"x\", \"domain\": [0.0, 1.0], \"title\": {\"text\": \"probB\"}}, \"yaxis2\": {\"anchor\": \"x2\", \"domain\": [0.0, 1.0], \"matches\": \"y\", \"showticklabels\": false}},\n",
              "                        {\"responsive\": true}\n",
              "                    ).then(function(){\n",
              "                            \n",
              "var gd = document.getElementById('9dfc17c5-b0ef-40d7-ac24-dbafcc9eff59');\n",
              "var x = new MutationObserver(function (mutations, observer) {{\n",
              "        var display = window.getComputedStyle(gd).display;\n",
              "        if (!display || display === 'none') {{\n",
              "            console.log([gd, 'removed!']);\n",
              "            Plotly.purge(gd);\n",
              "            observer.disconnect();\n",
              "        }}\n",
              "}});\n",
              "\n",
              "// Listen for the removal of the full notebook cells\n",
              "var notebookContainer = gd.closest('#notebook-container');\n",
              "if (notebookContainer) {{\n",
              "    x.observe(notebookContainer, {childList: true});\n",
              "}}\n",
              "\n",
              "// Listen for the clearing of the current output cell\n",
              "var outputEl = gd.closest('.output');\n",
              "if (outputEl) {{\n",
              "    x.observe(outputEl, {childList: true});\n",
              "}}\n",
              "\n",
              "                        })\n",
              "                };\n",
              "                });\n",
              "            </script>\n",
              "        </div>"
            ],
            "application/vnd.plotly.v1+json": {
              "config": {
                "plotlyServerURL": "https://plot.ly"
              },
              "data": [
                {
                  "hovertemplate": "pred=1<br>age=%{x}<br>probB=%{y}",
                  "showlegend": false,
                  "legendgroup": "",
                  "name": "",
                  "yaxis": "y",
                  "marker": {
                    "color": "#636efa",
                    "symbol": "circle"
                  },
                  "hoverlabel": {
                    "namelength": 0
                  },
                  "mode": "markers",
                  "xaxis": "x",
                  "y": [
                    0.9968194187779325,
                    0.9902709262464964,
                    0.6356257039933048,
                    0.9970571663947706,
                    0.5532267021614382,
                    0.6306749561298973,
                    0.763553218211008,
                    0.7790753745987145,
                    0.5899892456533941,
                    0.8965773812047324,
                    0.9780953108592053,
                    0.9630435299636154,
                    0.6094976518692107,
                    0.8589366856726388,
                    0.9999870723640029,
                    0.9944703964961532,
                    0.6940845706441339,
                    0.5934187094551755,
                    0.8238778127809391,
                    0.5147480231539778,
                    0.65309815429975,
                    0.9681762678793563,
                    0.9999999043588349,
                    0.9607364755023995,
                    0.9984867537692668,
                    0.9999976848275635,
                    0.6085416448847725,
                    0.9814048067092459,
                    0.7921148876205438,
                    0.7114931577024194,
                    0.645830725611791,
                    0.6024926040014166,
                    0.8394968753433907,
                    0.9946194014578649,
                    0.8466213365298911,
                    0.9099978775341211,
                    0.9897508266329906,
                    0.7370124520242538,
                    0.9474087811467585,
                    0.7832988005844271,
                    0.9903383618824748,
                    0.9917593273946911,
                    0.7622631898951435,
                    0.662562291916487,
                    0.9516384001556497,
                    0.5249933038541417,
                    0.9105731863298455,
                    0.9694433941977979,
                    0.9821527604154742,
                    0.5943681477638874,
                    0.9012792755574311,
                    0.9660799750172678,
                    0.7885095717047116
                  ],
                  "x": [
                    53,
                    52,
                    61,
                    58,
                    64,
                    58,
                    60,
                    64,
                    43,
                    57,
                    50,
                    56,
                    52,
                    43,
                    49,
                    38,
                    56,
                    64,
                    57,
                    40,
                    53,
                    53,
                    61,
                    51,
                    57,
                    60,
                    55,
                    50,
                    52,
                    56,
                    59,
                    62,
                    55,
                    50,
                    60,
                    40,
                    63,
                    63,
                    55,
                    60,
                    40,
                    59,
                    58,
                    61,
                    48,
                    60,
                    52,
                    52,
                    45,
                    54,
                    48,
                    62,
                    60
                  ],
                  "type": "scatter"
                },
                {
                  "hovertemplate": "pred=0<br>age=%{x}<br>probB=%{y}",
                  "showlegend": false,
                  "legendgroup": "",
                  "name": "",
                  "yaxis": "y2",
                  "marker": {
                    "color": "#636efa",
                    "symbol": "circle"
                  },
                  "hoverlabel": {
                    "namelength": 0
                  },
                  "mode": "markers",
                  "xaxis": "x2",
                  "y": [
                    0.031427023933140966,
                    0.11002686685392238,
                    0.019048342521295298,
                    0.006380874141295732,
                    0.04507081176305057,
                    0.00031526648907540027,
                    0.024408809229695468,
                    0.009991552006522778,
                    0.0005361256731189989,
                    0.0004147331741945928,
                    0.23054732870893557,
                    0.02246309534874689,
                    0.061067587564791664,
                    0.40239459126948063,
                    0.26436608079097834,
                    0.24271148585996302,
                    0.06781690184779196,
                    0.006021491100855048,
                    0.0007224358668478854,
                    0.0009739693180832792,
                    0.075632390132501,
                    0.22452361872907511,
                    0.0980196944554676,
                    0.08109563611636718,
                    0.022974845971334833,
                    0.14319519931437658,
                    0.019390635536941703,
                    0.025920810714806113,
                    0.0002503855234042572,
                    0.1061326319868622,
                    0.00033868609338592284,
                    0.08839569047131624,
                    0.015584101071824409,
                    0.13878361139059334,
                    0.0386110522312698,
                    0.01916430337111127,
                    0.011511942742448027,
                    0.000798184132934702,
                    0.01491399989966398,
                    0.20944692871741455,
                    0.2944971440201655,
                    0.0010131529484653096,
                    0.0010257669394953082,
                    0.4475827631785645,
                    0.34129060426909186,
                    0.010473796730519694,
                    0.0007238919852089121,
                    0.08701876656023405,
                    0.0005922685490647855,
                    0.15198955540322456,
                    0.07331894181875233,
                    0.28288220169352263,
                    0.0013935586298674417,
                    0.025680393925391898,
                    0.00033046342972469026,
                    0.41488811913495177,
                    0.018799513018496722,
                    0.013068629550096758,
                    0.16525285066341425,
                    0.3602914424306677,
                    0.02620584481698658,
                    0.0217570641650113,
                    0.12534791221742675,
                    0.441247993889542,
                    0.3237956751389897,
                    0.33979652506108743,
                    0.2609717544940823,
                    0.44918697764382615,
                    0.10144219636176603,
                    0.43826531111227557,
                    0.0004783697382431702,
                    0.04675452501947032,
                    0.09690490048654414,
                    0.07437016896315625,
                    0.01216674853076985,
                    0.007832316240386335,
                    0.000768255190234357,
                    0.00037201648889952836,
                    0.17515184924236693,
                    0.1641383335610098,
                    0.21421671807400458,
                    0.0011808365214927982,
                    0.0026460076681028787,
                    0.010590174978096006,
                    0.0005386306250335968,
                    0.38406107078351126
                  ],
                  "x": [
                    29,
                    24,
                    29,
                    24,
                    30,
                    16,
                    34,
                    31,
                    17,
                    17,
                    43,
                    38,
                    38,
                    58,
                    38,
                    58,
                    57,
                    25,
                    19,
                    16,
                    56,
                    43,
                    52,
                    36,
                    32,
                    32,
                    30,
                    27,
                    15,
                    64,
                    17,
                    59,
                    16,
                    40,
                    42,
                    31,
                    28,
                    18,
                    27,
                    43,
                    62,
                    25,
                    17,
                    61,
                    42,
                    28,
                    17,
                    30,
                    16,
                    55,
                    38,
                    42,
                    16,
                    24,
                    17,
                    64,
                    23,
                    32,
                    32,
                    46,
                    38,
                    29,
                    42,
                    39,
                    44,
                    53,
                    49,
                    32,
                    47,
                    46,
                    16,
                    31,
                    42,
                    42,
                    27,
                    31,
                    16,
                    16,
                    45,
                    47,
                    56,
                    16,
                    20,
                    27,
                    21,
                    61
                  ],
                  "type": "scatter"
                }
              ],
              "layout": {
                "template": {
                  "data": {
                    "mesh3d": [
                      {
                        "colorbar": {
                          "outlinewidth": 0,
                          "ticks": ""
                        },
                        "type": "mesh3d"
                      }
                    ],
                    "scattercarpet": [
                      {
                        "marker": {
                          "colorbar": {
                            "outlinewidth": 0,
                            "ticks": ""
                          }
                        },
                        "type": "scattercarpet"
                      }
                    ],
                    "pie": [
                      {
                        "automargin": true,
                        "type": "pie"
                      }
                    ],
                    "surface": [
                      {
                        "colorbar": {
                          "outlinewidth": 0,
                          "ticks": ""
                        },
                        "type": "surface",
                        "colorscale": [
                          [
                            0,
                            "#0d0887"
                          ],
                          [
                            0.1111111111111111,
                            "#46039f"
                          ],
                          [
                            0.2222222222222222,
                            "#7201a8"
                          ],
                          [
                            0.3333333333333333,
                            "#9c179e"
                          ],
                          [
                            0.4444444444444444,
                            "#bd3786"
                          ],
                          [
                            0.5555555555555556,
                            "#d8576b"
                          ],
                          [
                            0.6666666666666666,
                            "#ed7953"
                          ],
                          [
                            0.7777777777777778,
                            "#fb9f3a"
                          ],
                          [
                            0.8888888888888888,
                            "#fdca26"
                          ],
                          [
                            1,
                            "#f0f921"
                          ]
                        ]
                      }
                    ],
                    "table": [
                      {
                        "header": {
                          "line": {
                            "color": "white"
                          },
                          "fill": {
                            "color": "#C8D4E3"
                          }
                        },
                        "cells": {
                          "line": {
                            "color": "white"
                          },
                          "fill": {
                            "color": "#EBF0F8"
                          }
                        },
                        "type": "table"
                      }
                    ],
                    "scatterpolargl": [
                      {
                        "marker": {
                          "colorbar": {
                            "outlinewidth": 0,
                            "ticks": ""
                          }
                        },
                        "type": "scatterpolargl"
                      }
                    ],
                    "contour": [
                      {
                        "colorbar": {
                          "outlinewidth": 0,
                          "ticks": ""
                        },
                        "type": "contour",
                        "colorscale": [
                          [
                            0,
                            "#0d0887"
                          ],
                          [
                            0.1111111111111111,
                            "#46039f"
                          ],
                          [
                            0.2222222222222222,
                            "#7201a8"
                          ],
                          [
                            0.3333333333333333,
                            "#9c179e"
                          ],
                          [
                            0.4444444444444444,
                            "#bd3786"
                          ],
                          [
                            0.5555555555555556,
                            "#d8576b"
                          ],
                          [
                            0.6666666666666666,
                            "#ed7953"
                          ],
                          [
                            0.7777777777777778,
                            "#fb9f3a"
                          ],
                          [
                            0.8888888888888888,
                            "#fdca26"
                          ],
                          [
                            1,
                            "#f0f921"
                          ]
                        ]
                      }
                    ],
                    "carpet": [
                      {
                        "baxis": {
                          "endlinecolor": "#2a3f5f",
                          "gridcolor": "white",
                          "linecolor": "white",
                          "minorgridcolor": "white",
                          "startlinecolor": "#2a3f5f"
                        },
                        "type": "carpet",
                        "aaxis": {
                          "endlinecolor": "#2a3f5f",
                          "gridcolor": "white",
                          "linecolor": "white",
                          "minorgridcolor": "white",
                          "startlinecolor": "#2a3f5f"
                        }
                      }
                    ],
                    "contourcarpet": [
                      {
                        "colorbar": {
                          "outlinewidth": 0,
                          "ticks": ""
                        },
                        "type": "contourcarpet"
                      }
                    ],
                    "heatmap": [
                      {
                        "colorbar": {
                          "outlinewidth": 0,
                          "ticks": ""
                        },
                        "type": "heatmap",
                        "colorscale": [
                          [
                            0,
                            "#0d0887"
                          ],
                          [
                            0.1111111111111111,
                            "#46039f"
                          ],
                          [
                            0.2222222222222222,
                            "#7201a8"
                          ],
                          [
                            0.3333333333333333,
                            "#9c179e"
                          ],
                          [
                            0.4444444444444444,
                            "#bd3786"
                          ],
                          [
                            0.5555555555555556,
                            "#d8576b"
                          ],
                          [
                            0.6666666666666666,
                            "#ed7953"
                          ],
                          [
                            0.7777777777777778,
                            "#fb9f3a"
                          ],
                          [
                            0.8888888888888888,
                            "#fdca26"
                          ],
                          [
                            1,
                            "#f0f921"
                          ]
                        ]
                      }
                    ],
                    "scattermapbox": [
                      {
                        "marker": {
                          "colorbar": {
                            "outlinewidth": 0,
                            "ticks": ""
                          }
                        },
                        "type": "scattermapbox"
                      }
                    ],
                    "scatter3d": [
                      {
                        "marker": {
                          "colorbar": {
                            "outlinewidth": 0,
                            "ticks": ""
                          }
                        },
                        "line": {
                          "colorbar": {
                            "outlinewidth": 0,
                            "ticks": ""
                          }
                        },
                        "type": "scatter3d"
                      }
                    ],
                    "scattergl": [
                      {
                        "marker": {
                          "colorbar": {
                            "outlinewidth": 0,
                            "ticks": ""
                          }
                        },
                        "type": "scattergl"
                      }
                    ],
                    "scatterternary": [
                      {
                        "marker": {
                          "colorbar": {
                            "outlinewidth": 0,
                            "ticks": ""
                          }
                        },
                        "type": "scatterternary"
                      }
                    ],
                    "histogram2d": [
                      {
                        "colorbar": {
                          "outlinewidth": 0,
                          "ticks": ""
                        },
                        "type": "histogram2d",
                        "colorscale": [
                          [
                            0,
                            "#0d0887"
                          ],
                          [
                            0.1111111111111111,
                            "#46039f"
                          ],
                          [
                            0.2222222222222222,
                            "#7201a8"
                          ],
                          [
                            0.3333333333333333,
                            "#9c179e"
                          ],
                          [
                            0.4444444444444444,
                            "#bd3786"
                          ],
                          [
                            0.5555555555555556,
                            "#d8576b"
                          ],
                          [
                            0.6666666666666666,
                            "#ed7953"
                          ],
                          [
                            0.7777777777777778,
                            "#fb9f3a"
                          ],
                          [
                            0.8888888888888888,
                            "#fdca26"
                          ],
                          [
                            1,
                            "#f0f921"
                          ]
                        ]
                      }
                    ],
                    "heatmapgl": [
                      {
                        "colorbar": {
                          "outlinewidth": 0,
                          "ticks": ""
                        },
                        "type": "heatmapgl",
                        "colorscale": [
                          [
                            0,
                            "#0d0887"
                          ],
                          [
                            0.1111111111111111,
                            "#46039f"
                          ],
                          [
                            0.2222222222222222,
                            "#7201a8"
                          ],
                          [
                            0.3333333333333333,
                            "#9c179e"
                          ],
                          [
                            0.4444444444444444,
                            "#bd3786"
                          ],
                          [
                            0.5555555555555556,
                            "#d8576b"
                          ],
                          [
                            0.6666666666666666,
                            "#ed7953"
                          ],
                          [
                            0.7777777777777778,
                            "#fb9f3a"
                          ],
                          [
                            0.8888888888888888,
                            "#fdca26"
                          ],
                          [
                            1,
                            "#f0f921"
                          ]
                        ]
                      }
                    ],
                    "scatterpolar": [
                      {
                        "marker": {
                          "colorbar": {
                            "outlinewidth": 0,
                            "ticks": ""
                          }
                        },
                        "type": "scatterpolar"
                      }
                    ],
                    "histogram": [
                      {
                        "marker": {
                          "colorbar": {
                            "outlinewidth": 0,
                            "ticks": ""
                          }
                        },
                        "type": "histogram"
                      }
                    ],
                    "scattergeo": [
                      {
                        "marker": {
                          "colorbar": {
                            "outlinewidth": 0,
                            "ticks": ""
                          }
                        },
                        "type": "scattergeo"
                      }
                    ],
                    "bar": [
                      {
                        "marker": {
                          "line": {
                            "color": "#E5ECF6",
                            "width": 0.5
                          }
                        },
                        "error_x": {
                          "color": "#2a3f5f"
                        },
                        "type": "bar",
                        "error_y": {
                          "color": "#2a3f5f"
                        }
                      }
                    ],
                    "choropleth": [
                      {
                        "colorbar": {
                          "outlinewidth": 0,
                          "ticks": ""
                        },
                        "type": "choropleth"
                      }
                    ],
                    "parcoords": [
                      {
                        "line": {
                          "colorbar": {
                            "outlinewidth": 0,
                            "ticks": ""
                          }
                        },
                        "type": "parcoords"
                      }
                    ],
                    "barpolar": [
                      {
                        "marker": {
                          "line": {
                            "color": "#E5ECF6",
                            "width": 0.5
                          }
                        },
                        "type": "barpolar"
                      }
                    ],
                    "histogram2dcontour": [
                      {
                        "colorbar": {
                          "outlinewidth": 0,
                          "ticks": ""
                        },
                        "type": "histogram2dcontour",
                        "colorscale": [
                          [
                            0,
                            "#0d0887"
                          ],
                          [
                            0.1111111111111111,
                            "#46039f"
                          ],
                          [
                            0.2222222222222222,
                            "#7201a8"
                          ],
                          [
                            0.3333333333333333,
                            "#9c179e"
                          ],
                          [
                            0.4444444444444444,
                            "#bd3786"
                          ],
                          [
                            0.5555555555555556,
                            "#d8576b"
                          ],
                          [
                            0.6666666666666666,
                            "#ed7953"
                          ],
                          [
                            0.7777777777777778,
                            "#fb9f3a"
                          ],
                          [
                            0.8888888888888888,
                            "#fdca26"
                          ],
                          [
                            1,
                            "#f0f921"
                          ]
                        ]
                      }
                    ],
                    "scatter": [
                      {
                        "marker": {
                          "colorbar": {
                            "outlinewidth": 0,
                            "ticks": ""
                          }
                        },
                        "type": "scatter"
                      }
                    ]
                  },
                  "layout": {
                    "shapedefaults": {
                      "line": {
                        "color": "#2a3f5f"
                      }
                    },
                    "polar": {
                      "radialaxis": {
                        "ticks": "",
                        "gridcolor": "white",
                        "linecolor": "white"
                      },
                      "bgcolor": "#E5ECF6",
                      "angularaxis": {
                        "ticks": "",
                        "gridcolor": "white",
                        "linecolor": "white"
                      }
                    },
                    "colorway": [
                      "#636efa",
                      "#EF553B",
                      "#00cc96",
                      "#ab63fa",
                      "#FFA15A",
                      "#19d3f3",
                      "#FF6692",
                      "#B6E880",
                      "#FF97FF",
                      "#FECB52"
                    ],
                    "ternary": {
                      "bgcolor": "#E5ECF6",
                      "baxis": {
                        "ticks": "",
                        "gridcolor": "white",
                        "linecolor": "white"
                      },
                      "caxis": {
                        "ticks": "",
                        "gridcolor": "white",
                        "linecolor": "white"
                      },
                      "aaxis": {
                        "ticks": "",
                        "gridcolor": "white",
                        "linecolor": "white"
                      }
                    },
                    "colorscale": {
                      "diverging": [
                        [
                          0,
                          "#8e0152"
                        ],
                        [
                          0.1,
                          "#c51b7d"
                        ],
                        [
                          0.2,
                          "#de77ae"
                        ],
                        [
                          0.3,
                          "#f1b6da"
                        ],
                        [
                          0.4,
                          "#fde0ef"
                        ],
                        [
                          0.5,
                          "#f7f7f7"
                        ],
                        [
                          0.6,
                          "#e6f5d0"
                        ],
                        [
                          0.7,
                          "#b8e186"
                        ],
                        [
                          0.8,
                          "#7fbc41"
                        ],
                        [
                          0.9,
                          "#4d9221"
                        ],
                        [
                          1,
                          "#276419"
                        ]
                      ],
                      "sequential": [
                        [
                          0,
                          "#0d0887"
                        ],
                        [
                          0.1111111111111111,
                          "#46039f"
                        ],
                        [
                          0.2222222222222222,
                          "#7201a8"
                        ],
                        [
                          0.3333333333333333,
                          "#9c179e"
                        ],
                        [
                          0.4444444444444444,
                          "#bd3786"
                        ],
                        [
                          0.5555555555555556,
                          "#d8576b"
                        ],
                        [
                          0.6666666666666666,
                          "#ed7953"
                        ],
                        [
                          0.7777777777777778,
                          "#fb9f3a"
                        ],
                        [
                          0.8888888888888888,
                          "#fdca26"
                        ],
                        [
                          1,
                          "#f0f921"
                        ]
                      ],
                      "sequentialminus": [
                        [
                          0,
                          "#0d0887"
                        ],
                        [
                          0.1111111111111111,
                          "#46039f"
                        ],
                        [
                          0.2222222222222222,
                          "#7201a8"
                        ],
                        [
                          0.3333333333333333,
                          "#9c179e"
                        ],
                        [
                          0.4444444444444444,
                          "#bd3786"
                        ],
                        [
                          0.5555555555555556,
                          "#d8576b"
                        ],
                        [
                          0.6666666666666666,
                          "#ed7953"
                        ],
                        [
                          0.7777777777777778,
                          "#fb9f3a"
                        ],
                        [
                          0.8888888888888888,
                          "#fdca26"
                        ],
                        [
                          1,
                          "#f0f921"
                        ]
                      ]
                    },
                    "paper_bgcolor": "white",
                    "plot_bgcolor": "#E5ECF6",
                    "title": {
                      "x": 0.05
                    },
                    "scene": {
                      "zaxis": {
                        "linecolor": "white",
                        "ticks": "",
                        "gridwidth": 2,
                        "showbackground": true,
                        "zerolinecolor": "white",
                        "gridcolor": "white",
                        "backgroundcolor": "#E5ECF6"
                      },
                      "xaxis": {
                        "linecolor": "white",
                        "ticks": "",
                        "gridwidth": 2,
                        "showbackground": true,
                        "zerolinecolor": "white",
                        "gridcolor": "white",
                        "backgroundcolor": "#E5ECF6"
                      },
                      "yaxis": {
                        "linecolor": "white",
                        "ticks": "",
                        "gridwidth": 2,
                        "showbackground": true,
                        "zerolinecolor": "white",
                        "gridcolor": "white",
                        "backgroundcolor": "#E5ECF6"
                      }
                    },
                    "yaxis": {
                      "automargin": true,
                      "title": {
                        "standoff": 15
                      },
                      "zerolinewidth": 2,
                      "ticks": "",
                      "zerolinecolor": "white",
                      "gridcolor": "white",
                      "linecolor": "white"
                    },
                    "coloraxis": {
                      "colorbar": {
                        "outlinewidth": 0,
                        "ticks": ""
                      }
                    },
                    "hoverlabel": {
                      "align": "left"
                    },
                    "xaxis": {
                      "automargin": true,
                      "title": {
                        "standoff": 15
                      },
                      "zerolinewidth": 2,
                      "ticks": "",
                      "zerolinecolor": "white",
                      "gridcolor": "white",
                      "linecolor": "white"
                    },
                    "mapbox": {
                      "style": "light"
                    },
                    "hovermode": "closest",
                    "font": {
                      "color": "#2a3f5f"
                    },
                    "geo": {
                      "showland": true,
                      "bgcolor": "white",
                      "showlakes": true,
                      "landcolor": "#E5ECF6",
                      "subunitcolor": "white",
                      "lakecolor": "white"
                    },
                    "annotationdefaults": {
                      "arrowwidth": 1,
                      "arrowhead": 0,
                      "arrowcolor": "#2a3f5f"
                    }
                  }
                },
                "yaxis": {
                  "domain": [
                    0,
                    1
                  ],
                  "anchor": "x",
                  "title": {
                    "text": "probB"
                  }
                },
                "xaxis2": {
                  "matches": "x",
                  "domain": [
                    0.51,
                    1
                  ],
                  "anchor": "y2",
                  "title": {
                    "text": "age"
                  }
                },
                "annotations": [
                  {
                    "yanchor": "bottom",
                    "xref": "paper",
                    "xanchor": "center",
                    "yref": "paper",
                    "text": "pred=1",
                    "y": 1,
                    "x": 0.245,
                    "font": {},
                    "showarrow": false
                  },
                  {
                    "yanchor": "bottom",
                    "xref": "paper",
                    "xanchor": "center",
                    "yref": "paper",
                    "text": "pred=0",
                    "y": 1,
                    "x": 0.755,
                    "font": {},
                    "showarrow": false
                  }
                ],
                "yaxis2": {
                  "matches": "y",
                  "domain": [
                    0,
                    1
                  ],
                  "showticklabels": false,
                  "anchor": "x2"
                },
                "xaxis": {
                  "domain": [
                    0,
                    0.49
                  ],
                  "anchor": "y",
                  "title": {
                    "text": "age"
                  }
                },
                "margin": {
                  "t": 60
                },
                "legend": {
                  "tracegroupgap": 0
                }
              }
            }
          },
          "metadata": {}
        }
      ],
      "execution_count": 338,
      "metadata": {
        "collapsed": false,
        "jupyter": {
          "source_hidden": false,
          "outputs_hidden": false
        },
        "nteract": {
          "transient": {
            "deleting": false
          }
        }
      }
    },
    {
      "cell_type": "code",
      "source": [
        "auxpreob = prob.groupby('age').mean()\n",
        "\n",
        "plt.plot(auxpreob.index.values, auxpreob.probB.values);\n",
        "#plt.plot(auxpreob.index.values, auxpreob.probA.values, '--k');\n",
        "plt.grid(); plt.xlabel('idade'); plt.ylabel(\"p med\");"
      ],
      "outputs": [
        {
          "output_type": "display_data",
          "data": {
            "image/png": "[encoded data removed]",
            "text/plain": [
              "<Figure size 432x288 with 1 Axes>"
            ]
          },
          "metadata": {
            "needs_background": "light"
          }
        }
      ],
      "execution_count": 354,
      "metadata": {
        "collapsed": false,
        "jupyter": {
          "source_hidden": false,
          "outputs_hidden": false
        },
        "nteract": {
          "transient": {
            "deleting": false
          }
        }
      }
    },
    {
      "cell_type": "code",
      "source": [
        "auxpreob = prob.groupby('age').min()\n",
        "\n",
        "plt.plot(auxpreob.index.values, auxpreob.probB.values, \"ob\", label= \"min\");\n",
        "#plt.plot(auxpreob.index.values, auxpreob.probA.values, '--k');\n",
        "plt.grid(); plt.xlabel('idade'); plt.ylabel(\"p\");\n",
        "\n",
        "auxpreob = prob.groupby('age').max()\n",
        "\n",
        "plt.plot(auxpreob.index.values, auxpreob.probB.values, \"or\", label=\"max\");\n",
        "#plt.plot(auxpreob.index.values, auxpreob.probA.values, '--k');\n",
        "plt.xlabel('idade'); plt.ylabel(\"p\"); plt.legend();\n"
      ],
      "outputs": [
        {
          "output_type": "display_data",
          "data": {
            "image/png": "[encoded data removed]",
            "text/plain": [
              "<Figure size 432x288 with 1 Axes>"
            ]
          },
          "metadata": {
            "needs_background": "light"
          }
        }
      ],
      "execution_count": 365,
      "metadata": {
        "collapsed": false,
        "jupyter": {
          "source_hidden": false,
          "outputs_hidden": false
        },
        "nteract": {
          "transient": {
            "deleting": false
          }
        }
      }
    },
    {
      "cell_type": "code",
      "source": [
        "print metrics.classification_report(y,y_p)\n",
        "GaussScore = {\n",
        "    'precision': metrics.precision_score(y,y_p),\n",
        "    'recall': metrics.recall_score(y,y_p),\n",
        "    'f1': metrics.f1_score(y,y_p)}"
      ],
      "outputs": [
        {
          "output_type": "stream",
          "name": "stdout",
          "text": [
            "              precision    recall  f1-score   support\n",
            "\n",
            "           0       0.79      0.75      0.77       302\n",
            "           1       0.56      0.62      0.59       160\n",
            "\n",
            "   micro avg       0.70      0.70      0.70       462\n",
            "   macro avg       0.67      0.68      0.68       462\n",
            "weighted avg       0.71      0.70      0.70       462\n",
            "\n"
          ]
        }
      ],
      "execution_count": 285,
      "metadata": {
        "collapsed": false,
        "jupyter": {
          "source_hidden": false,
          "outputs_hidden": false
        },
        "nteract": {
          "transient": {
            "deleting": false
          }
        }
      }
    },
    {
      "cell_type": "code",
      "source": [
        "print metrics.confusion_matrix(y,y_p)"
      ],
      "outputs": [
        {
          "output_type": "stream",
          "name": "stdout",
          "text": [
            "[[225  77]\n",
            " [ 61  99]]\n"
          ]
        }
      ],
      "execution_count": 286,
      "metadata": {
        "collapsed": false,
        "jupyter": {
          "source_hidden": false,
          "outputs_hidden": false
        },
        "nteract": {
          "transient": {
            "deleting": false
          }
        }
      }
    },
    {
      "cell_type": "markdown",
      "source": [
        "Refazendo o SGD para classificacao:"
      ],
      "metadata": {
        "nteract": {
          "transient": {
            "deleting": false
          }
        }
      }
    },
    {
      "cell_type": "code",
      "source": [
        "kernelSGD.fit(X_train, y_train);\n",
        "y_p = kernelSGD.predict(X);"
      ],
      "outputs": [],
      "execution_count": 287,
      "metadata": {
        "collapsed": false,
        "jupyter": {
          "source_hidden": false,
          "outputs_hidden": false
        },
        "nteract": {
          "transient": {
            "deleting": false
          }
        }
      }
    },
    {
      "cell_type": "code",
      "source": [
        "print metrics.classification_report(y,y_p)\n",
        "SGDScore = {\n",
        "    'precision': metrics.precision_score(y,y_p),\n",
        "    'recall': metrics.recall_score(y,y_p),\n",
        "    'f1': metrics.f1_score(y,y_p)}"
      ],
      "outputs": [
        {
          "output_type": "stream",
          "name": "stdout",
          "text": [
            "              precision    recall  f1-score   support\n",
            "\n",
            "           0       0.85      0.48      0.62       302\n",
            "           1       0.46      0.84      0.60       160\n",
            "\n",
            "   micro avg       0.61      0.61      0.61       462\n",
            "   macro avg       0.66      0.66      0.61       462\n",
            "weighted avg       0.71      0.61      0.61       462\n",
            "\n"
          ]
        }
      ],
      "execution_count": 288,
      "metadata": {
        "collapsed": false,
        "jupyter": {
          "source_hidden": false,
          "outputs_hidden": false
        },
        "nteract": {
          "transient": {
            "deleting": false
          }
        }
      }
    },
    {
      "cell_type": "code",
      "source": [
        "%precision 3\n",
        "display((GaussScore, SGDScore, LogScore))"
      ],
      "outputs": [
        {
          "output_type": "display_data",
          "data": {
            "text/plain": [
              "({'f1': 0.5892857142857144, 'precision': 0.5625, 'recall': 0.61875},\n",
              " {'f1': 0.5955555555555556,\n",
              "  'precision': 0.46206896551724136,\n",
              "  'recall': 0.8375},\n",
              " {'f1': 0.5783132530120482, 'precision': 0.5581395348837209, 'recall': 0.6})"
            ]
          },
          "metadata": {}
        }
      ],
      "execution_count": 367,
      "metadata": {
        "collapsed": false,
        "jupyter": {
          "source_hidden": false,
          "outputs_hidden": false
        },
        "nteract": {
          "transient": {
            "deleting": false
          }
        }
      }
    },
    {
      "cell_type": "code",
      "source": [
        "x1=np.arange(1,4)*5\n",
        "p='precision'\n",
        "plt.bar(height=[GaussScore[p], SGDScore[p], LogScore[p]], x=x1, label= p)\n",
        "\n",
        "p='recall'\n",
        "plt.bar(height=[GaussScore[p], SGDScore[p], LogScore[p]], x=x1+1, label= p)\n",
        " \n",
        "p='f1'\n",
        "plt.bar(height=[GaussScore[p], SGDScore[p], LogScore[p]], x=x1+2, label= p)\n",
        "\n",
        "plt.xticks(x1+1, ('BayScore', 'SGDScore', 'LogScore')); plt.grid(); plt.legend()\n",
        "\n",
        "plt.axis([3,20,0,1]);"
      ],
      "outputs": [
        {
          "output_type": "display_data",
          "data": {
            "image/png": "[encoded data removed]",
            "text/plain": [
              "<Figure size 432x288 with 1 Axes>"
            ]
          },
          "metadata": {
            "needs_background": "light"
          }
        }
      ],
      "execution_count": 292,
      "metadata": {
        "collapsed": false,
        "jupyter": {
          "source_hidden": false,
          "outputs_hidden": false
        },
        "nteract": {
          "transient": {
            "deleting": false
          }
        }
      }
    },
    {
      "cell_type": "markdown",
      "source": [
        "### analise exploratoria\n",
        "\n",
        "obesidade e idade\n",
        "\n"
      ],
      "metadata": {
        "nteract": {
          "transient": {
            "deleting": false
          }
        }
      }
    },
    {
      "cell_type": "code",
      "source": [
        "px.histogram(data_frame=dados, x='age', nbins=20, facet_col='chd')"
      ],
      "outputs": [
        {
          "output_type": "display_data",
          "data": {
            "text/html": [
              "<div>\n",
              "        \n",
              "        \n",
              "            <div id=\"8bee7f29-7f8f-4a9c-943d-0f8822df9c53\" class=\"plotly-graph-div\" style=\"height:525px; width:100%;\"></div>\n",
              "            <script type=\"text/javascript\">\n",
              "                require([\"plotly\"], function(Plotly) {\n",
              "                    window.PLOTLYENV=window.PLOTLYENV || {};\n",
              "                    \n",
              "                if (document.getElementById(\"8bee7f29-7f8f-4a9c-943d-0f8822df9c53\")) {\n",
              "                    Plotly.newPlot(\n",
              "                        '8bee7f29-7f8f-4a9c-943d-0f8822df9c53',\n",
              "                        [{\"alignmentgroup\": \"True\", \"bingroup\": \"x\", \"hoverlabel\": {\"namelength\": 0}, \"hovertemplate\": \"chd=1<br>age=%{x}<br>count=%{y}\", \"legendgroup\": \"\", \"marker\": {\"color\": \"#636efa\"}, \"name\": \"\", \"nbinsx\": 20, \"offsetgroup\": \"\", \"orientation\": \"v\", \"showlegend\": false, \"type\": \"histogram\", \"x\": [52, 63, 58, 49, 58, 53, 60, 40, 53, 62, 59, 20, 42, 61, 63, 45, 46, 59, 41, 28, 58, 41, 51, 58, 33, 42, 31, 38, 32, 55, 56, 45, 53, 55, 57, 49, 64, 49, 51, 61, 54, 54, 61, 59, 32, 61, 56, 59, 60, 58, 30, 52, 54, 25, 43, 33, 61, 41, 55, 43, 62, 55, 43, 61, 60, 39, 48, 33, 64, 40, 49, 39, 54, 31, 40, 62, 45, 46, 45, 32, 52, 64, 50, 58, 58, 51, 45, 55, 60, 56, 58, 63, 54, 37, 58, 17, 52, 45, 55, 41, 55, 63, 64, 28, 50, 41, 38, 56, 42, 46, 32, 59, 59, 59, 59, 59, 64, 36, 51, 59, 59, 58, 52, 53, 26, 53, 43, 58, 61, 58, 62, 52, 64, 64, 38, 54, 53, 53, 39, 50, 48, 55, 62, 58, 61, 60, 62, 55, 63, 39, 55, 61, 42, 34, 48, 51, 39, 27, 52, 46], \"xaxis\": \"x\", \"yaxis\": \"y\"}, {\"alignmentgroup\": \"True\", \"bingroup\": \"x\", \"hoverlabel\": {\"namelength\": 0}, \"hovertemplate\": \"chd=0<br>age=%{x}<br>count=%{y}\", \"legendgroup\": \"\", \"marker\": {\"color\": \"#636efa\"}, \"name\": \"\", \"nbinsx\": 20, \"offsetgroup\": \"\", \"orientation\": \"v\", \"showlegend\": false, \"type\": \"histogram\", \"x\": [46, 45, 38, 29, 17, 15, 53, 46, 49, 44, 50, 58, 50, 48, 56, 48, 32, 46, 29, 30, 15, 17, 48, 16, 30, 42, 49, 53, 48, 28, 18, 61, 33, 44, 57, 38, 17, 54, 30, 27, 33, 15, 26, 36, 20, 34, 40, 55, 39, 17, 45, 38, 41, 55, 21, 29, 56, 62, 29, 39, 39, 50, 27, 46, 31, 29, 64, 42, 18, 16, 37, 48, 42, 27, 60, 28, 33, 45, 28, 38, 64, 62, 54, 40, 32, 28, 20, 54, 38, 58, 40, 40, 31, 55, 52, 24, 20, 17, 53, 38, 31, 16, 21, 16, 49, 25, 48, 41, 32, 47, 61, 62, 37, 17, 24, 56, 56, 51, 63, 39, 63, 23, 18, 21, 17, 42, 27, 23, 33, 64, 58, 40, 18, 60, 59, 60, 60, 44, 53, 18, 26, 25, 57, 16, 60, 56, 42, 62, 30, 29, 61, 57, 27, 16, 47, 41, 57, 60, 64, 48, 17, 42, 46, 49, 44, 20, 61, 35, 18, 17, 57, 16, 24, 43, 43, 16, 16, 42, 27, 17, 19, 17, 16, 16, 16, 44, 34, 17, 17, 53, 45, 53, 27, 49, 45, 37, 34, 46, 44, 50, 59, 38, 26, 51, 59, 38, 61, 55, 62, 19, 39, 55, 17, 45, 43, 59, 27, 30, 40, 31, 37, 61, 60, 49, 36, 54, 24, 49, 50, 32, 34, 48, 60, 28, 24, 30, 38, 42, 41, 32, 64, 29, 45, 31, 53, 38, 52, 44, 31, 44, 59, 26, 61, 64, 48, 27, 62, 47, 49, 49, 57, 51, 40, 16, 60, 46, 60, 45, 48, 41, 43, 63, 33, 33, 49, 34, 32, 16, 16, 16, 18, 16, 16, 17, 16, 31, 40, 32, 16, 52, 37, 27, 25, 17, 20, 24, 18, 42, 57, 58, 55, 40], \"xaxis\": \"x2\", \"yaxis\": \"y2\"}],\n",
              "                        {\"annotations\": [{\"font\": {}, \"showarrow\": false, \"text\": \"chd=1\", \"x\": 0.245, \"xanchor\": \"center\", \"xref\": \"paper\", \"y\": 1.0, \"yanchor\": \"bottom\", \"yref\": \"paper\"}, {\"font\": {}, \"showarrow\": false, \"text\": \"chd=0\", \"x\": 0.755, \"xanchor\": \"center\", \"xref\": \"paper\", \"y\": 1.0, \"yanchor\": \"bottom\", \"yref\": \"paper\"}], \"barmode\": \"relative\", \"legend\": {\"tracegroupgap\": 0}, \"margin\": {\"t\": 60}, \"template\": {\"data\": {\"bar\": [{\"error_x\": {\"color\": \"#2a3f5f\"}, \"error_y\": {\"color\": \"#2a3f5f\"}, \"marker\": {\"line\": {\"color\": \"#E5ECF6\", \"width\": 0.5}}, \"type\": \"bar\"}], \"barpolar\": [{\"marker\": {\"line\": {\"color\": \"#E5ECF6\", \"width\": 0.5}}, \"type\": \"barpolar\"}], \"carpet\": [{\"aaxis\": {\"endlinecolor\": \"#2a3f5f\", \"gridcolor\": \"white\", \"linecolor\": \"white\", \"minorgridcolor\": \"white\", \"startlinecolor\": \"#2a3f5f\"}, \"baxis\": {\"endlinecolor\": \"#2a3f5f\", \"gridcolor\": \"white\", \"linecolor\": \"white\", \"minorgridcolor\": \"white\", \"startlinecolor\": \"#2a3f5f\"}, \"type\": \"carpet\"}], \"choropleth\": [{\"colorbar\": {\"outlinewidth\": 0, \"ticks\": \"\"}, \"type\": \"choropleth\"}], \"contour\": [{\"colorbar\": {\"outlinewidth\": 0, \"ticks\": \"\"}, \"colorscale\": [[0.0, \"#0d0887\"], [0.1111111111111111, \"#46039f\"], [0.2222222222222222, \"#7201a8\"], [0.3333333333333333, \"#9c179e\"], [0.4444444444444444, \"#bd3786\"], [0.5555555555555556, \"#d8576b\"], [0.6666666666666666, \"#ed7953\"], [0.7777777777777778, \"#fb9f3a\"], [0.8888888888888888, \"#fdca26\"], [1.0, \"#f0f921\"]], \"type\": \"contour\"}], \"contourcarpet\": [{\"colorbar\": {\"outlinewidth\": 0, \"ticks\": \"\"}, \"type\": \"contourcarpet\"}], \"heatmap\": [{\"colorbar\": {\"outlinewidth\": 0, \"ticks\": \"\"}, \"colorscale\": [[0.0, \"#0d0887\"], [0.1111111111111111, \"#46039f\"], [0.2222222222222222, \"#7201a8\"], [0.3333333333333333, \"#9c179e\"], [0.4444444444444444, \"#bd3786\"], [0.5555555555555556, \"#d8576b\"], [0.6666666666666666, \"#ed7953\"], [0.7777777777777778, \"#fb9f3a\"], [0.8888888888888888, \"#fdca26\"], [1.0, \"#f0f921\"]], \"type\": \"heatmap\"}], \"heatmapgl\": [{\"colorbar\": {\"outlinewidth\": 0, \"ticks\": \"\"}, \"colorscale\": [[0.0, \"#0d0887\"], [0.1111111111111111, \"#46039f\"], [0.2222222222222222, \"#7201a8\"], [0.3333333333333333, \"#9c179e\"], [0.4444444444444444, \"#bd3786\"], [0.5555555555555556, \"#d8576b\"], [0.6666666666666666, \"#ed7953\"], [0.7777777777777778, \"#fb9f3a\"], [0.8888888888888888, \"#fdca26\"], [1.0, \"#f0f921\"]], \"type\": \"heatmapgl\"}], \"histogram\": [{\"marker\": {\"colorbar\": {\"outlinewidth\": 0, \"ticks\": \"\"}}, \"type\": \"histogram\"}], \"histogram2d\": [{\"colorbar\": {\"outlinewidth\": 0, \"ticks\": \"\"}, \"colorscale\": [[0.0, \"#0d0887\"], [0.1111111111111111, \"#46039f\"], [0.2222222222222222, \"#7201a8\"], [0.3333333333333333, \"#9c179e\"], [0.4444444444444444, \"#bd3786\"], [0.5555555555555556, \"#d8576b\"], [0.6666666666666666, \"#ed7953\"], [0.7777777777777778, \"#fb9f3a\"], [0.8888888888888888, \"#fdca26\"], [1.0, \"#f0f921\"]], \"type\": \"histogram2d\"}], \"histogram2dcontour\": [{\"colorbar\": {\"outlinewidth\": 0, \"ticks\": \"\"}, \"colorscale\": [[0.0, \"#0d0887\"], [0.1111111111111111, \"#46039f\"], [0.2222222222222222, \"#7201a8\"], [0.3333333333333333, \"#9c179e\"], [0.4444444444444444, \"#bd3786\"], [0.5555555555555556, \"#d8576b\"], [0.6666666666666666, \"#ed7953\"], [0.7777777777777778, \"#fb9f3a\"], [0.8888888888888888, \"#fdca26\"], [1.0, \"#f0f921\"]], \"type\": \"histogram2dcontour\"}], \"mesh3d\": [{\"colorbar\": {\"outlinewidth\": 0, \"ticks\": \"\"}, \"type\": \"mesh3d\"}], \"parcoords\": [{\"line\": {\"colorbar\": {\"outlinewidth\": 0, \"ticks\": \"\"}}, \"type\": \"parcoords\"}], \"pie\": [{\"automargin\": true, \"type\": \"pie\"}], \"scatter\": [{\"marker\": {\"colorbar\": {\"outlinewidth\": 0, \"ticks\": \"\"}}, \"type\": \"scatter\"}], \"scatter3d\": [{\"line\": {\"colorbar\": {\"outlinewidth\": 0, \"ticks\": \"\"}}, \"marker\": {\"colorbar\": {\"outlinewidth\": 0, \"ticks\": \"\"}}, \"type\": \"scatter3d\"}], \"scattercarpet\": [{\"marker\": {\"colorbar\": {\"outlinewidth\": 0, \"ticks\": \"\"}}, \"type\": \"scattercarpet\"}], \"scattergeo\": [{\"marker\": {\"colorbar\": {\"outlinewidth\": 0, \"ticks\": \"\"}}, \"type\": \"scattergeo\"}], \"scattergl\": [{\"marker\": {\"colorbar\": {\"outlinewidth\": 0, \"ticks\": \"\"}}, \"type\": \"scattergl\"}], \"scattermapbox\": [{\"marker\": {\"colorbar\": {\"outlinewidth\": 0, \"ticks\": \"\"}}, \"type\": \"scattermapbox\"}], \"scatterpolar\": [{\"marker\": {\"colorbar\": {\"outlinewidth\": 0, \"ticks\": \"\"}}, \"type\": \"scatterpolar\"}], \"scatterpolargl\": [{\"marker\": {\"colorbar\": {\"outlinewidth\": 0, \"ticks\": \"\"}}, \"type\": \"scatterpolargl\"}], \"scatterternary\": [{\"marker\": {\"colorbar\": {\"outlinewidth\": 0, \"ticks\": \"\"}}, \"type\": \"scatterternary\"}], \"surface\": [{\"colorbar\": {\"outlinewidth\": 0, \"ticks\": \"\"}, \"colorscale\": [[0.0, \"#0d0887\"], [0.1111111111111111, \"#46039f\"], [0.2222222222222222, \"#7201a8\"], [0.3333333333333333, \"#9c179e\"], [0.4444444444444444, \"#bd3786\"], [0.5555555555555556, \"#d8576b\"], [0.6666666666666666, \"#ed7953\"], [0.7777777777777778, \"#fb9f3a\"], [0.8888888888888888, \"#fdca26\"], [1.0, \"#f0f921\"]], \"type\": \"surface\"}], \"table\": [{\"cells\": {\"fill\": {\"color\": \"#EBF0F8\"}, \"line\": {\"color\": \"white\"}}, \"header\": {\"fill\": {\"color\": \"#C8D4E3\"}, \"line\": {\"color\": \"white\"}}, \"type\": \"table\"}]}, \"layout\": {\"annotationdefaults\": {\"arrowcolor\": \"#2a3f5f\", \"arrowhead\": 0, \"arrowwidth\": 1}, \"coloraxis\": {\"colorbar\": {\"outlinewidth\": 0, \"ticks\": \"\"}}, \"colorscale\": {\"diverging\": [[0, \"#8e0152\"], [0.1, \"#c51b7d\"], [0.2, \"#de77ae\"], [0.3, \"#f1b6da\"], [0.4, \"#fde0ef\"], [0.5, \"#f7f7f7\"], [0.6, \"#e6f5d0\"], [0.7, \"#b8e186\"], [0.8, \"#7fbc41\"], [0.9, \"#4d9221\"], [1, \"#276419\"]], \"sequential\": [[0.0, \"#0d0887\"], [0.1111111111111111, \"#46039f\"], [0.2222222222222222, \"#7201a8\"], [0.3333333333333333, \"#9c179e\"], [0.4444444444444444, \"#bd3786\"], [0.5555555555555556, \"#d8576b\"], [0.6666666666666666, \"#ed7953\"], [0.7777777777777778, \"#fb9f3a\"], [0.8888888888888888, \"#fdca26\"], [1.0, \"#f0f921\"]], \"sequentialminus\": [[0.0, \"#0d0887\"], [0.1111111111111111, \"#46039f\"], [0.2222222222222222, \"#7201a8\"], [0.3333333333333333, \"#9c179e\"], [0.4444444444444444, \"#bd3786\"], [0.5555555555555556, \"#d8576b\"], [0.6666666666666666, \"#ed7953\"], [0.7777777777777778, \"#fb9f3a\"], [0.8888888888888888, \"#fdca26\"], [1.0, \"#f0f921\"]]}, \"colorway\": [\"#636efa\", \"#EF553B\", \"#00cc96\", \"#ab63fa\", \"#FFA15A\", \"#19d3f3\", \"#FF6692\", \"#B6E880\", \"#FF97FF\", \"#FECB52\"], \"font\": {\"color\": \"#2a3f5f\"}, \"geo\": {\"bgcolor\": \"white\", \"lakecolor\": \"white\", \"landcolor\": \"#E5ECF6\", \"showlakes\": true, \"showland\": true, \"subunitcolor\": \"white\"}, \"hoverlabel\": {\"align\": \"left\"}, \"hovermode\": \"closest\", \"mapbox\": {\"style\": \"light\"}, \"paper_bgcolor\": \"white\", \"plot_bgcolor\": \"#E5ECF6\", \"polar\": {\"angularaxis\": {\"gridcolor\": \"white\", \"linecolor\": \"white\", \"ticks\": \"\"}, \"bgcolor\": \"#E5ECF6\", \"radialaxis\": {\"gridcolor\": \"white\", \"linecolor\": \"white\", \"ticks\": \"\"}}, \"scene\": {\"xaxis\": {\"backgroundcolor\": \"#E5ECF6\", \"gridcolor\": \"white\", \"gridwidth\": 2, \"linecolor\": \"white\", \"showbackground\": true, \"ticks\": \"\", \"zerolinecolor\": \"white\"}, \"yaxis\": {\"backgroundcolor\": \"#E5ECF6\", \"gridcolor\": \"white\", \"gridwidth\": 2, \"linecolor\": \"white\", \"showbackground\": true, \"ticks\": \"\", \"zerolinecolor\": \"white\"}, \"zaxis\": {\"backgroundcolor\": \"#E5ECF6\", \"gridcolor\": \"white\", \"gridwidth\": 2, \"linecolor\": \"white\", \"showbackground\": true, \"ticks\": \"\", \"zerolinecolor\": \"white\"}}, \"shapedefaults\": {\"line\": {\"color\": \"#2a3f5f\"}}, \"ternary\": {\"aaxis\": {\"gridcolor\": \"white\", \"linecolor\": \"white\", \"ticks\": \"\"}, \"baxis\": {\"gridcolor\": \"white\", \"linecolor\": \"white\", \"ticks\": \"\"}, \"bgcolor\": \"#E5ECF6\", \"caxis\": {\"gridcolor\": \"white\", \"linecolor\": \"white\", \"ticks\": \"\"}}, \"title\": {\"x\": 0.05}, \"xaxis\": {\"automargin\": true, \"gridcolor\": \"white\", \"linecolor\": \"white\", \"ticks\": \"\", \"title\": {\"standoff\": 15}, \"zerolinecolor\": \"white\", \"zerolinewidth\": 2}, \"yaxis\": {\"automargin\": true, \"gridcolor\": \"white\", \"linecolor\": \"white\", \"ticks\": \"\", \"title\": {\"standoff\": 15}, \"zerolinecolor\": \"white\", \"zerolinewidth\": 2}}}, \"xaxis\": {\"anchor\": \"y\", \"domain\": [0.0, 0.49], \"title\": {\"text\": \"age\"}}, \"xaxis2\": {\"anchor\": \"y2\", \"domain\": [0.51, 1.0], \"matches\": \"x\", \"title\": {\"text\": \"age\"}}, \"yaxis\": {\"anchor\": \"x\", \"domain\": [0.0, 1.0], \"title\": {\"text\": \"count\"}}, \"yaxis2\": {\"anchor\": \"x2\", \"domain\": [0.0, 1.0], \"matches\": \"y\", \"showticklabels\": false}},\n",
              "                        {\"responsive\": true}\n",
              "                    ).then(function(){\n",
              "                            \n",
              "var gd = document.getElementById('8bee7f29-7f8f-4a9c-943d-0f8822df9c53');\n",
              "var x = new MutationObserver(function (mutations, observer) {{\n",
              "        var display = window.getComputedStyle(gd).display;\n",
              "        if (!display || display === 'none') {{\n",
              "            console.log([gd, 'removed!']);\n",
              "            Plotly.purge(gd);\n",
              "            observer.disconnect();\n",
              "        }}\n",
              "}});\n",
              "\n",
              "// Listen for the removal of the full notebook cells\n",
              "var notebookContainer = gd.closest('#notebook-container');\n",
              "if (notebookContainer) {{\n",
              "    x.observe(notebookContainer, {childList: true});\n",
              "}}\n",
              "\n",
              "// Listen for the clearing of the current output cell\n",
              "var outputEl = gd.closest('.output');\n",
              "if (outputEl) {{\n",
              "    x.observe(outputEl, {childList: true});\n",
              "}}\n",
              "\n",
              "                        })\n",
              "                };\n",
              "                });\n",
              "            </script>\n",
              "        </div>"
            ],
            "application/vnd.plotly.v1+json": {
              "config": {
                "plotlyServerURL": "https://plot.ly"
              },
              "data": [
                {
                  "hovertemplate": "chd=1<br>age=%{x}<br>count=%{y}",
                  "showlegend": false,
                  "legendgroup": "",
                  "name": "",
                  "yaxis": "y",
                  "hoverlabel": {
                    "namelength": 0
                  },
                  "bingroup": "x",
                  "nbinsx": 20,
                  "offsetgroup": "",
                  "xaxis": "x",
                  "marker": {
                    "color": "#636efa"
                  },
                  "x": [
                    52,
                    63,
                    58,
                    49,
                    58,
                    53,
                    60,
                    40,
                    53,
                    62,
                    59,
                    20,
                    42,
                    61,
                    63,
                    45,
                    46,
                    59,
                    41,
                    28,
                    58,
                    41,
                    51,
                    58,
                    33,
                    42,
                    31,
                    38,
                    32,
                    55,
                    56,
                    45,
                    53,
                    55,
                    57,
                    49,
                    64,
                    49,
                    51,
                    61,
                    54,
                    54,
                    61,
                    59,
                    32,
                    61,
                    56,
                    59,
                    60,
                    58,
                    30,
                    52,
                    54,
                    25,
                    43,
                    33,
                    61,
                    41,
                    55,
                    43,
                    62,
                    55,
                    43,
                    61,
                    60,
                    39,
                    48,
                    33,
                    64,
                    40,
                    49,
                    39,
                    54,
                    31,
                    40,
                    62,
                    45,
                    46,
                    45,
                    32,
                    52,
                    64,
                    50,
                    58,
                    58,
                    51,
                    45,
                    55,
                    60,
                    56,
                    58,
                    63,
                    54,
                    37,
                    58,
                    17,
                    52,
                    45,
                    55,
                    41,
                    55,
                    63,
                    64,
                    28,
                    50,
                    41,
                    38,
                    56,
                    42,
                    46,
                    32,
                    59,
                    59,
                    59,
                    59,
                    59,
                    64,
                    36,
                    51,
                    59,
                    59,
                    58,
                    52,
                    53,
                    26,
                    53,
                    43,
                    58,
                    61,
                    58,
                    62,
                    52,
                    64,
                    64,
                    38,
                    54,
                    53,
                    53,
                    39,
                    50,
                    48,
                    55,
                    62,
                    58,
                    61,
                    60,
                    62,
                    55,
                    63,
                    39,
                    55,
                    61,
                    42,
                    34,
                    48,
                    51,
                    39,
                    27,
                    52,
                    46
                  ],
                  "alignmentgroup": "True",
                  "type": "histogram",
                  "orientation": "v"
                },
                {
                  "hovertemplate": "chd=0<br>age=%{x}<br>count=%{y}",
                  "showlegend": false,
                  "legendgroup": "",
                  "name": "",
                  "yaxis": "y2",
                  "hoverlabel": {
                    "namelength": 0
                  },
                  "bingroup": "x",
                  "nbinsx": 20,
                  "offsetgroup": "",
                  "xaxis": "x2",
                  "marker": {
                    "color": "#636efa"
                  },
                  "x": [
                    46,
                    45,
                    38,
                    29,
                    17,
                    15,
                    53,
                    46,
                    49,
                    44,
                    50,
                    58,
                    50,
                    48,
                    56,
                    48,
                    32,
                    46,
                    29,
                    30,
                    15,
                    17,
                    48,
                    16,
                    30,
                    42,
                    49,
                    53,
                    48,
                    28,
                    18,
                    61,
                    33,
                    44,
                    57,
                    38,
                    17,
                    54,
                    30,
                    27,
                    33,
                    15,
                    26,
                    36,
                    20,
                    34,
                    40,
                    55,
                    39,
                    17,
                    45,
                    38,
                    41,
                    55,
                    21,
                    29,
                    56,
                    62,
                    29,
                    39,
                    39,
                    50,
                    27,
                    46,
                    31,
                    29,
                    64,
                    42,
                    18,
                    16,
                    37,
                    48,
                    42,
                    27,
                    60,
                    28,
                    33,
                    45,
                    28,
                    38,
                    64,
                    62,
                    54,
                    40,
                    32,
                    28,
                    20,
                    54,
                    38,
                    58,
                    40,
                    40,
                    31,
                    55,
                    52,
                    24,
                    20,
                    17,
                    53,
                    38,
                    31,
                    16,
                    21,
                    16,
                    49,
                    25,
                    48,
                    41,
                    32,
                    47,
                    61,
                    62,
                    37,
                    17,
                    24,
                    56,
                    56,
                    51,
                    63,
                    39,
                    63,
                    23,
                    18,
                    21,
                    17,
                    42,
                    27,
                    23,
                    33,
                    64,
                    58,
                    40,
                    18,
                    60,
                    59,
                    60,
                    60,
                    44,
                    53,
                    18,
                    26,
                    25,
                    57,
                    16,
                    60,
                    56,
                    42,
                    62,
                    30,
                    29,
                    61,
                    57,
                    27,
                    16,
                    47,
                    41,
                    57,
                    60,
                    64,
                    48,
                    17,
                    42,
                    46,
                    49,
                    44,
                    20,
                    61,
                    35,
                    18,
                    17,
                    57,
                    16,
                    24,
                    43,
                    43,
                    16,
                    16,
                    42,
                    27,
                    17,
                    19,
                    17,
                    16,
                    16,
                    16,
                    44,
                    34,
                    17,
                    17,
                    53,
                    45,
                    53,
                    27,
                    49,
                    45,
                    37,
                    34,
                    46,
                    44,
                    50,
                    59,
                    38,
                    26,
                    51,
                    59,
                    38,
                    61,
                    55,
                    62,
                    19,
                    39,
                    55,
                    17,
                    45,
                    43,
                    59,
                    27,
                    30,
                    40,
                    31,
                    37,
                    61,
                    60,
                    49,
                    36,
                    54,
                    24,
                    49,
                    50,
                    32,
                    34,
                    48,
                    60,
                    28,
                    24,
                    30,
                    38,
                    42,
                    41,
                    32,
                    64,
                    29,
                    45,
                    31,
                    53,
                    38,
                    52,
                    44,
                    31,
                    44,
                    59,
                    26,
                    61,
                    64,
                    48,
                    27,
                    62,
                    47,
                    49,
                    49,
                    57,
                    51,
                    40,
                    16,
                    60,
                    46,
                    60,
                    45,
                    48,
                    41,
                    43,
                    63,
                    33,
                    33,
                    49,
                    34,
                    32,
                    16,
                    16,
                    16,
                    18,
                    16,
                    16,
                    17,
                    16,
                    31,
                    40,
                    32,
                    16,
                    52,
                    37,
                    27,
                    25,
                    17,
                    20,
                    24,
                    18,
                    42,
                    57,
                    58,
                    55,
                    40
                  ],
                  "alignmentgroup": "True",
                  "type": "histogram",
                  "orientation": "v"
                }
              ],
              "layout": {
                "xaxis": {
                  "domain": [
                    0,
                    0.49
                  ],
                  "anchor": "y",
                  "title": {
                    "text": "age"
                  }
                },
                "yaxis": {
                  "domain": [
                    0,
                    1
                  ],
                  "anchor": "x",
                  "title": {
                    "text": "count"
                  }
                },
                "xaxis2": {
                  "matches": "x",
                  "domain": [
                    0.51,
                    1
                  ],
                  "anchor": "y2",
                  "title": {
                    "text": "age"
                  }
                },
                "annotations": [
                  {
                    "yanchor": "bottom",
                    "xref": "paper",
                    "xanchor": "center",
                    "yref": "paper",
                    "text": "chd=1",
                    "y": 1,
                    "x": 0.245,
                    "font": {},
                    "showarrow": false
                  },
                  {
                    "yanchor": "bottom",
                    "xref": "paper",
                    "xanchor": "center",
                    "yref": "paper",
                    "text": "chd=0",
                    "y": 1,
                    "x": 0.755,
                    "font": {},
                    "showarrow": false
                  }
                ],
                "barmode": "relative",
                "yaxis2": {
                  "matches": "y",
                  "domain": [
                    0,
                    1
                  ],
                  "showticklabels": false,
                  "anchor": "x2"
                },
                "template": {
                  "data": {
                    "mesh3d": [
                      {
                        "colorbar": {
                          "outlinewidth": 0,
                          "ticks": ""
                        },
                        "type": "mesh3d"
                      }
                    ],
                    "scattercarpet": [
                      {
                        "marker": {
                          "colorbar": {
                            "outlinewidth": 0,
                            "ticks": ""
                          }
                        },
                        "type": "scattercarpet"
                      }
                    ],
                    "pie": [
                      {
                        "automargin": true,
                        "type": "pie"
                      }
                    ],
                    "surface": [
                      {
                        "colorbar": {
                          "outlinewidth": 0,
                          "ticks": ""
                        },
                        "type": "surface",
                        "colorscale": [
                          [
                            0,
                            "#0d0887"
                          ],
                          [
                            0.1111111111111111,
                            "#46039f"
                          ],
                          [
                            0.2222222222222222,
                            "#7201a8"
                          ],
                          [
                            0.3333333333333333,
                            "#9c179e"
                          ],
                          [
                            0.4444444444444444,
                            "#bd3786"
                          ],
                          [
                            0.5555555555555556,
                            "#d8576b"
                          ],
                          [
                            0.6666666666666666,
                            "#ed7953"
                          ],
                          [
                            0.7777777777777778,
                            "#fb9f3a"
                          ],
                          [
                            0.8888888888888888,
                            "#fdca26"
                          ],
                          [
                            1,
                            "#f0f921"
                          ]
                        ]
                      }
                    ],
                    "table": [
                      {
                        "header": {
                          "line": {
                            "color": "white"
                          },
                          "fill": {
                            "color": "#C8D4E3"
                          }
                        },
                        "cells": {
                          "line": {
                            "color": "white"
                          },
                          "fill": {
                            "color": "#EBF0F8"
                          }
                        },
                        "type": "table"
                      }
                    ],
                    "scatterpolargl": [
                      {
                        "marker": {
                          "colorbar": {
                            "outlinewidth": 0,
                            "ticks": ""
                          }
                        },
                        "type": "scatterpolargl"
                      }
                    ],
                    "contour": [
                      {
                        "colorbar": {
                          "outlinewidth": 0,
                          "ticks": ""
                        },
                        "type": "contour",
                        "colorscale": [
                          [
                            0,
                            "#0d0887"
                          ],
                          [
                            0.1111111111111111,
                            "#46039f"
                          ],
                          [
                            0.2222222222222222,
                            "#7201a8"
                          ],
                          [
                            0.3333333333333333,
                            "#9c179e"
                          ],
                          [
                            0.4444444444444444,
                            "#bd3786"
                          ],
                          [
                            0.5555555555555556,
                            "#d8576b"
                          ],
                          [
                            0.6666666666666666,
                            "#ed7953"
                          ],
                          [
                            0.7777777777777778,
                            "#fb9f3a"
                          ],
                          [
                            0.8888888888888888,
                            "#fdca26"
                          ],
                          [
                            1,
                            "#f0f921"
                          ]
                        ]
                      }
                    ],
                    "carpet": [
                      {
                        "baxis": {
                          "endlinecolor": "#2a3f5f",
                          "gridcolor": "white",
                          "linecolor": "white",
                          "minorgridcolor": "white",
                          "startlinecolor": "#2a3f5f"
                        },
                        "type": "carpet",
                        "aaxis": {
                          "endlinecolor": "#2a3f5f",
                          "gridcolor": "white",
                          "linecolor": "white",
                          "minorgridcolor": "white",
                          "startlinecolor": "#2a3f5f"
                        }
                      }
                    ],
                    "contourcarpet": [
                      {
                        "colorbar": {
                          "outlinewidth": 0,
                          "ticks": ""
                        },
                        "type": "contourcarpet"
                      }
                    ],
                    "heatmap": [
                      {
                        "colorbar": {
                          "outlinewidth": 0,
                          "ticks": ""
                        },
                        "type": "heatmap",
                        "colorscale": [
                          [
                            0,
                            "#0d0887"
                          ],
                          [
                            0.1111111111111111,
                            "#46039f"
                          ],
                          [
                            0.2222222222222222,
                            "#7201a8"
                          ],
                          [
                            0.3333333333333333,
                            "#9c179e"
                          ],
                          [
                            0.4444444444444444,
                            "#bd3786"
                          ],
                          [
                            0.5555555555555556,
                            "#d8576b"
                          ],
                          [
                            0.6666666666666666,
                            "#ed7953"
                          ],
                          [
                            0.7777777777777778,
                            "#fb9f3a"
                          ],
                          [
                            0.8888888888888888,
                            "#fdca26"
                          ],
                          [
                            1,
                            "#f0f921"
                          ]
                        ]
                      }
                    ],
                    "scattermapbox": [
                      {
                        "marker": {
                          "colorbar": {
                            "outlinewidth": 0,
                            "ticks": ""
                          }
                        },
                        "type": "scattermapbox"
                      }
                    ],
                    "scatter3d": [
                      {
                        "marker": {
                          "colorbar": {
                            "outlinewidth": 0,
                            "ticks": ""
                          }
                        },
                        "line": {
                          "colorbar": {
                            "outlinewidth": 0,
                            "ticks": ""
                          }
                        },
                        "type": "scatter3d"
                      }
                    ],
                    "scattergl": [
                      {
                        "marker": {
                          "colorbar": {
                            "outlinewidth": 0,
                            "ticks": ""
                          }
                        },
                        "type": "scattergl"
                      }
                    ],
                    "scatterternary": [
                      {
                        "marker": {
                          "colorbar": {
                            "outlinewidth": 0,
                            "ticks": ""
                          }
                        },
                        "type": "scatterternary"
                      }
                    ],
                    "histogram2d": [
                      {
                        "colorbar": {
                          "outlinewidth": 0,
                          "ticks": ""
                        },
                        "type": "histogram2d",
                        "colorscale": [
                          [
                            0,
                            "#0d0887"
                          ],
                          [
                            0.1111111111111111,
                            "#46039f"
                          ],
                          [
                            0.2222222222222222,
                            "#7201a8"
                          ],
                          [
                            0.3333333333333333,
                            "#9c179e"
                          ],
                          [
                            0.4444444444444444,
                            "#bd3786"
                          ],
                          [
                            0.5555555555555556,
                            "#d8576b"
                          ],
                          [
                            0.6666666666666666,
                            "#ed7953"
                          ],
                          [
                            0.7777777777777778,
                            "#fb9f3a"
                          ],
                          [
                            0.8888888888888888,
                            "#fdca26"
                          ],
                          [
                            1,
                            "#f0f921"
                          ]
                        ]
                      }
                    ],
                    "heatmapgl": [
                      {
                        "colorbar": {
                          "outlinewidth": 0,
                          "ticks": ""
                        },
                        "type": "heatmapgl",
                        "colorscale": [
                          [
                            0,
                            "#0d0887"
                          ],
                          [
                            0.1111111111111111,
                            "#46039f"
                          ],
                          [
                            0.2222222222222222,
                            "#7201a8"
                          ],
                          [
                            0.3333333333333333,
                            "#9c179e"
                          ],
                          [
                            0.4444444444444444,
                            "#bd3786"
                          ],
                          [
                            0.5555555555555556,
                            "#d8576b"
                          ],
                          [
                            0.6666666666666666,
                            "#ed7953"
                          ],
                          [
                            0.7777777777777778,
                            "#fb9f3a"
                          ],
                          [
                            0.8888888888888888,
                            "#fdca26"
                          ],
                          [
                            1,
                            "#f0f921"
                          ]
                        ]
                      }
                    ],
                    "scatterpolar": [
                      {
                        "marker": {
                          "colorbar": {
                            "outlinewidth": 0,
                            "ticks": ""
                          }
                        },
                        "type": "scatterpolar"
                      }
                    ],
                    "histogram": [
                      {
                        "marker": {
                          "colorbar": {
                            "outlinewidth": 0,
                            "ticks": ""
                          }
                        },
                        "type": "histogram"
                      }
                    ],
                    "scattergeo": [
                      {
                        "marker": {
                          "colorbar": {
                            "outlinewidth": 0,
                            "ticks": ""
                          }
                        },
                        "type": "scattergeo"
                      }
                    ],
                    "bar": [
                      {
                        "marker": {
                          "line": {
                            "color": "#E5ECF6",
                            "width": 0.5
                          }
                        },
                        "error_x": {
                          "color": "#2a3f5f"
                        },
                        "type": "bar",
                        "error_y": {
                          "color": "#2a3f5f"
                        }
                      }
                    ],
                    "choropleth": [
                      {
                        "colorbar": {
                          "outlinewidth": 0,
                          "ticks": ""
                        },
                        "type": "choropleth"
                      }
                    ],
                    "parcoords": [
                      {
                        "line": {
                          "colorbar": {
                            "outlinewidth": 0,
                            "ticks": ""
                          }
                        },
                        "type": "parcoords"
                      }
                    ],
                    "barpolar": [
                      {
                        "marker": {
                          "line": {
                            "color": "#E5ECF6",
                            "width": 0.5
                          }
                        },
                        "type": "barpolar"
                      }
                    ],
                    "histogram2dcontour": [
                      {
                        "colorbar": {
                          "outlinewidth": 0,
                          "ticks": ""
                        },
                        "type": "histogram2dcontour",
                        "colorscale": [
                          [
                            0,
                            "#0d0887"
                          ],
                          [
                            0.1111111111111111,
                            "#46039f"
                          ],
                          [
                            0.2222222222222222,
                            "#7201a8"
                          ],
                          [
                            0.3333333333333333,
                            "#9c179e"
                          ],
                          [
                            0.4444444444444444,
                            "#bd3786"
                          ],
                          [
                            0.5555555555555556,
                            "#d8576b"
                          ],
                          [
                            0.6666666666666666,
                            "#ed7953"
                          ],
                          [
                            0.7777777777777778,
                            "#fb9f3a"
                          ],
                          [
                            0.8888888888888888,
                            "#fdca26"
                          ],
                          [
                            1,
                            "#f0f921"
                          ]
                        ]
                      }
                    ],
                    "scatter": [
                      {
                        "marker": {
                          "colorbar": {
                            "outlinewidth": 0,
                            "ticks": ""
                          }
                        },
                        "type": "scatter"
                      }
                    ]
                  },
                  "layout": {
                    "shapedefaults": {
                      "line": {
                        "color": "#2a3f5f"
                      }
                    },
                    "polar": {
                      "radialaxis": {
                        "ticks": "",
                        "gridcolor": "white",
                        "linecolor": "white"
                      },
                      "bgcolor": "#E5ECF6",
                      "angularaxis": {
                        "ticks": "",
                        "gridcolor": "white",
                        "linecolor": "white"
                      }
                    },
                    "colorway": [
                      "#636efa",
                      "#EF553B",
                      "#00cc96",
                      "#ab63fa",
                      "#FFA15A",
                      "#19d3f3",
                      "#FF6692",
                      "#B6E880",
                      "#FF97FF",
                      "#FECB52"
                    ],
                    "ternary": {
                      "bgcolor": "#E5ECF6",
                      "baxis": {
                        "ticks": "",
                        "gridcolor": "white",
                        "linecolor": "white"
                      },
                      "caxis": {
                        "ticks": "",
                        "gridcolor": "white",
                        "linecolor": "white"
                      },
                      "aaxis": {
                        "ticks": "",
                        "gridcolor": "white",
                        "linecolor": "white"
                      }
                    },
                    "colorscale": {
                      "diverging": [
                        [
                          0,
                          "#8e0152"
                        ],
                        [
                          0.1,
                          "#c51b7d"
                        ],
                        [
                          0.2,
                          "#de77ae"
                        ],
                        [
                          0.3,
                          "#f1b6da"
                        ],
                        [
                          0.4,
                          "#fde0ef"
                        ],
                        [
                          0.5,
                          "#f7f7f7"
                        ],
                        [
                          0.6,
                          "#e6f5d0"
                        ],
                        [
                          0.7,
                          "#b8e186"
                        ],
                        [
                          0.8,
                          "#7fbc41"
                        ],
                        [
                          0.9,
                          "#4d9221"
                        ],
                        [
                          1,
                          "#276419"
                        ]
                      ],
                      "sequential": [
                        [
                          0,
                          "#0d0887"
                        ],
                        [
                          0.1111111111111111,
                          "#46039f"
                        ],
                        [
                          0.2222222222222222,
                          "#7201a8"
                        ],
                        [
                          0.3333333333333333,
                          "#9c179e"
                        ],
                        [
                          0.4444444444444444,
                          "#bd3786"
                        ],
                        [
                          0.5555555555555556,
                          "#d8576b"
                        ],
                        [
                          0.6666666666666666,
                          "#ed7953"
                        ],
                        [
                          0.7777777777777778,
                          "#fb9f3a"
                        ],
                        [
                          0.8888888888888888,
                          "#fdca26"
                        ],
                        [
                          1,
                          "#f0f921"
                        ]
                      ],
                      "sequentialminus": [
                        [
                          0,
                          "#0d0887"
                        ],
                        [
                          0.1111111111111111,
                          "#46039f"
                        ],
                        [
                          0.2222222222222222,
                          "#7201a8"
                        ],
                        [
                          0.3333333333333333,
                          "#9c179e"
                        ],
                        [
                          0.4444444444444444,
                          "#bd3786"
                        ],
                        [
                          0.5555555555555556,
                          "#d8576b"
                        ],
                        [
                          0.6666666666666666,
                          "#ed7953"
                        ],
                        [
                          0.7777777777777778,
                          "#fb9f3a"
                        ],
                        [
                          0.8888888888888888,
                          "#fdca26"
                        ],
                        [
                          1,
                          "#f0f921"
                        ]
                      ]
                    },
                    "paper_bgcolor": "white",
                    "plot_bgcolor": "#E5ECF6",
                    "title": {
                      "x": 0.05
                    },
                    "scene": {
                      "zaxis": {
                        "linecolor": "white",
                        "ticks": "",
                        "gridwidth": 2,
                        "showbackground": true,
                        "zerolinecolor": "white",
                        "gridcolor": "white",
                        "backgroundcolor": "#E5ECF6"
                      },
                      "xaxis": {
                        "linecolor": "white",
                        "ticks": "",
                        "gridwidth": 2,
                        "showbackground": true,
                        "zerolinecolor": "white",
                        "gridcolor": "white",
                        "backgroundcolor": "#E5ECF6"
                      },
                      "yaxis": {
                        "linecolor": "white",
                        "ticks": "",
                        "gridwidth": 2,
                        "showbackground": true,
                        "zerolinecolor": "white",
                        "gridcolor": "white",
                        "backgroundcolor": "#E5ECF6"
                      }
                    },
                    "yaxis": {
                      "automargin": true,
                      "title": {
                        "standoff": 15
                      },
                      "zerolinewidth": 2,
                      "ticks": "",
                      "zerolinecolor": "white",
                      "gridcolor": "white",
                      "linecolor": "white"
                    },
                    "coloraxis": {
                      "colorbar": {
                        "outlinewidth": 0,
                        "ticks": ""
                      }
                    },
                    "hoverlabel": {
                      "align": "left"
                    },
                    "xaxis": {
                      "automargin": true,
                      "title": {
                        "standoff": 15
                      },
                      "zerolinewidth": 2,
                      "ticks": "",
                      "zerolinecolor": "white",
                      "gridcolor": "white",
                      "linecolor": "white"
                    },
                    "mapbox": {
                      "style": "light"
                    },
                    "hovermode": "closest",
                    "font": {
                      "color": "#2a3f5f"
                    },
                    "geo": {
                      "showland": true,
                      "bgcolor": "white",
                      "showlakes": true,
                      "landcolor": "#E5ECF6",
                      "subunitcolor": "white",
                      "lakecolor": "white"
                    },
                    "annotationdefaults": {
                      "arrowwidth": 1,
                      "arrowhead": 0,
                      "arrowcolor": "#2a3f5f"
                    }
                  }
                },
                "margin": {
                  "t": 60
                },
                "legend": {
                  "tracegroupgap": 0
                }
              }
            }
          },
          "metadata": {}
        }
      ],
      "execution_count": 97,
      "metadata": {
        "collapsed": false,
        "jupyter": {
          "source_hidden": false,
          "outputs_hidden": false
        },
        "nteract": {
          "transient": {
            "deleting": false
          }
        }
      }
    },
    {
      "cell_type": "code",
      "source": [
        "dados['coracao'] = dados.chd.astype(str)"
      ],
      "outputs": [],
      "execution_count": 293,
      "metadata": {
        "collapsed": false,
        "jupyter": {
          "source_hidden": false,
          "outputs_hidden": false
        },
        "nteract": {
          "transient": {
            "deleting": false
          }
        }
      }
    },
    {
      "cell_type": "code",
      "source": [
        "px.scatter(data_frame=dados, x=dados.obesity.name, y=dados.age.name, color='coracao')"
      ],
      "outputs": [
        {
          "output_type": "display_data",
          "data": {
            "text/html": [
              "<div>\n",
              "        \n",
              "        \n",
              "            <div id=\"3f60897d-ba3b-4085-9755-66f7a64f9c5b\" class=\"plotly-graph-div\" style=\"height:525px; width:100%;\"></div>\n",
              "            <script type=\"text/javascript\">\n",
              "                require([\"plotly\"], function(Plotly) {\n",
              "                    window.PLOTLYENV=window.PLOTLYENV || {};\n",
              "                    \n",
              "                if (document.getElementById(\"3f60897d-ba3b-4085-9755-66f7a64f9c5b\")) {\n",
              "                    Plotly.newPlot(\n",
              "                        '3f60897d-ba3b-4085-9755-66f7a64f9c5b',\n",
              "                        [{\"hoverlabel\": {\"namelength\": 0}, \"hovertemplate\": \"coracao=1<br>obesity=%{x}<br>age=%{y}\", \"legendgroup\": \"coracao=1\", \"marker\": {\"color\": \"#636efa\", \"symbol\": \"circle\"}, \"mode\": \"markers\", \"name\": \"coracao=1\", \"showlegend\": true, \"type\": \"scatter\", \"x\": [25.3, 28.87, 31.99, 25.99, 23.11, 30.11, 26.81, 23.09, 32.73, 29.3, 30.09, 20.92, 23.23, 20.96, 28.07, 21.86, 22.13, 28.07, 30.25, 19.49, 27.68, 30.98, 26.29, 25.71, 30.01, 28.64, 22.65, 25.52, 21.06, 27.19, 24.25, 22.59, 45.72, 25.44, 26.38, 19.37, 30.57, 25.15, 27.07, 22.29, 37.41, 26.18, 25.27, 19.4, 21.91, 23.35, 24.78, 33.14, 29.44, 31.44, 24.7, 24.05, 33.87, 19.3, 28.73, 29.38, 23.22, 21.78, 23.33, 25.62, 27.45, 27.14, 25.87, 26.52, 27.14, 21.48, 26.74, 21.94, 25.39, 24.37, 35.94, 23.59, 28.25, 25.12, 31.27, 31.15, 22.56, 41.76, 25.01, 27.29, 28.33, 27.25, 28.99, 26.08, 29.42, 27.44, 27.29, 34.35, 28.67, 22.3, 29.37, 20.86, 22.75, 36.46, 24.49, 18.46, 23.39, 26.2, 30.01, 37.24, 22.18, 26.56, 28.75, 24.07, 27.36, 31.83, 27.02, 27.87, 23.65, 26.07, 30.22, 26.86, 18.75, 22.04, 24.32, 27.04, 28.51, 28.4, 28.94, 23.95, 26.43, 26.8, 23.31, 20.43, 28.4, 25.76, 24.98, 27.81, 21.79, 23.26, 30.12, 25.22, 26.53, 33.17, 30.75, 32.91, 25.92, 25.99, 24.34, 35.07, 24.86, 27.0, 21.26, 25.12, 30.54, 32.04, 27.29, 28.5, 20.58, 24.54, 27.92, 21.07, 23.66, 28.92, 27.55, 31.5, 28.11, 23.96, 28.61, 14.7], \"xaxis\": \"x\", \"y\": [52, 63, 58, 49, 58, 53, 60, 40, 53, 62, 59, 20, 42, 61, 63, 45, 46, 59, 41, 28, 58, 41, 51, 58, 33, 42, 31, 38, 32, 55, 56, 45, 53, 55, 57, 49, 64, 49, 51, 61, 54, 54, 61, 59, 32, 61, 56, 59, 60, 58, 30, 52, 54, 25, 43, 33, 61, 41, 55, 43, 62, 55, 43, 61, 60, 39, 48, 33, 64, 40, 49, 39, 54, 31, 40, 62, 45, 46, 45, 32, 52, 64, 50, 58, 58, 51, 45, 55, 60, 56, 58, 63, 54, 37, 58, 17, 52, 45, 55, 41, 55, 63, 64, 28, 50, 41, 38, 56, 42, 46, 32, 59, 59, 59, 59, 59, 64, 36, 51, 59, 59, 58, 52, 53, 26, 53, 43, 58, 61, 58, 62, 52, 64, 64, 38, 54, 53, 53, 39, 50, 48, 55, 62, 58, 61, 60, 62, 55, 63, 39, 55, 61, 42, 34, 48, 51, 39, 27, 52, 46], \"yaxis\": \"y\"}, {\"hoverlabel\": {\"namelength\": 0}, \"hovertemplate\": \"coracao=0<br>obesity=%{x}<br>age=%{y}\", \"legendgroup\": \"coracao=0\", \"marker\": {\"color\": \"#EF553B\", \"symbol\": \"circle\"}, \"mode\": \"markers\", \"name\": \"coracao=0\", \"showlegend\": true, \"type\": \"scatter\", \"x\": [29.14, 30.77, 20.81, 24.86, 21.57, 23.63, 23.53, 25.89, 25.31, 26.16, 24.64, 28.7, 26.19, 38.8, 29.43, 29.84, 27.36, 30.9, 24.86, 23.75, 22.15, 46.58, 22.95, 20.17, 30.53, 29.01, 27.19, 23.91, 26.57, 23.83, 22.94, 22.51, 23.65, 25.65, 26.21, 27.23, 22.07, 25.0, 28.49, 22.08, 29.01, 19.15, 17.81, 25.76, 17.75, 27.86, 21.66, 29.16, 25.72, 20.75, 27.52, 27.83, 21.94, 28.34, 21.59, 29.17, 30.16, 20.54, 26.06, 27.59, 23.44, 22.69, 28.37, 32.18, 30.97, 28.63, 26.64, 23.48, 22.04, 25.51, 21.03, 28.41, 20.6, 28.02, 22.86, 25.85, 26.21, 25.91, 27.78, 34.42, 34.57, 24.79, 29.29, 26.09, 21.13, 21.25, 20.52, 32.83, 24.97, 31.21, 24.72, 22.1, 22.09, 24.7, 24.15, 25.63, 22.61, 22.03, 30.71, 25.81, 24.81, 22.16, 20.0, 22.13, 23.64, 25.99, 36.06, 29.33, 24.46, 26.09, 29.83, 22.05, 27.95, 20.16, 26.24, 27.96, 30.14, 40.34, 28.88, 25.42, 24.73, 30.42, 21.62, 22.01, 25.63, 31.59, 25.26, 24.58, 29.87, 23.81, 24.96, 29.34, 26.71, 28.4, 25.71, 31.44, 26.88, 23.63, 26.75, 22.45, 21.47, 22.6, 27.62, 20.28, 27.38, 19.48, 24.69, 29.19, 24.36, 25.7, 28.85, 27.3, 23.12, 22.7, 26.01, 26.09, 21.59, 25.11, 25.68, 27.84, 23.14, 22.51, 23.76, 23.54, 35.51, 22.76, 20.17, 27.8, 20.01, 19.61, 24.86, 20.31, 24.98, 25.02, 25.8, 17.89, 22.65, 22.29, 26.37, 22.17, 27.66, 24.82, 23.23, 22.03, 19.82, 23.43, 32.33, 20.42, 22.59, 29.51, 23.8, 35.42, 22.51, 26.59, 28.84, 26.09, 30.86, 25.67, 37.71, 30.31, 22.67, 22.24, 23.79, 24.98, 25.67, 24.72, 24.38, 19.44, 29.41, 20.74, 20.29, 27.39, 24.0, 28.63, 27.09, 28.69, 32.21, 30.31, 25.89, 26.76, 24.13, 18.36, 22.91, 24.5, 22.41, 24.08, 26.49, 33.28, 26.67, 27.03, 28.08, 24.7, 26.96, 26.11, 30.92, 26.27, 22.01, 29.27, 24.18, 29.38, 26.42, 30.74, 27.62, 24.49, 27.16, 33.35, 24.81, 32.77, 21.3, 26.99, 21.83, 24.2, 23.74, 26.7, 35.58, 25.97, 30.77, 26.3, 23.82, 30.61, 31.65, 27.26, 26.83, 24.8, 34.72, 31.03, 25.92, 30.18, 22.15, 24.94, 22.4, 23.37, 24.92, 31.16, 28.71, 23.25, 27.2, 20.18, 19.38, 21.94, 22.01, 18.5, 21.51, 25.38, 22.59, 21.4, 22.05, 29.0, 21.89, 28.7, 26.33, 30.08, 20.7, 20.28, 22.26, 19.57, 23.37, 26.15, 33.1, 28.45, 20.09, 27.35], \"xaxis\": \"x\", \"y\": [46, 45, 38, 29, 17, 15, 53, 46, 49, 44, 50, 58, 50, 48, 56, 48, 32, 46, 29, 30, 15, 17, 48, 16, 30, 42, 49, 53, 48, 28, 18, 61, 33, 44, 57, 38, 17, 54, 30, 27, 33, 15, 26, 36, 20, 34, 40, 55, 39, 17, 45, 38, 41, 55, 21, 29, 56, 62, 29, 39, 39, 50, 27, 46, 31, 29, 64, 42, 18, 16, 37, 48, 42, 27, 60, 28, 33, 45, 28, 38, 64, 62, 54, 40, 32, 28, 20, 54, 38, 58, 40, 40, 31, 55, 52, 24, 20, 17, 53, 38, 31, 16, 21, 16, 49, 25, 48, 41, 32, 47, 61, 62, 37, 17, 24, 56, 56, 51, 63, 39, 63, 23, 18, 21, 17, 42, 27, 23, 33, 64, 58, 40, 18, 60, 59, 60, 60, 44, 53, 18, 26, 25, 57, 16, 60, 56, 42, 62, 30, 29, 61, 57, 27, 16, 47, 41, 57, 60, 64, 48, 17, 42, 46, 49, 44, 20, 61, 35, 18, 17, 57, 16, 24, 43, 43, 16, 16, 42, 27, 17, 19, 17, 16, 16, 16, 44, 34, 17, 17, 53, 45, 53, 27, 49, 45, 37, 34, 46, 44, 50, 59, 38, 26, 51, 59, 38, 61, 55, 62, 19, 39, 55, 17, 45, 43, 59, 27, 30, 40, 31, 37, 61, 60, 49, 36, 54, 24, 49, 50, 32, 34, 48, 60, 28, 24, 30, 38, 42, 41, 32, 64, 29, 45, 31, 53, 38, 52, 44, 31, 44, 59, 26, 61, 64, 48, 27, 62, 47, 49, 49, 57, 51, 40, 16, 60, 46, 60, 45, 48, 41, 43, 63, 33, 33, 49, 34, 32, 16, 16, 16, 18, 16, 16, 17, 16, 31, 40, 32, 16, 52, 37, 27, 25, 17, 20, 24, 18, 42, 57, 58, 55, 40], \"yaxis\": \"y\"}],\n",
              "                        {\"legend\": {\"tracegroupgap\": 0}, \"margin\": {\"t\": 60}, \"template\": {\"data\": {\"bar\": [{\"error_x\": {\"color\": \"#2a3f5f\"}, \"error_y\": {\"color\": \"#2a3f5f\"}, \"marker\": {\"line\": {\"color\": \"#E5ECF6\", \"width\": 0.5}}, \"type\": \"bar\"}], \"barpolar\": [{\"marker\": {\"line\": {\"color\": \"#E5ECF6\", \"width\": 0.5}}, \"type\": \"barpolar\"}], \"carpet\": [{\"aaxis\": {\"endlinecolor\": \"#2a3f5f\", \"gridcolor\": \"white\", \"linecolor\": \"white\", \"minorgridcolor\": \"white\", \"startlinecolor\": \"#2a3f5f\"}, \"baxis\": {\"endlinecolor\": \"#2a3f5f\", \"gridcolor\": \"white\", \"linecolor\": \"white\", \"minorgridcolor\": \"white\", \"startlinecolor\": \"#2a3f5f\"}, \"type\": \"carpet\"}], \"choropleth\": [{\"colorbar\": {\"outlinewidth\": 0, \"ticks\": \"\"}, \"type\": \"choropleth\"}], \"contour\": [{\"colorbar\": {\"outlinewidth\": 0, \"ticks\": \"\"}, \"colorscale\": [[0.0, \"#0d0887\"], [0.1111111111111111, \"#46039f\"], [0.2222222222222222, \"#7201a8\"], [0.3333333333333333, \"#9c179e\"], [0.4444444444444444, \"#bd3786\"], [0.5555555555555556, \"#d8576b\"], [0.6666666666666666, \"#ed7953\"], [0.7777777777777778, \"#fb9f3a\"], [0.8888888888888888, \"#fdca26\"], [1.0, \"#f0f921\"]], \"type\": \"contour\"}], \"contourcarpet\": [{\"colorbar\": {\"outlinewidth\": 0, \"ticks\": \"\"}, \"type\": \"contourcarpet\"}], \"heatmap\": [{\"colorbar\": {\"outlinewidth\": 0, \"ticks\": \"\"}, \"colorscale\": [[0.0, \"#0d0887\"], [0.1111111111111111, \"#46039f\"], [0.2222222222222222, \"#7201a8\"], [0.3333333333333333, \"#9c179e\"], [0.4444444444444444, \"#bd3786\"], [0.5555555555555556, \"#d8576b\"], [0.6666666666666666, \"#ed7953\"], [0.7777777777777778, \"#fb9f3a\"], [0.8888888888888888, \"#fdca26\"], [1.0, \"#f0f921\"]], \"type\": \"heatmap\"}], \"heatmapgl\": [{\"colorbar\": {\"outlinewidth\": 0, \"ticks\": \"\"}, \"colorscale\": [[0.0, \"#0d0887\"], [0.1111111111111111, \"#46039f\"], [0.2222222222222222, \"#7201a8\"], [0.3333333333333333, \"#9c179e\"], [0.4444444444444444, \"#bd3786\"], [0.5555555555555556, \"#d8576b\"], [0.6666666666666666, \"#ed7953\"], [0.7777777777777778, \"#fb9f3a\"], [0.8888888888888888, \"#fdca26\"], [1.0, \"#f0f921\"]], \"type\": \"heatmapgl\"}], \"histogram\": [{\"marker\": {\"colorbar\": {\"outlinewidth\": 0, \"ticks\": \"\"}}, \"type\": \"histogram\"}], \"histogram2d\": [{\"colorbar\": {\"outlinewidth\": 0, \"ticks\": \"\"}, \"colorscale\": [[0.0, \"#0d0887\"], [0.1111111111111111, \"#46039f\"], [0.2222222222222222, \"#7201a8\"], [0.3333333333333333, \"#9c179e\"], [0.4444444444444444, \"#bd3786\"], [0.5555555555555556, \"#d8576b\"], [0.6666666666666666, \"#ed7953\"], [0.7777777777777778, \"#fb9f3a\"], [0.8888888888888888, \"#fdca26\"], [1.0, \"#f0f921\"]], \"type\": \"histogram2d\"}], \"histogram2dcontour\": [{\"colorbar\": {\"outlinewidth\": 0, \"ticks\": \"\"}, \"colorscale\": [[0.0, \"#0d0887\"], [0.1111111111111111, \"#46039f\"], [0.2222222222222222, \"#7201a8\"], [0.3333333333333333, \"#9c179e\"], [0.4444444444444444, \"#bd3786\"], [0.5555555555555556, \"#d8576b\"], [0.6666666666666666, \"#ed7953\"], [0.7777777777777778, \"#fb9f3a\"], [0.8888888888888888, \"#fdca26\"], [1.0, \"#f0f921\"]], \"type\": \"histogram2dcontour\"}], \"mesh3d\": [{\"colorbar\": {\"outlinewidth\": 0, \"ticks\": \"\"}, \"type\": \"mesh3d\"}], \"parcoords\": [{\"line\": {\"colorbar\": {\"outlinewidth\": 0, \"ticks\": \"\"}}, \"type\": \"parcoords\"}], \"pie\": [{\"automargin\": true, \"type\": \"pie\"}], \"scatter\": [{\"marker\": {\"colorbar\": {\"outlinewidth\": 0, \"ticks\": \"\"}}, \"type\": \"scatter\"}], \"scatter3d\": [{\"line\": {\"colorbar\": {\"outlinewidth\": 0, \"ticks\": \"\"}}, \"marker\": {\"colorbar\": {\"outlinewidth\": 0, \"ticks\": \"\"}}, \"type\": \"scatter3d\"}], \"scattercarpet\": [{\"marker\": {\"colorbar\": {\"outlinewidth\": 0, \"ticks\": \"\"}}, \"type\": \"scattercarpet\"}], \"scattergeo\": [{\"marker\": {\"colorbar\": {\"outlinewidth\": 0, \"ticks\": \"\"}}, \"type\": \"scattergeo\"}], \"scattergl\": [{\"marker\": {\"colorbar\": {\"outlinewidth\": 0, \"ticks\": \"\"}}, \"type\": \"scattergl\"}], \"scattermapbox\": [{\"marker\": {\"colorbar\": {\"outlinewidth\": 0, \"ticks\": \"\"}}, \"type\": \"scattermapbox\"}], \"scatterpolar\": [{\"marker\": {\"colorbar\": {\"outlinewidth\": 0, \"ticks\": \"\"}}, \"type\": \"scatterpolar\"}], \"scatterpolargl\": [{\"marker\": {\"colorbar\": {\"outlinewidth\": 0, \"ticks\": \"\"}}, \"type\": \"scatterpolargl\"}], \"scatterternary\": [{\"marker\": {\"colorbar\": {\"outlinewidth\": 0, \"ticks\": \"\"}}, \"type\": \"scatterternary\"}], \"surface\": [{\"colorbar\": {\"outlinewidth\": 0, \"ticks\": \"\"}, \"colorscale\": [[0.0, \"#0d0887\"], [0.1111111111111111, \"#46039f\"], [0.2222222222222222, \"#7201a8\"], [0.3333333333333333, \"#9c179e\"], [0.4444444444444444, \"#bd3786\"], [0.5555555555555556, \"#d8576b\"], [0.6666666666666666, \"#ed7953\"], [0.7777777777777778, \"#fb9f3a\"], [0.8888888888888888, \"#fdca26\"], [1.0, \"#f0f921\"]], \"type\": \"surface\"}], \"table\": [{\"cells\": {\"fill\": {\"color\": \"#EBF0F8\"}, \"line\": {\"color\": \"white\"}}, \"header\": {\"fill\": {\"color\": \"#C8D4E3\"}, \"line\": {\"color\": \"white\"}}, \"type\": \"table\"}]}, \"layout\": {\"annotationdefaults\": {\"arrowcolor\": \"#2a3f5f\", \"arrowhead\": 0, \"arrowwidth\": 1}, \"coloraxis\": {\"colorbar\": {\"outlinewidth\": 0, \"ticks\": \"\"}}, \"colorscale\": {\"diverging\": [[0, \"#8e0152\"], [0.1, \"#c51b7d\"], [0.2, \"#de77ae\"], [0.3, \"#f1b6da\"], [0.4, \"#fde0ef\"], [0.5, \"#f7f7f7\"], [0.6, \"#e6f5d0\"], [0.7, \"#b8e186\"], [0.8, \"#7fbc41\"], [0.9, \"#4d9221\"], [1, \"#276419\"]], \"sequential\": [[0.0, \"#0d0887\"], [0.1111111111111111, \"#46039f\"], [0.2222222222222222, \"#7201a8\"], [0.3333333333333333, \"#9c179e\"], [0.4444444444444444, \"#bd3786\"], [0.5555555555555556, \"#d8576b\"], [0.6666666666666666, \"#ed7953\"], [0.7777777777777778, \"#fb9f3a\"], [0.8888888888888888, \"#fdca26\"], [1.0, \"#f0f921\"]], \"sequentialminus\": [[0.0, \"#0d0887\"], [0.1111111111111111, \"#46039f\"], [0.2222222222222222, \"#7201a8\"], [0.3333333333333333, \"#9c179e\"], [0.4444444444444444, \"#bd3786\"], [0.5555555555555556, \"#d8576b\"], [0.6666666666666666, \"#ed7953\"], [0.7777777777777778, \"#fb9f3a\"], [0.8888888888888888, \"#fdca26\"], [1.0, \"#f0f921\"]]}, \"colorway\": [\"#636efa\", \"#EF553B\", \"#00cc96\", \"#ab63fa\", \"#FFA15A\", \"#19d3f3\", \"#FF6692\", \"#B6E880\", \"#FF97FF\", \"#FECB52\"], \"font\": {\"color\": \"#2a3f5f\"}, \"geo\": {\"bgcolor\": \"white\", \"lakecolor\": \"white\", \"landcolor\": \"#E5ECF6\", \"showlakes\": true, \"showland\": true, \"subunitcolor\": \"white\"}, \"hoverlabel\": {\"align\": \"left\"}, \"hovermode\": \"closest\", \"mapbox\": {\"style\": \"light\"}, \"paper_bgcolor\": \"white\", \"plot_bgcolor\": \"#E5ECF6\", \"polar\": {\"angularaxis\": {\"gridcolor\": \"white\", \"linecolor\": \"white\", \"ticks\": \"\"}, \"bgcolor\": \"#E5ECF6\", \"radialaxis\": {\"gridcolor\": \"white\", \"linecolor\": \"white\", \"ticks\": \"\"}}, \"scene\": {\"xaxis\": {\"backgroundcolor\": \"#E5ECF6\", \"gridcolor\": \"white\", \"gridwidth\": 2, \"linecolor\": \"white\", \"showbackground\": true, \"ticks\": \"\", \"zerolinecolor\": \"white\"}, \"yaxis\": {\"backgroundcolor\": \"#E5ECF6\", \"gridcolor\": \"white\", \"gridwidth\": 2, \"linecolor\": \"white\", \"showbackground\": true, \"ticks\": \"\", \"zerolinecolor\": \"white\"}, \"zaxis\": {\"backgroundcolor\": \"#E5ECF6\", \"gridcolor\": \"white\", \"gridwidth\": 2, \"linecolor\": \"white\", \"showbackground\": true, \"ticks\": \"\", \"zerolinecolor\": \"white\"}}, \"shapedefaults\": {\"line\": {\"color\": \"#2a3f5f\"}}, \"ternary\": {\"aaxis\": {\"gridcolor\": \"white\", \"linecolor\": \"white\", \"ticks\": \"\"}, \"baxis\": {\"gridcolor\": \"white\", \"linecolor\": \"white\", \"ticks\": \"\"}, \"bgcolor\": \"#E5ECF6\", \"caxis\": {\"gridcolor\": \"white\", \"linecolor\": \"white\", \"ticks\": \"\"}}, \"title\": {\"x\": 0.05}, \"xaxis\": {\"automargin\": true, \"gridcolor\": \"white\", \"linecolor\": \"white\", \"ticks\": \"\", \"title\": {\"standoff\": 15}, \"zerolinecolor\": \"white\", \"zerolinewidth\": 2}, \"yaxis\": {\"automargin\": true, \"gridcolor\": \"white\", \"linecolor\": \"white\", \"ticks\": \"\", \"title\": {\"standoff\": 15}, \"zerolinecolor\": \"white\", \"zerolinewidth\": 2}}}, \"xaxis\": {\"anchor\": \"y\", \"domain\": [0.0, 1.0], \"title\": {\"text\": \"obesity\"}}, \"yaxis\": {\"anchor\": \"x\", \"domain\": [0.0, 1.0], \"title\": {\"text\": \"age\"}}},\n",
              "                        {\"responsive\": true}\n",
              "                    ).then(function(){\n",
              "                            \n",
              "var gd = document.getElementById('3f60897d-ba3b-4085-9755-66f7a64f9c5b');\n",
              "var x = new MutationObserver(function (mutations, observer) {{\n",
              "        var display = window.getComputedStyle(gd).display;\n",
              "        if (!display || display === 'none') {{\n",
              "            console.log([gd, 'removed!']);\n",
              "            Plotly.purge(gd);\n",
              "            observer.disconnect();\n",
              "        }}\n",
              "}});\n",
              "\n",
              "// Listen for the removal of the full notebook cells\n",
              "var notebookContainer = gd.closest('#notebook-container');\n",
              "if (notebookContainer) {{\n",
              "    x.observe(notebookContainer, {childList: true});\n",
              "}}\n",
              "\n",
              "// Listen for the clearing of the current output cell\n",
              "var outputEl = gd.closest('.output');\n",
              "if (outputEl) {{\n",
              "    x.observe(outputEl, {childList: true});\n",
              "}}\n",
              "\n",
              "                        })\n",
              "                };\n",
              "                });\n",
              "            </script>\n",
              "        </div>"
            ],
            "application/vnd.plotly.v1+json": {
              "config": {
                "plotlyServerURL": "https://plot.ly"
              },
              "data": [
                {
                  "hovertemplate": "coracao=1<br>obesity=%{x}<br>age=%{y}",
                  "showlegend": true,
                  "legendgroup": "coracao=1",
                  "name": "coracao=1",
                  "yaxis": "y",
                  "marker": {
                    "color": "#636efa",
                    "symbol": "circle"
                  },
                  "hoverlabel": {
                    "namelength": 0
                  },
                  "mode": "markers",
                  "xaxis": "x",
                  "y": [
                    52,
                    63,
                    58,
                    49,
                    58,
                    53,
                    60,
                    40,
                    53,
                    62,
                    59,
                    20,
                    42,
                    61,
                    63,
                    45,
                    46,
                    59,
                    41,
                    28,
                    58,
                    41,
                    51,
                    58,
                    33,
                    42,
                    31,
                    38,
                    32,
                    55,
                    56,
                    45,
                    53,
                    55,
                    57,
                    49,
                    64,
                    49,
                    51,
                    61,
                    54,
                    54,
                    61,
                    59,
                    32,
                    61,
                    56,
                    59,
                    60,
                    58,
                    30,
                    52,
                    54,
                    25,
                    43,
                    33,
                    61,
                    41,
                    55,
                    43,
                    62,
                    55,
                    43,
                    61,
                    60,
                    39,
                    48,
                    33,
                    64,
                    40,
                    49,
                    39,
                    54,
                    31,
                    40,
                    62,
                    45,
                    46,
                    45,
                    32,
                    52,
                    64,
                    50,
                    58,
                    58,
                    51,
                    45,
                    55,
                    60,
                    56,
                    58,
                    63,
                    54,
                    37,
                    58,
                    17,
                    52,
                    45,
                    55,
                    41,
                    55,
                    63,
                    64,
                    28,
                    50,
                    41,
                    38,
                    56,
                    42,
                    46,
                    32,
                    59,
                    59,
                    59,
                    59,
                    59,
                    64,
                    36,
                    51,
                    59,
                    59,
                    58,
                    52,
                    53,
                    26,
                    53,
                    43,
                    58,
                    61,
                    58,
                    62,
                    52,
                    64,
                    64,
                    38,
                    54,
                    53,
                    53,
                    39,
                    50,
                    48,
                    55,
                    62,
                    58,
                    61,
                    60,
                    62,
                    55,
                    63,
                    39,
                    55,
                    61,
                    42,
                    34,
                    48,
                    51,
                    39,
                    27,
                    52,
                    46
                  ],
                  "x": [
                    25.3,
                    28.87,
                    31.99,
                    25.99,
                    23.11,
                    30.11,
                    26.81,
                    23.09,
                    32.73,
                    29.3,
                    30.09,
                    20.92,
                    23.23,
                    20.96,
                    28.07,
                    21.86,
                    22.13,
                    28.07,
                    30.25,
                    19.49,
                    27.68,
                    30.98,
                    26.29,
                    25.71,
                    30.01,
                    28.64,
                    22.65,
                    25.52,
                    21.06,
                    27.19,
                    24.25,
                    22.59,
                    45.72,
                    25.44,
                    26.38,
                    19.37,
                    30.57,
                    25.15,
                    27.07,
                    22.29,
                    37.41,
                    26.18,
                    25.27,
                    19.4,
                    21.91,
                    23.35,
                    24.78,
                    33.14,
                    29.44,
                    31.44,
                    24.7,
                    24.05,
                    33.87,
                    19.3,
                    28.73,
                    29.38,
                    23.22,
                    21.78,
                    23.33,
                    25.62,
                    27.45,
                    27.14,
                    25.87,
                    26.52,
                    27.14,
                    21.48,
                    26.74,
                    21.94,
                    25.39,
                    24.37,
                    35.94,
                    23.59,
                    28.25,
                    25.12,
                    31.27,
                    31.15,
                    22.56,
                    41.76,
                    25.01,
                    27.29,
                    28.33,
                    27.25,
                    28.99,
                    26.08,
                    29.42,
                    27.44,
                    27.29,
                    34.35,
                    28.67,
                    22.3,
                    29.37,
                    20.86,
                    22.75,
                    36.46,
                    24.49,
                    18.46,
                    23.39,
                    26.2,
                    30.01,
                    37.24,
                    22.18,
                    26.56,
                    28.75,
                    24.07,
                    27.36,
                    31.83,
                    27.02,
                    27.87,
                    23.65,
                    26.07,
                    30.22,
                    26.86,
                    18.75,
                    22.04,
                    24.32,
                    27.04,
                    28.51,
                    28.4,
                    28.94,
                    23.95,
                    26.43,
                    26.8,
                    23.31,
                    20.43,
                    28.4,
                    25.76,
                    24.98,
                    27.81,
                    21.79,
                    23.26,
                    30.12,
                    25.22,
                    26.53,
                    33.17,
                    30.75,
                    32.91,
                    25.92,
                    25.99,
                    24.34,
                    35.07,
                    24.86,
                    27,
                    21.26,
                    25.12,
                    30.54,
                    32.04,
                    27.29,
                    28.5,
                    20.58,
                    24.54,
                    27.92,
                    21.07,
                    23.66,
                    28.92,
                    27.55,
                    31.5,
                    28.11,
                    23.96,
                    28.61,
                    14.7
                  ],
                  "type": "scatter"
                },
                {
                  "hovertemplate": "coracao=0<br>obesity=%{x}<br>age=%{y}",
                  "showlegend": true,
                  "legendgroup": "coracao=0",
                  "name": "coracao=0",
                  "yaxis": "y",
                  "marker": {
                    "color": "#EF553B",
                    "symbol": "circle"
                  },
                  "hoverlabel": {
                    "namelength": 0
                  },
                  "mode": "markers",
                  "xaxis": "x",
                  "y": [
                    46,
                    45,
                    38,
                    29,
                    17,
                    15,
                    53,
                    46,
                    49,
                    44,
                    50,
                    58,
                    50,
                    48,
                    56,
                    48,
                    32,
                    46,
                    29,
                    30,
                    15,
                    17,
                    48,
                    16,
                    30,
                    42,
                    49,
                    53,
                    48,
                    28,
                    18,
                    61,
                    33,
                    44,
                    57,
                    38,
                    17,
                    54,
                    30,
                    27,
                    33,
                    15,
                    26,
                    36,
                    20,
                    34,
                    40,
                    55,
                    39,
                    17,
                    45,
                    38,
                    41,
                    55,
                    21,
                    29,
                    56,
                    62,
                    29,
                    39,
                    39,
                    50,
                    27,
                    46,
                    31,
                    29,
                    64,
                    42,
                    18,
                    16,
                    37,
                    48,
                    42,
                    27,
                    60,
                    28,
                    33,
                    45,
                    28,
                    38,
                    64,
                    62,
                    54,
                    40,
                    32,
                    28,
                    20,
                    54,
                    38,
                    58,
                    40,
                    40,
                    31,
                    55,
                    52,
                    24,
                    20,
                    17,
                    53,
                    38,
                    31,
                    16,
                    21,
                    16,
                    49,
                    25,
                    48,
                    41,
                    32,
                    47,
                    61,
                    62,
                    37,
                    17,
                    24,
                    56,
                    56,
                    51,
                    63,
                    39,
                    63,
                    23,
                    18,
                    21,
                    17,
                    42,
                    27,
                    23,
                    33,
                    64,
                    58,
                    40,
                    18,
                    60,
                    59,
                    60,
                    60,
                    44,
                    53,
                    18,
                    26,
                    25,
                    57,
                    16,
                    60,
                    56,
                    42,
                    62,
                    30,
                    29,
                    61,
                    57,
                    27,
                    16,
                    47,
                    41,
                    57,
                    60,
                    64,
                    48,
                    17,
                    42,
                    46,
                    49,
                    44,
                    20,
                    61,
                    35,
                    18,
                    17,
                    57,
                    16,
                    24,
                    43,
                    43,
                    16,
                    16,
                    42,
                    27,
                    17,
                    19,
                    17,
                    16,
                    16,
                    16,
                    44,
                    34,
                    17,
                    17,
                    53,
                    45,
                    53,
                    27,
                    49,
                    45,
                    37,
                    34,
                    46,
                    44,
                    50,
                    59,
                    38,
                    26,
                    51,
                    59,
                    38,
                    61,
                    55,
                    62,
                    19,
                    39,
                    55,
                    17,
                    45,
                    43,
                    59,
                    27,
                    30,
                    40,
                    31,
                    37,
                    61,
                    60,
                    49,
                    36,
                    54,
                    24,
                    49,
                    50,
                    32,
                    34,
                    48,
                    60,
                    28,
                    24,
                    30,
                    38,
                    42,
                    41,
                    32,
                    64,
                    29,
                    45,
                    31,
                    53,
                    38,
                    52,
                    44,
                    31,
                    44,
                    59,
                    26,
                    61,
                    64,
                    48,
                    27,
                    62,
                    47,
                    49,
                    49,
                    57,
                    51,
                    40,
                    16,
                    60,
                    46,
                    60,
                    45,
                    48,
                    41,
                    43,
                    63,
                    33,
                    33,
                    49,
                    34,
                    32,
                    16,
                    16,
                    16,
                    18,
                    16,
                    16,
                    17,
                    16,
                    31,
                    40,
                    32,
                    16,
                    52,
                    37,
                    27,
                    25,
                    17,
                    20,
                    24,
                    18,
                    42,
                    57,
                    58,
                    55,
                    40
                  ],
                  "x": [
                    29.14,
                    30.77,
                    20.81,
                    24.86,
                    21.57,
                    23.63,
                    23.53,
                    25.89,
                    25.31,
                    26.16,
                    24.64,
                    28.7,
                    26.19,
                    38.8,
                    29.43,
                    29.84,
                    27.36,
                    30.9,
                    24.86,
                    23.75,
                    22.15,
                    46.58,
                    22.95,
                    20.17,
                    30.53,
                    29.01,
                    27.19,
                    23.91,
                    26.57,
                    23.83,
                    22.94,
                    22.51,
                    23.65,
                    25.65,
                    26.21,
                    27.23,
                    22.07,
                    25,
                    28.49,
                    22.08,
                    29.01,
                    19.15,
                    17.81,
                    25.76,
                    17.75,
                    27.86,
                    21.66,
                    29.16,
                    25.72,
                    20.75,
                    27.52,
                    27.83,
                    21.94,
                    28.34,
                    21.59,
                    29.17,
                    30.16,
                    20.54,
                    26.06,
                    27.59,
                    23.44,
                    22.69,
                    28.37,
                    32.18,
                    30.97,
                    28.63,
                    26.64,
                    23.48,
                    22.04,
                    25.51,
                    21.03,
                    28.41,
                    20.6,
                    28.02,
                    22.86,
                    25.85,
                    26.21,
                    25.91,
                    27.78,
                    34.42,
                    34.57,
                    24.79,
                    29.29,
                    26.09,
                    21.13,
                    21.25,
                    20.52,
                    32.83,
                    24.97,
                    31.21,
                    24.72,
                    22.1,
                    22.09,
                    24.7,
                    24.15,
                    25.63,
                    22.61,
                    22.03,
                    30.71,
                    25.81,
                    24.81,
                    22.16,
                    20,
                    22.13,
                    23.64,
                    25.99,
                    36.06,
                    29.33,
                    24.46,
                    26.09,
                    29.83,
                    22.05,
                    27.95,
                    20.16,
                    26.24,
                    27.96,
                    30.14,
                    40.34,
                    28.88,
                    25.42,
                    24.73,
                    30.42,
                    21.62,
                    22.01,
                    25.63,
                    31.59,
                    25.26,
                    24.58,
                    29.87,
                    23.81,
                    24.96,
                    29.34,
                    26.71,
                    28.4,
                    25.71,
                    31.44,
                    26.88,
                    23.63,
                    26.75,
                    22.45,
                    21.47,
                    22.6,
                    27.62,
                    20.28,
                    27.38,
                    19.48,
                    24.69,
                    29.19,
                    24.36,
                    25.7,
                    28.85,
                    27.3,
                    23.12,
                    22.7,
                    26.01,
                    26.09,
                    21.59,
                    25.11,
                    25.68,
                    27.84,
                    23.14,
                    22.51,
                    23.76,
                    23.54,
                    35.51,
                    22.76,
                    20.17,
                    27.8,
                    20.01,
                    19.61,
                    24.86,
                    20.31,
                    24.98,
                    25.02,
                    25.8,
                    17.89,
                    22.65,
                    22.29,
                    26.37,
                    22.17,
                    27.66,
                    24.82,
                    23.23,
                    22.03,
                    19.82,
                    23.43,
                    32.33,
                    20.42,
                    22.59,
                    29.51,
                    23.8,
                    35.42,
                    22.51,
                    26.59,
                    28.84,
                    26.09,
                    30.86,
                    25.67,
                    37.71,
                    30.31,
                    22.67,
                    22.24,
                    23.79,
                    24.98,
                    25.67,
                    24.72,
                    24.38,
                    19.44,
                    29.41,
                    20.74,
                    20.29,
                    27.39,
                    24,
                    28.63,
                    27.09,
                    28.69,
                    32.21,
                    30.31,
                    25.89,
                    26.76,
                    24.13,
                    18.36,
                    22.91,
                    24.5,
                    22.41,
                    24.08,
                    26.49,
                    33.28,
                    26.67,
                    27.03,
                    28.08,
                    24.7,
                    26.96,
                    26.11,
                    30.92,
                    26.27,
                    22.01,
                    29.27,
                    24.18,
                    29.38,
                    26.42,
                    30.74,
                    27.62,
                    24.49,
                    27.16,
                    33.35,
                    24.81,
                    32.77,
                    21.3,
                    26.99,
                    21.83,
                    24.2,
                    23.74,
                    26.7,
                    35.58,
                    25.97,
                    30.77,
                    26.3,
                    23.82,
                    30.61,
                    31.65,
                    27.26,
                    26.83,
                    24.8,
                    34.72,
                    31.03,
                    25.92,
                    30.18,
                    22.15,
                    24.94,
                    22.4,
                    23.37,
                    24.92,
                    31.16,
                    28.71,
                    23.25,
                    27.2,
                    20.18,
                    19.38,
                    21.94,
                    22.01,
                    18.5,
                    21.51,
                    25.38,
                    22.59,
                    21.4,
                    22.05,
                    29,
                    21.89,
                    28.7,
                    26.33,
                    30.08,
                    20.7,
                    20.28,
                    22.26,
                    19.57,
                    23.37,
                    26.15,
                    33.1,
                    28.45,
                    20.09,
                    27.35
                  ],
                  "type": "scatter"
                }
              ],
              "layout": {
                "xaxis": {
                  "domain": [
                    0,
                    1
                  ],
                  "anchor": "y",
                  "title": {
                    "text": "obesity"
                  }
                },
                "margin": {
                  "t": 60
                },
                "legend": {
                  "tracegroupgap": 0
                },
                "template": {
                  "data": {
                    "mesh3d": [
                      {
                        "colorbar": {
                          "outlinewidth": 0,
                          "ticks": ""
                        },
                        "type": "mesh3d"
                      }
                    ],
                    "scattercarpet": [
                      {
                        "marker": {
                          "colorbar": {
                            "outlinewidth": 0,
                            "ticks": ""
                          }
                        },
                        "type": "scattercarpet"
                      }
                    ],
                    "pie": [
                      {
                        "automargin": true,
                        "type": "pie"
                      }
                    ],
                    "surface": [
                      {
                        "colorbar": {
                          "outlinewidth": 0,
                          "ticks": ""
                        },
                        "type": "surface",
                        "colorscale": [
                          [
                            0,
                            "#0d0887"
                          ],
                          [
                            0.1111111111111111,
                            "#46039f"
                          ],
                          [
                            0.2222222222222222,
                            "#7201a8"
                          ],
                          [
                            0.3333333333333333,
                            "#9c179e"
                          ],
                          [
                            0.4444444444444444,
                            "#bd3786"
                          ],
                          [
                            0.5555555555555556,
                            "#d8576b"
                          ],
                          [
                            0.6666666666666666,
                            "#ed7953"
                          ],
                          [
                            0.7777777777777778,
                            "#fb9f3a"
                          ],
                          [
                            0.8888888888888888,
                            "#fdca26"
                          ],
                          [
                            1,
                            "#f0f921"
                          ]
                        ]
                      }
                    ],
                    "table": [
                      {
                        "header": {
                          "line": {
                            "color": "white"
                          },
                          "fill": {
                            "color": "#C8D4E3"
                          }
                        },
                        "cells": {
                          "line": {
                            "color": "white"
                          },
                          "fill": {
                            "color": "#EBF0F8"
                          }
                        },
                        "type": "table"
                      }
                    ],
                    "scatterpolargl": [
                      {
                        "marker": {
                          "colorbar": {
                            "outlinewidth": 0,
                            "ticks": ""
                          }
                        },
                        "type": "scatterpolargl"
                      }
                    ],
                    "contour": [
                      {
                        "colorbar": {
                          "outlinewidth": 0,
                          "ticks": ""
                        },
                        "type": "contour",
                        "colorscale": [
                          [
                            0,
                            "#0d0887"
                          ],
                          [
                            0.1111111111111111,
                            "#46039f"
                          ],
                          [
                            0.2222222222222222,
                            "#7201a8"
                          ],
                          [
                            0.3333333333333333,
                            "#9c179e"
                          ],
                          [
                            0.4444444444444444,
                            "#bd3786"
                          ],
                          [
                            0.5555555555555556,
                            "#d8576b"
                          ],
                          [
                            0.6666666666666666,
                            "#ed7953"
                          ],
                          [
                            0.7777777777777778,
                            "#fb9f3a"
                          ],
                          [
                            0.8888888888888888,
                            "#fdca26"
                          ],
                          [
                            1,
                            "#f0f921"
                          ]
                        ]
                      }
                    ],
                    "carpet": [
                      {
                        "baxis": {
                          "endlinecolor": "#2a3f5f",
                          "gridcolor": "white",
                          "linecolor": "white",
                          "minorgridcolor": "white",
                          "startlinecolor": "#2a3f5f"
                        },
                        "type": "carpet",
                        "aaxis": {
                          "endlinecolor": "#2a3f5f",
                          "gridcolor": "white",
                          "linecolor": "white",
                          "minorgridcolor": "white",
                          "startlinecolor": "#2a3f5f"
                        }
                      }
                    ],
                    "contourcarpet": [
                      {
                        "colorbar": {
                          "outlinewidth": 0,
                          "ticks": ""
                        },
                        "type": "contourcarpet"
                      }
                    ],
                    "heatmap": [
                      {
                        "colorbar": {
                          "outlinewidth": 0,
                          "ticks": ""
                        },
                        "type": "heatmap",
                        "colorscale": [
                          [
                            0,
                            "#0d0887"
                          ],
                          [
                            0.1111111111111111,
                            "#46039f"
                          ],
                          [
                            0.2222222222222222,
                            "#7201a8"
                          ],
                          [
                            0.3333333333333333,
                            "#9c179e"
                          ],
                          [
                            0.4444444444444444,
                            "#bd3786"
                          ],
                          [
                            0.5555555555555556,
                            "#d8576b"
                          ],
                          [
                            0.6666666666666666,
                            "#ed7953"
                          ],
                          [
                            0.7777777777777778,
                            "#fb9f3a"
                          ],
                          [
                            0.8888888888888888,
                            "#fdca26"
                          ],
                          [
                            1,
                            "#f0f921"
                          ]
                        ]
                      }
                    ],
                    "scattermapbox": [
                      {
                        "marker": {
                          "colorbar": {
                            "outlinewidth": 0,
                            "ticks": ""
                          }
                        },
                        "type": "scattermapbox"
                      }
                    ],
                    "scatter3d": [
                      {
                        "marker": {
                          "colorbar": {
                            "outlinewidth": 0,
                            "ticks": ""
                          }
                        },
                        "line": {
                          "colorbar": {
                            "outlinewidth": 0,
                            "ticks": ""
                          }
                        },
                        "type": "scatter3d"
                      }
                    ],
                    "scattergl": [
                      {
                        "marker": {
                          "colorbar": {
                            "outlinewidth": 0,
                            "ticks": ""
                          }
                        },
                        "type": "scattergl"
                      }
                    ],
                    "scatterternary": [
                      {
                        "marker": {
                          "colorbar": {
                            "outlinewidth": 0,
                            "ticks": ""
                          }
                        },
                        "type": "scatterternary"
                      }
                    ],
                    "histogram2d": [
                      {
                        "colorbar": {
                          "outlinewidth": 0,
                          "ticks": ""
                        },
                        "type": "histogram2d",
                        "colorscale": [
                          [
                            0,
                            "#0d0887"
                          ],
                          [
                            0.1111111111111111,
                            "#46039f"
                          ],
                          [
                            0.2222222222222222,
                            "#7201a8"
                          ],
                          [
                            0.3333333333333333,
                            "#9c179e"
                          ],
                          [
                            0.4444444444444444,
                            "#bd3786"
                          ],
                          [
                            0.5555555555555556,
                            "#d8576b"
                          ],
                          [
                            0.6666666666666666,
                            "#ed7953"
                          ],
                          [
                            0.7777777777777778,
                            "#fb9f3a"
                          ],
                          [
                            0.8888888888888888,
                            "#fdca26"
                          ],
                          [
                            1,
                            "#f0f921"
                          ]
                        ]
                      }
                    ],
                    "heatmapgl": [
                      {
                        "colorbar": {
                          "outlinewidth": 0,
                          "ticks": ""
                        },
                        "type": "heatmapgl",
                        "colorscale": [
                          [
                            0,
                            "#0d0887"
                          ],
                          [
                            0.1111111111111111,
                            "#46039f"
                          ],
                          [
                            0.2222222222222222,
                            "#7201a8"
                          ],
                          [
                            0.3333333333333333,
                            "#9c179e"
                          ],
                          [
                            0.4444444444444444,
                            "#bd3786"
                          ],
                          [
                            0.5555555555555556,
                            "#d8576b"
                          ],
                          [
                            0.6666666666666666,
                            "#ed7953"
                          ],
                          [
                            0.7777777777777778,
                            "#fb9f3a"
                          ],
                          [
                            0.8888888888888888,
                            "#fdca26"
                          ],
                          [
                            1,
                            "#f0f921"
                          ]
                        ]
                      }
                    ],
                    "scatterpolar": [
                      {
                        "marker": {
                          "colorbar": {
                            "outlinewidth": 0,
                            "ticks": ""
                          }
                        },
                        "type": "scatterpolar"
                      }
                    ],
                    "histogram": [
                      {
                        "marker": {
                          "colorbar": {
                            "outlinewidth": 0,
                            "ticks": ""
                          }
                        },
                        "type": "histogram"
                      }
                    ],
                    "scattergeo": [
                      {
                        "marker": {
                          "colorbar": {
                            "outlinewidth": 0,
                            "ticks": ""
                          }
                        },
                        "type": "scattergeo"
                      }
                    ],
                    "bar": [
                      {
                        "marker": {
                          "line": {
                            "color": "#E5ECF6",
                            "width": 0.5
                          }
                        },
                        "error_x": {
                          "color": "#2a3f5f"
                        },
                        "type": "bar",
                        "error_y": {
                          "color": "#2a3f5f"
                        }
                      }
                    ],
                    "choropleth": [
                      {
                        "colorbar": {
                          "outlinewidth": 0,
                          "ticks": ""
                        },
                        "type": "choropleth"
                      }
                    ],
                    "parcoords": [
                      {
                        "line": {
                          "colorbar": {
                            "outlinewidth": 0,
                            "ticks": ""
                          }
                        },
                        "type": "parcoords"
                      }
                    ],
                    "barpolar": [
                      {
                        "marker": {
                          "line": {
                            "color": "#E5ECF6",
                            "width": 0.5
                          }
                        },
                        "type": "barpolar"
                      }
                    ],
                    "histogram2dcontour": [
                      {
                        "colorbar": {
                          "outlinewidth": 0,
                          "ticks": ""
                        },
                        "type": "histogram2dcontour",
                        "colorscale": [
                          [
                            0,
                            "#0d0887"
                          ],
                          [
                            0.1111111111111111,
                            "#46039f"
                          ],
                          [
                            0.2222222222222222,
                            "#7201a8"
                          ],
                          [
                            0.3333333333333333,
                            "#9c179e"
                          ],
                          [
                            0.4444444444444444,
                            "#bd3786"
                          ],
                          [
                            0.5555555555555556,
                            "#d8576b"
                          ],
                          [
                            0.6666666666666666,
                            "#ed7953"
                          ],
                          [
                            0.7777777777777778,
                            "#fb9f3a"
                          ],
                          [
                            0.8888888888888888,
                            "#fdca26"
                          ],
                          [
                            1,
                            "#f0f921"
                          ]
                        ]
                      }
                    ],
                    "scatter": [
                      {
                        "marker": {
                          "colorbar": {
                            "outlinewidth": 0,
                            "ticks": ""
                          }
                        },
                        "type": "scatter"
                      }
                    ]
                  },
                  "layout": {
                    "shapedefaults": {
                      "line": {
                        "color": "#2a3f5f"
                      }
                    },
                    "polar": {
                      "radialaxis": {
                        "ticks": "",
                        "gridcolor": "white",
                        "linecolor": "white"
                      },
                      "bgcolor": "#E5ECF6",
                      "angularaxis": {
                        "ticks": "",
                        "gridcolor": "white",
                        "linecolor": "white"
                      }
                    },
                    "colorway": [
                      "#636efa",
                      "#EF553B",
                      "#00cc96",
                      "#ab63fa",
                      "#FFA15A",
                      "#19d3f3",
                      "#FF6692",
                      "#B6E880",
                      "#FF97FF",
                      "#FECB52"
                    ],
                    "ternary": {
                      "bgcolor": "#E5ECF6",
                      "baxis": {
                        "ticks": "",
                        "gridcolor": "white",
                        "linecolor": "white"
                      },
                      "caxis": {
                        "ticks": "",
                        "gridcolor": "white",
                        "linecolor": "white"
                      },
                      "aaxis": {
                        "ticks": "",
                        "gridcolor": "white",
                        "linecolor": "white"
                      }
                    },
                    "colorscale": {
                      "diverging": [
                        [
                          0,
                          "#8e0152"
                        ],
                        [
                          0.1,
                          "#c51b7d"
                        ],
                        [
                          0.2,
                          "#de77ae"
                        ],
                        [
                          0.3,
                          "#f1b6da"
                        ],
                        [
                          0.4,
                          "#fde0ef"
                        ],
                        [
                          0.5,
                          "#f7f7f7"
                        ],
                        [
                          0.6,
                          "#e6f5d0"
                        ],
                        [
                          0.7,
                          "#b8e186"
                        ],
                        [
                          0.8,
                          "#7fbc41"
                        ],
                        [
                          0.9,
                          "#4d9221"
                        ],
                        [
                          1,
                          "#276419"
                        ]
                      ],
                      "sequential": [
                        [
                          0,
                          "#0d0887"
                        ],
                        [
                          0.1111111111111111,
                          "#46039f"
                        ],
                        [
                          0.2222222222222222,
                          "#7201a8"
                        ],
                        [
                          0.3333333333333333,
                          "#9c179e"
                        ],
                        [
                          0.4444444444444444,
                          "#bd3786"
                        ],
                        [
                          0.5555555555555556,
                          "#d8576b"
                        ],
                        [
                          0.6666666666666666,
                          "#ed7953"
                        ],
                        [
                          0.7777777777777778,
                          "#fb9f3a"
                        ],
                        [
                          0.8888888888888888,
                          "#fdca26"
                        ],
                        [
                          1,
                          "#f0f921"
                        ]
                      ],
                      "sequentialminus": [
                        [
                          0,
                          "#0d0887"
                        ],
                        [
                          0.1111111111111111,
                          "#46039f"
                        ],
                        [
                          0.2222222222222222,
                          "#7201a8"
                        ],
                        [
                          0.3333333333333333,
                          "#9c179e"
                        ],
                        [
                          0.4444444444444444,
                          "#bd3786"
                        ],
                        [
                          0.5555555555555556,
                          "#d8576b"
                        ],
                        [
                          0.6666666666666666,
                          "#ed7953"
                        ],
                        [
                          0.7777777777777778,
                          "#fb9f3a"
                        ],
                        [
                          0.8888888888888888,
                          "#fdca26"
                        ],
                        [
                          1,
                          "#f0f921"
                        ]
                      ]
                    },
                    "paper_bgcolor": "white",
                    "plot_bgcolor": "#E5ECF6",
                    "title": {
                      "x": 0.05
                    },
                    "scene": {
                      "zaxis": {
                        "linecolor": "white",
                        "ticks": "",
                        "gridwidth": 2,
                        "showbackground": true,
                        "zerolinecolor": "white",
                        "gridcolor": "white",
                        "backgroundcolor": "#E5ECF6"
                      },
                      "xaxis": {
                        "linecolor": "white",
                        "ticks": "",
                        "gridwidth": 2,
                        "showbackground": true,
                        "zerolinecolor": "white",
                        "gridcolor": "white",
                        "backgroundcolor": "#E5ECF6"
                      },
                      "yaxis": {
                        "linecolor": "white",
                        "ticks": "",
                        "gridwidth": 2,
                        "showbackground": true,
                        "zerolinecolor": "white",
                        "gridcolor": "white",
                        "backgroundcolor": "#E5ECF6"
                      }
                    },
                    "yaxis": {
                      "automargin": true,
                      "title": {
                        "standoff": 15
                      },
                      "zerolinewidth": 2,
                      "ticks": "",
                      "zerolinecolor": "white",
                      "gridcolor": "white",
                      "linecolor": "white"
                    },
                    "coloraxis": {
                      "colorbar": {
                        "outlinewidth": 0,
                        "ticks": ""
                      }
                    },
                    "hoverlabel": {
                      "align": "left"
                    },
                    "xaxis": {
                      "automargin": true,
                      "title": {
                        "standoff": 15
                      },
                      "zerolinewidth": 2,
                      "ticks": "",
                      "zerolinecolor": "white",
                      "gridcolor": "white",
                      "linecolor": "white"
                    },
                    "mapbox": {
                      "style": "light"
                    },
                    "hovermode": "closest",
                    "font": {
                      "color": "#2a3f5f"
                    },
                    "geo": {
                      "showland": true,
                      "bgcolor": "white",
                      "showlakes": true,
                      "landcolor": "#E5ECF6",
                      "subunitcolor": "white",
                      "lakecolor": "white"
                    },
                    "annotationdefaults": {
                      "arrowwidth": 1,
                      "arrowhead": 0,
                      "arrowcolor": "#2a3f5f"
                    }
                  }
                },
                "yaxis": {
                  "domain": [
                    0,
                    1
                  ],
                  "anchor": "x",
                  "title": {
                    "text": "age"
                  }
                }
              }
            }
          },
          "metadata": {}
        }
      ],
      "execution_count": 294,
      "metadata": {
        "collapsed": false,
        "jupyter": {
          "source_hidden": false,
          "outputs_hidden": false
        },
        "nteract": {
          "transient": {
            "deleting": false
          }
        }
      }
    },
    {
      "cell_type": "code",
      "source": [
        "px.density_heatmap(data_frame=dados, x=dados.obesity.name, y=dados.age.name, z='coracao', nbinsx=30)"
      ],
      "outputs": [
        {
          "output_type": "display_data",
          "data": {
            "text/html": [
              "<div>\n",
              "        \n",
              "        \n",
              "            <div id=\"ca6a458b-0c90-4d82-b225-1788a35eb1b8\" class=\"plotly-graph-div\" style=\"height:525px; width:100%;\"></div>\n",
              "            <script type=\"text/javascript\">\n",
              "                require([\"plotly\"], function(Plotly) {\n",
              "                    window.PLOTLYENV=window.PLOTLYENV || {};\n",
              "                    \n",
              "                if (document.getElementById(\"ca6a458b-0c90-4d82-b225-1788a35eb1b8\")) {\n",
              "                    Plotly.newPlot(\n",
              "                        'ca6a458b-0c90-4d82-b225-1788a35eb1b8',\n",
              "                        [{\"coloraxis\": \"coloraxis\", \"hoverlabel\": {\"namelength\": 0}, \"hovertemplate\": \"obesity=%{x}<br>age=%{y}<br>count of coracao=%{z}\", \"name\": \"\", \"nbinsx\": 30, \"type\": \"histogram2d\", \"x\": [25.3, 28.87, 29.14, 31.99, 25.99, 30.77, 20.81, 23.11, 24.86, 30.11, 26.81, 23.09, 21.57, 23.63, 23.53, 25.89, 25.31, 32.73, 29.3, 30.09, 20.92, 26.16, 24.64, 28.7, 26.19, 23.23, 38.8, 20.96, 29.43, 28.07, 21.86, 22.13, 28.07, 30.25, 29.84, 19.49, 27.36, 30.9, 24.86, 27.68, 30.98, 23.75, 22.15, 26.29, 46.58, 22.95, 25.71, 30.01, 20.17, 30.53, 29.01, 27.19, 28.64, 22.65, 23.91, 26.57, 23.83, 25.52, 22.94, 22.51, 23.65, 25.65, 26.21, 27.23, 22.07, 25.0, 28.49, 22.08, 29.01, 21.06, 19.15, 17.81, 25.76, 17.75, 27.86, 21.66, 29.16, 27.19, 24.25, 25.72, 22.59, 45.72, 25.44, 26.38, 20.75, 27.52, 19.37, 27.83, 21.94, 28.34, 21.59, 30.57, 29.17, 25.15, 30.16, 20.54, 26.06, 27.59, 27.07, 23.44, 22.69, 28.37, 32.18, 30.97, 28.63, 26.64, 22.29, 37.41, 23.48, 22.04, 25.51, 26.18, 21.03, 25.27, 19.4, 28.41, 21.91, 20.6, 23.35, 28.02, 22.86, 25.85, 26.21, 24.78, 25.91, 33.14, 27.78, 34.42, 29.44, 34.57, 24.79, 31.44, 24.7, 29.29, 26.09, 24.05, 21.13, 21.25, 20.52, 32.83, 33.87, 19.3, 24.97, 31.21, 24.72, 22.1, 22.09, 28.73, 29.38, 23.22, 24.7, 24.15, 25.63, 22.61, 21.78, 23.33, 22.03, 30.71, 25.81, 25.62, 24.81, 27.45, 22.16, 20.0, 22.13, 23.64, 27.14, 25.87, 25.99, 36.06, 29.33, 24.46, 26.09, 29.83, 22.05, 26.52, 27.95, 20.16, 26.24, 27.96, 30.14, 40.34, 27.14, 21.48, 26.74, 21.94, 28.88, 25.42, 24.73, 25.39, 24.37, 35.94, 23.59, 30.42, 21.62, 22.01, 25.63, 31.59, 28.25, 25.26, 24.58, 25.12, 29.87, 23.81, 24.96, 29.34, 26.71, 28.4, 25.71, 31.44, 26.88, 31.27, 23.63, 26.75, 22.45, 31.15, 22.56, 21.47, 22.6, 27.62, 20.28, 41.76, 27.38, 25.01, 19.48, 24.69, 27.29, 28.33, 27.25, 28.99, 26.08, 29.19, 29.42, 24.36, 25.7, 27.44, 28.85, 27.3, 23.12, 22.7, 27.29, 26.01, 26.09, 34.35, 28.67, 21.59, 22.3, 25.11, 25.68, 29.37, 27.84, 23.14, 20.86, 22.51, 23.76, 22.75, 36.46, 23.54, 24.49, 35.51, 18.46, 22.76, 20.17, 27.8, 23.39, 20.01, 19.61, 24.86, 20.31, 26.2, 30.01, 37.24, 24.98, 25.02, 22.18, 26.56, 28.75, 25.8, 17.89, 22.65, 24.07, 22.29, 27.36, 26.37, 31.83, 22.17, 27.66, 24.82, 23.23, 27.02, 22.03, 19.82, 23.43, 27.87, 32.33, 23.65, 20.42, 22.59, 26.07, 29.51, 23.8, 30.22, 35.42, 26.86, 22.51, 26.59, 28.84, 18.75, 26.09, 30.86, 22.04, 25.67, 24.32, 37.71, 30.31, 22.67, 22.24, 23.79, 27.04, 24.98, 25.67, 24.72, 24.38, 28.51, 19.44, 28.4, 29.41, 20.74, 20.29, 27.39, 24.0, 28.63, 28.94, 23.95, 26.43, 27.09, 26.8, 28.69, 32.21, 30.31, 25.89, 23.31, 20.43, 26.76, 24.13, 28.4, 25.76, 18.36, 24.98, 22.91, 24.5, 22.41, 27.81, 21.79, 24.08, 23.26, 26.49, 33.28, 26.67, 27.03, 30.12, 28.08, 24.7, 26.96, 25.22, 26.11, 30.92, 26.27, 22.01, 29.27, 26.53, 24.18, 29.38, 26.42, 30.74, 27.62, 24.49, 27.16, 33.35, 33.17, 24.81, 32.77, 30.75, 21.3, 26.99, 32.91, 21.83, 25.92, 24.2, 25.99, 24.34, 35.07, 23.74, 26.7, 35.58, 25.97, 30.77, 24.86, 27.0, 26.3, 23.82, 30.61, 21.26, 25.12, 31.65, 27.26, 30.54, 32.04, 26.83, 24.8, 27.29, 34.72, 28.5, 20.58, 31.03, 24.54, 25.92, 30.18, 22.15, 24.94, 22.4, 23.37, 27.92, 21.07, 23.66, 24.92, 31.16, 28.71, 23.25, 27.2, 20.18, 19.38, 21.94, 22.01, 18.5, 21.51, 25.38, 22.59, 21.4, 22.05, 29.0, 21.89, 28.7, 26.33, 30.08, 20.7, 28.92, 20.28, 22.26, 27.55, 19.57, 23.37, 26.15, 31.5, 28.11, 23.96, 33.1, 28.45, 28.61, 20.09, 27.35, 14.7], \"xaxis\": \"x\", \"xbingroup\": \"x\", \"y\": [52, 63, 46, 58, 49, 45, 38, 58, 29, 53, 60, 40, 17, 15, 53, 46, 49, 53, 62, 59, 20, 44, 50, 58, 50, 42, 48, 61, 56, 63, 45, 46, 59, 41, 48, 28, 32, 46, 29, 58, 41, 30, 15, 51, 17, 48, 58, 33, 16, 30, 42, 49, 42, 31, 53, 48, 28, 38, 18, 61, 33, 44, 57, 38, 17, 54, 30, 27, 33, 32, 15, 26, 36, 20, 34, 40, 55, 55, 56, 39, 45, 53, 55, 57, 17, 45, 49, 38, 41, 55, 21, 64, 29, 49, 56, 62, 29, 39, 51, 39, 50, 27, 46, 31, 29, 64, 61, 54, 42, 18, 16, 54, 37, 61, 59, 48, 32, 42, 61, 27, 60, 28, 33, 56, 45, 59, 28, 38, 60, 64, 62, 58, 30, 54, 40, 52, 32, 28, 20, 54, 54, 25, 38, 58, 40, 40, 31, 43, 33, 61, 55, 52, 24, 20, 41, 55, 17, 53, 38, 43, 31, 62, 16, 21, 16, 49, 55, 43, 25, 48, 41, 32, 47, 61, 62, 61, 37, 17, 24, 56, 56, 51, 60, 39, 48, 33, 63, 39, 63, 64, 40, 49, 39, 23, 18, 21, 17, 42, 54, 27, 23, 31, 33, 64, 58, 40, 18, 60, 59, 60, 60, 40, 44, 53, 18, 62, 45, 26, 25, 57, 16, 46, 60, 45, 56, 42, 32, 52, 64, 50, 58, 62, 58, 30, 29, 51, 61, 57, 27, 16, 45, 47, 41, 55, 60, 57, 56, 60, 64, 58, 48, 17, 63, 42, 46, 54, 37, 49, 58, 44, 17, 20, 61, 35, 52, 18, 17, 57, 16, 45, 55, 41, 24, 43, 55, 63, 64, 43, 16, 16, 28, 42, 50, 27, 41, 17, 19, 17, 16, 38, 16, 16, 44, 56, 34, 42, 17, 17, 46, 53, 45, 32, 53, 59, 27, 49, 45, 59, 37, 34, 59, 46, 59, 44, 50, 59, 38, 26, 59, 51, 59, 38, 61, 64, 55, 36, 62, 19, 39, 55, 17, 45, 51, 59, 59, 43, 58, 59, 27, 30, 40, 52, 53, 31, 37, 26, 53, 61, 43, 60, 49, 36, 58, 61, 54, 58, 24, 49, 50, 32, 62, 34, 48, 60, 52, 28, 24, 30, 38, 42, 64, 41, 32, 64, 29, 45, 31, 53, 38, 64, 52, 44, 38, 31, 44, 54, 59, 53, 26, 53, 39, 50, 61, 64, 48, 27, 62, 48, 55, 47, 49, 49, 62, 58, 57, 51, 61, 60, 40, 16, 62, 60, 55, 63, 46, 39, 60, 45, 48, 41, 43, 63, 55, 61, 42, 33, 33, 49, 34, 32, 16, 16, 16, 18, 16, 16, 17, 16, 31, 40, 32, 16, 52, 37, 27, 25, 34, 17, 20, 48, 24, 18, 42, 51, 39, 27, 57, 58, 52, 55, 40, 46], \"yaxis\": \"y\", \"ybingroup\": \"y\", \"z\": [\"1\", \"1\", \"0\", \"1\", \"1\", \"0\", \"0\", \"1\", \"0\", \"1\", \"1\", \"1\", \"0\", \"0\", \"0\", \"0\", \"0\", \"1\", \"1\", \"1\", \"1\", \"0\", \"0\", \"0\", \"0\", \"1\", \"0\", \"1\", \"0\", \"1\", \"1\", \"1\", \"1\", \"1\", \"0\", \"1\", \"0\", \"0\", \"0\", \"1\", \"1\", \"0\", \"0\", \"1\", \"0\", \"0\", \"1\", \"1\", \"0\", \"0\", \"0\", \"0\", \"1\", \"1\", \"0\", \"0\", \"0\", \"1\", \"0\", \"0\", \"0\", \"0\", \"0\", \"0\", \"0\", \"0\", \"0\", \"0\", \"0\", \"1\", \"0\", \"0\", \"0\", \"0\", \"0\", \"0\", \"0\", \"1\", \"1\", \"0\", \"1\", \"1\", \"1\", \"1\", \"0\", \"0\", \"1\", \"0\", \"0\", \"0\", \"0\", \"1\", \"0\", \"1\", \"0\", \"0\", \"0\", \"0\", \"1\", \"0\", \"0\", \"0\", \"0\", \"0\", \"0\", \"0\", \"1\", \"1\", \"0\", \"0\", \"0\", \"1\", \"0\", \"1\", \"1\", \"0\", \"1\", \"0\", \"1\", \"0\", \"0\", \"0\", \"0\", \"1\", \"0\", \"1\", \"0\", \"0\", \"1\", \"0\", \"0\", \"1\", \"1\", \"0\", \"0\", \"1\", \"0\", \"0\", \"0\", \"0\", \"1\", \"1\", \"0\", \"0\", \"0\", \"0\", \"0\", \"1\", \"1\", \"1\", \"0\", \"0\", \"0\", \"0\", \"1\", \"1\", \"0\", \"0\", \"0\", \"1\", \"0\", \"1\", \"0\", \"0\", \"0\", \"0\", \"1\", \"1\", \"0\", \"0\", \"0\", \"0\", \"0\", \"0\", \"0\", \"1\", \"0\", \"0\", \"0\", \"0\", \"0\", \"0\", \"1\", \"1\", \"1\", \"1\", \"0\", \"0\", \"0\", \"1\", \"1\", \"1\", \"1\", \"0\", \"0\", \"0\", \"0\", \"0\", \"1\", \"0\", \"0\", \"1\", \"0\", \"0\", \"0\", \"0\", \"0\", \"0\", \"0\", \"0\", \"0\", \"1\", \"0\", \"0\", \"0\", \"1\", \"1\", \"0\", \"0\", \"0\", \"0\", \"1\", \"0\", \"1\", \"0\", \"0\", \"1\", \"1\", \"1\", \"1\", \"1\", \"0\", \"1\", \"0\", \"0\", \"1\", \"0\", \"0\", \"0\", \"0\", \"1\", \"0\", \"0\", \"1\", \"1\", \"0\", \"1\", \"0\", \"0\", \"1\", \"0\", \"0\", \"1\", \"0\", \"0\", \"1\", \"1\", \"0\", \"1\", \"0\", \"1\", \"0\", \"0\", \"0\", \"1\", \"0\", \"0\", \"0\", \"0\", \"1\", \"1\", \"1\", \"0\", \"0\", \"1\", \"1\", \"1\", \"0\", \"0\", \"0\", \"1\", \"0\", \"1\", \"0\", \"1\", \"0\", \"0\", \"0\", \"0\", \"1\", \"0\", \"0\", \"0\", \"1\", \"0\", \"1\", \"0\", \"0\", \"1\", \"0\", \"0\", \"1\", \"0\", \"1\", \"0\", \"0\", \"0\", \"1\", \"0\", \"0\", \"1\", \"0\", \"1\", \"0\", \"0\", \"0\", \"0\", \"0\", \"1\", \"0\", \"0\", \"0\", \"0\", \"1\", \"0\", \"1\", \"0\", \"0\", \"0\", \"0\", \"0\", \"0\", \"1\", \"1\", \"1\", \"0\", \"1\", \"0\", \"0\", \"0\", \"0\", \"1\", \"1\", \"0\", \"0\", \"1\", \"1\", \"0\", \"1\", \"0\", \"0\", \"0\", \"1\", \"1\", \"0\", \"1\", \"0\", \"0\", \"0\", \"0\", \"1\", \"0\", \"0\", \"0\", \"1\", \"0\", \"0\", \"0\", \"0\", \"0\", \"1\", \"0\", \"0\", \"0\", \"0\", \"0\", \"0\", \"0\", \"0\", \"1\", \"0\", \"0\", \"1\", \"0\", \"0\", \"1\", \"0\", \"1\", \"0\", \"1\", \"1\", \"1\", \"0\", \"0\", \"0\", \"0\", \"0\", \"1\", \"1\", \"0\", \"0\", \"0\", \"1\", \"1\", \"0\", \"0\", \"1\", \"1\", \"0\", \"0\", \"1\", \"0\", \"1\", \"1\", \"0\", \"1\", \"0\", \"0\", \"0\", \"0\", \"0\", \"0\", \"1\", \"1\", \"1\", \"0\", \"0\", \"0\", \"0\", \"0\", \"0\", \"0\", \"0\", \"0\", \"0\", \"0\", \"0\", \"0\", \"0\", \"0\", \"0\", \"0\", \"0\", \"0\", \"0\", \"0\", \"1\", \"0\", \"0\", \"1\", \"0\", \"0\", \"0\", \"1\", \"1\", \"1\", \"0\", \"0\", \"1\", \"0\", \"0\", \"1\"]}],\n",
              "                        {\"coloraxis\": {\"colorbar\": {\"title\": {\"text\": \"count of coracao\"}}, \"colorscale\": [[0.0, \"#0d0887\"], [0.1111111111111111, \"#46039f\"], [0.2222222222222222, \"#7201a8\"], [0.3333333333333333, \"#9c179e\"], [0.4444444444444444, \"#bd3786\"], [0.5555555555555556, \"#d8576b\"], [0.6666666666666666, \"#ed7953\"], [0.7777777777777778, \"#fb9f3a\"], [0.8888888888888888, \"#fdca26\"], [1.0, \"#f0f921\"]]}, \"legend\": {\"tracegroupgap\": 0}, \"margin\": {\"t\": 60}, \"template\": {\"data\": {\"bar\": [{\"error_x\": {\"color\": \"#2a3f5f\"}, \"error_y\": {\"color\": \"#2a3f5f\"}, \"marker\": {\"line\": {\"color\": \"#E5ECF6\", \"width\": 0.5}}, \"type\": \"bar\"}], \"barpolar\": [{\"marker\": {\"line\": {\"color\": \"#E5ECF6\", \"width\": 0.5}}, \"type\": \"barpolar\"}], \"carpet\": [{\"aaxis\": {\"endlinecolor\": \"#2a3f5f\", \"gridcolor\": \"white\", \"linecolor\": \"white\", \"minorgridcolor\": \"white\", \"startlinecolor\": \"#2a3f5f\"}, \"baxis\": {\"endlinecolor\": \"#2a3f5f\", \"gridcolor\": \"white\", \"linecolor\": \"white\", \"minorgridcolor\": \"white\", \"startlinecolor\": \"#2a3f5f\"}, \"type\": \"carpet\"}], \"choropleth\": [{\"colorbar\": {\"outlinewidth\": 0, \"ticks\": \"\"}, \"type\": \"choropleth\"}], \"contour\": [{\"colorbar\": {\"outlinewidth\": 0, \"ticks\": \"\"}, \"colorscale\": [[0.0, \"#0d0887\"], [0.1111111111111111, \"#46039f\"], [0.2222222222222222, \"#7201a8\"], [0.3333333333333333, \"#9c179e\"], [0.4444444444444444, \"#bd3786\"], [0.5555555555555556, \"#d8576b\"], [0.6666666666666666, \"#ed7953\"], [0.7777777777777778, \"#fb9f3a\"], [0.8888888888888888, \"#fdca26\"], [1.0, \"#f0f921\"]], \"type\": \"contour\"}], \"contourcarpet\": [{\"colorbar\": {\"outlinewidth\": 0, \"ticks\": \"\"}, \"type\": \"contourcarpet\"}], \"heatmap\": [{\"colorbar\": {\"outlinewidth\": 0, \"ticks\": \"\"}, \"colorscale\": [[0.0, \"#0d0887\"], [0.1111111111111111, \"#46039f\"], [0.2222222222222222, \"#7201a8\"], [0.3333333333333333, \"#9c179e\"], [0.4444444444444444, \"#bd3786\"], [0.5555555555555556, \"#d8576b\"], [0.6666666666666666, \"#ed7953\"], [0.7777777777777778, \"#fb9f3a\"], [0.8888888888888888, \"#fdca26\"], [1.0, \"#f0f921\"]], \"type\": \"heatmap\"}], \"heatmapgl\": [{\"colorbar\": {\"outlinewidth\": 0, \"ticks\": \"\"}, \"colorscale\": [[0.0, \"#0d0887\"], [0.1111111111111111, \"#46039f\"], [0.2222222222222222, \"#7201a8\"], [0.3333333333333333, \"#9c179e\"], [0.4444444444444444, \"#bd3786\"], [0.5555555555555556, \"#d8576b\"], [0.6666666666666666, \"#ed7953\"], [0.7777777777777778, \"#fb9f3a\"], [0.8888888888888888, \"#fdca26\"], [1.0, \"#f0f921\"]], \"type\": \"heatmapgl\"}], \"histogram\": [{\"marker\": {\"colorbar\": {\"outlinewidth\": 0, \"ticks\": \"\"}}, \"type\": \"histogram\"}], \"histogram2d\": [{\"colorbar\": {\"outlinewidth\": 0, \"ticks\": \"\"}, \"colorscale\": [[0.0, \"#0d0887\"], [0.1111111111111111, \"#46039f\"], [0.2222222222222222, \"#7201a8\"], [0.3333333333333333, \"#9c179e\"], [0.4444444444444444, \"#bd3786\"], [0.5555555555555556, \"#d8576b\"], [0.6666666666666666, \"#ed7953\"], [0.7777777777777778, \"#fb9f3a\"], [0.8888888888888888, \"#fdca26\"], [1.0, \"#f0f921\"]], \"type\": \"histogram2d\"}], \"histogram2dcontour\": [{\"colorbar\": {\"outlinewidth\": 0, \"ticks\": \"\"}, \"colorscale\": [[0.0, \"#0d0887\"], [0.1111111111111111, \"#46039f\"], [0.2222222222222222, \"#7201a8\"], [0.3333333333333333, \"#9c179e\"], [0.4444444444444444, \"#bd3786\"], [0.5555555555555556, \"#d8576b\"], [0.6666666666666666, \"#ed7953\"], [0.7777777777777778, \"#fb9f3a\"], [0.8888888888888888, \"#fdca26\"], [1.0, \"#f0f921\"]], \"type\": \"histogram2dcontour\"}], \"mesh3d\": [{\"colorbar\": {\"outlinewidth\": 0, \"ticks\": \"\"}, \"type\": \"mesh3d\"}], \"parcoords\": [{\"line\": {\"colorbar\": {\"outlinewidth\": 0, \"ticks\": \"\"}}, \"type\": \"parcoords\"}], \"pie\": [{\"automargin\": true, \"type\": \"pie\"}], \"scatter\": [{\"marker\": {\"colorbar\": {\"outlinewidth\": 0, \"ticks\": \"\"}}, \"type\": \"scatter\"}], \"scatter3d\": [{\"line\": {\"colorbar\": {\"outlinewidth\": 0, \"ticks\": \"\"}}, \"marker\": {\"colorbar\": {\"outlinewidth\": 0, \"ticks\": \"\"}}, \"type\": \"scatter3d\"}], \"scattercarpet\": [{\"marker\": {\"colorbar\": {\"outlinewidth\": 0, \"ticks\": \"\"}}, \"type\": \"scattercarpet\"}], \"scattergeo\": [{\"marker\": {\"colorbar\": {\"outlinewidth\": 0, \"ticks\": \"\"}}, \"type\": \"scattergeo\"}], \"scattergl\": [{\"marker\": {\"colorbar\": {\"outlinewidth\": 0, \"ticks\": \"\"}}, \"type\": \"scattergl\"}], \"scattermapbox\": [{\"marker\": {\"colorbar\": {\"outlinewidth\": 0, \"ticks\": \"\"}}, \"type\": \"scattermapbox\"}], \"scatterpolar\": [{\"marker\": {\"colorbar\": {\"outlinewidth\": 0, \"ticks\": \"\"}}, \"type\": \"scatterpolar\"}], \"scatterpolargl\": [{\"marker\": {\"colorbar\": {\"outlinewidth\": 0, \"ticks\": \"\"}}, \"type\": \"scatterpolargl\"}], \"scatterternary\": [{\"marker\": {\"colorbar\": {\"outlinewidth\": 0, \"ticks\": \"\"}}, \"type\": \"scatterternary\"}], \"surface\": [{\"colorbar\": {\"outlinewidth\": 0, \"ticks\": \"\"}, \"colorscale\": [[0.0, \"#0d0887\"], [0.1111111111111111, \"#46039f\"], [0.2222222222222222, \"#7201a8\"], [0.3333333333333333, \"#9c179e\"], [0.4444444444444444, \"#bd3786\"], [0.5555555555555556, \"#d8576b\"], [0.6666666666666666, \"#ed7953\"], [0.7777777777777778, \"#fb9f3a\"], [0.8888888888888888, \"#fdca26\"], [1.0, \"#f0f921\"]], \"type\": \"surface\"}], \"table\": [{\"cells\": {\"fill\": {\"color\": \"#EBF0F8\"}, \"line\": {\"color\": \"white\"}}, \"header\": {\"fill\": {\"color\": \"#C8D4E3\"}, \"line\": {\"color\": \"white\"}}, \"type\": \"table\"}]}, \"layout\": {\"annotationdefaults\": {\"arrowcolor\": \"#2a3f5f\", \"arrowhead\": 0, \"arrowwidth\": 1}, \"coloraxis\": {\"colorbar\": {\"outlinewidth\": 0, \"ticks\": \"\"}}, \"colorscale\": {\"diverging\": [[0, \"#8e0152\"], [0.1, \"#c51b7d\"], [0.2, \"#de77ae\"], [0.3, \"#f1b6da\"], [0.4, \"#fde0ef\"], [0.5, \"#f7f7f7\"], [0.6, \"#e6f5d0\"], [0.7, \"#b8e186\"], [0.8, \"#7fbc41\"], [0.9, \"#4d9221\"], [1, \"#276419\"]], \"sequential\": [[0.0, \"#0d0887\"], [0.1111111111111111, \"#46039f\"], [0.2222222222222222, \"#7201a8\"], [0.3333333333333333, \"#9c179e\"], [0.4444444444444444, \"#bd3786\"], [0.5555555555555556, \"#d8576b\"], [0.6666666666666666, \"#ed7953\"], [0.7777777777777778, \"#fb9f3a\"], [0.8888888888888888, \"#fdca26\"], [1.0, \"#f0f921\"]], \"sequentialminus\": [[0.0, \"#0d0887\"], [0.1111111111111111, \"#46039f\"], [0.2222222222222222, \"#7201a8\"], [0.3333333333333333, \"#9c179e\"], [0.4444444444444444, \"#bd3786\"], [0.5555555555555556, \"#d8576b\"], [0.6666666666666666, \"#ed7953\"], [0.7777777777777778, \"#fb9f3a\"], [0.8888888888888888, \"#fdca26\"], [1.0, \"#f0f921\"]]}, \"colorway\": [\"#636efa\", \"#EF553B\", \"#00cc96\", \"#ab63fa\", \"#FFA15A\", \"#19d3f3\", \"#FF6692\", \"#B6E880\", \"#FF97FF\", \"#FECB52\"], \"font\": {\"color\": \"#2a3f5f\"}, \"geo\": {\"bgcolor\": \"white\", \"lakecolor\": \"white\", \"landcolor\": \"#E5ECF6\", \"showlakes\": true, \"showland\": true, \"subunitcolor\": \"white\"}, \"hoverlabel\": {\"align\": \"left\"}, \"hovermode\": \"closest\", \"mapbox\": {\"style\": \"light\"}, \"paper_bgcolor\": \"white\", \"plot_bgcolor\": \"#E5ECF6\", \"polar\": {\"angularaxis\": {\"gridcolor\": \"white\", \"linecolor\": \"white\", \"ticks\": \"\"}, \"bgcolor\": \"#E5ECF6\", \"radialaxis\": {\"gridcolor\": \"white\", \"linecolor\": \"white\", \"ticks\": \"\"}}, \"scene\": {\"xaxis\": {\"backgroundcolor\": \"#E5ECF6\", \"gridcolor\": \"white\", \"gridwidth\": 2, \"linecolor\": \"white\", \"showbackground\": true, \"ticks\": \"\", \"zerolinecolor\": \"white\"}, \"yaxis\": {\"backgroundcolor\": \"#E5ECF6\", \"gridcolor\": \"white\", \"gridwidth\": 2, \"linecolor\": \"white\", \"showbackground\": true, \"ticks\": \"\", \"zerolinecolor\": \"white\"}, \"zaxis\": {\"backgroundcolor\": \"#E5ECF6\", \"gridcolor\": \"white\", \"gridwidth\": 2, \"linecolor\": \"white\", \"showbackground\": true, \"ticks\": \"\", \"zerolinecolor\": \"white\"}}, \"shapedefaults\": {\"line\": {\"color\": \"#2a3f5f\"}}, \"ternary\": {\"aaxis\": {\"gridcolor\": \"white\", \"linecolor\": \"white\", \"ticks\": \"\"}, \"baxis\": {\"gridcolor\": \"white\", \"linecolor\": \"white\", \"ticks\": \"\"}, \"bgcolor\": \"#E5ECF6\", \"caxis\": {\"gridcolor\": \"white\", \"linecolor\": \"white\", \"ticks\": \"\"}}, \"title\": {\"x\": 0.05}, \"xaxis\": {\"automargin\": true, \"gridcolor\": \"white\", \"linecolor\": \"white\", \"ticks\": \"\", \"title\": {\"standoff\": 15}, \"zerolinecolor\": \"white\", \"zerolinewidth\": 2}, \"yaxis\": {\"automargin\": true, \"gridcolor\": \"white\", \"linecolor\": \"white\", \"ticks\": \"\", \"title\": {\"standoff\": 15}, \"zerolinecolor\": \"white\", \"zerolinewidth\": 2}}}, \"xaxis\": {\"anchor\": \"y\", \"domain\": [0.0, 1.0], \"title\": {\"text\": \"obesity\"}}, \"yaxis\": {\"anchor\": \"x\", \"domain\": [0.0, 1.0], \"title\": {\"text\": \"age\"}}},\n",
              "                        {\"responsive\": true}\n",
              "                    ).then(function(){\n",
              "                            \n",
              "var gd = document.getElementById('ca6a458b-0c90-4d82-b225-1788a35eb1b8');\n",
              "var x = new MutationObserver(function (mutations, observer) {{\n",
              "        var display = window.getComputedStyle(gd).display;\n",
              "        if (!display || display === 'none') {{\n",
              "            console.log([gd, 'removed!']);\n",
              "            Plotly.purge(gd);\n",
              "            observer.disconnect();\n",
              "        }}\n",
              "}});\n",
              "\n",
              "// Listen for the removal of the full notebook cells\n",
              "var notebookContainer = gd.closest('#notebook-container');\n",
              "if (notebookContainer) {{\n",
              "    x.observe(notebookContainer, {childList: true});\n",
              "}}\n",
              "\n",
              "// Listen for the clearing of the current output cell\n",
              "var outputEl = gd.closest('.output');\n",
              "if (outputEl) {{\n",
              "    x.observe(outputEl, {childList: true});\n",
              "}}\n",
              "\n",
              "                        })\n",
              "                };\n",
              "                });\n",
              "            </script>\n",
              "        </div>"
            ],
            "application/vnd.plotly.v1+json": {
              "config": {
                "plotlyServerURL": "https://plot.ly"
              },
              "data": [
                {
                  "hovertemplate": "obesity=%{x}<br>age=%{y}<br>count of coracao=%{z}",
                  "name": "",
                  "yaxis": "y",
                  "hoverlabel": {
                    "namelength": 0
                  },
                  "ybingroup": "y",
                  "xbingroup": "x",
                  "nbinsx": 30,
                  "xaxis": "x",
                  "y": [
                    52,
                    63,
                    46,
                    58,
                    49,
                    45,
                    38,
                    58,
                    29,
                    53,
                    60,
                    40,
                    17,
                    15,
                    53,
                    46,
                    49,
                    53,
                    62,
                    59,
                    20,
                    44,
                    50,
                    58,
                    50,
                    42,
                    48,
                    61,
                    56,
                    63,
                    45,
                    46,
                    59,
                    41,
                    48,
                    28,
                    32,
                    46,
                    29,
                    58,
                    41,
                    30,
                    15,
                    51,
                    17,
                    48,
                    58,
                    33,
                    16,
                    30,
                    42,
                    49,
                    42,
                    31,
                    53,
                    48,
                    28,
                    38,
                    18,
                    61,
                    33,
                    44,
                    57,
                    38,
                    17,
                    54,
                    30,
                    27,
                    33,
                    32,
                    15,
                    26,
                    36,
                    20,
                    34,
                    40,
                    55,
                    55,
                    56,
                    39,
                    45,
                    53,
                    55,
                    57,
                    17,
                    45,
                    49,
                    38,
                    41,
                    55,
                    21,
                    64,
                    29,
                    49,
                    56,
                    62,
                    29,
                    39,
                    51,
                    39,
                    50,
                    27,
                    46,
                    31,
                    29,
                    64,
                    61,
                    54,
                    42,
                    18,
                    16,
                    54,
                    37,
                    61,
                    59,
                    48,
                    32,
                    42,
                    61,
                    27,
                    60,
                    28,
                    33,
                    56,
                    45,
                    59,
                    28,
                    38,
                    60,
                    64,
                    62,
                    58,
                    30,
                    54,
                    40,
                    52,
                    32,
                    28,
                    20,
                    54,
                    54,
                    25,
                    38,
                    58,
                    40,
                    40,
                    31,
                    43,
                    33,
                    61,
                    55,
                    52,
                    24,
                    20,
                    41,
                    55,
                    17,
                    53,
                    38,
                    43,
                    31,
                    62,
                    16,
                    21,
                    16,
                    49,
                    55,
                    43,
                    25,
                    48,
                    41,
                    32,
                    47,
                    61,
                    62,
                    61,
                    37,
                    17,
                    24,
                    56,
                    56,
                    51,
                    60,
                    39,
                    48,
                    33,
                    63,
                    39,
                    63,
                    64,
                    40,
                    49,
                    39,
                    23,
                    18,
                    21,
                    17,
                    42,
                    54,
                    27,
                    23,
                    31,
                    33,
                    64,
                    58,
                    40,
                    18,
                    60,
                    59,
                    60,
                    60,
                    40,
                    44,
                    53,
                    18,
                    62,
                    45,
                    26,
                    25,
                    57,
                    16,
                    46,
                    60,
                    45,
                    56,
                    42,
                    32,
                    52,
                    64,
                    50,
                    58,
                    62,
                    58,
                    30,
                    29,
                    51,
                    61,
                    57,
                    27,
                    16,
                    45,
                    47,
                    41,
                    55,
                    60,
                    57,
                    56,
                    60,
                    64,
                    58,
                    48,
                    17,
                    63,
                    42,
                    46,
                    54,
                    37,
                    49,
                    58,
                    44,
                    17,
                    20,
                    61,
                    35,
                    52,
                    18,
                    17,
                    57,
                    16,
                    45,
                    55,
                    41,
                    24,
                    43,
                    55,
                    63,
                    64,
                    43,
                    16,
                    16,
                    28,
                    42,
                    50,
                    27,
                    41,
                    17,
                    19,
                    17,
                    16,
                    38,
                    16,
                    16,
                    44,
                    56,
                    34,
                    42,
                    17,
                    17,
                    46,
                    53,
                    45,
                    32,
                    53,
                    59,
                    27,
                    49,
                    45,
                    59,
                    37,
                    34,
                    59,
                    46,
                    59,
                    44,
                    50,
                    59,
                    38,
                    26,
                    59,
                    51,
                    59,
                    38,
                    61,
                    64,
                    55,
                    36,
                    62,
                    19,
                    39,
                    55,
                    17,
                    45,
                    51,
                    59,
                    59,
                    43,
                    58,
                    59,
                    27,
                    30,
                    40,
                    52,
                    53,
                    31,
                    37,
                    26,
                    53,
                    61,
                    43,
                    60,
                    49,
                    36,
                    58,
                    61,
                    54,
                    58,
                    24,
                    49,
                    50,
                    32,
                    62,
                    34,
                    48,
                    60,
                    52,
                    28,
                    24,
                    30,
                    38,
                    42,
                    64,
                    41,
                    32,
                    64,
                    29,
                    45,
                    31,
                    53,
                    38,
                    64,
                    52,
                    44,
                    38,
                    31,
                    44,
                    54,
                    59,
                    53,
                    26,
                    53,
                    39,
                    50,
                    61,
                    64,
                    48,
                    27,
                    62,
                    48,
                    55,
                    47,
                    49,
                    49,
                    62,
                    58,
                    57,
                    51,
                    61,
                    60,
                    40,
                    16,
                    62,
                    60,
                    55,
                    63,
                    46,
                    39,
                    60,
                    45,
                    48,
                    41,
                    43,
                    63,
                    55,
                    61,
                    42,
                    33,
                    33,
                    49,
                    34,
                    32,
                    16,
                    16,
                    16,
                    18,
                    16,
                    16,
                    17,
                    16,
                    31,
                    40,
                    32,
                    16,
                    52,
                    37,
                    27,
                    25,
                    34,
                    17,
                    20,
                    48,
                    24,
                    18,
                    42,
                    51,
                    39,
                    27,
                    57,
                    58,
                    52,
                    55,
                    40,
                    46
                  ],
                  "x": [
                    25.3,
                    28.87,
                    29.14,
                    31.99,
                    25.99,
                    30.77,
                    20.81,
                    23.11,
                    24.86,
                    30.11,
                    26.81,
                    23.09,
                    21.57,
                    23.63,
                    23.53,
                    25.89,
                    25.31,
                    32.73,
                    29.3,
                    30.09,
                    20.92,
                    26.16,
                    24.64,
                    28.7,
                    26.19,
                    23.23,
                    38.8,
                    20.96,
                    29.43,
                    28.07,
                    21.86,
                    22.13,
                    28.07,
                    30.25,
                    29.84,
                    19.49,
                    27.36,
                    30.9,
                    24.86,
                    27.68,
                    30.98,
                    23.75,
                    22.15,
                    26.29,
                    46.58,
                    22.95,
                    25.71,
                    30.01,
                    20.17,
                    30.53,
                    29.01,
                    27.19,
                    28.64,
                    22.65,
                    23.91,
                    26.57,
                    23.83,
                    25.52,
                    22.94,
                    22.51,
                    23.65,
                    25.65,
                    26.21,
                    27.23,
                    22.07,
                    25,
                    28.49,
                    22.08,
                    29.01,
                    21.06,
                    19.15,
                    17.81,
                    25.76,
                    17.75,
                    27.86,
                    21.66,
                    29.16,
                    27.19,
                    24.25,
                    25.72,
                    22.59,
                    45.72,
                    25.44,
                    26.38,
                    20.75,
                    27.52,
                    19.37,
                    27.83,
                    21.94,
                    28.34,
                    21.59,
                    30.57,
                    29.17,
                    25.15,
                    30.16,
                    20.54,
                    26.06,
                    27.59,
                    27.07,
                    23.44,
                    22.69,
                    28.37,
                    32.18,
                    30.97,
                    28.63,
                    26.64,
                    22.29,
                    37.41,
                    23.48,
                    22.04,
                    25.51,
                    26.18,
                    21.03,
                    25.27,
                    19.4,
                    28.41,
                    21.91,
                    20.6,
                    23.35,
                    28.02,
                    22.86,
                    25.85,
                    26.21,
                    24.78,
                    25.91,
                    33.14,
                    27.78,
                    34.42,
                    29.44,
                    34.57,
                    24.79,
                    31.44,
                    24.7,
                    29.29,
                    26.09,
                    24.05,
                    21.13,
                    21.25,
                    20.52,
                    32.83,
                    33.87,
                    19.3,
                    24.97,
                    31.21,
                    24.72,
                    22.1,
                    22.09,
                    28.73,
                    29.38,
                    23.22,
                    24.7,
                    24.15,
                    25.63,
                    22.61,
                    21.78,
                    23.33,
                    22.03,
                    30.71,
                    25.81,
                    25.62,
                    24.81,
                    27.45,
                    22.16,
                    20,
                    22.13,
                    23.64,
                    27.14,
                    25.87,
                    25.99,
                    36.06,
                    29.33,
                    24.46,
                    26.09,
                    29.83,
                    22.05,
                    26.52,
                    27.95,
                    20.16,
                    26.24,
                    27.96,
                    30.14,
                    40.34,
                    27.14,
                    21.48,
                    26.74,
                    21.94,
                    28.88,
                    25.42,
                    24.73,
                    25.39,
                    24.37,
                    35.94,
                    23.59,
                    30.42,
                    21.62,
                    22.01,
                    25.63,
                    31.59,
                    28.25,
                    25.26,
                    24.58,
                    25.12,
                    29.87,
                    23.81,
                    24.96,
                    29.34,
                    26.71,
                    28.4,
                    25.71,
                    31.44,
                    26.88,
                    31.27,
                    23.63,
                    26.75,
                    22.45,
                    31.15,
                    22.56,
                    21.47,
                    22.6,
                    27.62,
                    20.28,
                    41.76,
                    27.38,
                    25.01,
                    19.48,
                    24.69,
                    27.29,
                    28.33,
                    27.25,
                    28.99,
                    26.08,
                    29.19,
                    29.42,
                    24.36,
                    25.7,
                    27.44,
                    28.85,
                    27.3,
                    23.12,
                    22.7,
                    27.29,
                    26.01,
                    26.09,
                    34.35,
                    28.67,
                    21.59,
                    22.3,
                    25.11,
                    25.68,
                    29.37,
                    27.84,
                    23.14,
                    20.86,
                    22.51,
                    23.76,
                    22.75,
                    36.46,
                    23.54,
                    24.49,
                    35.51,
                    18.46,
                    22.76,
                    20.17,
                    27.8,
                    23.39,
                    20.01,
                    19.61,
                    24.86,
                    20.31,
                    26.2,
                    30.01,
                    37.24,
                    24.98,
                    25.02,
                    22.18,
                    26.56,
                    28.75,
                    25.8,
                    17.89,
                    22.65,
                    24.07,
                    22.29,
                    27.36,
                    26.37,
                    31.83,
                    22.17,
                    27.66,
                    24.82,
                    23.23,
                    27.02,
                    22.03,
                    19.82,
                    23.43,
                    27.87,
                    32.33,
                    23.65,
                    20.42,
                    22.59,
                    26.07,
                    29.51,
                    23.8,
                    30.22,
                    35.42,
                    26.86,
                    22.51,
                    26.59,
                    28.84,
                    18.75,
                    26.09,
                    30.86,
                    22.04,
                    25.67,
                    24.32,
                    37.71,
                    30.31,
                    22.67,
                    22.24,
                    23.79,
                    27.04,
                    24.98,
                    25.67,
                    24.72,
                    24.38,
                    28.51,
                    19.44,
                    28.4,
                    29.41,
                    20.74,
                    20.29,
                    27.39,
                    24,
                    28.63,
                    28.94,
                    23.95,
                    26.43,
                    27.09,
                    26.8,
                    28.69,
                    32.21,
                    30.31,
                    25.89,
                    23.31,
                    20.43,
                    26.76,
                    24.13,
                    28.4,
                    25.76,
                    18.36,
                    24.98,
                    22.91,
                    24.5,
                    22.41,
                    27.81,
                    21.79,
                    24.08,
                    23.26,
                    26.49,
                    33.28,
                    26.67,
                    27.03,
                    30.12,
                    28.08,
                    24.7,
                    26.96,
                    25.22,
                    26.11,
                    30.92,
                    26.27,
                    22.01,
                    29.27,
                    26.53,
                    24.18,
                    29.38,
                    26.42,
                    30.74,
                    27.62,
                    24.49,
                    27.16,
                    33.35,
                    33.17,
                    24.81,
                    32.77,
                    30.75,
                    21.3,
                    26.99,
                    32.91,
                    21.83,
                    25.92,
                    24.2,
                    25.99,
                    24.34,
                    35.07,
                    23.74,
                    26.7,
                    35.58,
                    25.97,
                    30.77,
                    24.86,
                    27,
                    26.3,
                    23.82,
                    30.61,
                    21.26,
                    25.12,
                    31.65,
                    27.26,
                    30.54,
                    32.04,
                    26.83,
                    24.8,
                    27.29,
                    34.72,
                    28.5,
                    20.58,
                    31.03,
                    24.54,
                    25.92,
                    30.18,
                    22.15,
                    24.94,
                    22.4,
                    23.37,
                    27.92,
                    21.07,
                    23.66,
                    24.92,
                    31.16,
                    28.71,
                    23.25,
                    27.2,
                    20.18,
                    19.38,
                    21.94,
                    22.01,
                    18.5,
                    21.51,
                    25.38,
                    22.59,
                    21.4,
                    22.05,
                    29,
                    21.89,
                    28.7,
                    26.33,
                    30.08,
                    20.7,
                    28.92,
                    20.28,
                    22.26,
                    27.55,
                    19.57,
                    23.37,
                    26.15,
                    31.5,
                    28.11,
                    23.96,
                    33.1,
                    28.45,
                    28.61,
                    20.09,
                    27.35,
                    14.7
                  ],
                  "z": [
                    "1",
                    "1",
                    "0",
                    "1",
                    "1",
                    "0",
                    "0",
                    "1",
                    "0",
                    "1",
                    "1",
                    "1",
                    "0",
                    "0",
                    "0",
                    "0",
                    "0",
                    "1",
                    "1",
                    "1",
                    "1",
                    "0",
                    "0",
                    "0",
                    "0",
                    "1",
                    "0",
                    "1",
                    "0",
                    "1",
                    "1",
                    "1",
                    "1",
                    "1",
                    "0",
                    "1",
                    "0",
                    "0",
                    "0",
                    "1",
                    "1",
                    "0",
                    "0",
                    "1",
                    "0",
                    "0",
                    "1",
                    "1",
                    "0",
                    "0",
                    "0",
                    "0",
                    "1",
                    "1",
                    "0",
                    "0",
                    "0",
                    "1",
                    "0",
                    "0",
                    "0",
                    "0",
                    "0",
                    "0",
                    "0",
                    "0",
                    "0",
                    "0",
                    "0",
                    "1",
                    "0",
                    "0",
                    "0",
                    "0",
                    "0",
                    "0",
                    "0",
                    "1",
                    "1",
                    "0",
                    "1",
                    "1",
                    "1",
                    "1",
                    "0",
                    "0",
                    "1",
                    "0",
                    "0",
                    "0",
                    "0",
                    "1",
                    "0",
                    "1",
                    "0",
                    "0",
                    "0",
                    "0",
                    "1",
                    "0",
                    "0",
                    "0",
                    "0",
                    "0",
                    "0",
                    "0",
                    "1",
                    "1",
                    "0",
                    "0",
                    "0",
                    "1",
                    "0",
                    "1",
                    "1",
                    "0",
                    "1",
                    "0",
                    "1",
                    "0",
                    "0",
                    "0",
                    "0",
                    "1",
                    "0",
                    "1",
                    "0",
                    "0",
                    "1",
                    "0",
                    "0",
                    "1",
                    "1",
                    "0",
                    "0",
                    "1",
                    "0",
                    "0",
                    "0",
                    "0",
                    "1",
                    "1",
                    "0",
                    "0",
                    "0",
                    "0",
                    "0",
                    "1",
                    "1",
                    "1",
                    "0",
                    "0",
                    "0",
                    "0",
                    "1",
                    "1",
                    "0",
                    "0",
                    "0",
                    "1",
                    "0",
                    "1",
                    "0",
                    "0",
                    "0",
                    "0",
                    "1",
                    "1",
                    "0",
                    "0",
                    "0",
                    "0",
                    "0",
                    "0",
                    "0",
                    "1",
                    "0",
                    "0",
                    "0",
                    "0",
                    "0",
                    "0",
                    "1",
                    "1",
                    "1",
                    "1",
                    "0",
                    "0",
                    "0",
                    "1",
                    "1",
                    "1",
                    "1",
                    "0",
                    "0",
                    "0",
                    "0",
                    "0",
                    "1",
                    "0",
                    "0",
                    "1",
                    "0",
                    "0",
                    "0",
                    "0",
                    "0",
                    "0",
                    "0",
                    "0",
                    "0",
                    "1",
                    "0",
                    "0",
                    "0",
                    "1",
                    "1",
                    "0",
                    "0",
                    "0",
                    "0",
                    "1",
                    "0",
                    "1",
                    "0",
                    "0",
                    "1",
                    "1",
                    "1",
                    "1",
                    "1",
                    "0",
                    "1",
                    "0",
                    "0",
                    "1",
                    "0",
                    "0",
                    "0",
                    "0",
                    "1",
                    "0",
                    "0",
                    "1",
                    "1",
                    "0",
                    "1",
                    "0",
                    "0",
                    "1",
                    "0",
                    "0",
                    "1",
                    "0",
                    "0",
                    "1",
                    "1",
                    "0",
                    "1",
                    "0",
                    "1",
                    "0",
                    "0",
                    "0",
                    "1",
                    "0",
                    "0",
                    "0",
                    "0",
                    "1",
                    "1",
                    "1",
                    "0",
                    "0",
                    "1",
                    "1",
                    "1",
                    "0",
                    "0",
                    "0",
                    "1",
                    "0",
                    "1",
                    "0",
                    "1",
                    "0",
                    "0",
                    "0",
                    "0",
                    "1",
                    "0",
                    "0",
                    "0",
                    "1",
                    "0",
                    "1",
                    "0",
                    "0",
                    "1",
                    "0",
                    "0",
                    "1",
                    "0",
                    "1",
                    "0",
                    "0",
                    "0",
                    "1",
                    "0",
                    "0",
                    "1",
                    "0",
                    "1",
                    "0",
                    "0",
                    "0",
                    "0",
                    "0",
                    "1",
                    "0",
                    "0",
                    "0",
                    "0",
                    "1",
                    "0",
                    "1",
                    "0",
                    "0",
                    "0",
                    "0",
                    "0",
                    "0",
                    "1",
                    "1",
                    "1",
                    "0",
                    "1",
                    "0",
                    "0",
                    "0",
                    "0",
                    "1",
                    "1",
                    "0",
                    "0",
                    "1",
                    "1",
                    "0",
                    "1",
                    "0",
                    "0",
                    "0",
                    "1",
                    "1",
                    "0",
                    "1",
                    "0",
                    "0",
                    "0",
                    "0",
                    "1",
                    "0",
                    "0",
                    "0",
                    "1",
                    "0",
                    "0",
                    "0",
                    "0",
                    "0",
                    "1",
                    "0",
                    "0",
                    "0",
                    "0",
                    "0",
                    "0",
                    "0",
                    "0",
                    "1",
                    "0",
                    "0",
                    "1",
                    "0",
                    "0",
                    "1",
                    "0",
                    "1",
                    "0",
                    "1",
                    "1",
                    "1",
                    "0",
                    "0",
                    "0",
                    "0",
                    "0",
                    "1",
                    "1",
                    "0",
                    "0",
                    "0",
                    "1",
                    "1",
                    "0",
                    "0",
                    "1",
                    "1",
                    "0",
                    "0",
                    "1",
                    "0",
                    "1",
                    "1",
                    "0",
                    "1",
                    "0",
                    "0",
                    "0",
                    "0",
                    "0",
                    "0",
                    "1",
                    "1",
                    "1",
                    "0",
                    "0",
                    "0",
                    "0",
                    "0",
                    "0",
                    "0",
                    "0",
                    "0",
                    "0",
                    "0",
                    "0",
                    "0",
                    "0",
                    "0",
                    "0",
                    "0",
                    "0",
                    "0",
                    "0",
                    "0",
                    "1",
                    "0",
                    "0",
                    "1",
                    "0",
                    "0",
                    "0",
                    "1",
                    "1",
                    "1",
                    "0",
                    "0",
                    "1",
                    "0",
                    "0",
                    "1"
                  ],
                  "type": "histogram2d",
                  "coloraxis": "coloraxis"
                }
              ],
              "layout": {
                "template": {
                  "data": {
                    "mesh3d": [
                      {
                        "colorbar": {
                          "outlinewidth": 0,
                          "ticks": ""
                        },
                        "type": "mesh3d"
                      }
                    ],
                    "scattercarpet": [
                      {
                        "marker": {
                          "colorbar": {
                            "outlinewidth": 0,
                            "ticks": ""
                          }
                        },
                        "type": "scattercarpet"
                      }
                    ],
                    "pie": [
                      {
                        "automargin": true,
                        "type": "pie"
                      }
                    ],
                    "surface": [
                      {
                        "colorbar": {
                          "outlinewidth": 0,
                          "ticks": ""
                        },
                        "type": "surface",
                        "colorscale": [
                          [
                            0,
                            "#0d0887"
                          ],
                          [
                            0.1111111111111111,
                            "#46039f"
                          ],
                          [
                            0.2222222222222222,
                            "#7201a8"
                          ],
                          [
                            0.3333333333333333,
                            "#9c179e"
                          ],
                          [
                            0.4444444444444444,
                            "#bd3786"
                          ],
                          [
                            0.5555555555555556,
                            "#d8576b"
                          ],
                          [
                            0.6666666666666666,
                            "#ed7953"
                          ],
                          [
                            0.7777777777777778,
                            "#fb9f3a"
                          ],
                          [
                            0.8888888888888888,
                            "#fdca26"
                          ],
                          [
                            1,
                            "#f0f921"
                          ]
                        ]
                      }
                    ],
                    "table": [
                      {
                        "header": {
                          "line": {
                            "color": "white"
                          },
                          "fill": {
                            "color": "#C8D4E3"
                          }
                        },
                        "cells": {
                          "line": {
                            "color": "white"
                          },
                          "fill": {
                            "color": "#EBF0F8"
                          }
                        },
                        "type": "table"
                      }
                    ],
                    "scatterpolargl": [
                      {
                        "marker": {
                          "colorbar": {
                            "outlinewidth": 0,
                            "ticks": ""
                          }
                        },
                        "type": "scatterpolargl"
                      }
                    ],
                    "contour": [
                      {
                        "colorbar": {
                          "outlinewidth": 0,
                          "ticks": ""
                        },
                        "type": "contour",
                        "colorscale": [
                          [
                            0,
                            "#0d0887"
                          ],
                          [
                            0.1111111111111111,
                            "#46039f"
                          ],
                          [
                            0.2222222222222222,
                            "#7201a8"
                          ],
                          [
                            0.3333333333333333,
                            "#9c179e"
                          ],
                          [
                            0.4444444444444444,
                            "#bd3786"
                          ],
                          [
                            0.5555555555555556,
                            "#d8576b"
                          ],
                          [
                            0.6666666666666666,
                            "#ed7953"
                          ],
                          [
                            0.7777777777777778,
                            "#fb9f3a"
                          ],
                          [
                            0.8888888888888888,
                            "#fdca26"
                          ],
                          [
                            1,
                            "#f0f921"
                          ]
                        ]
                      }
                    ],
                    "carpet": [
                      {
                        "baxis": {
                          "endlinecolor": "#2a3f5f",
                          "gridcolor": "white",
                          "linecolor": "white",
                          "minorgridcolor": "white",
                          "startlinecolor": "#2a3f5f"
                        },
                        "type": "carpet",
                        "aaxis": {
                          "endlinecolor": "#2a3f5f",
                          "gridcolor": "white",
                          "linecolor": "white",
                          "minorgridcolor": "white",
                          "startlinecolor": "#2a3f5f"
                        }
                      }
                    ],
                    "contourcarpet": [
                      {
                        "colorbar": {
                          "outlinewidth": 0,
                          "ticks": ""
                        },
                        "type": "contourcarpet"
                      }
                    ],
                    "heatmap": [
                      {
                        "colorbar": {
                          "outlinewidth": 0,
                          "ticks": ""
                        },
                        "type": "heatmap",
                        "colorscale": [
                          [
                            0,
                            "#0d0887"
                          ],
                          [
                            0.1111111111111111,
                            "#46039f"
                          ],
                          [
                            0.2222222222222222,
                            "#7201a8"
                          ],
                          [
                            0.3333333333333333,
                            "#9c179e"
                          ],
                          [
                            0.4444444444444444,
                            "#bd3786"
                          ],
                          [
                            0.5555555555555556,
                            "#d8576b"
                          ],
                          [
                            0.6666666666666666,
                            "#ed7953"
                          ],
                          [
                            0.7777777777777778,
                            "#fb9f3a"
                          ],
                          [
                            0.8888888888888888,
                            "#fdca26"
                          ],
                          [
                            1,
                            "#f0f921"
                          ]
                        ]
                      }
                    ],
                    "scattermapbox": [
                      {
                        "marker": {
                          "colorbar": {
                            "outlinewidth": 0,
                            "ticks": ""
                          }
                        },
                        "type": "scattermapbox"
                      }
                    ],
                    "scatter3d": [
                      {
                        "marker": {
                          "colorbar": {
                            "outlinewidth": 0,
                            "ticks": ""
                          }
                        },
                        "line": {
                          "colorbar": {
                            "outlinewidth": 0,
                            "ticks": ""
                          }
                        },
                        "type": "scatter3d"
                      }
                    ],
                    "scattergl": [
                      {
                        "marker": {
                          "colorbar": {
                            "outlinewidth": 0,
                            "ticks": ""
                          }
                        },
                        "type": "scattergl"
                      }
                    ],
                    "scatterternary": [
                      {
                        "marker": {
                          "colorbar": {
                            "outlinewidth": 0,
                            "ticks": ""
                          }
                        },
                        "type": "scatterternary"
                      }
                    ],
                    "histogram2d": [
                      {
                        "colorbar": {
                          "outlinewidth": 0,
                          "ticks": ""
                        },
                        "type": "histogram2d",
                        "colorscale": [
                          [
                            0,
                            "#0d0887"
                          ],
                          [
                            0.1111111111111111,
                            "#46039f"
                          ],
                          [
                            0.2222222222222222,
                            "#7201a8"
                          ],
                          [
                            0.3333333333333333,
                            "#9c179e"
                          ],
                          [
                            0.4444444444444444,
                            "#bd3786"
                          ],
                          [
                            0.5555555555555556,
                            "#d8576b"
                          ],
                          [
                            0.6666666666666666,
                            "#ed7953"
                          ],
                          [
                            0.7777777777777778,
                            "#fb9f3a"
                          ],
                          [
                            0.8888888888888888,
                            "#fdca26"
                          ],
                          [
                            1,
                            "#f0f921"
                          ]
                        ]
                      }
                    ],
                    "heatmapgl": [
                      {
                        "colorbar": {
                          "outlinewidth": 0,
                          "ticks": ""
                        },
                        "type": "heatmapgl",
                        "colorscale": [
                          [
                            0,
                            "#0d0887"
                          ],
                          [
                            0.1111111111111111,
                            "#46039f"
                          ],
                          [
                            0.2222222222222222,
                            "#7201a8"
                          ],
                          [
                            0.3333333333333333,
                            "#9c179e"
                          ],
                          [
                            0.4444444444444444,
                            "#bd3786"
                          ],
                          [
                            0.5555555555555556,
                            "#d8576b"
                          ],
                          [
                            0.6666666666666666,
                            "#ed7953"
                          ],
                          [
                            0.7777777777777778,
                            "#fb9f3a"
                          ],
                          [
                            0.8888888888888888,
                            "#fdca26"
                          ],
                          [
                            1,
                            "#f0f921"
                          ]
                        ]
                      }
                    ],
                    "scatterpolar": [
                      {
                        "marker": {
                          "colorbar": {
                            "outlinewidth": 0,
                            "ticks": ""
                          }
                        },
                        "type": "scatterpolar"
                      }
                    ],
                    "histogram": [
                      {
                        "marker": {
                          "colorbar": {
                            "outlinewidth": 0,
                            "ticks": ""
                          }
                        },
                        "type": "histogram"
                      }
                    ],
                    "scattergeo": [
                      {
                        "marker": {
                          "colorbar": {
                            "outlinewidth": 0,
                            "ticks": ""
                          }
                        },
                        "type": "scattergeo"
                      }
                    ],
                    "bar": [
                      {
                        "marker": {
                          "line": {
                            "color": "#E5ECF6",
                            "width": 0.5
                          }
                        },
                        "error_x": {
                          "color": "#2a3f5f"
                        },
                        "type": "bar",
                        "error_y": {
                          "color": "#2a3f5f"
                        }
                      }
                    ],
                    "choropleth": [
                      {
                        "colorbar": {
                          "outlinewidth": 0,
                          "ticks": ""
                        },
                        "type": "choropleth"
                      }
                    ],
                    "parcoords": [
                      {
                        "line": {
                          "colorbar": {
                            "outlinewidth": 0,
                            "ticks": ""
                          }
                        },
                        "type": "parcoords"
                      }
                    ],
                    "barpolar": [
                      {
                        "marker": {
                          "line": {
                            "color": "#E5ECF6",
                            "width": 0.5
                          }
                        },
                        "type": "barpolar"
                      }
                    ],
                    "histogram2dcontour": [
                      {
                        "colorbar": {
                          "outlinewidth": 0,
                          "ticks": ""
                        },
                        "type": "histogram2dcontour",
                        "colorscale": [
                          [
                            0,
                            "#0d0887"
                          ],
                          [
                            0.1111111111111111,
                            "#46039f"
                          ],
                          [
                            0.2222222222222222,
                            "#7201a8"
                          ],
                          [
                            0.3333333333333333,
                            "#9c179e"
                          ],
                          [
                            0.4444444444444444,
                            "#bd3786"
                          ],
                          [
                            0.5555555555555556,
                            "#d8576b"
                          ],
                          [
                            0.6666666666666666,
                            "#ed7953"
                          ],
                          [
                            0.7777777777777778,
                            "#fb9f3a"
                          ],
                          [
                            0.8888888888888888,
                            "#fdca26"
                          ],
                          [
                            1,
                            "#f0f921"
                          ]
                        ]
                      }
                    ],
                    "scatter": [
                      {
                        "marker": {
                          "colorbar": {
                            "outlinewidth": 0,
                            "ticks": ""
                          }
                        },
                        "type": "scatter"
                      }
                    ]
                  },
                  "layout": {
                    "shapedefaults": {
                      "line": {
                        "color": "#2a3f5f"
                      }
                    },
                    "polar": {
                      "radialaxis": {
                        "ticks": "",
                        "gridcolor": "white",
                        "linecolor": "white"
                      },
                      "bgcolor": "#E5ECF6",
                      "angularaxis": {
                        "ticks": "",
                        "gridcolor": "white",
                        "linecolor": "white"
                      }
                    },
                    "colorway": [
                      "#636efa",
                      "#EF553B",
                      "#00cc96",
                      "#ab63fa",
                      "#FFA15A",
                      "#19d3f3",
                      "#FF6692",
                      "#B6E880",
                      "#FF97FF",
                      "#FECB52"
                    ],
                    "ternary": {
                      "bgcolor": "#E5ECF6",
                      "baxis": {
                        "ticks": "",
                        "gridcolor": "white",
                        "linecolor": "white"
                      },
                      "caxis": {
                        "ticks": "",
                        "gridcolor": "white",
                        "linecolor": "white"
                      },
                      "aaxis": {
                        "ticks": "",
                        "gridcolor": "white",
                        "linecolor": "white"
                      }
                    },
                    "colorscale": {
                      "diverging": [
                        [
                          0,
                          "#8e0152"
                        ],
                        [
                          0.1,
                          "#c51b7d"
                        ],
                        [
                          0.2,
                          "#de77ae"
                        ],
                        [
                          0.3,
                          "#f1b6da"
                        ],
                        [
                          0.4,
                          "#fde0ef"
                        ],
                        [
                          0.5,
                          "#f7f7f7"
                        ],
                        [
                          0.6,
                          "#e6f5d0"
                        ],
                        [
                          0.7,
                          "#b8e186"
                        ],
                        [
                          0.8,
                          "#7fbc41"
                        ],
                        [
                          0.9,
                          "#4d9221"
                        ],
                        [
                          1,
                          "#276419"
                        ]
                      ],
                      "sequential": [
                        [
                          0,
                          "#0d0887"
                        ],
                        [
                          0.1111111111111111,
                          "#46039f"
                        ],
                        [
                          0.2222222222222222,
                          "#7201a8"
                        ],
                        [
                          0.3333333333333333,
                          "#9c179e"
                        ],
                        [
                          0.4444444444444444,
                          "#bd3786"
                        ],
                        [
                          0.5555555555555556,
                          "#d8576b"
                        ],
                        [
                          0.6666666666666666,
                          "#ed7953"
                        ],
                        [
                          0.7777777777777778,
                          "#fb9f3a"
                        ],
                        [
                          0.8888888888888888,
                          "#fdca26"
                        ],
                        [
                          1,
                          "#f0f921"
                        ]
                      ],
                      "sequentialminus": [
                        [
                          0,
                          "#0d0887"
                        ],
                        [
                          0.1111111111111111,
                          "#46039f"
                        ],
                        [
                          0.2222222222222222,
                          "#7201a8"
                        ],
                        [
                          0.3333333333333333,
                          "#9c179e"
                        ],
                        [
                          0.4444444444444444,
                          "#bd3786"
                        ],
                        [
                          0.5555555555555556,
                          "#d8576b"
                        ],
                        [
                          0.6666666666666666,
                          "#ed7953"
                        ],
                        [
                          0.7777777777777778,
                          "#fb9f3a"
                        ],
                        [
                          0.8888888888888888,
                          "#fdca26"
                        ],
                        [
                          1,
                          "#f0f921"
                        ]
                      ]
                    },
                    "paper_bgcolor": "white",
                    "plot_bgcolor": "#E5ECF6",
                    "title": {
                      "x": 0.05
                    },
                    "scene": {
                      "zaxis": {
                        "linecolor": "white",
                        "ticks": "",
                        "gridwidth": 2,
                        "showbackground": true,
                        "zerolinecolor": "white",
                        "gridcolor": "white",
                        "backgroundcolor": "#E5ECF6"
                      },
                      "xaxis": {
                        "linecolor": "white",
                        "ticks": "",
                        "gridwidth": 2,
                        "showbackground": true,
                        "zerolinecolor": "white",
                        "gridcolor": "white",
                        "backgroundcolor": "#E5ECF6"
                      },
                      "yaxis": {
                        "linecolor": "white",
                        "ticks": "",
                        "gridwidth": 2,
                        "showbackground": true,
                        "zerolinecolor": "white",
                        "gridcolor": "white",
                        "backgroundcolor": "#E5ECF6"
                      }
                    },
                    "yaxis": {
                      "automargin": true,
                      "title": {
                        "standoff": 15
                      },
                      "zerolinewidth": 2,
                      "ticks": "",
                      "zerolinecolor": "white",
                      "gridcolor": "white",
                      "linecolor": "white"
                    },
                    "coloraxis": {
                      "colorbar": {
                        "outlinewidth": 0,
                        "ticks": ""
                      }
                    },
                    "hoverlabel": {
                      "align": "left"
                    },
                    "xaxis": {
                      "automargin": true,
                      "title": {
                        "standoff": 15
                      },
                      "zerolinewidth": 2,
                      "ticks": "",
                      "zerolinecolor": "white",
                      "gridcolor": "white",
                      "linecolor": "white"
                    },
                    "mapbox": {
                      "style": "light"
                    },
                    "hovermode": "closest",
                    "font": {
                      "color": "#2a3f5f"
                    },
                    "geo": {
                      "showland": true,
                      "bgcolor": "white",
                      "showlakes": true,
                      "landcolor": "#E5ECF6",
                      "subunitcolor": "white",
                      "lakecolor": "white"
                    },
                    "annotationdefaults": {
                      "arrowwidth": 1,
                      "arrowhead": 0,
                      "arrowcolor": "#2a3f5f"
                    }
                  }
                },
                "yaxis": {
                  "domain": [
                    0,
                    1
                  ],
                  "anchor": "x",
                  "title": {
                    "text": "age"
                  }
                },
                "xaxis": {
                  "domain": [
                    0,
                    1
                  ],
                  "anchor": "y",
                  "title": {
                    "text": "obesity"
                  }
                },
                "margin": {
                  "t": 60
                },
                "legend": {
                  "tracegroupgap": 0
                },
                "coloraxis": {
                  "colorbar": {
                    "title": {
                      "text": "count of coracao"
                    }
                  },
                  "colorscale": [
                    [
                      0,
                      "#0d0887"
                    ],
                    [
                      0.1111111111111111,
                      "#46039f"
                    ],
                    [
                      0.2222222222222222,
                      "#7201a8"
                    ],
                    [
                      0.3333333333333333,
                      "#9c179e"
                    ],
                    [
                      0.4444444444444444,
                      "#bd3786"
                    ],
                    [
                      0.5555555555555556,
                      "#d8576b"
                    ],
                    [
                      0.6666666666666666,
                      "#ed7953"
                    ],
                    [
                      0.7777777777777778,
                      "#fb9f3a"
                    ],
                    [
                      0.8888888888888888,
                      "#fdca26"
                    ],
                    [
                      1,
                      "#f0f921"
                    ]
                  ]
                }
              }
            }
          },
          "metadata": {}
        }
      ],
      "execution_count": 295,
      "metadata": {
        "collapsed": false,
        "jupyter": {
          "source_hidden": false,
          "outputs_hidden": false
        },
        "nteract": {
          "transient": {
            "deleting": false
          }
        }
      }
    },
    {
      "cell_type": "code",
      "source": [
        "dados['pred_coracao']=pd.Series(y_p)"
      ],
      "outputs": [],
      "execution_count": 296,
      "metadata": {
        "collapsed": false,
        "jupyter": {
          "source_hidden": false,
          "outputs_hidden": false
        },
        "nteract": {
          "transient": {
            "deleting": false
          }
        }
      }
    },
    {
      "cell_type": "code",
      "source": [
        "#com predicao:\n",
        "px.density_heatmap(data_frame=dados, x=dados.obesity.name, y=dados.age.name, z='pred_coracao')"
      ],
      "outputs": [
        {
          "output_type": "display_data",
          "data": {
            "text/html": [
              "<div>\n",
              "        \n",
              "        \n",
              "            <div id=\"c8cb33c6-1f81-4096-80b5-46d80c853fe6\" class=\"plotly-graph-div\" style=\"height:525px; width:100%;\"></div>\n",
              "            <script type=\"text/javascript\">\n",
              "                require([\"plotly\"], function(Plotly) {\n",
              "                    window.PLOTLYENV=window.PLOTLYENV || {};\n",
              "                    \n",
              "                if (document.getElementById(\"c8cb33c6-1f81-4096-80b5-46d80c853fe6\")) {\n",
              "                    Plotly.newPlot(\n",
              "                        'c8cb33c6-1f81-4096-80b5-46d80c853fe6',\n",
              "                        [{\"coloraxis\": \"coloraxis\", \"hoverlabel\": {\"namelength\": 0}, \"hovertemplate\": \"obesity=%{x}<br>age=%{y}<br>count of pred_coracao=%{z}\", \"name\": \"\", \"type\": \"histogram2d\", \"x\": [25.3, 28.87, 29.14, 31.99, 25.99, 30.77, 20.81, 23.11, 24.86, 30.11, 26.81, 23.09, 21.57, 23.63, 23.53, 25.89, 25.31, 32.73, 29.3, 30.09, 20.92, 26.16, 24.64, 28.7, 26.19, 23.23, 38.8, 20.96, 29.43, 28.07, 21.86, 22.13, 28.07, 30.25, 29.84, 19.49, 27.36, 30.9, 24.86, 27.68, 30.98, 23.75, 22.15, 26.29, 46.58, 22.95, 25.71, 30.01, 20.17, 30.53, 29.01, 27.19, 28.64, 22.65, 23.91, 26.57, 23.83, 25.52, 22.94, 22.51, 23.65, 25.65, 26.21, 27.23, 22.07, 25.0, 28.49, 22.08, 29.01, 21.06, 19.15, 17.81, 25.76, 17.75, 27.86, 21.66, 29.16, 27.19, 24.25, 25.72, 22.59, 45.72, 25.44, 26.38, 20.75, 27.52, 19.37, 27.83, 21.94, 28.34, 21.59, 30.57, 29.17, 25.15, 30.16, 20.54, 26.06, 27.59, 27.07, 23.44, 22.69, 28.37, 32.18, 30.97, 28.63, 26.64, 22.29, 37.41, 23.48, 22.04, 25.51, 26.18, 21.03, 25.27, 19.4, 28.41, 21.91, 20.6, 23.35, 28.02, 22.86, 25.85, 26.21, 24.78, 25.91, 33.14, 27.78, 34.42, 29.44, 34.57, 24.79, 31.44, 24.7, 29.29, 26.09, 24.05, 21.13, 21.25, 20.52, 32.83, 33.87, 19.3, 24.97, 31.21, 24.72, 22.1, 22.09, 28.73, 29.38, 23.22, 24.7, 24.15, 25.63, 22.61, 21.78, 23.33, 22.03, 30.71, 25.81, 25.62, 24.81, 27.45, 22.16, 20.0, 22.13, 23.64, 27.14, 25.87, 25.99, 36.06, 29.33, 24.46, 26.09, 29.83, 22.05, 26.52, 27.95, 20.16, 26.24, 27.96, 30.14, 40.34, 27.14, 21.48, 26.74, 21.94, 28.88, 25.42, 24.73, 25.39, 24.37, 35.94, 23.59, 30.42, 21.62, 22.01, 25.63, 31.59, 28.25, 25.26, 24.58, 25.12, 29.87, 23.81, 24.96, 29.34, 26.71, 28.4, 25.71, 31.44, 26.88, 31.27, 23.63, 26.75, 22.45, 31.15, 22.56, 21.47, 22.6, 27.62, 20.28, 41.76, 27.38, 25.01, 19.48, 24.69, 27.29, 28.33, 27.25, 28.99, 26.08, 29.19, 29.42, 24.36, 25.7, 27.44, 28.85, 27.3, 23.12, 22.7, 27.29, 26.01, 26.09, 34.35, 28.67, 21.59, 22.3, 25.11, 25.68, 29.37, 27.84, 23.14, 20.86, 22.51, 23.76, 22.75, 36.46, 23.54, 24.49, 35.51, 18.46, 22.76, 20.17, 27.8, 23.39, 20.01, 19.61, 24.86, 20.31, 26.2, 30.01, 37.24, 24.98, 25.02, 22.18, 26.56, 28.75, 25.8, 17.89, 22.65, 24.07, 22.29, 27.36, 26.37, 31.83, 22.17, 27.66, 24.82, 23.23, 27.02, 22.03, 19.82, 23.43, 27.87, 32.33, 23.65, 20.42, 22.59, 26.07, 29.51, 23.8, 30.22, 35.42, 26.86, 22.51, 26.59, 28.84, 18.75, 26.09, 30.86, 22.04, 25.67, 24.32, 37.71, 30.31, 22.67, 22.24, 23.79, 27.04, 24.98, 25.67, 24.72, 24.38, 28.51, 19.44, 28.4, 29.41, 20.74, 20.29, 27.39, 24.0, 28.63, 28.94, 23.95, 26.43, 27.09, 26.8, 28.69, 32.21, 30.31, 25.89, 23.31, 20.43, 26.76, 24.13, 28.4, 25.76, 18.36, 24.98, 22.91, 24.5, 22.41, 27.81, 21.79, 24.08, 23.26, 26.49, 33.28, 26.67, 27.03, 30.12, 28.08, 24.7, 26.96, 25.22, 26.11, 30.92, 26.27, 22.01, 29.27, 26.53, 24.18, 29.38, 26.42, 30.74, 27.62, 24.49, 27.16, 33.35, 33.17, 24.81, 32.77, 30.75, 21.3, 26.99, 32.91, 21.83, 25.92, 24.2, 25.99, 24.34, 35.07, 23.74, 26.7, 35.58, 25.97, 30.77, 24.86, 27.0, 26.3, 23.82, 30.61, 21.26, 25.12, 31.65, 27.26, 30.54, 32.04, 26.83, 24.8, 27.29, 34.72, 28.5, 20.58, 31.03, 24.54, 25.92, 30.18, 22.15, 24.94, 22.4, 23.37, 27.92, 21.07, 23.66, 24.92, 31.16, 28.71, 23.25, 27.2, 20.18, 19.38, 21.94, 22.01, 18.5, 21.51, 25.38, 22.59, 21.4, 22.05, 29.0, 21.89, 28.7, 26.33, 30.08, 20.7, 28.92, 20.28, 22.26, 27.55, 19.57, 23.37, 26.15, 31.5, 28.11, 23.96, 33.1, 28.45, 28.61, 20.09, 27.35, 14.7], \"xaxis\": \"x\", \"xbingroup\": \"x\", \"y\": [52, 63, 46, 58, 49, 45, 38, 58, 29, 53, 60, 40, 17, 15, 53, 46, 49, 53, 62, 59, 20, 44, 50, 58, 50, 42, 48, 61, 56, 63, 45, 46, 59, 41, 48, 28, 32, 46, 29, 58, 41, 30, 15, 51, 17, 48, 58, 33, 16, 30, 42, 49, 42, 31, 53, 48, 28, 38, 18, 61, 33, 44, 57, 38, 17, 54, 30, 27, 33, 32, 15, 26, 36, 20, 34, 40, 55, 55, 56, 39, 45, 53, 55, 57, 17, 45, 49, 38, 41, 55, 21, 64, 29, 49, 56, 62, 29, 39, 51, 39, 50, 27, 46, 31, 29, 64, 61, 54, 42, 18, 16, 54, 37, 61, 59, 48, 32, 42, 61, 27, 60, 28, 33, 56, 45, 59, 28, 38, 60, 64, 62, 58, 30, 54, 40, 52, 32, 28, 20, 54, 54, 25, 38, 58, 40, 40, 31, 43, 33, 61, 55, 52, 24, 20, 41, 55, 17, 53, 38, 43, 31, 62, 16, 21, 16, 49, 55, 43, 25, 48, 41, 32, 47, 61, 62, 61, 37, 17, 24, 56, 56, 51, 60, 39, 48, 33, 63, 39, 63, 64, 40, 49, 39, 23, 18, 21, 17, 42, 54, 27, 23, 31, 33, 64, 58, 40, 18, 60, 59, 60, 60, 40, 44, 53, 18, 62, 45, 26, 25, 57, 16, 46, 60, 45, 56, 42, 32, 52, 64, 50, 58, 62, 58, 30, 29, 51, 61, 57, 27, 16, 45, 47, 41, 55, 60, 57, 56, 60, 64, 58, 48, 17, 63, 42, 46, 54, 37, 49, 58, 44, 17, 20, 61, 35, 52, 18, 17, 57, 16, 45, 55, 41, 24, 43, 55, 63, 64, 43, 16, 16, 28, 42, 50, 27, 41, 17, 19, 17, 16, 38, 16, 16, 44, 56, 34, 42, 17, 17, 46, 53, 45, 32, 53, 59, 27, 49, 45, 59, 37, 34, 59, 46, 59, 44, 50, 59, 38, 26, 59, 51, 59, 38, 61, 64, 55, 36, 62, 19, 39, 55, 17, 45, 51, 59, 59, 43, 58, 59, 27, 30, 40, 52, 53, 31, 37, 26, 53, 61, 43, 60, 49, 36, 58, 61, 54, 58, 24, 49, 50, 32, 62, 34, 48, 60, 52, 28, 24, 30, 38, 42, 64, 41, 32, 64, 29, 45, 31, 53, 38, 64, 52, 44, 38, 31, 44, 54, 59, 53, 26, 53, 39, 50, 61, 64, 48, 27, 62, 48, 55, 47, 49, 49, 62, 58, 57, 51, 61, 60, 40, 16, 62, 60, 55, 63, 46, 39, 60, 45, 48, 41, 43, 63, 55, 61, 42, 33, 33, 49, 34, 32, 16, 16, 16, 18, 16, 16, 17, 16, 31, 40, 32, 16, 52, 37, 27, 25, 34, 17, 20, 48, 24, 18, 42, 51, 39, 27, 57, 58, 52, 55, 40, 46], \"yaxis\": \"y\", \"ybingroup\": \"y\", \"z\": [1.0, 1.0, 1.0, 1.0, 1.0, 1.0, 1.0, 0.0, 1.0, 1.0, 1.0, 0.0, 0.0, 1.0, 1.0, 1.0, 1.0, 1.0, 1.0, 0.0, 1.0, 1.0, 1.0, 1.0, 1.0, 1.0, 1.0, 1.0, 1.0, 1.0, 1.0, 1.0, 1.0, 1.0, 0.0, 0.0, 1.0, 0.0, 1.0, 1.0, 0.0, 0.0, 1.0, 0.0, 1.0, 1.0, 1.0, 0.0, 0.0, 1.0, 1.0, 1.0, 0.0, 1.0, 0.0, 0.0, 1.0, 0.0, 1.0, 0.0, 1.0, 1.0, 0.0, 0.0, 1.0, 0.0, 0.0, 1.0, 0.0, 0.0, 0.0, 0.0, 0.0, 0.0, 1.0, 1.0, 1.0, 1.0, 0.0, 1.0, 1.0, 1.0, 1.0, 0.0, 1.0, 1.0, 1.0, 1.0, 1.0, 0.0, 1.0, 0.0, 1.0, 1.0, 1.0, 0.0, 1.0, 1.0, 1.0, 1.0, 0.0, 1.0, 0.0, 0.0, 1.0, 1.0, 1.0, 1.0, 0.0, 0.0, 1.0, 1.0, 1.0, 1.0, 1.0, 0.0, 1.0, 1.0, 0.0, 1.0, 0.0, 0.0, 1.0, 1.0, 1.0, 0.0, 0.0, 1.0, 1.0, 1.0, 1.0, 0.0, 1.0, 0.0, 1.0, 0.0, 0.0, 0.0, 1.0, 1.0, 0.0, 1.0, 1.0, 1.0, 1.0, 0.0, 1.0, 0.0, 1.0, 1.0, 1.0, 0.0, 0.0, 0.0, 0.0, 0.0, 1.0, 1.0, 1.0, 0.0, 1.0, 0.0, 0.0, 0.0, 1.0, 1.0, 1.0, 0.0, 1.0, 1.0, 0.0, 1.0, 1.0, 1.0, 1.0, 0.0, 0.0, 0.0, 1.0, 1.0, 1.0, 1.0, 0.0, 1.0, 1.0, 1.0, 1.0, 1.0, 1.0, 1.0, 1.0, 1.0, 0.0, 0.0, 0.0, 0.0, 0.0, 1.0, 0.0, 0.0, 0.0, 0.0, 1.0, 1.0, 1.0, 0.0, 1.0, 1.0, 1.0, 1.0, 1.0, 1.0, 1.0, 0.0, 1.0, 0.0, 0.0, 0.0, 1.0, 0.0, 0.0, 1.0, 1.0, 1.0, 1.0, 1.0, 1.0, 1.0, 1.0, 1.0, 1.0, 1.0, 0.0, 0.0, 1.0, 1.0, 1.0, 0.0, 0.0, 1.0, 1.0, 0.0, 1.0, 1.0, 1.0, 1.0, 1.0, 1.0, 1.0, 0.0, 0.0, 1.0, 1.0, 1.0, 1.0, 0.0, 1.0, 1.0, 0.0, 0.0, 0.0, 0.0, 1.0, 0.0, 0.0, 1.0, 0.0, 1.0, 1.0, 1.0, 0.0, 1.0, 1.0, 1.0, 1.0, 1.0, 0.0, 0.0, 0.0, 0.0, 1.0, 0.0, 1.0, 0.0, 0.0, 0.0, 0.0, 1.0, 0.0, 0.0, 1.0, 1.0, 0.0, 0.0, 0.0, 0.0, 1.0, 1.0, 1.0, 0.0, 1.0, 1.0, 0.0, 1.0, 1.0, 1.0, 0.0, 0.0, 1.0, 1.0, 1.0, 0.0, 0.0, 1.0, 1.0, 0.0, 1.0, 1.0, 1.0, 0.0, 1.0, 1.0, 1.0, 0.0, 1.0, 0.0, 1.0, 1.0, 0.0, 1.0, 1.0, 1.0, 1.0, 1.0, 1.0, 1.0, 0.0, 0.0, 1.0, 1.0, 1.0, 0.0, 0.0, 0.0, 1.0, 1.0, 1.0, 1.0, 1.0, 0.0, 1.0, 1.0, 1.0, 1.0, 0.0, 1.0, 1.0, 0.0, 1.0, 0.0, 1.0, 1.0, 1.0, 0.0, 0.0, 0.0, 1.0, 1.0, 1.0, 0.0, 0.0, 1.0, 0.0, 1.0, 0.0, 1.0, 0.0, 1.0, 1.0, 0.0, 1.0, 1.0, 1.0, 1.0, 1.0, 1.0, 0.0, 1.0, 1.0, 1.0, 1.0, 1.0, 1.0, 0.0, 1.0, 0.0, 1.0, 1.0, 1.0, 1.0, 1.0, 1.0, 1.0, 1.0, 1.0, 1.0, 1.0, 0.0, 1.0, 1.0, 1.0, 1.0, 1.0, 0.0, 1.0, 0.0, 1.0, 1.0, 0.0, 1.0, 1.0, 1.0, 1.0, 0.0, 0.0, 1.0, 1.0, 0.0, 0.0, 0.0, 0.0, 0.0, 0.0, 0.0, 0.0, 0.0, 0.0, 1.0, 1.0, 0.0, 1.0, 1.0, 0.0, 0.0, 0.0, 0.0, 0.0, 0.0, 0.0, 0.0, 0.0, 1.0, 1.0, 0.0, 1.0, 1.0, 1.0, 1.0, 1.0, 1.0, null, null]}],\n",
              "                        {\"coloraxis\": {\"colorbar\": {\"title\": {\"text\": \"count of pred_coracao\"}}, \"colorscale\": [[0.0, \"#0d0887\"], [0.1111111111111111, \"#46039f\"], [0.2222222222222222, \"#7201a8\"], [0.3333333333333333, \"#9c179e\"], [0.4444444444444444, \"#bd3786\"], [0.5555555555555556, \"#d8576b\"], [0.6666666666666666, \"#ed7953\"], [0.7777777777777778, \"#fb9f3a\"], [0.8888888888888888, \"#fdca26\"], [1.0, \"#f0f921\"]]}, \"legend\": {\"tracegroupgap\": 0}, \"margin\": {\"t\": 60}, \"template\": {\"data\": {\"bar\": [{\"error_x\": {\"color\": \"#2a3f5f\"}, \"error_y\": {\"color\": \"#2a3f5f\"}, \"marker\": {\"line\": {\"color\": \"#E5ECF6\", \"width\": 0.5}}, \"type\": \"bar\"}], \"barpolar\": [{\"marker\": {\"line\": {\"color\": \"#E5ECF6\", \"width\": 0.5}}, \"type\": \"barpolar\"}], \"carpet\": [{\"aaxis\": {\"endlinecolor\": \"#2a3f5f\", \"gridcolor\": \"white\", \"linecolor\": \"white\", \"minorgridcolor\": \"white\", \"startlinecolor\": \"#2a3f5f\"}, \"baxis\": {\"endlinecolor\": \"#2a3f5f\", \"gridcolor\": \"white\", \"linecolor\": \"white\", \"minorgridcolor\": \"white\", \"startlinecolor\": \"#2a3f5f\"}, \"type\": \"carpet\"}], \"choropleth\": [{\"colorbar\": {\"outlinewidth\": 0, \"ticks\": \"\"}, \"type\": \"choropleth\"}], \"contour\": [{\"colorbar\": {\"outlinewidth\": 0, \"ticks\": \"\"}, \"colorscale\": [[0.0, \"#0d0887\"], [0.1111111111111111, \"#46039f\"], [0.2222222222222222, \"#7201a8\"], [0.3333333333333333, \"#9c179e\"], [0.4444444444444444, \"#bd3786\"], [0.5555555555555556, \"#d8576b\"], [0.6666666666666666, \"#ed7953\"], [0.7777777777777778, \"#fb9f3a\"], [0.8888888888888888, \"#fdca26\"], [1.0, \"#f0f921\"]], \"type\": \"contour\"}], \"contourcarpet\": [{\"colorbar\": {\"outlinewidth\": 0, \"ticks\": \"\"}, \"type\": \"contourcarpet\"}], \"heatmap\": [{\"colorbar\": {\"outlinewidth\": 0, \"ticks\": \"\"}, \"colorscale\": [[0.0, \"#0d0887\"], [0.1111111111111111, \"#46039f\"], [0.2222222222222222, \"#7201a8\"], [0.3333333333333333, \"#9c179e\"], [0.4444444444444444, \"#bd3786\"], [0.5555555555555556, \"#d8576b\"], [0.6666666666666666, \"#ed7953\"], [0.7777777777777778, \"#fb9f3a\"], [0.8888888888888888, \"#fdca26\"], [1.0, \"#f0f921\"]], \"type\": \"heatmap\"}], \"heatmapgl\": [{\"colorbar\": {\"outlinewidth\": 0, \"ticks\": \"\"}, \"colorscale\": [[0.0, \"#0d0887\"], [0.1111111111111111, \"#46039f\"], [0.2222222222222222, \"#7201a8\"], [0.3333333333333333, \"#9c179e\"], [0.4444444444444444, \"#bd3786\"], [0.5555555555555556, \"#d8576b\"], [0.6666666666666666, \"#ed7953\"], [0.7777777777777778, \"#fb9f3a\"], [0.8888888888888888, \"#fdca26\"], [1.0, \"#f0f921\"]], \"type\": \"heatmapgl\"}], \"histogram\": [{\"marker\": {\"colorbar\": {\"outlinewidth\": 0, \"ticks\": \"\"}}, \"type\": \"histogram\"}], \"histogram2d\": [{\"colorbar\": {\"outlinewidth\": 0, \"ticks\": \"\"}, \"colorscale\": [[0.0, \"#0d0887\"], [0.1111111111111111, \"#46039f\"], [0.2222222222222222, \"#7201a8\"], [0.3333333333333333, \"#9c179e\"], [0.4444444444444444, \"#bd3786\"], [0.5555555555555556, \"#d8576b\"], [0.6666666666666666, \"#ed7953\"], [0.7777777777777778, \"#fb9f3a\"], [0.8888888888888888, \"#fdca26\"], [1.0, \"#f0f921\"]], \"type\": \"histogram2d\"}], \"histogram2dcontour\": [{\"colorbar\": {\"outlinewidth\": 0, \"ticks\": \"\"}, \"colorscale\": [[0.0, \"#0d0887\"], [0.1111111111111111, \"#46039f\"], [0.2222222222222222, \"#7201a8\"], [0.3333333333333333, \"#9c179e\"], [0.4444444444444444, \"#bd3786\"], [0.5555555555555556, \"#d8576b\"], [0.6666666666666666, \"#ed7953\"], [0.7777777777777778, \"#fb9f3a\"], [0.8888888888888888, \"#fdca26\"], [1.0, \"#f0f921\"]], \"type\": \"histogram2dcontour\"}], \"mesh3d\": [{\"colorbar\": {\"outlinewidth\": 0, \"ticks\": \"\"}, \"type\": \"mesh3d\"}], \"parcoords\": [{\"line\": {\"colorbar\": {\"outlinewidth\": 0, \"ticks\": \"\"}}, \"type\": \"parcoords\"}], \"pie\": [{\"automargin\": true, \"type\": \"pie\"}], \"scatter\": [{\"marker\": {\"colorbar\": {\"outlinewidth\": 0, \"ticks\": \"\"}}, \"type\": \"scatter\"}], \"scatter3d\": [{\"line\": {\"colorbar\": {\"outlinewidth\": 0, \"ticks\": \"\"}}, \"marker\": {\"colorbar\": {\"outlinewidth\": 0, \"ticks\": \"\"}}, \"type\": \"scatter3d\"}], \"scattercarpet\": [{\"marker\": {\"colorbar\": {\"outlinewidth\": 0, \"ticks\": \"\"}}, \"type\": \"scattercarpet\"}], \"scattergeo\": [{\"marker\": {\"colorbar\": {\"outlinewidth\": 0, \"ticks\": \"\"}}, \"type\": \"scattergeo\"}], \"scattergl\": [{\"marker\": {\"colorbar\": {\"outlinewidth\": 0, \"ticks\": \"\"}}, \"type\": \"scattergl\"}], \"scattermapbox\": [{\"marker\": {\"colorbar\": {\"outlinewidth\": 0, \"ticks\": \"\"}}, \"type\": \"scattermapbox\"}], \"scatterpolar\": [{\"marker\": {\"colorbar\": {\"outlinewidth\": 0, \"ticks\": \"\"}}, \"type\": \"scatterpolar\"}], \"scatterpolargl\": [{\"marker\": {\"colorbar\": {\"outlinewidth\": 0, \"ticks\": \"\"}}, \"type\": \"scatterpolargl\"}], \"scatterternary\": [{\"marker\": {\"colorbar\": {\"outlinewidth\": 0, \"ticks\": \"\"}}, \"type\": \"scatterternary\"}], \"surface\": [{\"colorbar\": {\"outlinewidth\": 0, \"ticks\": \"\"}, \"colorscale\": [[0.0, \"#0d0887\"], [0.1111111111111111, \"#46039f\"], [0.2222222222222222, \"#7201a8\"], [0.3333333333333333, \"#9c179e\"], [0.4444444444444444, \"#bd3786\"], [0.5555555555555556, \"#d8576b\"], [0.6666666666666666, \"#ed7953\"], [0.7777777777777778, \"#fb9f3a\"], [0.8888888888888888, \"#fdca26\"], [1.0, \"#f0f921\"]], \"type\": \"surface\"}], \"table\": [{\"cells\": {\"fill\": {\"color\": \"#EBF0F8\"}, \"line\": {\"color\": \"white\"}}, \"header\": {\"fill\": {\"color\": \"#C8D4E3\"}, \"line\": {\"color\": \"white\"}}, \"type\": \"table\"}]}, \"layout\": {\"annotationdefaults\": {\"arrowcolor\": \"#2a3f5f\", \"arrowhead\": 0, \"arrowwidth\": 1}, \"coloraxis\": {\"colorbar\": {\"outlinewidth\": 0, \"ticks\": \"\"}}, \"colorscale\": {\"diverging\": [[0, \"#8e0152\"], [0.1, \"#c51b7d\"], [0.2, \"#de77ae\"], [0.3, \"#f1b6da\"], [0.4, \"#fde0ef\"], [0.5, \"#f7f7f7\"], [0.6, \"#e6f5d0\"], [0.7, \"#b8e186\"], [0.8, \"#7fbc41\"], [0.9, \"#4d9221\"], [1, \"#276419\"]], \"sequential\": [[0.0, \"#0d0887\"], [0.1111111111111111, \"#46039f\"], [0.2222222222222222, \"#7201a8\"], [0.3333333333333333, \"#9c179e\"], [0.4444444444444444, \"#bd3786\"], [0.5555555555555556, \"#d8576b\"], [0.6666666666666666, \"#ed7953\"], [0.7777777777777778, \"#fb9f3a\"], [0.8888888888888888, \"#fdca26\"], [1.0, \"#f0f921\"]], \"sequentialminus\": [[0.0, \"#0d0887\"], [0.1111111111111111, \"#46039f\"], [0.2222222222222222, \"#7201a8\"], [0.3333333333333333, \"#9c179e\"], [0.4444444444444444, \"#bd3786\"], [0.5555555555555556, \"#d8576b\"], [0.6666666666666666, \"#ed7953\"], [0.7777777777777778, \"#fb9f3a\"], [0.8888888888888888, \"#fdca26\"], [1.0, \"#f0f921\"]]}, \"colorway\": [\"#636efa\", \"#EF553B\", \"#00cc96\", \"#ab63fa\", \"#FFA15A\", \"#19d3f3\", \"#FF6692\", \"#B6E880\", \"#FF97FF\", \"#FECB52\"], \"font\": {\"color\": \"#2a3f5f\"}, \"geo\": {\"bgcolor\": \"white\", \"lakecolor\": \"white\", \"landcolor\": \"#E5ECF6\", \"showlakes\": true, \"showland\": true, \"subunitcolor\": \"white\"}, \"hoverlabel\": {\"align\": \"left\"}, \"hovermode\": \"closest\", \"mapbox\": {\"style\": \"light\"}, \"paper_bgcolor\": \"white\", \"plot_bgcolor\": \"#E5ECF6\", \"polar\": {\"angularaxis\": {\"gridcolor\": \"white\", \"linecolor\": \"white\", \"ticks\": \"\"}, \"bgcolor\": \"#E5ECF6\", \"radialaxis\": {\"gridcolor\": \"white\", \"linecolor\": \"white\", \"ticks\": \"\"}}, \"scene\": {\"xaxis\": {\"backgroundcolor\": \"#E5ECF6\", \"gridcolor\": \"white\", \"gridwidth\": 2, \"linecolor\": \"white\", \"showbackground\": true, \"ticks\": \"\", \"zerolinecolor\": \"white\"}, \"yaxis\": {\"backgroundcolor\": \"#E5ECF6\", \"gridcolor\": \"white\", \"gridwidth\": 2, \"linecolor\": \"white\", \"showbackground\": true, \"ticks\": \"\", \"zerolinecolor\": \"white\"}, \"zaxis\": {\"backgroundcolor\": \"#E5ECF6\", \"gridcolor\": \"white\", \"gridwidth\": 2, \"linecolor\": \"white\", \"showbackground\": true, \"ticks\": \"\", \"zerolinecolor\": \"white\"}}, \"shapedefaults\": {\"line\": {\"color\": \"#2a3f5f\"}}, \"ternary\": {\"aaxis\": {\"gridcolor\": \"white\", \"linecolor\": \"white\", \"ticks\": \"\"}, \"baxis\": {\"gridcolor\": \"white\", \"linecolor\": \"white\", \"ticks\": \"\"}, \"bgcolor\": \"#E5ECF6\", \"caxis\": {\"gridcolor\": \"white\", \"linecolor\": \"white\", \"ticks\": \"\"}}, \"title\": {\"x\": 0.05}, \"xaxis\": {\"automargin\": true, \"gridcolor\": \"white\", \"linecolor\": \"white\", \"ticks\": \"\", \"title\": {\"standoff\": 15}, \"zerolinecolor\": \"white\", \"zerolinewidth\": 2}, \"yaxis\": {\"automargin\": true, \"gridcolor\": \"white\", \"linecolor\": \"white\", \"ticks\": \"\", \"title\": {\"standoff\": 15}, \"zerolinecolor\": \"white\", \"zerolinewidth\": 2}}}, \"xaxis\": {\"anchor\": \"y\", \"domain\": [0.0, 1.0], \"title\": {\"text\": \"obesity\"}}, \"yaxis\": {\"anchor\": \"x\", \"domain\": [0.0, 1.0], \"title\": {\"text\": \"age\"}}},\n",
              "                        {\"responsive\": true}\n",
              "                    ).then(function(){\n",
              "                            \n",
              "var gd = document.getElementById('c8cb33c6-1f81-4096-80b5-46d80c853fe6');\n",
              "var x = new MutationObserver(function (mutations, observer) {{\n",
              "        var display = window.getComputedStyle(gd).display;\n",
              "        if (!display || display === 'none') {{\n",
              "            console.log([gd, 'removed!']);\n",
              "            Plotly.purge(gd);\n",
              "            observer.disconnect();\n",
              "        }}\n",
              "}});\n",
              "\n",
              "// Listen for the removal of the full notebook cells\n",
              "var notebookContainer = gd.closest('#notebook-container');\n",
              "if (notebookContainer) {{\n",
              "    x.observe(notebookContainer, {childList: true});\n",
              "}}\n",
              "\n",
              "// Listen for the clearing of the current output cell\n",
              "var outputEl = gd.closest('.output');\n",
              "if (outputEl) {{\n",
              "    x.observe(outputEl, {childList: true});\n",
              "}}\n",
              "\n",
              "                        })\n",
              "                };\n",
              "                });\n",
              "            </script>\n",
              "        </div>"
            ],
            "application/vnd.plotly.v1+json": {
              "config": {
                "plotlyServerURL": "https://plot.ly"
              },
              "data": [
                {
                  "hovertemplate": "obesity=%{x}<br>age=%{y}<br>count of pred_coracao=%{z}",
                  "name": "",
                  "yaxis": "y",
                  "ybingroup": "y",
                  "xbingroup": "x",
                  "hoverlabel": {
                    "namelength": 0
                  },
                  "xaxis": "x",
                  "y": [
                    52,
                    63,
                    46,
                    58,
                    49,
                    45,
                    38,
                    58,
                    29,
                    53,
                    60,
                    40,
                    17,
                    15,
                    53,
                    46,
                    49,
                    53,
                    62,
                    59,
                    20,
                    44,
                    50,
                    58,
                    50,
                    42,
                    48,
                    61,
                    56,
                    63,
                    45,
                    46,
                    59,
                    41,
                    48,
                    28,
                    32,
                    46,
                    29,
                    58,
                    41,
                    30,
                    15,
                    51,
                    17,
                    48,
                    58,
                    33,
                    16,
                    30,
                    42,
                    49,
                    42,
                    31,
                    53,
                    48,
                    28,
                    38,
                    18,
                    61,
                    33,
                    44,
                    57,
                    38,
                    17,
                    54,
                    30,
                    27,
                    33,
                    32,
                    15,
                    26,
                    36,
                    20,
                    34,
                    40,
                    55,
                    55,
                    56,
                    39,
                    45,
                    53,
                    55,
                    57,
                    17,
                    45,
                    49,
                    38,
                    41,
                    55,
                    21,
                    64,
                    29,
                    49,
                    56,
                    62,
                    29,
                    39,
                    51,
                    39,
                    50,
                    27,
                    46,
                    31,
                    29,
                    64,
                    61,
                    54,
                    42,
                    18,
                    16,
                    54,
                    37,
                    61,
                    59,
                    48,
                    32,
                    42,
                    61,
                    27,
                    60,
                    28,
                    33,
                    56,
                    45,
                    59,
                    28,
                    38,
                    60,
                    64,
                    62,
                    58,
                    30,
                    54,
                    40,
                    52,
                    32,
                    28,
                    20,
                    54,
                    54,
                    25,
                    38,
                    58,
                    40,
                    40,
                    31,
                    43,
                    33,
                    61,
                    55,
                    52,
                    24,
                    20,
                    41,
                    55,
                    17,
                    53,
                    38,
                    43,
                    31,
                    62,
                    16,
                    21,
                    16,
                    49,
                    55,
                    43,
                    25,
                    48,
                    41,
                    32,
                    47,
                    61,
                    62,
                    61,
                    37,
                    17,
                    24,
                    56,
                    56,
                    51,
                    60,
                    39,
                    48,
                    33,
                    63,
                    39,
                    63,
                    64,
                    40,
                    49,
                    39,
                    23,
                    18,
                    21,
                    17,
                    42,
                    54,
                    27,
                    23,
                    31,
                    33,
                    64,
                    58,
                    40,
                    18,
                    60,
                    59,
                    60,
                    60,
                    40,
                    44,
                    53,
                    18,
                    62,
                    45,
                    26,
                    25,
                    57,
                    16,
                    46,
                    60,
                    45,
                    56,
                    42,
                    32,
                    52,
                    64,
                    50,
                    58,
                    62,
                    58,
                    30,
                    29,
                    51,
                    61,
                    57,
                    27,
                    16,
                    45,
                    47,
                    41,
                    55,
                    60,
                    57,
                    56,
                    60,
                    64,
                    58,
                    48,
                    17,
                    63,
                    42,
                    46,
                    54,
                    37,
                    49,
                    58,
                    44,
                    17,
                    20,
                    61,
                    35,
                    52,
                    18,
                    17,
                    57,
                    16,
                    45,
                    55,
                    41,
                    24,
                    43,
                    55,
                    63,
                    64,
                    43,
                    16,
                    16,
                    28,
                    42,
                    50,
                    27,
                    41,
                    17,
                    19,
                    17,
                    16,
                    38,
                    16,
                    16,
                    44,
                    56,
                    34,
                    42,
                    17,
                    17,
                    46,
                    53,
                    45,
                    32,
                    53,
                    59,
                    27,
                    49,
                    45,
                    59,
                    37,
                    34,
                    59,
                    46,
                    59,
                    44,
                    50,
                    59,
                    38,
                    26,
                    59,
                    51,
                    59,
                    38,
                    61,
                    64,
                    55,
                    36,
                    62,
                    19,
                    39,
                    55,
                    17,
                    45,
                    51,
                    59,
                    59,
                    43,
                    58,
                    59,
                    27,
                    30,
                    40,
                    52,
                    53,
                    31,
                    37,
                    26,
                    53,
                    61,
                    43,
                    60,
                    49,
                    36,
                    58,
                    61,
                    54,
                    58,
                    24,
                    49,
                    50,
                    32,
                    62,
                    34,
                    48,
                    60,
                    52,
                    28,
                    24,
                    30,
                    38,
                    42,
                    64,
                    41,
                    32,
                    64,
                    29,
                    45,
                    31,
                    53,
                    38,
                    64,
                    52,
                    44,
                    38,
                    31,
                    44,
                    54,
                    59,
                    53,
                    26,
                    53,
                    39,
                    50,
                    61,
                    64,
                    48,
                    27,
                    62,
                    48,
                    55,
                    47,
                    49,
                    49,
                    62,
                    58,
                    57,
                    51,
                    61,
                    60,
                    40,
                    16,
                    62,
                    60,
                    55,
                    63,
                    46,
                    39,
                    60,
                    45,
                    48,
                    41,
                    43,
                    63,
                    55,
                    61,
                    42,
                    33,
                    33,
                    49,
                    34,
                    32,
                    16,
                    16,
                    16,
                    18,
                    16,
                    16,
                    17,
                    16,
                    31,
                    40,
                    32,
                    16,
                    52,
                    37,
                    27,
                    25,
                    34,
                    17,
                    20,
                    48,
                    24,
                    18,
                    42,
                    51,
                    39,
                    27,
                    57,
                    58,
                    52,
                    55,
                    40,
                    46
                  ],
                  "x": [
                    25.3,
                    28.87,
                    29.14,
                    31.99,
                    25.99,
                    30.77,
                    20.81,
                    23.11,
                    24.86,
                    30.11,
                    26.81,
                    23.09,
                    21.57,
                    23.63,
                    23.53,
                    25.89,
                    25.31,
                    32.73,
                    29.3,
                    30.09,
                    20.92,
                    26.16,
                    24.64,
                    28.7,
                    26.19,
                    23.23,
                    38.8,
                    20.96,
                    29.43,
                    28.07,
                    21.86,
                    22.13,
                    28.07,
                    30.25,
                    29.84,
                    19.49,
                    27.36,
                    30.9,
                    24.86,
                    27.68,
                    30.98,
                    23.75,
                    22.15,
                    26.29,
                    46.58,
                    22.95,
                    25.71,
                    30.01,
                    20.17,
                    30.53,
                    29.01,
                    27.19,
                    28.64,
                    22.65,
                    23.91,
                    26.57,
                    23.83,
                    25.52,
                    22.94,
                    22.51,
                    23.65,
                    25.65,
                    26.21,
                    27.23,
                    22.07,
                    25,
                    28.49,
                    22.08,
                    29.01,
                    21.06,
                    19.15,
                    17.81,
                    25.76,
                    17.75,
                    27.86,
                    21.66,
                    29.16,
                    27.19,
                    24.25,
                    25.72,
                    22.59,
                    45.72,
                    25.44,
                    26.38,
                    20.75,
                    27.52,
                    19.37,
                    27.83,
                    21.94,
                    28.34,
                    21.59,
                    30.57,
                    29.17,
                    25.15,
                    30.16,
                    20.54,
                    26.06,
                    27.59,
                    27.07,
                    23.44,
                    22.69,
                    28.37,
                    32.18,
                    30.97,
                    28.63,
                    26.64,
                    22.29,
                    37.41,
                    23.48,
                    22.04,
                    25.51,
                    26.18,
                    21.03,
                    25.27,
                    19.4,
                    28.41,
                    21.91,
                    20.6,
                    23.35,
                    28.02,
                    22.86,
                    25.85,
                    26.21,
                    24.78,
                    25.91,
                    33.14,
                    27.78,
                    34.42,
                    29.44,
                    34.57,
                    24.79,
                    31.44,
                    24.7,
                    29.29,
                    26.09,
                    24.05,
                    21.13,
                    21.25,
                    20.52,
                    32.83,
                    33.87,
                    19.3,
                    24.97,
                    31.21,
                    24.72,
                    22.1,
                    22.09,
                    28.73,
                    29.38,
                    23.22,
                    24.7,
                    24.15,
                    25.63,
                    22.61,
                    21.78,
                    23.33,
                    22.03,
                    30.71,
                    25.81,
                    25.62,
                    24.81,
                    27.45,
                    22.16,
                    20,
                    22.13,
                    23.64,
                    27.14,
                    25.87,
                    25.99,
                    36.06,
                    29.33,
                    24.46,
                    26.09,
                    29.83,
                    22.05,
                    26.52,
                    27.95,
                    20.16,
                    26.24,
                    27.96,
                    30.14,
                    40.34,
                    27.14,
                    21.48,
                    26.74,
                    21.94,
                    28.88,
                    25.42,
                    24.73,
                    25.39,
                    24.37,
                    35.94,
                    23.59,
                    30.42,
                    21.62,
                    22.01,
                    25.63,
                    31.59,
                    28.25,
                    25.26,
                    24.58,
                    25.12,
                    29.87,
                    23.81,
                    24.96,
                    29.34,
                    26.71,
                    28.4,
                    25.71,
                    31.44,
                    26.88,
                    31.27,
                    23.63,
                    26.75,
                    22.45,
                    31.15,
                    22.56,
                    21.47,
                    22.6,
                    27.62,
                    20.28,
                    41.76,
                    27.38,
                    25.01,
                    19.48,
                    24.69,
                    27.29,
                    28.33,
                    27.25,
                    28.99,
                    26.08,
                    29.19,
                    29.42,
                    24.36,
                    25.7,
                    27.44,
                    28.85,
                    27.3,
                    23.12,
                    22.7,
                    27.29,
                    26.01,
                    26.09,
                    34.35,
                    28.67,
                    21.59,
                    22.3,
                    25.11,
                    25.68,
                    29.37,
                    27.84,
                    23.14,
                    20.86,
                    22.51,
                    23.76,
                    22.75,
                    36.46,
                    23.54,
                    24.49,
                    35.51,
                    18.46,
                    22.76,
                    20.17,
                    27.8,
                    23.39,
                    20.01,
                    19.61,
                    24.86,
                    20.31,
                    26.2,
                    30.01,
                    37.24,
                    24.98,
                    25.02,
                    22.18,
                    26.56,
                    28.75,
                    25.8,
                    17.89,
                    22.65,
                    24.07,
                    22.29,
                    27.36,
                    26.37,
                    31.83,
                    22.17,
                    27.66,
                    24.82,
                    23.23,
                    27.02,
                    22.03,
                    19.82,
                    23.43,
                    27.87,
                    32.33,
                    23.65,
                    20.42,
                    22.59,
                    26.07,
                    29.51,
                    23.8,
                    30.22,
                    35.42,
                    26.86,
                    22.51,
                    26.59,
                    28.84,
                    18.75,
                    26.09,
                    30.86,
                    22.04,
                    25.67,
                    24.32,
                    37.71,
                    30.31,
                    22.67,
                    22.24,
                    23.79,
                    27.04,
                    24.98,
                    25.67,
                    24.72,
                    24.38,
                    28.51,
                    19.44,
                    28.4,
                    29.41,
                    20.74,
                    20.29,
                    27.39,
                    24,
                    28.63,
                    28.94,
                    23.95,
                    26.43,
                    27.09,
                    26.8,
                    28.69,
                    32.21,
                    30.31,
                    25.89,
                    23.31,
                    20.43,
                    26.76,
                    24.13,
                    28.4,
                    25.76,
                    18.36,
                    24.98,
                    22.91,
                    24.5,
                    22.41,
                    27.81,
                    21.79,
                    24.08,
                    23.26,
                    26.49,
                    33.28,
                    26.67,
                    27.03,
                    30.12,
                    28.08,
                    24.7,
                    26.96,
                    25.22,
                    26.11,
                    30.92,
                    26.27,
                    22.01,
                    29.27,
                    26.53,
                    24.18,
                    29.38,
                    26.42,
                    30.74,
                    27.62,
                    24.49,
                    27.16,
                    33.35,
                    33.17,
                    24.81,
                    32.77,
                    30.75,
                    21.3,
                    26.99,
                    32.91,
                    21.83,
                    25.92,
                    24.2,
                    25.99,
                    24.34,
                    35.07,
                    23.74,
                    26.7,
                    35.58,
                    25.97,
                    30.77,
                    24.86,
                    27,
                    26.3,
                    23.82,
                    30.61,
                    21.26,
                    25.12,
                    31.65,
                    27.26,
                    30.54,
                    32.04,
                    26.83,
                    24.8,
                    27.29,
                    34.72,
                    28.5,
                    20.58,
                    31.03,
                    24.54,
                    25.92,
                    30.18,
                    22.15,
                    24.94,
                    22.4,
                    23.37,
                    27.92,
                    21.07,
                    23.66,
                    24.92,
                    31.16,
                    28.71,
                    23.25,
                    27.2,
                    20.18,
                    19.38,
                    21.94,
                    22.01,
                    18.5,
                    21.51,
                    25.38,
                    22.59,
                    21.4,
                    22.05,
                    29,
                    21.89,
                    28.7,
                    26.33,
                    30.08,
                    20.7,
                    28.92,
                    20.28,
                    22.26,
                    27.55,
                    19.57,
                    23.37,
                    26.15,
                    31.5,
                    28.11,
                    23.96,
                    33.1,
                    28.45,
                    28.61,
                    20.09,
                    27.35,
                    14.7
                  ],
                  "z": [
                    1,
                    1,
                    1,
                    1,
                    1,
                    1,
                    1,
                    0,
                    1,
                    1,
                    1,
                    0,
                    0,
                    1,
                    1,
                    1,
                    1,
                    1,
                    1,
                    0,
                    1,
                    1,
                    1,
                    1,
                    1,
                    1,
                    1,
                    1,
                    1,
                    1,
                    1,
                    1,
                    1,
                    1,
                    0,
                    0,
                    1,
                    0,
                    1,
                    1,
                    0,
                    0,
                    1,
                    0,
                    1,
                    1,
                    1,
                    0,
                    0,
                    1,
                    1,
                    1,
                    0,
                    1,
                    0,
                    0,
                    1,
                    0,
                    1,
                    0,
                    1,
                    1,
                    0,
                    0,
                    1,
                    0,
                    0,
                    1,
                    0,
                    0,
                    0,
                    0,
                    0,
                    0,
                    1,
                    1,
                    1,
                    1,
                    0,
                    1,
                    1,
                    1,
                    1,
                    0,
                    1,
                    1,
                    1,
                    1,
                    1,
                    0,
                    1,
                    0,
                    1,
                    1,
                    1,
                    0,
                    1,
                    1,
                    1,
                    1,
                    0,
                    1,
                    0,
                    0,
                    1,
                    1,
                    1,
                    1,
                    0,
                    0,
                    1,
                    1,
                    1,
                    1,
                    1,
                    0,
                    1,
                    1,
                    0,
                    1,
                    0,
                    0,
                    1,
                    1,
                    1,
                    0,
                    0,
                    1,
                    1,
                    1,
                    1,
                    0,
                    1,
                    0,
                    1,
                    0,
                    0,
                    0,
                    1,
                    1,
                    0,
                    1,
                    1,
                    1,
                    1,
                    0,
                    1,
                    0,
                    1,
                    1,
                    1,
                    0,
                    0,
                    0,
                    0,
                    0,
                    1,
                    1,
                    1,
                    0,
                    1,
                    0,
                    0,
                    0,
                    1,
                    1,
                    1,
                    0,
                    1,
                    1,
                    0,
                    1,
                    1,
                    1,
                    1,
                    0,
                    0,
                    0,
                    1,
                    1,
                    1,
                    1,
                    0,
                    1,
                    1,
                    1,
                    1,
                    1,
                    1,
                    1,
                    1,
                    1,
                    0,
                    0,
                    0,
                    0,
                    0,
                    1,
                    0,
                    0,
                    0,
                    0,
                    1,
                    1,
                    1,
                    0,
                    1,
                    1,
                    1,
                    1,
                    1,
                    1,
                    1,
                    0,
                    1,
                    0,
                    0,
                    0,
                    1,
                    0,
                    0,
                    1,
                    1,
                    1,
                    1,
                    1,
                    1,
                    1,
                    1,
                    1,
                    1,
                    1,
                    0,
                    0,
                    1,
                    1,
                    1,
                    0,
                    0,
                    1,
                    1,
                    0,
                    1,
                    1,
                    1,
                    1,
                    1,
                    1,
                    1,
                    0,
                    0,
                    1,
                    1,
                    1,
                    1,
                    0,
                    1,
                    1,
                    0,
                    0,
                    0,
                    0,
                    1,
                    0,
                    0,
                    1,
                    0,
                    1,
                    1,
                    1,
                    0,
                    1,
                    1,
                    1,
                    1,
                    1,
                    0,
                    0,
                    0,
                    0,
                    1,
                    0,
                    1,
                    0,
                    0,
                    0,
                    0,
                    1,
                    0,
                    0,
                    1,
                    1,
                    0,
                    0,
                    0,
                    0,
                    1,
                    1,
                    1,
                    0,
                    1,
                    1,
                    0,
                    1,
                    1,
                    1,
                    0,
                    0,
                    1,
                    1,
                    1,
                    0,
                    0,
                    1,
                    1,
                    0,
                    1,
                    1,
                    1,
                    0,
                    1,
                    1,
                    1,
                    0,
                    1,
                    0,
                    1,
                    1,
                    0,
                    1,
                    1,
                    1,
                    1,
                    1,
                    1,
                    1,
                    0,
                    0,
                    1,
                    1,
                    1,
                    0,
                    0,
                    0,
                    1,
                    1,
                    1,
                    1,
                    1,
                    0,
                    1,
                    1,
                    1,
                    1,
                    0,
                    1,
                    1,
                    0,
                    1,
                    0,
                    1,
                    1,
                    1,
                    0,
                    0,
                    0,
                    1,
                    1,
                    1,
                    0,
                    0,
                    1,
                    0,
                    1,
                    0,
                    1,
                    0,
                    1,
                    1,
                    0,
                    1,
                    1,
                    1,
                    1,
                    1,
                    1,
                    0,
                    1,
                    1,
                    1,
                    1,
                    1,
                    1,
                    0,
                    1,
                    0,
                    1,
                    1,
                    1,
                    1,
                    1,
                    1,
                    1,
                    1,
                    1,
                    1,
                    1,
                    0,
                    1,
                    1,
                    1,
                    1,
                    1,
                    0,
                    1,
                    0,
                    1,
                    1,
                    0,
                    1,
                    1,
                    1,
                    1,
                    0,
                    0,
                    1,
                    1,
                    0,
                    0,
                    0,
                    0,
                    0,
                    0,
                    0,
                    0,
                    0,
                    0,
                    1,
                    1,
                    0,
                    1,
                    1,
                    0,
                    0,
                    0,
                    0,
                    0,
                    0,
                    0,
                    0,
                    0,
                    1,
                    1,
                    0,
                    1,
                    1,
                    1,
                    1,
                    1,
                    1,
                    null,
                    null
                  ],
                  "type": "histogram2d",
                  "coloraxis": "coloraxis"
                }
              ],
              "layout": {
                "template": {
                  "data": {
                    "mesh3d": [
                      {
                        "colorbar": {
                          "outlinewidth": 0,
                          "ticks": ""
                        },
                        "type": "mesh3d"
                      }
                    ],
                    "scattercarpet": [
                      {
                        "marker": {
                          "colorbar": {
                            "outlinewidth": 0,
                            "ticks": ""
                          }
                        },
                        "type": "scattercarpet"
                      }
                    ],
                    "pie": [
                      {
                        "automargin": true,
                        "type": "pie"
                      }
                    ],
                    "surface": [
                      {
                        "colorbar": {
                          "outlinewidth": 0,
                          "ticks": ""
                        },
                        "type": "surface",
                        "colorscale": [
                          [
                            0,
                            "#0d0887"
                          ],
                          [
                            0.1111111111111111,
                            "#46039f"
                          ],
                          [
                            0.2222222222222222,
                            "#7201a8"
                          ],
                          [
                            0.3333333333333333,
                            "#9c179e"
                          ],
                          [
                            0.4444444444444444,
                            "#bd3786"
                          ],
                          [
                            0.5555555555555556,
                            "#d8576b"
                          ],
                          [
                            0.6666666666666666,
                            "#ed7953"
                          ],
                          [
                            0.7777777777777778,
                            "#fb9f3a"
                          ],
                          [
                            0.8888888888888888,
                            "#fdca26"
                          ],
                          [
                            1,
                            "#f0f921"
                          ]
                        ]
                      }
                    ],
                    "table": [
                      {
                        "header": {
                          "line": {
                            "color": "white"
                          },
                          "fill": {
                            "color": "#C8D4E3"
                          }
                        },
                        "cells": {
                          "line": {
                            "color": "white"
                          },
                          "fill": {
                            "color": "#EBF0F8"
                          }
                        },
                        "type": "table"
                      }
                    ],
                    "scatterpolargl": [
                      {
                        "marker": {
                          "colorbar": {
                            "outlinewidth": 0,
                            "ticks": ""
                          }
                        },
                        "type": "scatterpolargl"
                      }
                    ],
                    "contour": [
                      {
                        "colorbar": {
                          "outlinewidth": 0,
                          "ticks": ""
                        },
                        "type": "contour",
                        "colorscale": [
                          [
                            0,
                            "#0d0887"
                          ],
                          [
                            0.1111111111111111,
                            "#46039f"
                          ],
                          [
                            0.2222222222222222,
                            "#7201a8"
                          ],
                          [
                            0.3333333333333333,
                            "#9c179e"
                          ],
                          [
                            0.4444444444444444,
                            "#bd3786"
                          ],
                          [
                            0.5555555555555556,
                            "#d8576b"
                          ],
                          [
                            0.6666666666666666,
                            "#ed7953"
                          ],
                          [
                            0.7777777777777778,
                            "#fb9f3a"
                          ],
                          [
                            0.8888888888888888,
                            "#fdca26"
                          ],
                          [
                            1,
                            "#f0f921"
                          ]
                        ]
                      }
                    ],
                    "carpet": [
                      {
                        "baxis": {
                          "endlinecolor": "#2a3f5f",
                          "gridcolor": "white",
                          "linecolor": "white",
                          "minorgridcolor": "white",
                          "startlinecolor": "#2a3f5f"
                        },
                        "type": "carpet",
                        "aaxis": {
                          "endlinecolor": "#2a3f5f",
                          "gridcolor": "white",
                          "linecolor": "white",
                          "minorgridcolor": "white",
                          "startlinecolor": "#2a3f5f"
                        }
                      }
                    ],
                    "contourcarpet": [
                      {
                        "colorbar": {
                          "outlinewidth": 0,
                          "ticks": ""
                        },
                        "type": "contourcarpet"
                      }
                    ],
                    "heatmap": [
                      {
                        "colorbar": {
                          "outlinewidth": 0,
                          "ticks": ""
                        },
                        "type": "heatmap",
                        "colorscale": [
                          [
                            0,
                            "#0d0887"
                          ],
                          [
                            0.1111111111111111,
                            "#46039f"
                          ],
                          [
                            0.2222222222222222,
                            "#7201a8"
                          ],
                          [
                            0.3333333333333333,
                            "#9c179e"
                          ],
                          [
                            0.4444444444444444,
                            "#bd3786"
                          ],
                          [
                            0.5555555555555556,
                            "#d8576b"
                          ],
                          [
                            0.6666666666666666,
                            "#ed7953"
                          ],
                          [
                            0.7777777777777778,
                            "#fb9f3a"
                          ],
                          [
                            0.8888888888888888,
                            "#fdca26"
                          ],
                          [
                            1,
                            "#f0f921"
                          ]
                        ]
                      }
                    ],
                    "scattermapbox": [
                      {
                        "marker": {
                          "colorbar": {
                            "outlinewidth": 0,
                            "ticks": ""
                          }
                        },
                        "type": "scattermapbox"
                      }
                    ],
                    "scatter3d": [
                      {
                        "marker": {
                          "colorbar": {
                            "outlinewidth": 0,
                            "ticks": ""
                          }
                        },
                        "line": {
                          "colorbar": {
                            "outlinewidth": 0,
                            "ticks": ""
                          }
                        },
                        "type": "scatter3d"
                      }
                    ],
                    "scattergl": [
                      {
                        "marker": {
                          "colorbar": {
                            "outlinewidth": 0,
                            "ticks": ""
                          }
                        },
                        "type": "scattergl"
                      }
                    ],
                    "scatterternary": [
                      {
                        "marker": {
                          "colorbar": {
                            "outlinewidth": 0,
                            "ticks": ""
                          }
                        },
                        "type": "scatterternary"
                      }
                    ],
                    "histogram2d": [
                      {
                        "colorbar": {
                          "outlinewidth": 0,
                          "ticks": ""
                        },
                        "type": "histogram2d",
                        "colorscale": [
                          [
                            0,
                            "#0d0887"
                          ],
                          [
                            0.1111111111111111,
                            "#46039f"
                          ],
                          [
                            0.2222222222222222,
                            "#7201a8"
                          ],
                          [
                            0.3333333333333333,
                            "#9c179e"
                          ],
                          [
                            0.4444444444444444,
                            "#bd3786"
                          ],
                          [
                            0.5555555555555556,
                            "#d8576b"
                          ],
                          [
                            0.6666666666666666,
                            "#ed7953"
                          ],
                          [
                            0.7777777777777778,
                            "#fb9f3a"
                          ],
                          [
                            0.8888888888888888,
                            "#fdca26"
                          ],
                          [
                            1,
                            "#f0f921"
                          ]
                        ]
                      }
                    ],
                    "heatmapgl": [
                      {
                        "colorbar": {
                          "outlinewidth": 0,
                          "ticks": ""
                        },
                        "type": "heatmapgl",
                        "colorscale": [
                          [
                            0,
                            "#0d0887"
                          ],
                          [
                            0.1111111111111111,
                            "#46039f"
                          ],
                          [
                            0.2222222222222222,
                            "#7201a8"
                          ],
                          [
                            0.3333333333333333,
                            "#9c179e"
                          ],
                          [
                            0.4444444444444444,
                            "#bd3786"
                          ],
                          [
                            0.5555555555555556,
                            "#d8576b"
                          ],
                          [
                            0.6666666666666666,
                            "#ed7953"
                          ],
                          [
                            0.7777777777777778,
                            "#fb9f3a"
                          ],
                          [
                            0.8888888888888888,
                            "#fdca26"
                          ],
                          [
                            1,
                            "#f0f921"
                          ]
                        ]
                      }
                    ],
                    "scatterpolar": [
                      {
                        "marker": {
                          "colorbar": {
                            "outlinewidth": 0,
                            "ticks": ""
                          }
                        },
                        "type": "scatterpolar"
                      }
                    ],
                    "histogram": [
                      {
                        "marker": {
                          "colorbar": {
                            "outlinewidth": 0,
                            "ticks": ""
                          }
                        },
                        "type": "histogram"
                      }
                    ],
                    "scattergeo": [
                      {
                        "marker": {
                          "colorbar": {
                            "outlinewidth": 0,
                            "ticks": ""
                          }
                        },
                        "type": "scattergeo"
                      }
                    ],
                    "bar": [
                      {
                        "marker": {
                          "line": {
                            "color": "#E5ECF6",
                            "width": 0.5
                          }
                        },
                        "error_x": {
                          "color": "#2a3f5f"
                        },
                        "type": "bar",
                        "error_y": {
                          "color": "#2a3f5f"
                        }
                      }
                    ],
                    "choropleth": [
                      {
                        "colorbar": {
                          "outlinewidth": 0,
                          "ticks": ""
                        },
                        "type": "choropleth"
                      }
                    ],
                    "parcoords": [
                      {
                        "line": {
                          "colorbar": {
                            "outlinewidth": 0,
                            "ticks": ""
                          }
                        },
                        "type": "parcoords"
                      }
                    ],
                    "barpolar": [
                      {
                        "marker": {
                          "line": {
                            "color": "#E5ECF6",
                            "width": 0.5
                          }
                        },
                        "type": "barpolar"
                      }
                    ],
                    "histogram2dcontour": [
                      {
                        "colorbar": {
                          "outlinewidth": 0,
                          "ticks": ""
                        },
                        "type": "histogram2dcontour",
                        "colorscale": [
                          [
                            0,
                            "#0d0887"
                          ],
                          [
                            0.1111111111111111,
                            "#46039f"
                          ],
                          [
                            0.2222222222222222,
                            "#7201a8"
                          ],
                          [
                            0.3333333333333333,
                            "#9c179e"
                          ],
                          [
                            0.4444444444444444,
                            "#bd3786"
                          ],
                          [
                            0.5555555555555556,
                            "#d8576b"
                          ],
                          [
                            0.6666666666666666,
                            "#ed7953"
                          ],
                          [
                            0.7777777777777778,
                            "#fb9f3a"
                          ],
                          [
                            0.8888888888888888,
                            "#fdca26"
                          ],
                          [
                            1,
                            "#f0f921"
                          ]
                        ]
                      }
                    ],
                    "scatter": [
                      {
                        "marker": {
                          "colorbar": {
                            "outlinewidth": 0,
                            "ticks": ""
                          }
                        },
                        "type": "scatter"
                      }
                    ]
                  },
                  "layout": {
                    "shapedefaults": {
                      "line": {
                        "color": "#2a3f5f"
                      }
                    },
                    "polar": {
                      "radialaxis": {
                        "ticks": "",
                        "gridcolor": "white",
                        "linecolor": "white"
                      },
                      "bgcolor": "#E5ECF6",
                      "angularaxis": {
                        "ticks": "",
                        "gridcolor": "white",
                        "linecolor": "white"
                      }
                    },
                    "colorway": [
                      "#636efa",
                      "#EF553B",
                      "#00cc96",
                      "#ab63fa",
                      "#FFA15A",
                      "#19d3f3",
                      "#FF6692",
                      "#B6E880",
                      "#FF97FF",
                      "#FECB52"
                    ],
                    "ternary": {
                      "bgcolor": "#E5ECF6",
                      "baxis": {
                        "ticks": "",
                        "gridcolor": "white",
                        "linecolor": "white"
                      },
                      "caxis": {
                        "ticks": "",
                        "gridcolor": "white",
                        "linecolor": "white"
                      },
                      "aaxis": {
                        "ticks": "",
                        "gridcolor": "white",
                        "linecolor": "white"
                      }
                    },
                    "colorscale": {
                      "diverging": [
                        [
                          0,
                          "#8e0152"
                        ],
                        [
                          0.1,
                          "#c51b7d"
                        ],
                        [
                          0.2,
                          "#de77ae"
                        ],
                        [
                          0.3,
                          "#f1b6da"
                        ],
                        [
                          0.4,
                          "#fde0ef"
                        ],
                        [
                          0.5,
                          "#f7f7f7"
                        ],
                        [
                          0.6,
                          "#e6f5d0"
                        ],
                        [
                          0.7,
                          "#b8e186"
                        ],
                        [
                          0.8,
                          "#7fbc41"
                        ],
                        [
                          0.9,
                          "#4d9221"
                        ],
                        [
                          1,
                          "#276419"
                        ]
                      ],
                      "sequential": [
                        [
                          0,
                          "#0d0887"
                        ],
                        [
                          0.1111111111111111,
                          "#46039f"
                        ],
                        [
                          0.2222222222222222,
                          "#7201a8"
                        ],
                        [
                          0.3333333333333333,
                          "#9c179e"
                        ],
                        [
                          0.4444444444444444,
                          "#bd3786"
                        ],
                        [
                          0.5555555555555556,
                          "#d8576b"
                        ],
                        [
                          0.6666666666666666,
                          "#ed7953"
                        ],
                        [
                          0.7777777777777778,
                          "#fb9f3a"
                        ],
                        [
                          0.8888888888888888,
                          "#fdca26"
                        ],
                        [
                          1,
                          "#f0f921"
                        ]
                      ],
                      "sequentialminus": [
                        [
                          0,
                          "#0d0887"
                        ],
                        [
                          0.1111111111111111,
                          "#46039f"
                        ],
                        [
                          0.2222222222222222,
                          "#7201a8"
                        ],
                        [
                          0.3333333333333333,
                          "#9c179e"
                        ],
                        [
                          0.4444444444444444,
                          "#bd3786"
                        ],
                        [
                          0.5555555555555556,
                          "#d8576b"
                        ],
                        [
                          0.6666666666666666,
                          "#ed7953"
                        ],
                        [
                          0.7777777777777778,
                          "#fb9f3a"
                        ],
                        [
                          0.8888888888888888,
                          "#fdca26"
                        ],
                        [
                          1,
                          "#f0f921"
                        ]
                      ]
                    },
                    "paper_bgcolor": "white",
                    "plot_bgcolor": "#E5ECF6",
                    "title": {
                      "x": 0.05
                    },
                    "scene": {
                      "zaxis": {
                        "linecolor": "white",
                        "ticks": "",
                        "gridwidth": 2,
                        "showbackground": true,
                        "zerolinecolor": "white",
                        "gridcolor": "white",
                        "backgroundcolor": "#E5ECF6"
                      },
                      "xaxis": {
                        "linecolor": "white",
                        "ticks": "",
                        "gridwidth": 2,
                        "showbackground": true,
                        "zerolinecolor": "white",
                        "gridcolor": "white",
                        "backgroundcolor": "#E5ECF6"
                      },
                      "yaxis": {
                        "linecolor": "white",
                        "ticks": "",
                        "gridwidth": 2,
                        "showbackground": true,
                        "zerolinecolor": "white",
                        "gridcolor": "white",
                        "backgroundcolor": "#E5ECF6"
                      }
                    },
                    "yaxis": {
                      "automargin": true,
                      "title": {
                        "standoff": 15
                      },
                      "zerolinewidth": 2,
                      "ticks": "",
                      "zerolinecolor": "white",
                      "gridcolor": "white",
                      "linecolor": "white"
                    },
                    "coloraxis": {
                      "colorbar": {
                        "outlinewidth": 0,
                        "ticks": ""
                      }
                    },
                    "hoverlabel": {
                      "align": "left"
                    },
                    "xaxis": {
                      "automargin": true,
                      "title": {
                        "standoff": 15
                      },
                      "zerolinewidth": 2,
                      "ticks": "",
                      "zerolinecolor": "white",
                      "gridcolor": "white",
                      "linecolor": "white"
                    },
                    "mapbox": {
                      "style": "light"
                    },
                    "hovermode": "closest",
                    "font": {
                      "color": "#2a3f5f"
                    },
                    "geo": {
                      "showland": true,
                      "bgcolor": "white",
                      "showlakes": true,
                      "landcolor": "#E5ECF6",
                      "subunitcolor": "white",
                      "lakecolor": "white"
                    },
                    "annotationdefaults": {
                      "arrowwidth": 1,
                      "arrowhead": 0,
                      "arrowcolor": "#2a3f5f"
                    }
                  }
                },
                "yaxis": {
                  "domain": [
                    0,
                    1
                  ],
                  "anchor": "x",
                  "title": {
                    "text": "age"
                  }
                },
                "xaxis": {
                  "domain": [
                    0,
                    1
                  ],
                  "anchor": "y",
                  "title": {
                    "text": "obesity"
                  }
                },
                "margin": {
                  "t": 60
                },
                "legend": {
                  "tracegroupgap": 0
                },
                "coloraxis": {
                  "colorbar": {
                    "title": {
                      "text": "count of pred_coracao"
                    }
                  },
                  "colorscale": [
                    [
                      0,
                      "#0d0887"
                    ],
                    [
                      0.1111111111111111,
                      "#46039f"
                    ],
                    [
                      0.2222222222222222,
                      "#7201a8"
                    ],
                    [
                      0.3333333333333333,
                      "#9c179e"
                    ],
                    [
                      0.4444444444444444,
                      "#bd3786"
                    ],
                    [
                      0.5555555555555556,
                      "#d8576b"
                    ],
                    [
                      0.6666666666666666,
                      "#ed7953"
                    ],
                    [
                      0.7777777777777778,
                      "#fb9f3a"
                    ],
                    [
                      0.8888888888888888,
                      "#fdca26"
                    ],
                    [
                      1,
                      "#f0f921"
                    ]
                  ]
                }
              }
            }
          },
          "metadata": {}
        }
      ],
      "execution_count": 297,
      "metadata": {
        "collapsed": false,
        "jupyter": {
          "source_hidden": false,
          "outputs_hidden": false
        },
        "nteract": {
          "transient": {
            "deleting": false
          }
        }
      }
    },
    {
      "cell_type": "code",
      "source": [],
      "outputs": [],
      "execution_count": null,
      "metadata": {
        "collapsed": false,
        "jupyter": {
          "source_hidden": false,
          "outputs_hidden": false
        },
        "nteract": {
          "transient": {
            "deleting": false
          }
        }
      }
    }
  ],
  "metadata": {
    "kernel_info": {
      "name": "python2"
    },
    "language_info": {
      "mimetype": "text/x-python",
      "nbconvert_exporter": "python",
      "name": "python",
      "pygments_lexer": "ipython2",
      "version": "2.7.13",
      "file_extension": ".py",
      "codemirror_mode": {
        "version": 2,
        "name": "ipython"
      }
    },
    "kernelspec": {
      "argv": [
        "C:\\Users\\Felipe\\Miniconda2\\envs\\spyder\\python.exe",
        "-m",
        "ipykernel_launcher",
        "-f",
        "{connection_file}"
      ],
      "display_name": "Python 2",
      "language": "python",
      "name": "python2"
    },
    "nteract": {
      "version": "0.21.0"
    }
  },
  "nbformat": 4,
  "nbformat_minor": 0
}