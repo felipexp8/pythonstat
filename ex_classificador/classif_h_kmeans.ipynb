{
  "cells": [
    {
      "cell_type": "code",
      "source": [
        "import sys"
      ],
      "outputs": [],
      "execution_count": 1,
      "metadata": {
        "collapsed": false,
        "jupyter": {
          "source_hidden": false,
          "outputs_hidden": false
        },
        "nteract": {
          "transient": {
            "deleting": false
          }
        }
      }
    },
    {
      "cell_type": "code",
      "source": [
        "from sklearn.cluster import KMeans\n",
        "\n",
        "import pandas as pd\n",
        "import pylab as plt"
      ],
      "outputs": [],
      "execution_count": 34,
      "metadata": {
        "collapsed": false,
        "jupyter": {
          "source_hidden": false,
          "outputs_hidden": false
        },
        "nteract": {
          "transient": {
            "deleting": false
          }
        }
      }
    },
    {
      "cell_type": "code",
      "source": [
        "!cd"
      ],
      "outputs": [
        {
          "output_type": "stream",
          "name": "stdout",
          "text": [
            "C:\\Users\\HONORIO\n"
          ]
        }
      ],
      "execution_count": 10,
      "metadata": {
        "collapsed": false,
        "jupyter": {
          "source_hidden": false,
          "outputs_hidden": false
        },
        "nteract": {
          "transient": {
            "deleting": false
          }
        }
      }
    },
    {
      "cell_type": "code",
      "source": [
        "dados = pd.read_csv(\"Documents/Python Scripts/data.csv\")"
      ],
      "outputs": [],
      "execution_count": 11,
      "metadata": {
        "collapsed": false,
        "jupyter": {
          "source_hidden": false,
          "outputs_hidden": false
        },
        "nteract": {
          "transient": {
            "deleting": false
          }
        }
      }
    },
    {
      "cell_type": "code",
      "source": [
        "dados.head()"
      ],
      "outputs": [
        {
          "output_type": "execute_result",
          "execution_count": 12,
          "data": {
            "text/html": [
              "<div>\n",
              "<style scoped>\n",
              "    .dataframe tbody tr th:only-of-type {\n",
              "        vertical-align: middle;\n",
              "    }\n",
              "\n",
              "    .dataframe tbody tr th {\n",
              "        vertical-align: top;\n",
              "    }\n",
              "\n",
              "    .dataframe thead th {\n",
              "        text-align: right;\n",
              "    }\n",
              "</style>\n",
              "<table border=\"1\" class=\"dataframe\">\n",
              "  <thead>\n",
              "    <tr style=\"text-align: right;\">\n",
              "      <th></th>\n",
              "      <th>id</th>\n",
              "      <th>age_days</th>\n",
              "      <th>age_year</th>\n",
              "      <th>gender</th>\n",
              "      <th>height</th>\n",
              "      <th>weight</th>\n",
              "      <th>ap_hi</th>\n",
              "      <th>ap_lo</th>\n",
              "      <th>cholesterol</th>\n",
              "      <th>gluc</th>\n",
              "      <th>smoke</th>\n",
              "      <th>alco</th>\n",
              "      <th>active</th>\n",
              "      <th>cardio</th>\n",
              "    </tr>\n",
              "  </thead>\n",
              "  <tbody>\n",
              "    <tr>\n",
              "      <th>0</th>\n",
              "      <td>0</td>\n",
              "      <td>18393</td>\n",
              "      <td>50.391781</td>\n",
              "      <td>2</td>\n",
              "      <td>168</td>\n",
              "      <td>62.0</td>\n",
              "      <td>110</td>\n",
              "      <td>80</td>\n",
              "      <td>1</td>\n",
              "      <td>1</td>\n",
              "      <td>0</td>\n",
              "      <td>0</td>\n",
              "      <td>1</td>\n",
              "      <td>0</td>\n",
              "    </tr>\n",
              "    <tr>\n",
              "      <th>1</th>\n",
              "      <td>1</td>\n",
              "      <td>20228</td>\n",
              "      <td>55.419178</td>\n",
              "      <td>1</td>\n",
              "      <td>156</td>\n",
              "      <td>85.0</td>\n",
              "      <td>140</td>\n",
              "      <td>90</td>\n",
              "      <td>3</td>\n",
              "      <td>1</td>\n",
              "      <td>0</td>\n",
              "      <td>0</td>\n",
              "      <td>1</td>\n",
              "      <td>1</td>\n",
              "    </tr>\n",
              "    <tr>\n",
              "      <th>2</th>\n",
              "      <td>2</td>\n",
              "      <td>18857</td>\n",
              "      <td>51.663014</td>\n",
              "      <td>1</td>\n",
              "      <td>165</td>\n",
              "      <td>64.0</td>\n",
              "      <td>130</td>\n",
              "      <td>70</td>\n",
              "      <td>3</td>\n",
              "      <td>1</td>\n",
              "      <td>0</td>\n",
              "      <td>0</td>\n",
              "      <td>0</td>\n",
              "      <td>1</td>\n",
              "    </tr>\n",
              "    <tr>\n",
              "      <th>3</th>\n",
              "      <td>3</td>\n",
              "      <td>17623</td>\n",
              "      <td>48.282192</td>\n",
              "      <td>2</td>\n",
              "      <td>169</td>\n",
              "      <td>82.0</td>\n",
              "      <td>150</td>\n",
              "      <td>100</td>\n",
              "      <td>1</td>\n",
              "      <td>1</td>\n",
              "      <td>0</td>\n",
              "      <td>0</td>\n",
              "      <td>1</td>\n",
              "      <td>1</td>\n",
              "    </tr>\n",
              "    <tr>\n",
              "      <th>4</th>\n",
              "      <td>4</td>\n",
              "      <td>17474</td>\n",
              "      <td>47.873973</td>\n",
              "      <td>1</td>\n",
              "      <td>156</td>\n",
              "      <td>56.0</td>\n",
              "      <td>100</td>\n",
              "      <td>60</td>\n",
              "      <td>1</td>\n",
              "      <td>1</td>\n",
              "      <td>0</td>\n",
              "      <td>0</td>\n",
              "      <td>0</td>\n",
              "      <td>0</td>\n",
              "    </tr>\n",
              "  </tbody>\n",
              "</table>\n",
              "</div>"
            ],
            "text/plain": [
              "   id  age_days   age_year  gender  height  weight  ap_hi  ap_lo  cholesterol  \\\n",
              "0   0     18393  50.391781       2     168    62.0    110     80            1   \n",
              "1   1     20228  55.419178       1     156    85.0    140     90            3   \n",
              "2   2     18857  51.663014       1     165    64.0    130     70            3   \n",
              "3   3     17623  48.282192       2     169    82.0    150    100            1   \n",
              "4   4     17474  47.873973       1     156    56.0    100     60            1   \n",
              "\n",
              "   gluc  smoke  alco  active  cardio  \n",
              "0     1      0     0       1       0  \n",
              "1     1      0     0       1       1  \n",
              "2     1      0     0       0       1  \n",
              "3     1      0     0       1       1  \n",
              "4     1      0     0       0       0  "
            ]
          },
          "metadata": {}
        }
      ],
      "execution_count": 12,
      "metadata": {
        "collapsed": false,
        "jupyter": {
          "source_hidden": false,
          "outputs_hidden": false
        },
        "nteract": {
          "transient": {
            "deleting": false
          }
        }
      }
    },
    {
      "cell_type": "code",
      "source": [
        "targe = pd.DataFrame()"
      ],
      "outputs": [],
      "execution_count": 38,
      "metadata": {
        "collapsed": false,
        "jupyter": {
          "source_hidden": false,
          "outputs_hidden": false
        },
        "nteract": {
          "transient": {
            "deleting": false
          }
        }
      }
    },
    {
      "cell_type": "code",
      "source": [
        "norm = lambda x: x/x.max()"
      ],
      "outputs": [],
      "execution_count": 39,
      "metadata": {
        "collapsed": false,
        "jupyter": {
          "source_hidden": false,
          "outputs_hidden": false
        },
        "nteract": {
          "transient": {
            "deleting": false
          }
        }
      }
    },
    {
      "cell_type": "code",
      "source": [
        "targe['age'] = dados.age_year.round()\n",
        "targe['gender'] = dados.gender\n",
        "\n",
        "targe['height'] = norm(dados.height)\n",
        "\n",
        "targe['weight'] = norm(dados.weight)\n",
        "\n",
        "targe['ap_hi'] = norm(dados.ap_hi)\n",
        "\n",
        "targe['ap_lo'] = norm(dados.ap_lo)\n",
        "\n",
        "#targe['cholesterol'] = dados.cholesterol"
      ],
      "outputs": [],
      "execution_count": 40,
      "metadata": {
        "collapsed": false,
        "jupyter": {
          "source_hidden": false,
          "outputs_hidden": false
        },
        "nteract": {
          "transient": {
            "deleting": false
          }
        }
      }
    },
    {
      "cell_type": "code",
      "source": [
        "km = KMeans(n_clusters=3)"
      ],
      "outputs": [],
      "execution_count": 41,
      "metadata": {
        "collapsed": false,
        "jupyter": {
          "source_hidden": false,
          "outputs_hidden": false
        },
        "nteract": {
          "transient": {
            "deleting": false
          }
        }
      }
    },
    {
      "cell_type": "code",
      "source": [
        "km.fit(targe);"
      ],
      "outputs": [],
      "execution_count": 42,
      "metadata": {
        "collapsed": false,
        "jupyter": {
          "source_hidden": false,
          "outputs_hidden": false
        },
        "nteract": {
          "transient": {
            "deleting": false
          }
        }
      }
    },
    {
      "cell_type": "code",
      "source": [
        "res = km.predict(targe)"
      ],
      "outputs": [],
      "execution_count": 47,
      "metadata": {
        "collapsed": false,
        "jupyter": {
          "source_hidden": false,
          "outputs_hidden": false
        },
        "nteract": {
          "transient": {
            "deleting": false
          }
        }
      }
    },
    {
      "cell_type": "code",
      "source": [
        "km.cluster_centers_"
      ],
      "outputs": [
        {
          "output_type": "execute_result",
          "execution_count": 44,
          "data": {
            "text/plain": [
              "array([[5.29656285e+01, 1.32891294e+00, 6.57718075e-01, 3.71270813e-01,\n",
              "        8.00635572e-03, 8.91798274e-03],\n",
              "       [4.40321085e+01, 1.38530243e+00, 6.61209949e-01, 3.65945639e-01,\n",
              "        7.80163857e-03, 8.22890693e-03],\n",
              "       [6.05098939e+01, 1.34728993e+00, 6.54381089e-01, 3.74435094e-01,\n",
              "        8.25415699e-03, 9.03481577e-03]])"
            ]
          },
          "metadata": {}
        }
      ],
      "execution_count": 44,
      "metadata": {
        "collapsed": false,
        "jupyter": {
          "source_hidden": false,
          "outputs_hidden": false
        },
        "nteract": {
          "transient": {
            "deleting": false
          }
        }
      }
    },
    {
      "cell_type": "code",
      "source": [
        "plt.hist(km.predict(targe));"
      ],
      "outputs": [
        {
          "output_type": "display_data",
          "data": {
            "image/png": "[encoded data removed]",
            "text/plain": [
              "<Figure size 432x288 with 1 Axes>"
            ]
          },
          "metadata": {
            "needs_background": "light"
          }
        }
      ],
      "execution_count": 46,
      "metadata": {
        "collapsed": false,
        "jupyter": {
          "source_hidden": false,
          "outputs_hidden": false
        },
        "nteract": {
          "transient": {
            "deleting": false
          }
        }
      }
    },
    {
      "cell_type": "code",
      "source": [
        "targeres = targe\n",
        "\n",
        "targeres['pred'] = pd.Series(res)"
      ],
      "outputs": [],
      "execution_count": 58,
      "metadata": {
        "collapsed": false,
        "jupyter": {
          "source_hidden": false,
          "outputs_hidden": false
        },
        "nteract": {
          "transient": {
            "deleting": false
          }
        }
      }
    },
    {
      "cell_type": "code",
      "source": [
        "targeres.groupby('pred').mean()"
      ],
      "outputs": [
        {
          "output_type": "execute_result",
          "execution_count": 59,
          "data": {
            "text/html": [
              "<div>\n",
              "<style scoped>\n",
              "    .dataframe tbody tr th:only-of-type {\n",
              "        vertical-align: middle;\n",
              "    }\n",
              "\n",
              "    .dataframe tbody tr th {\n",
              "        vertical-align: top;\n",
              "    }\n",
              "\n",
              "    .dataframe thead th {\n",
              "        text-align: right;\n",
              "    }\n",
              "</style>\n",
              "<table border=\"1\" class=\"dataframe\">\n",
              "  <thead>\n",
              "    <tr style=\"text-align: right;\">\n",
              "      <th></th>\n",
              "      <th>age</th>\n",
              "      <th>gender</th>\n",
              "      <th>height</th>\n",
              "      <th>weight</th>\n",
              "      <th>ap_hi</th>\n",
              "      <th>ap_lo</th>\n",
              "    </tr>\n",
              "    <tr>\n",
              "      <th>pred</th>\n",
              "      <th></th>\n",
              "      <th></th>\n",
              "      <th></th>\n",
              "      <th></th>\n",
              "      <th></th>\n",
              "      <th></th>\n",
              "    </tr>\n",
              "  </thead>\n",
              "  <tbody>\n",
              "    <tr>\n",
              "      <th>0</th>\n",
              "      <td>52.965628</td>\n",
              "      <td>1.328913</td>\n",
              "      <td>0.657718</td>\n",
              "      <td>0.371271</td>\n",
              "      <td>0.008006</td>\n",
              "      <td>0.008918</td>\n",
              "    </tr>\n",
              "    <tr>\n",
              "      <th>1</th>\n",
              "      <td>44.032109</td>\n",
              "      <td>1.385302</td>\n",
              "      <td>0.661210</td>\n",
              "      <td>0.365946</td>\n",
              "      <td>0.007802</td>\n",
              "      <td>0.008229</td>\n",
              "    </tr>\n",
              "    <tr>\n",
              "      <th>2</th>\n",
              "      <td>60.509894</td>\n",
              "      <td>1.347290</td>\n",
              "      <td>0.654381</td>\n",
              "      <td>0.374435</td>\n",
              "      <td>0.008254</td>\n",
              "      <td>0.009035</td>\n",
              "    </tr>\n",
              "  </tbody>\n",
              "</table>\n",
              "</div>"
            ],
            "text/plain": [
              "            age    gender    height    weight     ap_hi     ap_lo\n",
              "pred                                                             \n",
              "0     52.965628  1.328913  0.657718  0.371271  0.008006  0.008918\n",
              "1     44.032109  1.385302  0.661210  0.365946  0.007802  0.008229\n",
              "2     60.509894  1.347290  0.654381  0.374435  0.008254  0.009035"
            ]
          },
          "metadata": {}
        }
      ],
      "execution_count": 59,
      "metadata": {
        "collapsed": false,
        "jupyter": {
          "source_hidden": false,
          "outputs_hidden": false
        },
        "nteract": {
          "transient": {
            "deleting": false
          }
        }
      }
    },
    {
      "cell_type": "code",
      "source": [
        "targeres.groupby('pred').var()"
      ],
      "outputs": [
        {
          "output_type": "execute_result",
          "execution_count": 60,
          "data": {
            "text/html": [
              "<div>\n",
              "<style scoped>\n",
              "    .dataframe tbody tr th:only-of-type {\n",
              "        vertical-align: middle;\n",
              "    }\n",
              "\n",
              "    .dataframe tbody tr th {\n",
              "        vertical-align: top;\n",
              "    }\n",
              "\n",
              "    .dataframe thead th {\n",
              "        text-align: right;\n",
              "    }\n",
              "</style>\n",
              "<table border=\"1\" class=\"dataframe\">\n",
              "  <thead>\n",
              "    <tr style=\"text-align: right;\">\n",
              "      <th></th>\n",
              "      <th>age</th>\n",
              "      <th>gender</th>\n",
              "      <th>height</th>\n",
              "      <th>weight</th>\n",
              "      <th>ap_hi</th>\n",
              "      <th>ap_lo</th>\n",
              "    </tr>\n",
              "    <tr>\n",
              "      <th>pred</th>\n",
              "      <th></th>\n",
              "      <th></th>\n",
              "      <th></th>\n",
              "      <th></th>\n",
              "      <th></th>\n",
              "      <th></th>\n",
              "    </tr>\n",
              "  </thead>\n",
              "  <tbody>\n",
              "    <tr>\n",
              "      <th>0</th>\n",
              "      <td>5.063371</td>\n",
              "      <td>0.220737</td>\n",
              "      <td>0.001043</td>\n",
              "      <td>0.005051</td>\n",
              "      <td>0.000069</td>\n",
              "      <td>0.000377</td>\n",
              "    </tr>\n",
              "    <tr>\n",
              "      <th>1</th>\n",
              "      <td>8.069295</td>\n",
              "      <td>0.236858</td>\n",
              "      <td>0.001088</td>\n",
              "      <td>0.005443</td>\n",
              "      <td>0.000145</td>\n",
              "      <td>0.000171</td>\n",
              "    </tr>\n",
              "    <tr>\n",
              "      <th>2</th>\n",
              "      <td>5.263596</td>\n",
              "      <td>0.226689</td>\n",
              "      <td>0.001093</td>\n",
              "      <td>0.005109</td>\n",
              "      <td>0.000081</td>\n",
              "      <td>0.000287</td>\n",
              "    </tr>\n",
              "  </tbody>\n",
              "</table>\n",
              "</div>"
            ],
            "text/plain": [
              "           age    gender    height    weight     ap_hi     ap_lo\n",
              "pred                                                            \n",
              "0     5.063371  0.220737  0.001043  0.005051  0.000069  0.000377\n",
              "1     8.069295  0.236858  0.001088  0.005443  0.000145  0.000171\n",
              "2     5.263596  0.226689  0.001093  0.005109  0.000081  0.000287"
            ]
          },
          "metadata": {}
        }
      ],
      "execution_count": 60,
      "metadata": {
        "collapsed": false,
        "jupyter": {
          "source_hidden": false,
          "outputs_hidden": false
        },
        "nteract": {
          "transient": {
            "deleting": false
          }
        }
      }
    },
    {
      "cell_type": "code",
      "source": [
        "plt.scatter(targeres.height.values, targeres.weight.values, c=res, cmap='viridis'  )"
      ],
      "outputs": [
        {
          "output_type": "execute_result",
          "execution_count": 68,
          "data": {
            "text/plain": [
              "<matplotlib.collections.PathCollection at 0xbc985d0>"
            ]
          },
          "metadata": {}
        },
        {
          "output_type": "display_data",
          "data": {
            "image/png": "[encoded data removed]",
            "text/plain": [
              "<Figure size 432x288 with 1 Axes>"
            ]
          },
          "metadata": {
            "needs_background": "light"
          }
        }
      ],
      "execution_count": 68,
      "metadata": {
        "collapsed": false,
        "jupyter": {
          "source_hidden": false,
          "outputs_hidden": false
        },
        "nteract": {
          "transient": {
            "deleting": false
          }
        }
      }
    },
    {
      "cell_type": "code",
      "source": [
        "plt.colormaps()"
      ],
      "outputs": [
        {
          "output_type": "execute_result",
          "execution_count": 66,
          "data": {
            "text/plain": [
              "[u'Accent',\n",
              " u'Accent_r',\n",
              " u'Blues',\n",
              " u'Blues_r',\n",
              " u'BrBG',\n",
              " u'BrBG_r',\n",
              " u'BuGn',\n",
              " u'BuGn_r',\n",
              " u'BuPu',\n",
              " u'BuPu_r',\n",
              " u'CMRmap',\n",
              " u'CMRmap_r',\n",
              " u'Dark2',\n",
              " u'Dark2_r',\n",
              " u'GnBu',\n",
              " u'GnBu_r',\n",
              " u'Greens',\n",
              " u'Greens_r',\n",
              " u'Greys',\n",
              " u'Greys_r',\n",
              " u'OrRd',\n",
              " u'OrRd_r',\n",
              " u'Oranges',\n",
              " u'Oranges_r',\n",
              " u'PRGn',\n",
              " u'PRGn_r',\n",
              " u'Paired',\n",
              " u'Paired_r',\n",
              " u'Pastel1',\n",
              " u'Pastel1_r',\n",
              " u'Pastel2',\n",
              " u'Pastel2_r',\n",
              " u'PiYG',\n",
              " u'PiYG_r',\n",
              " u'PuBu',\n",
              " u'PuBuGn',\n",
              " u'PuBuGn_r',\n",
              " u'PuBu_r',\n",
              " u'PuOr',\n",
              " u'PuOr_r',\n",
              " u'PuRd',\n",
              " u'PuRd_r',\n",
              " u'Purples',\n",
              " u'Purples_r',\n",
              " u'RdBu',\n",
              " u'RdBu_r',\n",
              " u'RdGy',\n",
              " u'RdGy_r',\n",
              " u'RdPu',\n",
              " u'RdPu_r',\n",
              " u'RdYlBu',\n",
              " u'RdYlBu_r',\n",
              " u'RdYlGn',\n",
              " u'RdYlGn_r',\n",
              " u'Reds',\n",
              " u'Reds_r',\n",
              " u'Set1',\n",
              " u'Set1_r',\n",
              " u'Set2',\n",
              " u'Set2_r',\n",
              " u'Set3',\n",
              " u'Set3_r',\n",
              " u'Spectral',\n",
              " u'Spectral_r',\n",
              " u'Wistia',\n",
              " u'Wistia_r',\n",
              " u'YlGn',\n",
              " u'YlGnBu',\n",
              " u'YlGnBu_r',\n",
              " u'YlGn_r',\n",
              " u'YlOrBr',\n",
              " u'YlOrBr_r',\n",
              " u'YlOrRd',\n",
              " u'YlOrRd_r',\n",
              " u'afmhot',\n",
              " u'afmhot_r',\n",
              " u'autumn',\n",
              " u'autumn_r',\n",
              " u'binary',\n",
              " u'binary_r',\n",
              " u'bone',\n",
              " u'bone_r',\n",
              " u'brg',\n",
              " u'brg_r',\n",
              " u'bwr',\n",
              " u'bwr_r',\n",
              " 'cividis',\n",
              " 'cividis_r',\n",
              " u'cool',\n",
              " u'cool_r',\n",
              " u'coolwarm',\n",
              " u'coolwarm_r',\n",
              " u'copper',\n",
              " u'copper_r',\n",
              " u'cubehelix',\n",
              " u'cubehelix_r',\n",
              " u'flag',\n",
              " u'flag_r',\n",
              " u'gist_earth',\n",
              " u'gist_earth_r',\n",
              " u'gist_gray',\n",
              " u'gist_gray_r',\n",
              " u'gist_heat',\n",
              " u'gist_heat_r',\n",
              " u'gist_ncar',\n",
              " u'gist_ncar_r',\n",
              " u'gist_rainbow',\n",
              " u'gist_rainbow_r',\n",
              " u'gist_stern',\n",
              " u'gist_stern_r',\n",
              " u'gist_yarg',\n",
              " u'gist_yarg_r',\n",
              " u'gnuplot',\n",
              " u'gnuplot2',\n",
              " u'gnuplot2_r',\n",
              " u'gnuplot_r',\n",
              " u'gray',\n",
              " u'gray_r',\n",
              " u'hot',\n",
              " u'hot_r',\n",
              " u'hsv',\n",
              " u'hsv_r',\n",
              " 'inferno',\n",
              " 'inferno_r',\n",
              " u'jet',\n",
              " u'jet_r',\n",
              " 'magma',\n",
              " 'magma_r',\n",
              " u'nipy_spectral',\n",
              " u'nipy_spectral_r',\n",
              " u'ocean',\n",
              " u'ocean_r',\n",
              " u'pink',\n",
              " u'pink_r',\n",
              " 'plasma',\n",
              " 'plasma_r',\n",
              " u'prism',\n",
              " u'prism_r',\n",
              " u'rainbow',\n",
              " u'rainbow_r',\n",
              " u'seismic',\n",
              " u'seismic_r',\n",
              " u'spring',\n",
              " u'spring_r',\n",
              " u'summer',\n",
              " u'summer_r',\n",
              " u'tab10',\n",
              " u'tab10_r',\n",
              " u'tab20',\n",
              " u'tab20_r',\n",
              " u'tab20b',\n",
              " u'tab20b_r',\n",
              " u'tab20c',\n",
              " u'tab20c_r',\n",
              " u'terrain',\n",
              " u'terrain_r',\n",
              " 'viridis',\n",
              " 'viridis_r',\n",
              " u'winter',\n",
              " u'winter_r']"
            ]
          },
          "metadata": {}
        }
      ],
      "execution_count": 66,
      "metadata": {
        "collapsed": false,
        "jupyter": {
          "source_hidden": false,
          "outputs_hidden": false
        },
        "nteract": {
          "transient": {
            "deleting": false
          }
        }
      }
    },
    {
      "cell_type": "code",
      "source": [],
      "outputs": [],
      "execution_count": null,
      "metadata": {
        "collapsed": false,
        "jupyter": {
          "source_hidden": false,
          "outputs_hidden": false
        },
        "nteract": {
          "transient": {
            "deleting": false
          }
        }
      }
    }
  ],
  "metadata": {
    "kernel_info": {
      "name": "node_nteract"
    },
    "language_info": {
      "mimetype": "text/x-python",
      "nbconvert_exporter": "python",
      "name": "python",
      "pygments_lexer": "ipython2",
      "version": "2.7.16",
      "file_extension": ".py",
      "codemirror_mode": {
        "version": 2,
        "name": "ipython"
      }
    },
    "kernelspec": {
      "argv": [
        "c:\\Program Files\\nteract\\nteract.exe",
        "c:\\Program Files\\nteract\\resources\\app.asar\\node_modules\\ijavascript\\lib\\kernel.js",
        "{connection_file}",
        "--protocol=5.0",
        "--hide-undefined"
      ],
      "display_name": "Node.js (nteract)",
      "env": {
        "ELECTRON_RUN_AS_NODE": "1",
        "NODE_PATH": "c:\\Program Files\\nteract\\resources\\app.asar\\node_modules"
      },
      "language": "javascript",
      "name": "node_nteract"
    },
    "nteract": {
      "version": "0.21.0"
    }
  },
  "nbformat": 4,
  "nbformat_minor": 0
}