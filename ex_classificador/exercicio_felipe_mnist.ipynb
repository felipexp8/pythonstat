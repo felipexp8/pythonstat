{
  "cells": [
    {
      "cell_type": "code",
      "source": [
        "import sys\n",
        "import pandas as pd\n",
        "\n",
        "from sklearn import *\n",
        "\n",
        "import pylab as plt\n"
      ],
      "outputs": [],
      "execution_count": 27,
      "metadata": {
        "collapsed": false,
        "jupyter": {
          "source_hidden": false,
          "outputs_hidden": false
        },
        "nteract": {
          "transient": {
            "deleting": false
          }
        }
      }
    },
    {
      "cell_type": "markdown",
      "source": [
        "\n",
        "### Exercício Mnist\n",
        "\n",
        "1. 786 colunas de características\n",
        "2. coluna label identifica o número\n",
        "3. crie um dataframe para representar a base mnist\n",
        "4. crie um classificador de multiplas classes (usando a coluna label) como alvo\n",
        "5. interprete o resultado\n",
        "6. Qual valor (entre 0 a 9) o classificador teve mais sucesso em identificar?\n",
        "\n"
      ],
      "metadata": {
        "nteract": {
          "transient": {
            "deleting": false
          }
        }
      }
    },
    {
      "cell_type": "code",
      "source": [
        "mnist = pd.read_csv(\"mnist-in-csv/mnist_train.csv\")\n",
        "mnist_teste = pd.read_csv(\"mnist-in-csv/mnist_test.csv\")"
      ],
      "outputs": [],
      "execution_count": 3,
      "metadata": {
        "collapsed": false,
        "jupyter": {
          "source_hidden": false,
          "outputs_hidden": false
        },
        "nteract": {
          "transient": {
            "deleting": false
          }
        }
      }
    },
    {
      "cell_type": "code",
      "source": [
        "kernelMulti = linear_model.LogisticRegression(multi_class='auto')"
      ],
      "outputs": [],
      "execution_count": 4,
      "metadata": {
        "collapsed": false,
        "jupyter": {
          "source_hidden": false,
          "outputs_hidden": false
        },
        "nteract": {
          "transient": {
            "deleting": false
          }
        }
      }
    },
    {
      "cell_type": "code",
      "source": [
        "res = mnist.label.astype(str)\n",
        "mnist = mnist.drop(columns='label')"
      ],
      "outputs": [],
      "execution_count": 5,
      "metadata": {
        "collapsed": false,
        "jupyter": {
          "source_hidden": false,
          "outputs_hidden": false
        },
        "nteract": {
          "transient": {
            "deleting": false
          }
        }
      }
    },
    {
      "cell_type": "code",
      "source": [
        "res_sub = res.loc[1:2000]\n",
        "mnist_sub = mnist.loc[1:2000]"
      ],
      "outputs": [],
      "execution_count": 33,
      "metadata": {
        "collapsed": false,
        "jupyter": {
          "source_hidden": false,
          "outputs_hidden": false
        },
        "nteract": {
          "transient": {
            "deleting": false
          }
        }
      }
    },
    {
      "cell_type": "code",
      "source": [
        "kernelMulti.fit(mnist_sub, res_sub)"
      ],
      "outputs": [
        {
          "output_type": "execute_result",
          "execution_count": 34,
          "data": {
            "text/plain": [
              "LogisticRegression(C=1.0, class_weight=None, dual=False, fit_intercept=True,\n",
              "          intercept_scaling=1, max_iter=100, multi_class='auto',\n",
              "          n_jobs=None, penalty='l2', random_state=None, solver='warn',\n",
              "          tol=0.0001, verbose=0, warm_start=False)"
            ]
          },
          "metadata": {}
        }
      ],
      "execution_count": 34,
      "metadata": {
        "collapsed": false,
        "jupyter": {
          "source_hidden": false,
          "outputs_hidden": false
        },
        "nteract": {
          "transient": {
            "deleting": false
          }
        }
      }
    },
    {
      "cell_type": "code",
      "source": [
        "res_sub_test = res.loc[2000:4000:2]\n",
        "mnist_sub_tes = mnist.loc[2000:4000:2]"
      ],
      "outputs": [],
      "execution_count": 35,
      "metadata": {
        "collapsed": false,
        "jupyter": {
          "source_hidden": false,
          "outputs_hidden": false
        },
        "nteract": {
          "transient": {
            "deleting": false
          }
        }
      }
    },
    {
      "cell_type": "code",
      "source": [
        "res_predict = kernelMulti.predict(mnist_sub_tes)"
      ],
      "outputs": [],
      "execution_count": 36,
      "metadata": {
        "collapsed": false,
        "jupyter": {
          "source_hidden": false,
          "outputs_hidden": false
        },
        "nteract": {
          "transient": {
            "deleting": false
          }
        }
      }
    },
    {
      "cell_type": "code",
      "source": [
        "print metrics.classification_report(res_predict, res_sub_test)"
      ],
      "outputs": [
        {
          "output_type": "stream",
          "name": "stdout",
          "text": [
            "              precision    recall  f1-score   support\n",
            "\n",
            "           0       0.90      0.92      0.91        86\n",
            "           1       0.95      0.88      0.91       124\n",
            "           2       0.81      0.78      0.79       107\n",
            "           3       0.73      0.78      0.75        92\n",
            "           4       0.68      0.76      0.72       105\n",
            "           5       0.68      0.64      0.66        84\n",
            "           6       0.90      0.93      0.92       101\n",
            "           7       0.81      0.79      0.80       113\n",
            "           8       0.66      0.75      0.70        84\n",
            "           9       0.69      0.59      0.64       105\n",
            "\n",
            "   micro avg       0.78      0.78      0.78      1001\n",
            "   macro avg       0.78      0.78      0.78      1001\n",
            "weighted avg       0.79      0.78      0.78      1001\n",
            "\n"
          ]
        }
      ],
      "execution_count": 37,
      "metadata": {
        "collapsed": false,
        "jupyter": {
          "source_hidden": false,
          "outputs_hidden": false
        },
        "nteract": {
          "transient": {
            "deleting": false
          }
        }
      }
    },
    {
      "cell_type": "code",
      "source": [
        "print metrics.confusion_matrix(res_predict, res_sub_test)"
      ],
      "outputs": [
        {
          "output_type": "stream",
          "name": "stdout",
          "text": [
            "[[ 79   0   2   1   0   2   1   0   0   1]\n",
            " [  0 109   1   1   0   1   1   3   4   4]\n",
            " [  2   1  83   5   5   1   2   4   2   2]\n",
            " [  0   1   3  72   2   9   0   1   3   1]\n",
            " [  0   1   4   2  80   6   2   1   6   3]\n",
            " [  2   0   0   8   2  54   3   0  11   4]\n",
            " [  2   0   1   0   3   0  94   1   0   0]\n",
            " [  0   2   0   6   3   1   0  89   2  10]\n",
            " [  2   1   7   2   2   2   1   1  63   3]\n",
            " [  1   0   2   2  21   3   0  10   4  62]]\n"
          ]
        }
      ],
      "execution_count": 38,
      "metadata": {
        "collapsed": false,
        "jupyter": {
          "source_hidden": false,
          "outputs_hidden": false
        },
        "nteract": {
          "transient": {
            "deleting": false
          }
        }
      }
    },
    {
      "cell_type": "code",
      "source": [
        "plt.imshow(metrics.confusion_matrix(res_predict, res_sub_test));\n",
        "\n",
        "plt.colorbar();"
      ],
      "outputs": [
        {
          "output_type": "display_data",
          "data": {
            "image/png": "[encoded data removed]",
            "text/plain": [
              "<Figure size 432x288 with 2 Axes>"
            ]
          },
          "metadata": {
            "needs_background": "light"
          }
        }
      ],
      "execution_count": 39,
      "metadata": {
        "collapsed": false,
        "jupyter": {
          "source_hidden": false,
          "outputs_hidden": false
        },
        "nteract": {
          "transient": {
            "deleting": false
          }
        }
      }
    },
    {
      "cell_type": "markdown",
      "source": [
        "ele consegue acertar uma faixa considerável, de acordo com a matriz de confusão, porém os falsos positivos para cada classe são consideráveis para a maior parte dos digitos. \n",
        "\n",
        "o dígito '1' teve melhor precisão para uma menor taxa de falsos negativos"
      ],
      "metadata": {
        "nteract": {
          "transient": {
            "deleting": false
          }
        }
      }
    },
    {
      "cell_type": "code",
      "source": [],
      "outputs": [],
      "execution_count": null,
      "metadata": {
        "collapsed": false,
        "jupyter": {
          "source_hidden": false,
          "outputs_hidden": false
        },
        "nteract": {
          "transient": {
            "deleting": false
          }
        }
      }
    }
  ],
  "metadata": {
    "kernel_info": {
      "name": "python2"
    },
    "language_info": {
      "mimetype": "text/x-python",
      "nbconvert_exporter": "python",
      "name": "python",
      "pygments_lexer": "ipython2",
      "version": "2.7.13",
      "file_extension": ".py",
      "codemirror_mode": {
        "version": 2,
        "name": "ipython"
      }
    },
    "kernelspec": {
      "argv": [
        "C:\\Users\\Felipe\\Miniconda2\\envs\\spyder\\python.exe",
        "-m",
        "ipykernel_launcher",
        "-f",
        "{connection_file}"
      ],
      "display_name": "Python 2",
      "language": "python",
      "name": "python2"
    },
    "nteract": {
      "version": "0.21.0"
    }
  },
  "nbformat": 4,
  "nbformat_minor": 0
}