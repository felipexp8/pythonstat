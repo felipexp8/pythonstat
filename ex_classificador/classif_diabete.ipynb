{
  "cells": [
    {
      "cell_type": "code",
      "source": [
        "from sklearn.linear_model import SGDClassifier\n",
        "from sklearn.model_selection import train_test_split\n",
        "from sklearn.metrics import classification_report\n",
        "from sklearn.metrics import confusion_matrix\n",
        "from sklearn.metrics import accuracy_score , recall_score, precision_score\n",
        "\n",
        "from tabulate import tabulate\n",
        "\n",
        "import plotly.express as px\n",
        "import pandas as pd\n",
        "\n",
        "from ipywidgets import interact, interactive, fixed, interact_manual, Layout\n",
        "import ipywidgets as widgets\n",
        "\n",
        "from IPython.display import HTML\n",
        "\n",
        "import numpy as np\n",
        "\n",
        "import pylab as plt\n"
      ],
      "outputs": [],
      "execution_count": 451,
      "metadata": {
        "collapsed": false,
        "jupyter": {
          "source_hidden": false,
          "outputs_hidden": false
        },
        "nteract": {
          "transient": {
            "deleting": false
          }
        }
      }
    },
    {
      "cell_type": "code",
      "source": [
        "pd.options.display.notebook_repr_html = True"
      ],
      "outputs": [],
      "execution_count": 3,
      "metadata": {
        "collapsed": false,
        "jupyter": {
          "source_hidden": false,
          "outputs_hidden": false
        },
        "nteract": {
          "transient": {
            "deleting": false
          }
        }
      }
    },
    {
      "cell_type": "code",
      "source": [
        "try:\n",
        "    dadosIn = pd.read_csv('pima-indians-diabetes.data.csv')\n",
        "except IOError as err:\n",
        "    print err"
      ],
      "outputs": [],
      "execution_count": 6,
      "metadata": {
        "collapsed": false,
        "jupyter": {
          "source_hidden": false,
          "outputs_hidden": false
        },
        "nteract": {
          "transient": {
            "deleting": false
          }
        }
      }
    },
    {
      "cell_type": "code",
      "source": [
        "dadosIn.columns"
      ],
      "outputs": [
        {
          "output_type": "execute_result",
          "execution_count": 7,
          "data": {
            "text/plain": [
              "Index([u'Pregnancies', u'Glucose', u'BloodPressure', u'SkinThickness',\n",
              "       u'Insulin', u'BMI', u'DiabetesPedigreeFunction', u'Age', u'Class'],\n",
              "      dtype='object')"
            ]
          },
          "metadata": {}
        }
      ],
      "execution_count": 7,
      "metadata": {
        "collapsed": false,
        "jupyter": {
          "source_hidden": false,
          "outputs_hidden": false
        },
        "nteract": {
          "transient": {
            "deleting": false
          }
        }
      }
    },
    {
      "cell_type": "code",
      "source": [
        "def get(data, coluna): return data.loc[:,[coluna]]"
      ],
      "outputs": [],
      "execution_count": 31,
      "metadata": {
        "collapsed": false,
        "jupyter": {
          "source_hidden": false,
          "outputs_hidden": false
        },
        "nteract": {
          "transient": {
            "deleting": false
          }
        }
      }
    },
    {
      "cell_type": "code",
      "source": [
        "classificador = SGDClassifier()\n",
        "\n",
        "X = dadosIn.drop(columns='Class');\n",
        "\n",
        "y = dadosIn.loc[:, ['Class']] "
      ],
      "outputs": [],
      "execution_count": 21,
      "metadata": {
        "collapsed": false,
        "jupyter": {
          "source_hidden": false,
          "outputs_hidden": false
        },
        "nteract": {
          "transient": {
            "deleting": false
          }
        }
      }
    },
    {
      "cell_type": "code",
      "source": [
        "percetagemTeste= 0.2"
      ],
      "outputs": [],
      "execution_count": 349,
      "metadata": {
        "collapsed": false,
        "jupyter": {
          "source_hidden": false,
          "outputs_hidden": false
        },
        "nteract": {
          "transient": {
            "deleting": false
          }
        }
      }
    },
    {
      "cell_type": "code",
      "source": [
        "X_train, X_test, y_train, y_test = train_test_split(X,y, test_size=percetagemTeste)"
      ],
      "outputs": [],
      "execution_count": 350,
      "metadata": {
        "collapsed": false,
        "jupyter": {
          "source_hidden": false,
          "outputs_hidden": false
        },
        "nteract": {
          "transient": {
            "deleting": false
          }
        }
      }
    },
    {
      "cell_type": "code",
      "source": [
        "classificador.fit(X_train,y_train);\n",
        "\n",
        "resultado = classificador.predict(X_test)\n",
        "\n",
        "precisao =  (resultado ^ y_test.Class.values)"
      ],
      "outputs": [],
      "execution_count": 351,
      "metadata": {
        "collapsed": false,
        "jupyter": {
          "source_hidden": false,
          "outputs_hidden": false
        },
        "nteract": {
          "transient": {
            "deleting": false
          }
        }
      }
    },
    {
      "cell_type": "code",
      "source": [
        "print \"% Acertos: {0:.2f}\".format(1-(sum(precisao))/float(len(precisao)))"
      ],
      "outputs": [
        {
          "output_type": "stream",
          "name": "stdout",
          "text": [
            "% Acertos: 0.57\n"
          ]
        }
      ],
      "execution_count": 438,
      "metadata": {
        "collapsed": false,
        "jupyter": {
          "source_hidden": false,
          "outputs_hidden": false
        },
        "nteract": {
          "transient": {
            "deleting": false
          }
        }
      }
    },
    {
      "cell_type": "code",
      "source": [
        "print classification_report(resultado,y_test)"
      ],
      "outputs": [
        {
          "output_type": "stream",
          "name": "stdout",
          "text": [
            "              precision    recall  f1-score   support\n",
            "\n",
            "           0       0.48      0.76      0.59        63\n",
            "           1       0.73      0.44      0.55        91\n",
            "\n",
            "   micro avg       0.57      0.57      0.57       154\n",
            "   macro avg       0.61      0.60      0.57       154\n",
            "weighted avg       0.63      0.57      0.57       154\n",
            "\n"
          ]
        }
      ],
      "execution_count": 439,
      "metadata": {
        "collapsed": false,
        "jupyter": {
          "source_hidden": false,
          "outputs_hidden": false
        },
        "nteract": {
          "transient": {
            "deleting": false
          }
        }
      }
    },
    {
      "cell_type": "code",
      "source": [
        "display(HTML( tabulate (confusion_matrix(resultado,y_test), tablefmt='html') ))"
      ],
      "outputs": [
        {
          "output_type": "display_data",
          "data": {
            "text/html": [
              "<table>\n",
              "<tbody>\n",
              "<tr><td style=\"text-align: right;\">30</td><td style=\"text-align: right;\">21</td></tr>\n",
              "<tr><td style=\"text-align: right;\">70</td><td style=\"text-align: right;\">33</td></tr>\n",
              "</tbody>\n",
              "</table>"
            ],
            "text/plain": [
              "<IPython.core.display.HTML object>"
            ]
          },
          "metadata": {}
        }
      ],
      "execution_count": 325,
      "metadata": {
        "collapsed": false,
        "jupyter": {
          "source_hidden": false,
          "outputs_hidden": false
        },
        "nteract": {
          "transient": {
            "deleting": false
          }
        }
      }
    },
    {
      "cell_type": "markdown",
      "source": [
        "### Parte interativa"
      ],
      "metadata": {
        "nteract": {
          "transient": {
            "deleting": false
          }
        }
      }
    },
    {
      "cell_type": "code",
      "source": [
        "def gera(num):\n",
        "    X_train, X_test, y_train, y_test = train_test_split(X,y, test_size=num)\n",
        "    \n",
        "    classificador.fit(X_train,y_train);\n",
        "\n",
        "    resultado = classificador.predict(X_test)\n",
        " \n",
        "    return (classification_report(resultado,y_test)  ,\n",
        "            \"<B>matriz de confusao: <BR> \"+ tabulate (confusion_matrix(resultado,y_test), tablefmt='html') )"
      ],
      "outputs": [],
      "execution_count": 339,
      "metadata": {
        "collapsed": false,
        "jupyter": {
          "source_hidden": false,
          "outputs_hidden": false
        },
        "nteract": {
          "transient": {
            "deleting": false
          }
        }
      }
    },
    {
      "cell_type": "code",
      "source": [
        "caption = widgets.Textarea(value='classification_report', layout=Layout(width='70%') )\n",
        "caption.rows = 10 #Recomendavel usar o @interact no jupyter web\n",
        "\n",
        "caption2 = widgets.HTML( )\n",
        "slider = widgets.FloatSlider(min=0.1, max=0.99, step=0.01, description=' Teste')\n",
        "\n",
        "def handle_slider_change(change):\n",
        "    caption.value,caption2.value = gera(change.new)\n",
        "    \n",
        "slider.observe(handle_slider_change, names='value')\n",
        "\n",
        "display(slider,caption)\n",
        "display(caption2)"
      ],
      "outputs": [
        {
          "output_type": "display_data",
          "data": {
            "application/vnd.jupyter.widget-view+json": {
              "model_id": "f9ba0cbe4057434a84432ec4e892129e",
              "version_minor": 0,
              "version_major": 2
            },
            "text/plain": [
              "FloatSlider(value=0.1, description=u' Teste', max=0.99, min=0.1, step=0.01)"
            ]
          },
          "metadata": {}
        },
        {
          "output_type": "display_data",
          "data": {
            "application/vnd.jupyter.widget-view+json": {
              "model_id": "1b98055bddbe4e12930f59bf8aaf0c32",
              "version_minor": 0,
              "version_major": 2
            },
            "text/plain": [
              "Textarea(value=u'classification_report', layout=Layout(width=u'70%'), rows=10)"
            ]
          },
          "metadata": {}
        },
        {
          "output_type": "display_data",
          "data": {
            "application/vnd.jupyter.widget-view+json": {
              "model_id": "f192862403cb451ba99b62ca99b94fde",
              "version_minor": 0,
              "version_major": 2
            },
            "text/plain": [
              "HTML(value=u'')"
            ]
          },
          "metadata": {}
        }
      ],
      "execution_count": 355,
      "metadata": {
        "collapsed": false,
        "jupyter": {
          "source_hidden": false,
          "outputs_hidden": false
        },
        "nteract": {
          "transient": {
            "deleting": false
          }
        }
      }
    },
    {
      "cell_type": "markdown",
      "source": [
        "Analise com % subamostrado da base de dados:"
      ],
      "metadata": {
        "nteract": {
          "transient": {
            "deleting": false
          }
        }
      }
    },
    {
      "cell_type": "code",
      "source": [
        "def gera2(num):\n",
        "    X_train, X_test, y_train, y_test = train_test_split(X,y, test_size=num,random_state=777)\n",
        "    \n",
        "    classificador.fit(X_train,y_train);\n",
        "\n",
        "    resultado = classificador.predict(X_test)\n",
        " \n",
        "    precisao =  (resultado ^ y_test.Class.values)\n",
        "    \n",
        "    return (1-(sum(precisao))/float(len(precisao)))  #retorna micro avg"
      ],
      "outputs": [],
      "execution_count": 385,
      "metadata": {
        "collapsed": false,
        "jupyter": {
          "source_hidden": false,
          "outputs_hidden": false
        },
        "nteract": {
          "transient": {
            "deleting": false
          }
        }
      }
    },
    {
      "cell_type": "code",
      "source": [
        "def geraScore(num=.5, score=accuracy_score):\n",
        "    global X\n",
        "    global y\n",
        "    X_train, X_test, y_train, y_test = train_test_split(X,y, test_size=num)\n",
        "    \n",
        "    classificador.fit(X_train,y_train);\n",
        "\n",
        "    resultado = classificador.predict(X_test)\n",
        "    \n",
        "    return score(resultado,y_test)\n",
        "  \n",
        "    "
      ],
      "outputs": [],
      "execution_count": 496,
      "metadata": {
        "collapsed": false,
        "jupyter": {
          "source_hidden": false,
          "outputs_hidden": false
        },
        "nteract": {
          "transient": {
            "deleting": false
          }
        }
      }
    },
    {
      "cell_type": "code",
      "source": [
        "testett = np.arange(0.1,.9,0.01) #demora\n",
        "res =[ map(gera2,testett ) for x in range(10) ]"
      ],
      "outputs": [],
      "execution_count": 400,
      "metadata": {
        "collapsed": false,
        "jupyter": {
          "source_hidden": false,
          "outputs_hidden": false
        },
        "nteract": {
          "transient": {
            "deleting": false
          }
        }
      }
    },
    {
      "cell_type": "code",
      "source": [
        "np.array(res).mean(0).shape"
      ],
      "outputs": [
        {
          "output_type": "execute_result",
          "execution_count": 420,
          "data": {
            "text/plain": [
              "(80L,)"
            ]
          },
          "metadata": {}
        }
      ],
      "execution_count": 420,
      "metadata": {
        "collapsed": false,
        "jupyter": {
          "source_hidden": false,
          "outputs_hidden": false
        },
        "nteract": {
          "transient": {
            "deleting": false
          }
        }
      }
    },
    {
      "cell_type": "code",
      "source": [
        "plt.plot(testett, np.array(res).mean(0)); plt.grid() ; \n",
        "\n",
        "plt.xlabel('n % teste') ; plt.ylabel('avg acertos') ;plt.axis([0 , 1, 0.4, 0.8]);"
      ],
      "outputs": [
        {
          "output_type": "display_data",
          "data": {
            "image/png": "[encoded data removed]",
            "text/plain": [
              "<Figure size 432x288 with 1 Axes>"
            ]
          },
          "metadata": {
            "needs_background": "light"
          }
        }
      ],
      "execution_count": 433,
      "metadata": {
        "collapsed": false,
        "jupyter": {
          "source_hidden": false,
          "outputs_hidden": false
        },
        "nteract": {
          "transient": {
            "deleting": false
          }
        }
      }
    },
    {
      "cell_type": "code",
      "source": [
        "ress_rs = np.array ( [ map(lambda valor: geraScore(valor, recall_score) ,testett ) \n",
        "         for x in range(10)] ).mean(0) #repita 10 vezes e tira a média\n",
        "\n",
        "ress_ps = np.array ( [ map(lambda valor: geraScore(valor, precision_score) ,testett ) \n",
        "         for x in range(10)] ).mean(0)\n",
        "\n",
        "plt.plot(testett, ress_rs, label='recall_score');  \n",
        "\n",
        "plt.plot(testett, ress_ps, label='precision_score'); plt.grid(); plt.legend();\n",
        "plt.xlabel('% teste'); plt.ylabel('taxa: True');"
      ],
      "outputs": [
        {
          "output_type": "display_data",
          "data": {
            "image/png": "[encoded data removed]",
            "text/plain": [
              "<Figure size 432x288 with 1 Axes>"
            ]
          },
          "metadata": {
            "needs_background": "light"
          }
        }
      ],
      "execution_count": 499,
      "metadata": {
        "collapsed": false,
        "jupyter": {
          "source_hidden": false,
          "outputs_hidden": false
        },
        "nteract": {
          "transient": {
            "deleting": false
          }
        }
      }
    },
    {
      "cell_type": "code",
      "source": [
        "%%html\n",
        "<style>\n",
        "textarea, input {\n",
        "    font-family: consolas;\n",
        "}\n",
        "</style>"
      ],
      "outputs": [
        {
          "output_type": "display_data",
          "data": {
            "text/html": [
              "<style>\n",
              "textarea, input {\n",
              "    font-family: consolas;\n",
              "}\n",
              "</style>"
            ],
            "text/plain": [
              "<IPython.core.display.HTML object>"
            ]
          },
          "metadata": {}
        }
      ],
      "execution_count": 392,
      "metadata": {
        "collapsed": false,
        "jupyter": {
          "source_hidden": false,
          "outputs_hidden": false
        },
        "nteract": {
          "transient": {
            "deleting": false
          }
        }
      }
    },
    {
      "cell_type": "markdown",
      "source": [
        "refazendo com threading, porque estes for deixam lento:"
      ],
      "metadata": {
        "nteract": {
          "transient": {
            "deleting": false
          }
        }
      }
    },
    {
      "cell_type": "code",
      "source": [
        "from threading import Thread\n",
        "from threading import Lock"
      ],
      "outputs": [],
      "execution_count": 509,
      "metadata": {
        "collapsed": false,
        "jupyter": {
          "source_hidden": false,
          "outputs_hidden": false
        },
        "nteract": {
          "transient": {
            "deleting": false
          }
        }
      }
    },
    {
      "cell_type": "code",
      "source": [
        "my_mutex = Lock()"
      ],
      "outputs": [],
      "execution_count": 512,
      "metadata": {
        "collapsed": false,
        "jupyter": {
          "source_hidden": false,
          "outputs_hidden": false
        },
        "nteract": {
          "transient": {
            "deleting": false
          }
        }
      }
    },
    {
      "cell_type": "code",
      "source": [
        "class Th(Thread):\n",
        "\n",
        "    def __init__ (self, id):\n",
        "        Thread.__init__(self)\n",
        "        self.id = id\n",
        "        \n",
        "    def geraScores(self,num=.5, score=accuracy_score):\n",
        "        global X\n",
        "        global y\n",
        "        global my_mutex\n",
        "        \n",
        "        my_mutex.acquire() #fiz aqui um deadlock e não sei como arruma\n",
        "        \n",
        "        X_train, X_test, y_train, y_test = train_test_split(X,y, test_size=num)\n",
        "\n",
        "        my_mutex.release()\n",
        "        \n",
        "        classificador.fit(X_train,y_train);\n",
        "\n",
        "        resultado = classificador.predict(X_test)\n",
        "\n",
        "        return score(resultado,y_test)\n",
        "\n",
        "    def fazerrecall_score(self):        \n",
        "        testett = np.arange(0.1,.9,0.01)\n",
        "        return np.array ([map(lambda valor: self.geraScores(valor,recall_score),testett) for x in range(10)]).mean(0)\n",
        "\n",
        "    def fazerprecision_score(self):      \n",
        "        testett = np.arange(0.1,.9,0.01)\n",
        "        return np.array ([map(lambda valor: self.geraScores(valor,precision_score),testett) for x in range(10)]).mean(0)\n",
        "    \n",
        "    def run(self):\n",
        "        global MutexA\n",
        "        global MutexB\n",
        "        \n",
        "        print \"iniciou\" + str(self.id)\n",
        "        if(self.id==1):\n",
        "            MutexA = self.fazerrecall_score()\n",
        "            print 'pronto id:' + str(self.id)\n",
        "            \n",
        "        if(self.id==2):\n",
        "            MutexB = self.fazerprecision_score()\n",
        "            print 'pronto id:' + str(self.id)   \n",
        "                    \n",
        "     \n",
        "        pass    \n",
        "\n"
      ],
      "outputs": [],
      "execution_count": 538,
      "metadata": {
        "collapsed": false,
        "jupyter": {
          "source_hidden": false,
          "outputs_hidden": false
        },
        "nteract": {
          "transient": {
            "deleting": false
          }
        }
      }
    },
    {
      "cell_type": "code",
      "source": [
        "MutexA = 0\n",
        "MutexB = 0\n",
        "\n",
        "a = Th(1)\n",
        "a.start() \n",
        "\n",
        "#b = Th(2)\n",
        "#b.start() \n",
        "\n",
        "a.join()\n",
        " "
      ],
      "outputs": [
        {
          "output_type": "stream",
          "name": "stdout",
          "text": [
            "iniciou1\n",
            "iniciou2\n"
          ]
        }
      ],
      "execution_count": 542,
      "metadata": {
        "collapsed": false,
        "jupyter": {
          "source_hidden": false,
          "outputs_hidden": false
        },
        "nteract": {
          "transient": {
            "deleting": false
          }
        }
      }
    },
    {
      "cell_type": "code",
      "source": [
        "MutexA+3"
      ],
      "outputs": [],
      "execution_count": null,
      "metadata": {
        "collapsed": false,
        "jupyter": {
          "source_hidden": false,
          "outputs_hidden": false
        },
        "nteract": {
          "transient": {
            "deleting": false
          }
        }
      }
    },
    {
      "cell_type": "markdown",
      "source": [
        "### Análises curiosas:"
      ],
      "metadata": {
        "nteract": {
          "transient": {
            "deleting": false
          }
        }
      }
    },
    {
      "cell_type": "code",
      "source": [
        "#px.histogram(data_frame=dadosIn, x='Age', facet_col='Class',  nbins=30)"
      ],
      "outputs": [],
      "execution_count": 311,
      "metadata": {
        "collapsed": false,
        "jupyter": {
          "source_hidden": false,
          "outputs_hidden": false
        },
        "nteract": {
          "transient": {
            "deleting": false
          }
        }
      }
    },
    {
      "cell_type": "code",
      "source": [
        "dadosIn.columns"
      ],
      "outputs": [
        {
          "output_type": "execute_result",
          "execution_count": 154,
          "data": {
            "text/plain": [
              "Index([u'Pregnancies', u'Glucose', u'BloodPressure', u'SkinThickness',\n",
              "       u'Insulin', u'BMI', u'DiabetesPedigreeFunction', u'Age', u'Class'],\n",
              "      dtype='object')"
            ]
          },
          "metadata": {}
        }
      ],
      "execution_count": 154,
      "metadata": {
        "collapsed": false,
        "jupyter": {
          "source_hidden": false,
          "outputs_hidden": false
        },
        "nteract": {
          "transient": {
            "deleting": false
          }
        }
      }
    },
    {
      "cell_type": "code",
      "source": [
        "#px.scatter(data_frame=dadosIn, x='Age', y='Glucose',facet_col='Class' ,color='Insulin')"
      ],
      "outputs": [],
      "execution_count": 312,
      "metadata": {
        "collapsed": false,
        "jupyter": {
          "source_hidden": false,
          "outputs_hidden": false
        },
        "nteract": {
          "transient": {
            "deleting": false
          }
        }
      }
    },
    {
      "cell_type": "code",
      "source": [],
      "outputs": [],
      "execution_count": null,
      "metadata": {
        "collapsed": false,
        "jupyter": {
          "source_hidden": false,
          "outputs_hidden": false
        },
        "nteract": {
          "transient": {
            "deleting": false
          }
        }
      }
    }
  ],
  "metadata": {
    "kernel_info": {
      "name": "python2"
    },
    "language_info": {
      "mimetype": "text/x-python",
      "nbconvert_exporter": "python",
      "name": "python",
      "pygments_lexer": "ipython2",
      "version": "2.7.13",
      "file_extension": ".py",
      "codemirror_mode": {
        "version": 2,
        "name": "ipython"
      }
    },
    "kernelspec": {
      "argv": [
        "C:\\Users\\Felipe\\Miniconda2\\envs\\spyder\\python.exe",
        "-m",
        "ipykernel_launcher",
        "-f",
        "{connection_file}"
      ],
      "display_name": "Python 2",
      "language": "python",
      "name": "python2"
    },
    "nteract": {
      "version": "0.21.0"
    }
  },
  "nbformat": 4,
  "nbformat_minor": 0
}