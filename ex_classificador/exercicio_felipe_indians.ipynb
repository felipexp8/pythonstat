{
  "cells": [
    {
      "cell_type": "code",
      "source": [
        "from sklearn.linear_model import SGDClassifier\n",
        "from sklearn.model_selection import train_test_split\n",
        "from sklearn.metrics import classification_report\n",
        "from sklearn.metrics import confusion_matrix\n",
        "from sklearn.metrics import accuracy_score , recall_score, precision_score\n",
        "\n",
        "from tabulate import tabulate\n",
        "\n",
        "import plotly.express as px\n",
        "import pandas as pd\n",
        "\n",
        "from ipywidgets import interact, interactive, fixed, interact_manual, Layout\n",
        "import ipywidgets as widgets\n",
        "\n",
        "from IPython.display import HTML\n",
        "\n",
        "import numpy as np\n",
        "\n",
        "import pylab as plt\n"
      ],
      "outputs": [],
      "execution_count": 3,
      "metadata": {
        "collapsed": false,
        "jupyter": {
          "source_hidden": false,
          "outputs_hidden": false
        },
        "nteract": {
          "transient": {
            "deleting": false
          }
        }
      }
    },
    {
      "cell_type": "code",
      "source": [
        "pd.options.display.notebook_repr_html = True"
      ],
      "outputs": [],
      "execution_count": 4,
      "metadata": {
        "collapsed": false,
        "jupyter": {
          "source_hidden": false,
          "outputs_hidden": false
        },
        "nteract": {
          "transient": {
            "deleting": false
          }
        }
      }
    },
    {
      "cell_type": "code",
      "source": [
        "try:\n",
        "    dadosIn = pd.read_csv('pima-indians-diabetes.data.csv')\n",
        "except IOError as err:\n",
        "    print err"
      ],
      "outputs": [],
      "execution_count": 21,
      "metadata": {
        "collapsed": false,
        "jupyter": {
          "source_hidden": false,
          "outputs_hidden": false
        },
        "nteract": {
          "transient": {
            "deleting": false
          }
        }
      }
    },
    {
      "cell_type": "code",
      "source": [
        "printt([[x]for x in dadosIn.columns])"
      ],
      "outputs": [
        {
          "output_type": "display_data",
          "data": {
            "text/html": [
              "<table>\n",
              "<tbody>\n",
              "<tr><td>Pregnancies             </td></tr>\n",
              "<tr><td>Glucose                 </td></tr>\n",
              "<tr><td>BloodPressure           </td></tr>\n",
              "<tr><td>SkinThickness           </td></tr>\n",
              "<tr><td>Insulin                 </td></tr>\n",
              "<tr><td>BMI                     </td></tr>\n",
              "<tr><td>DiabetesPedigreeFunction</td></tr>\n",
              "<tr><td>Age                     </td></tr>\n",
              "<tr><td>Class                   </td></tr>\n",
              "</tbody>\n",
              "</table>"
            ],
            "text/plain": [
              "<IPython.core.display.HTML object>"
            ]
          },
          "metadata": {}
        }
      ],
      "execution_count": 36,
      "metadata": {
        "collapsed": false,
        "jupyter": {
          "source_hidden": false,
          "outputs_hidden": false
        },
        "nteract": {
          "transient": {
            "deleting": false
          }
        }
      }
    },
    {
      "cell_type": "code",
      "source": [
        "def get(data, coluna): return data.loc[:,[coluna]]"
      ],
      "outputs": [],
      "execution_count": 23,
      "metadata": {
        "collapsed": false,
        "jupyter": {
          "source_hidden": false,
          "outputs_hidden": false
        },
        "nteract": {
          "transient": {
            "deleting": false
          }
        }
      }
    },
    {
      "cell_type": "code",
      "source": [
        "classificador = SGDClassifier()\n",
        "\n",
        "X = dadosIn.drop(columns='Class');\n",
        "\n",
        "y = dadosIn.loc[:, ['Class']] "
      ],
      "outputs": [],
      "execution_count": 24,
      "metadata": {
        "collapsed": false,
        "jupyter": {
          "source_hidden": false,
          "outputs_hidden": false
        },
        "nteract": {
          "transient": {
            "deleting": false
          }
        }
      }
    },
    {
      "cell_type": "code",
      "source": [
        "percetagemTeste= 0.2"
      ],
      "outputs": [],
      "execution_count": 25,
      "metadata": {
        "collapsed": false,
        "jupyter": {
          "source_hidden": false,
          "outputs_hidden": false
        },
        "nteract": {
          "transient": {
            "deleting": false
          }
        }
      }
    },
    {
      "cell_type": "code",
      "source": [
        "X_train, X_test, y_train, y_test = train_test_split(X,y, test_size=percetagemTeste)"
      ],
      "outputs": [],
      "execution_count": 26,
      "metadata": {
        "collapsed": false,
        "jupyter": {
          "source_hidden": false,
          "outputs_hidden": false
        },
        "nteract": {
          "transient": {
            "deleting": false
          }
        }
      }
    },
    {
      "cell_type": "code",
      "source": [
        "classificador.fit(X_train,y_train);\n",
        "\n",
        "resultado = classificador.predict(X_test)\n",
        "\n",
        "precisao =  (resultado ^ y_test.Class.values);"
      ],
      "outputs": [],
      "execution_count": 28,
      "metadata": {
        "collapsed": false,
        "jupyter": {
          "source_hidden": false,
          "outputs_hidden": false
        },
        "nteract": {
          "transient": {
            "deleting": false
          }
        }
      }
    },
    {
      "cell_type": "code",
      "source": [
        "print \"% Acertos: {0:.2f}\".format(1-(sum(precisao))/float(len(precisao)))"
      ],
      "outputs": [
        {
          "output_type": "stream",
          "name": "stdout",
          "text": [
            "% Acertos: 0.47\n"
          ]
        }
      ],
      "execution_count": 29,
      "metadata": {
        "collapsed": false,
        "jupyter": {
          "source_hidden": false,
          "outputs_hidden": false
        },
        "nteract": {
          "transient": {
            "deleting": false
          }
        }
      }
    },
    {
      "cell_type": "code",
      "source": [
        "print classification_report(resultado,y_test)"
      ],
      "outputs": [
        {
          "output_type": "stream",
          "name": "stdout",
          "text": [
            "              precision    recall  f1-score   support\n",
            "\n",
            "           0       0.38      0.71      0.50        56\n",
            "           1       0.67      0.34      0.45        98\n",
            "\n",
            "   micro avg       0.47      0.47      0.47       154\n",
            "   macro avg       0.53      0.53      0.47       154\n",
            "weighted avg       0.57      0.47      0.47       154\n",
            "\n"
          ]
        }
      ],
      "execution_count": 30,
      "metadata": {
        "collapsed": false,
        "jupyter": {
          "source_hidden": false,
          "outputs_hidden": false
        },
        "nteract": {
          "transient": {
            "deleting": false
          }
        }
      }
    },
    {
      "cell_type": "code",
      "source": [
        "/printt confusion_matrix(resultado,y_test)"
      ],
      "outputs": [
        {
          "output_type": "display_data",
          "data": {
            "text/html": [
              "<table>\n",
              "<tbody>\n",
              "<tr><td style=\"text-align: right;\">40</td><td style=\"text-align: right;\">16</td></tr>\n",
              "<tr><td style=\"text-align: right;\">65</td><td style=\"text-align: right;\">33</td></tr>\n",
              "</tbody>\n",
              "</table>"
            ],
            "text/plain": [
              "<IPython.core.display.HTML object>"
            ]
          },
          "metadata": {}
        }
      ],
      "execution_count": 32,
      "metadata": {
        "collapsed": false,
        "jupyter": {
          "source_hidden": false,
          "outputs_hidden": false
        },
        "nteract": {
          "transient": {
            "deleting": false
          }
        }
      }
    },
    {
      "cell_type": "markdown",
      "source": [
        "### Parte interativa"
      ],
      "metadata": {
        "nteract": {
          "transient": {
            "deleting": false
          }
        }
      }
    },
    {
      "cell_type": "code",
      "source": [
        "def gera(num):\n",
        "    X_train, X_test, y_train, y_test = train_test_split(X,y, test_size=num)\n",
        "    \n",
        "    classificador.fit(X_train,y_train);\n",
        "\n",
        "    resultado = classificador.predict(X_test)\n",
        " \n",
        "    return (classification_report(resultado,y_test)  ,\n",
        "            \"<B>matriz de confusao: <BR> \"+ tabulate (confusion_matrix(resultado,y_test), tablefmt='html') )"
      ],
      "outputs": [],
      "execution_count": 37,
      "metadata": {
        "collapsed": false,
        "jupyter": {
          "source_hidden": false,
          "outputs_hidden": false
        },
        "nteract": {
          "transient": {
            "deleting": false
          }
        }
      }
    },
    {
      "cell_type": "code",
      "source": [
        "caption = widgets.Textarea(value='classification_report', layout=Layout(width='70%') )\n",
        "caption.rows = 10 #Recomendavel usar o @interact no jupyter web\n",
        "\n",
        "caption2 = widgets.HTML( )\n",
        "slider = widgets.FloatSlider(min=0.1, max=0.99, step=0.01, description=' Teste')\n",
        "\n",
        "def handle_slider_change(change):\n",
        "    caption.value,caption2.value = gera(change.new)\n",
        "    \n",
        "slider.observe(handle_slider_change, names='value')\n",
        "\n",
        "display(slider,caption)\n",
        "display(caption2)"
      ],
      "outputs": [
        {
          "output_type": "display_data",
          "data": {
            "application/vnd.jupyter.widget-view+json": {
              "model_id": "9863c4e8dd8d45d49cd302ccadec7769",
              "version_minor": 0,
              "version_major": 2
            },
            "text/plain": [
              "FloatSlider(value=0.1, description=u' Teste', max=0.99, min=0.1, step=0.01)"
            ]
          },
          "metadata": {}
        },
        {
          "output_type": "display_data",
          "data": {
            "application/vnd.jupyter.widget-view+json": {
              "model_id": "a87d1bda9d7b455e8db089bef2c96f09",
              "version_minor": 0,
              "version_major": 2
            },
            "text/plain": [
              "Textarea(value=u'classification_report', layout=Layout(width=u'70%'), rows=10)"
            ]
          },
          "metadata": {}
        },
        {
          "output_type": "display_data",
          "data": {
            "application/vnd.jupyter.widget-view+json": {
              "model_id": "6c511ba9033b429f9d23295b1b2afe94",
              "version_minor": 0,
              "version_major": 2
            },
            "text/plain": [
              "HTML(value=u'')"
            ]
          },
          "metadata": {}
        }
      ],
      "execution_count": 38,
      "metadata": {
        "collapsed": false,
        "jupyter": {
          "source_hidden": false,
          "outputs_hidden": false
        },
        "nteract": {
          "transient": {
            "deleting": false
          }
        }
      }
    },
    {
      "cell_type": "markdown",
      "source": [
        "Analise com % subamostrado da base de dados:"
      ],
      "metadata": {
        "nteract": {
          "transient": {
            "deleting": false
          }
        }
      }
    },
    {
      "cell_type": "code",
      "source": [
        "def gera2(num):\n",
        "    X_train, X_test, y_train, y_test = train_test_split(X,y, test_size=num,random_state=777)\n",
        "    \n",
        "    classificador.fit(X_train,y_train);\n",
        "\n",
        "    resultado = classificador.predict(X_test)\n",
        " \n",
        "    precisao =  (resultado ^ y_test.Class.values)\n",
        "    \n",
        "    return (1-(sum(precisao))/float(len(precisao)))  #retorna micro avg"
      ],
      "outputs": [],
      "execution_count": 39,
      "metadata": {
        "collapsed": false,
        "jupyter": {
          "source_hidden": false,
          "outputs_hidden": false
        },
        "nteract": {
          "transient": {
            "deleting": false
          }
        }
      }
    },
    {
      "cell_type": "code",
      "source": [
        "def geraScore(num=.5, score=accuracy_score):\n",
        "    global X\n",
        "    global y\n",
        "    X_train, X_test, y_train, y_test = train_test_split(X,y, test_size=num)\n",
        "    \n",
        "    classificador.fit(X_train,y_train);\n",
        "\n",
        "    resultado = classificador.predict(X_test)\n",
        "    \n",
        "    return score(resultado,y_test)\n",
        "  \n",
        "    "
      ],
      "outputs": [],
      "execution_count": 40,
      "metadata": {
        "collapsed": false,
        "jupyter": {
          "source_hidden": false,
          "outputs_hidden": false
        },
        "nteract": {
          "transient": {
            "deleting": false
          }
        }
      }
    },
    {
      "cell_type": "code",
      "source": [
        "testett = np.arange(0.1,.9,0.01) #demora de 100 reduzi para 10\n",
        "res =[ map(gera2,testett ) for x in range(10) ]"
      ],
      "outputs": [],
      "execution_count": 41,
      "metadata": {
        "collapsed": false,
        "jupyter": {
          "source_hidden": false,
          "outputs_hidden": false
        },
        "nteract": {
          "transient": {
            "deleting": false
          }
        }
      }
    },
    {
      "cell_type": "code",
      "source": [
        "np.array(res).mean(0).shape"
      ],
      "outputs": [
        {
          "output_type": "execute_result",
          "execution_count": 42,
          "data": {
            "text/plain": [
              "(80L,)"
            ]
          },
          "metadata": {}
        }
      ],
      "execution_count": 42,
      "metadata": {
        "collapsed": false,
        "jupyter": {
          "source_hidden": false,
          "outputs_hidden": false
        },
        "nteract": {
          "transient": {
            "deleting": false
          }
        }
      }
    },
    {
      "cell_type": "code",
      "source": [
        "plt.plot(testett, np.array(res).mean(0)); plt.grid() ; \n",
        "\n",
        "plt.xlabel('n % teste') ; plt.ylabel('avg acertos') ;plt.axis([0 , 1, 0.4, 0.8]);"
      ],
      "outputs": [
        {
          "output_type": "display_data",
          "data": {
            "image/png": "[encoded data removed]",
            "text/plain": [
              "<Figure size 432x288 with 1 Axes>"
            ]
          },
          "metadata": {
            "needs_background": "light"
          }
        }
      ],
      "execution_count": 43,
      "metadata": {
        "collapsed": false,
        "jupyter": {
          "source_hidden": false,
          "outputs_hidden": false
        },
        "nteract": {
          "transient": {
            "deleting": false
          }
        }
      }
    },
    {
      "cell_type": "code",
      "source": [
        "ress_rs = np.array ( [ map(lambda valor: geraScore(valor, recall_score) ,testett ) \n",
        "         for x in range(10)] ).mean(0) #repita 10 vezes e tira a média\n",
        "\n",
        "ress_ps = np.array ( [ map(lambda valor: geraScore(valor, precision_score) ,testett ) \n",
        "         for x in range(10)] ).mean(0)\n",
        "\n",
        "##fora do padrão PEP8!\n",
        "plt.plot(testett, ress_rs, label='recall_score');  \n",
        "\n",
        "plt.plot(testett, ress_ps, label='precision_score'); plt.grid(); plt.legend();\n",
        "plt.xlabel('% teste'); plt.ylabel('taxa: True');"
      ],
      "outputs": [
        {
          "output_type": "stream",
          "name": "stderr",
          "text": [
            "C:\\Users\\Felipe\\Miniconda2\\envs\\spyder\\lib\\site-packages\\sklearn\\metrics\\classification.py:1145: UndefinedMetricWarning:\n",
            "\n",
            "Recall is ill-defined and being set to 0.0 due to no true samples.\n",
            "\n"
          ]
        },
        {
          "output_type": "display_data",
          "data": {
            "image/png": "[encoded data removed]",
            "text/plain": [
              "<Figure size 432x288 with 1 Axes>"
            ]
          },
          "metadata": {
            "needs_background": "light"
          }
        }
      ],
      "execution_count": 44,
      "metadata": {
        "collapsed": false,
        "jupyter": {
          "source_hidden": false,
          "outputs_hidden": false
        },
        "nteract": {
          "transient": {
            "deleting": false
          }
        }
      }
    },
    {
      "cell_type": "code",
      "source": [
        "%%html\n",
        "<style>\n",
        "textarea, input {\n",
        "    font-family: consolas;\n",
        "}\n",
        "</style>"
      ],
      "outputs": [
        {
          "output_type": "display_data",
          "data": {
            "text/html": [
              "<style>\n",
              "textarea, input {\n",
              "    font-family: consolas;\n",
              "}\n",
              "</style>"
            ],
            "text/plain": [
              "<IPython.core.display.HTML object>"
            ]
          },
          "metadata": {}
        }
      ],
      "execution_count": 45,
      "metadata": {
        "collapsed": false,
        "jupyter": {
          "source_hidden": false,
          "outputs_hidden": false
        },
        "nteract": {
          "transient": {
            "deleting": false
          }
        }
      }
    },
    {
      "cell_type": "markdown",
      "source": [
        "refazendo com threading, porque estes Loops deixam lento:"
      ],
      "metadata": {
        "nteract": {
          "transient": {
            "deleting": false
          }
        }
      }
    },
    {
      "cell_type": "code",
      "source": [
        "from threading import Thread\n",
        "from threading import Lock"
      ],
      "outputs": [],
      "execution_count": 509,
      "metadata": {
        "collapsed": false,
        "jupyter": {
          "source_hidden": false,
          "outputs_hidden": false
        },
        "nteract": {
          "transient": {
            "deleting": false
          }
        }
      }
    },
    {
      "cell_type": "code",
      "source": [
        "my_mutex = Lock()"
      ],
      "outputs": [],
      "execution_count": 512,
      "metadata": {
        "collapsed": false,
        "jupyter": {
          "source_hidden": false,
          "outputs_hidden": false
        },
        "nteract": {
          "transient": {
            "deleting": false
          }
        }
      }
    },
    {
      "cell_type": "markdown",
      "source": [
        "não consegui: _aparecem deadlocks_"
      ],
      "metadata": {
        "nteract": {
          "transient": {
            "deleting": false
          }
        }
      }
    },
    {
      "cell_type": "code",
      "source": [
        "class Th(Thread):\n",
        "\n",
        "    def __init__ (self, id):\n",
        "        Thread.__init__(self)\n",
        "        self.id = id\n",
        "        \n",
        "    def geraScores(self,num=.5, score=accuracy_score):\n",
        "        global X\n",
        "        global y\n",
        "        global my_mutex\n",
        "        \n",
        "        my_mutex.acquire() #fiz aqui um deadlock e não sei como arruma\n",
        "        \n",
        "        X_train, X_test, y_train, y_test = train_test_split(X,y, test_size=num)\n",
        "\n",
        "        my_mutex.release()\n",
        "        \n",
        "        classificador.fit(X_train,y_train);\n",
        "\n",
        "        resultado = classificador.predict(X_test)\n",
        "\n",
        "        return score(resultado,y_test)\n",
        "\n",
        "    def fazerrecall_score(self):        \n",
        "        testett = np.arange(0.1,.9,0.01)\n",
        "        return np.array ([map(lambda valor: self.geraScores(valor,recall_score),testett) for x in range(10)]).mean(0)\n",
        "\n",
        "    def fazerprecision_score(self):      \n",
        "        testett = np.arange(0.1,.9,0.01)\n",
        "        return np.array ([map(lambda valor: self.geraScores(valor,precision_score),testett) for x in range(10)]).mean(0)\n",
        "    \n",
        "    def run(self):\n",
        "        global MutexA\n",
        "        global MutexB\n",
        "        \n",
        "        print \"iniciou\" + str(self.id)\n",
        "        if(self.id==1):\n",
        "            MutexA = self.fazerrecall_score()\n",
        "            print 'pronto id:' + str(self.id)\n",
        "            \n",
        "        if(self.id==2):\n",
        "            MutexB = self.fazerprecision_score()\n",
        "            print 'pronto id:' + str(self.id)   \n",
        "                    \n",
        "     \n",
        "        pass    \n",
        "\n"
      ],
      "outputs": [
        {
          "output_type": "error",
          "ename": "NameError",
          "evalue": "name 'Thread' is not defined",
          "traceback": [
            "\u001b[1;31m\u001b[0m",
            "\u001b[1;31mNameError\u001b[0mTraceback (most recent call last)",
            "\u001b[1;32m<ipython-input-2-908d7c6089f0>\u001b[0m in \u001b[0;36m<module>\u001b[1;34m()\u001b[0m\n\u001b[1;32m----> 1\u001b[1;33m \u001b[1;32mclass\u001b[0m \u001b[0mTh\u001b[0m\u001b[1;33m(\u001b[0m\u001b[0mThread\u001b[0m\u001b[1;33m)\u001b[0m\u001b[1;33m:\u001b[0m\u001b[1;33m\u001b[0m\u001b[0m\n\u001b[0m\u001b[0;32m      2\u001b[0m \u001b[1;33m\u001b[0m\u001b[0m\n\u001b[0;32m      3\u001b[0m     \u001b[1;32mdef\u001b[0m \u001b[0m__init__\u001b[0m \u001b[1;33m(\u001b[0m\u001b[0mself\u001b[0m\u001b[1;33m,\u001b[0m \u001b[0mid\u001b[0m\u001b[1;33m)\u001b[0m\u001b[1;33m:\u001b[0m\u001b[1;33m\u001b[0m\u001b[0m\n\u001b[0;32m      4\u001b[0m         \u001b[0mThread\u001b[0m\u001b[1;33m.\u001b[0m\u001b[0m__init__\u001b[0m\u001b[1;33m(\u001b[0m\u001b[0mself\u001b[0m\u001b[1;33m)\u001b[0m\u001b[1;33m\u001b[0m\u001b[0m\n\u001b[0;32m      5\u001b[0m         \u001b[0mself\u001b[0m\u001b[1;33m.\u001b[0m\u001b[0mid\u001b[0m \u001b[1;33m=\u001b[0m \u001b[0mid\u001b[0m\u001b[1;33m\u001b[0m\u001b[0m\n",
            "\u001b[1;31mNameError\u001b[0m: name 'Thread' is not defined"
          ]
        }
      ],
      "execution_count": 2,
      "metadata": {
        "collapsed": false,
        "jupyter": {
          "source_hidden": false,
          "outputs_hidden": false
        },
        "nteract": {
          "transient": {
            "deleting": false
          }
        }
      }
    },
    {
      "cell_type": "markdown",
      "source": [],
      "metadata": {
        "nteract": {
          "transient": {
            "deleting": false
          }
        }
      }
    },
    {
      "cell_type": "code",
      "source": [
        "MutexA = 0\n",
        "MutexB = 0\n",
        "\n",
        "a = Th(1)\n",
        "a.start() \n",
        "\n",
        "#b = Th(2)\n",
        "#b.start() \n",
        "\n",
        "a.join()\n",
        " "
      ],
      "outputs": [
        {
          "output_type": "stream",
          "name": "stdout",
          "text": [
            "iniciou1\n",
            "iniciou2\n"
          ]
        }
      ],
      "execution_count": 542,
      "metadata": {
        "collapsed": false,
        "jupyter": {
          "source_hidden": false,
          "outputs_hidden": false
        },
        "nteract": {
          "transient": {
            "deleting": false
          }
        }
      }
    },
    {
      "cell_type": "code",
      "source": [
        "MutexA+3"
      ],
      "outputs": [],
      "execution_count": null,
      "metadata": {
        "collapsed": false,
        "jupyter": {
          "source_hidden": false,
          "outputs_hidden": false
        },
        "nteract": {
          "transient": {
            "deleting": false
          }
        }
      }
    },
    {
      "cell_type": "markdown",
      "source": [
        "### Análises curiosas:"
      ],
      "metadata": {
        "nteract": {
          "transient": {
            "deleting": false
          }
        }
      }
    },
    {
      "cell_type": "code",
      "source": [
        "#px.histogram(data_frame=dadosIn, x='Age', facet_col='Class',  nbins=30)"
      ],
      "outputs": [],
      "execution_count": 311,
      "metadata": {
        "collapsed": false,
        "jupyter": {
          "source_hidden": false,
          "outputs_hidden": false
        },
        "nteract": {
          "transient": {
            "deleting": false
          }
        }
      }
    },
    {
      "cell_type": "code",
      "source": [
        "dadosIn.columns"
      ],
      "outputs": [
        {
          "output_type": "execute_result",
          "execution_count": 154,
          "data": {
            "text/plain": [
              "Index([u'Pregnancies', u'Glucose', u'BloodPressure', u'SkinThickness',\n",
              "       u'Insulin', u'BMI', u'DiabetesPedigreeFunction', u'Age', u'Class'],\n",
              "      dtype='object')"
            ]
          },
          "metadata": {}
        }
      ],
      "execution_count": 154,
      "metadata": {
        "collapsed": false,
        "jupyter": {
          "source_hidden": false,
          "outputs_hidden": false
        },
        "nteract": {
          "transient": {
            "deleting": false
          }
        }
      }
    },
    {
      "cell_type": "code",
      "source": [
        "#px.scatter(data_frame=dadosIn, x='Age', y='Glucose',facet_col='Class' ,color='Insulin')"
      ],
      "outputs": [],
      "execution_count": 312,
      "metadata": {
        "collapsed": false,
        "jupyter": {
          "source_hidden": false,
          "outputs_hidden": false
        },
        "nteract": {
          "transient": {
            "deleting": false
          }
        }
      }
    },
    {
      "cell_type": "code",
      "source": [],
      "outputs": [],
      "execution_count": null,
      "metadata": {
        "collapsed": false,
        "jupyter": {
          "source_hidden": false,
          "outputs_hidden": false
        },
        "nteract": {
          "transient": {
            "deleting": false
          }
        }
      }
    }
  ],
  "metadata": {
    "kernel_info": {
      "name": "python2"
    },
    "language_info": {
      "mimetype": "text/x-python",
      "nbconvert_exporter": "python",
      "name": "python",
      "pygments_lexer": "ipython2",
      "version": "2.7.13",
      "file_extension": ".py",
      "codemirror_mode": {
        "version": 2,
        "name": "ipython"
      }
    },
    "kernelspec": {
      "argv": [
        "C:\\Users\\Felipe\\Miniconda2\\envs\\spyder\\python.exe",
        "-m",
        "ipykernel_launcher",
        "-f",
        "{connection_file}"
      ],
      "display_name": "Python 2",
      "language": "python",
      "name": "python2"
    },
    "nteract": {
      "version": "0.21.0"
    }
  },
  "nbformat": 4,
  "nbformat_minor": 0
}